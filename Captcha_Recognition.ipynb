{
  "nbformat": 4,
  "nbformat_minor": 0,
  "metadata": {
    "colab": {
      "provenance": [],
      "gpuType": "T4"
    },
    "kernelspec": {
      "name": "python3",
      "display_name": "Python 3"
    },
    "language_info": {
      "name": "python"
    },
    "accelerator": "GPU"
  },
  "cells": [
    {
      "cell_type": "markdown",
      "source": [
        "# **Captcha Recognition**\n",
        "\n",
        "## **Objective**\n",
        "\n",
        "Develop an AI-based system that can accurately recognize and extract numerical strings from\n",
        "CAPTCHA images.\n",
        "\n",
        "## **Problem** **Statement**\n",
        "\n",
        "In this challenge, you will be provided with a dataset of CAPTCHA images, each containing a\n",
        "numerical string. Your task is to build a system that can process these images and output the\n",
        "corresponding numerical string with high accuracy. CAPTCHA images often include distortions,\n",
        "noise, and varying fonts to prevent automated recognition, so your solution should demonstrate\n",
        "robustness against such challenges."
      ],
      "metadata": {
        "id": "AG6IFHLvGrFI"
      }
    },
    {
      "cell_type": "markdown",
      "source": [
        "## Importing Required Libraries\n",
        "\n",
        "Imports essential libraries like NumPy, PyTorch, OpenCV, and Albumentations.\n",
        "These are used for dataset handling, deep learning model training, and image processing."
      ],
      "metadata": {
        "id": "K-dj3WDKHRKG"
      }
    },
    {
      "cell_type": "code",
      "execution_count": 1,
      "metadata": {
        "id": "t3W4sY6XGm_r"
      },
      "outputs": [],
      "source": [
        "import numpy as np\n",
        "import torch.nn as nn\n",
        "import torch\n",
        "from torch.utils.data import Dataset, DataLoader\n",
        "import torchvision\n",
        "import glob\n",
        "import cv2\n",
        "import csv\n",
        "import tqdm\n",
        "import albumentations as A\n",
        "import matplotlib.pyplot as plt"
      ]
    },
    {
      "cell_type": "markdown",
      "source": [
        "## Mounting Google Drive\n",
        "\n",
        "Connects to Google Drive to access the dataset and save model checkpoints."
      ],
      "metadata": {
        "id": "rygm4CWa0kiS"
      }
    },
    {
      "cell_type": "code",
      "source": [
        "from google.colab import drive\n",
        "drive.mount('/content/drive')"
      ],
      "metadata": {
        "colab": {
          "base_uri": "https://localhost:8080/"
        },
        "id": "pUjvSBs0x9rK",
        "outputId": "21b48785-b9cf-418b-8204-3a353d0c68ae"
      },
      "execution_count": 2,
      "outputs": [
        {
          "output_type": "stream",
          "name": "stdout",
          "text": [
            "Mounted at /content/drive\n"
          ]
        }
      ]
    },
    {
      "cell_type": "markdown",
      "source": [
        "## Config Values\n",
        "Defining Paths and Hyperparameters\n",
        "Specifies paths for training/validation datasets and ground truth labels.\n",
        "Sets batch size, learning rate, image dimensions, and device configuration."
      ],
      "metadata": {
        "id": "iRk93LBoSH51"
      }
    },
    {
      "cell_type": "code",
      "source": [
        "train_path = \"/content/drive/MyDrive/dataset/train-images/train-images/\"\n",
        "val_path = \"/content/drive/MyDrive/dataset/validation-images/validation-images/\"\n",
        "gt_csv_path = \"/content/drive/MyDrive/dataset/captcha_data.csv\"\n",
        "\n",
        "ckpt_path = \"/content/drive/MyDrive/dataset/models/\"\n",
        "\n",
        "batch_size = 16\n",
        "num_workers = 2\n",
        "learning_rate = 5e-4\n",
        "num_epochs = 10000\n",
        "\n",
        "img_width = 256\n",
        "img_height = 64\n",
        "\n",
        "device = \"cuda\" if torch.cuda.is_available() else \"cpu\""
      ],
      "metadata": {
        "id": "riBzquYeSHSU"
      },
      "execution_count": 3,
      "outputs": []
    },
    {
      "cell_type": "markdown",
      "source": [
        "## Data\n",
        "\n",
        "### Transformations using Albumentations\n",
        "\n",
        "Defines image augmentation techniques such as resizing, normalization, and flipping."
      ],
      "metadata": {
        "id": "dyhjZfCF01Ap"
      }
    },
    {
      "cell_type": "code",
      "source": [
        "train_transforms = A.Compose([\n",
        "        A.Compose([  # Rescale transform\n",
        "            A.RandomScale(scale_limit=(-0.3, -0.1), always_apply=True),\n",
        "            A.PadIfNeeded(min_height=64, min_width=30,\n",
        "                          border_mode=cv2.BORDER_CONSTANT, value=(255, 255, 255), always_apply=True),\n",
        "            A.Rotate(limit=4, p=0.5, crop_border=True),\n",
        "        ], p=0.4),\n",
        "        A.GaussianBlur(blur_limit = (0, 1), p=0.5),\n",
        "        A.OneOf([  # Geometric transforms\n",
        "            A.GridDistortion(always_apply=True, num_steps=7, distort_limit=0.5,\n",
        "                             border_mode=cv2.BORDER_CONSTANT, value=(255, 255, 255), normalized=True),\n",
        "            A.OpticalDistortion(always_apply=True, border_mode=cv2.BORDER_CONSTANT, value=(255, 255, 255)),\n",
        "            A.Perspective(scale=0.1, always_apply=True, fit_output=True, pad_val=(255, 255, 255))\n",
        "        ], p=0.5),\n",
        "        A.ISONoise(p=0.1),\n",
        "        A.ImageCompression(quality_lower=30, p=0.2),\n",
        "        A.GaussNoise(std_range=(0.1, 0.2), p=0.1),\n",
        "    ])"
      ],
      "metadata": {
        "colab": {
          "base_uri": "https://localhost:8080/"
        },
        "id": "iGhpD22uqyD7",
        "outputId": "e8d506ed-f9f4-42ad-9203-30bd5631a195"
      },
      "execution_count": 4,
      "outputs": [
        {
          "output_type": "stream",
          "name": "stderr",
          "text": [
            "<ipython-input-4-be286e06538f>:3: UserWarning: Argument(s) 'always_apply' are not valid for transform RandomScale\n",
            "  A.RandomScale(scale_limit=(-0.3, -0.1), always_apply=True),\n",
            "<ipython-input-4-be286e06538f>:4: UserWarning: Argument(s) 'value, always_apply' are not valid for transform PadIfNeeded\n",
            "  A.PadIfNeeded(min_height=64, min_width=30,\n",
            "<ipython-input-4-be286e06538f>:10: UserWarning: Argument(s) 'always_apply, border_mode, value' are not valid for transform GridDistortion\n",
            "  A.GridDistortion(always_apply=True, num_steps=7, distort_limit=0.5,\n",
            "<ipython-input-4-be286e06538f>:12: UserWarning: Argument(s) 'always_apply, border_mode, value' are not valid for transform OpticalDistortion\n",
            "  A.OpticalDistortion(always_apply=True, border_mode=cv2.BORDER_CONSTANT, value=(255, 255, 255)),\n",
            "<ipython-input-4-be286e06538f>:13: UserWarning: Argument(s) 'always_apply, pad_val' are not valid for transform Perspective\n",
            "  A.Perspective(scale=0.1, always_apply=True, fit_output=True, pad_val=(255, 255, 255))\n",
            "<ipython-input-4-be286e06538f>:16: UserWarning: Argument(s) 'quality_lower' are not valid for transform ImageCompression\n",
            "  A.ImageCompression(quality_lower=30, p=0.2),\n"
          ]
        }
      ]
    },
    {
      "cell_type": "markdown",
      "source": [
        "### Custom Dataset Class\n",
        "\n",
        "Defining a Custom Dataset Class\n",
        "\n",
        "Implements a PyTorch Dataset class to load images and corresponding labels.\n",
        "Applies image augmentations for better generalization."
      ],
      "metadata": {
        "id": "Rf-DvFQfJZZz"
      }
    },
    {
      "cell_type": "code",
      "source": [
        "class CaptchaDataset(Dataset):\n",
        "  CHARS = '0123456789'\n",
        "  CHAR2LABEL = {char: i + 1 for i, char in enumerate(CHARS)}\n",
        "  LABEL2CHAR = {label: char for char, label in CHAR2LABEL.items()}\n",
        "  def __init__(self, is_train = True):\n",
        "    self.images_gt_dict = {}\n",
        "    with open(gt_csv_path, 'r') as file:\n",
        "      lines = csv.DictReader(file)\n",
        "      for line in lines:\n",
        "        self.images_gt_dict[line[\"image_path\"].strip()] = line[\"solution\"].strip() #image_path -> numerical string(Ground Truth)\n",
        "    if is_train == True:\n",
        "      self.images_list = glob.glob(train_path + \"*\")\n",
        "    else:\n",
        "      self.images_list = glob.glob(val_path + \"*\")\n",
        "\n",
        "  def preprocess(self, img):\n",
        "\n",
        "    # img = cv2.cvtColor(img, cv2.COLOR_RGB2GRAY)\n",
        "    img = train_transforms(image=img)['image']\n",
        "    img = cv2.resize(img, (img_height, img_width))\n",
        "    img = img.reshape((3, img_height, img_width))\n",
        "    img = (img  / 127.5) - 1.0\n",
        "\n",
        "    img = torch.FloatTensor(img)\n",
        "    # img = torch.permute(img, (2, 0, 1))\n",
        "    return img\n",
        "\n",
        "  def __getitem__(self, index):\n",
        "    img_path = self.images_list[index]\n",
        "    img = cv2.imread(img_path)\n",
        "    img = self.preprocess(img)\n",
        "\n",
        "    # if img is None:\n",
        "    #   return self.__getitem__(self, index+1)\n",
        "    gt = self.images_gt_dict[img_path.split('/')[-2] + '/' + img_path.split('/')[-1]]\n",
        "    sample = {}\n",
        "    target = [self.CHAR2LABEL[c] for c in gt]\n",
        "    target_length = [len(target)]\n",
        "\n",
        "    target = torch.LongTensor(target)\n",
        "    target_length = torch.LongTensor(target_length)\n",
        "    return img, target, target_length\n",
        "\n",
        "  def __len__(self):\n",
        "    return len(self.images_list)\n",
        "\n",
        "def captcha_collate_fn(batch):\n",
        "    images, targets, target_lengths = zip(*batch)\n",
        "    images = torch.stack(images, 0)\n",
        "    targets = torch.cat(targets, 0)\n",
        "    target_lengths = torch.cat(target_lengths, 0)\n",
        "    return images, targets, target_lengths"
      ],
      "metadata": {
        "id": "li9Pem3ZJT6G"
      },
      "execution_count": 5,
      "outputs": []
    },
    {
      "cell_type": "markdown",
      "source": [
        "### Loading and Preprocessing Data\n",
        "\n",
        "Uses DataLoader to create batches for efficient training."
      ],
      "metadata": {
        "id": "gH0FFN251HdR"
      }
    },
    {
      "cell_type": "code",
      "source": [
        "train_dataset = CaptchaDataset(is_train=True)\n",
        "val_dataset = CaptchaDataset(is_train=False)\n",
        "print(len(train_dataset))\n",
        "print(len(val_dataset))"
      ],
      "metadata": {
        "id": "vfVv0VvBUw58",
        "colab": {
          "base_uri": "https://localhost:8080/"
        },
        "outputId": "c30b9ba2-ce21-4fec-b310-e84f0e55d899"
      },
      "execution_count": 6,
      "outputs": [
        {
          "output_type": "stream",
          "name": "stdout",
          "text": [
            "6000\n",
            "2000\n"
          ]
        }
      ]
    },
    {
      "cell_type": "code",
      "source": [
        "train_loader = DataLoader(train_dataset, batch_size=batch_size, num_workers=num_workers, shuffle=True, collate_fn=captcha_collate_fn)\n",
        "val_loader = DataLoader(val_dataset, batch_size=batch_size, num_workers=num_workers, shuffle= False, collate_fn=captcha_collate_fn)"
      ],
      "metadata": {
        "id": "Q1mT_QsbmscS"
      },
      "execution_count": 7,
      "outputs": []
    },
    {
      "cell_type": "code",
      "source": [
        "fig, axs = plt.subplots(3, 5, figsize=(16, 5.5))\n",
        "for i in range(15):\n",
        "    ax = axs[i // 5][i % 5]\n",
        "    random_index = np.random.randint(0, len(train_dataset))\n",
        "    image, target, target_lengths = train_dataset.__getitem__(random_index)\n",
        "    ax.imshow(image)\n",
        "    ax.grid(False)\n",
        "    ax.set_title(f'{random_index}', fontsize=10)\n",
        "fig.suptitle('Test captcha examples')\n",
        "plt.show()"
      ],
      "metadata": {
        "colab": {
          "base_uri": "https://localhost:8080/",
          "height": 828
        },
        "id": "UpRKmw1-szRY",
        "outputId": "14dd2742-b74a-4220-9160-9ea9f04f0506"
      },
      "execution_count": 8,
      "outputs": [
        {
          "output_type": "error",
          "ename": "TypeError",
          "evalue": "Invalid shape (3, 64, 256) for image data",
          "traceback": [
            "\u001b[0;31m---------------------------------------------------------------------------\u001b[0m",
            "\u001b[0;31mTypeError\u001b[0m                                 Traceback (most recent call last)",
            "\u001b[0;32m<ipython-input-8-84be4c74a0bf>\u001b[0m in \u001b[0;36m<cell line: 0>\u001b[0;34m()\u001b[0m\n\u001b[1;32m      4\u001b[0m     \u001b[0mrandom_index\u001b[0m \u001b[0;34m=\u001b[0m \u001b[0mnp\u001b[0m\u001b[0;34m.\u001b[0m\u001b[0mrandom\u001b[0m\u001b[0;34m.\u001b[0m\u001b[0mrandint\u001b[0m\u001b[0;34m(\u001b[0m\u001b[0;36m0\u001b[0m\u001b[0;34m,\u001b[0m \u001b[0mlen\u001b[0m\u001b[0;34m(\u001b[0m\u001b[0mtrain_dataset\u001b[0m\u001b[0;34m)\u001b[0m\u001b[0;34m)\u001b[0m\u001b[0;34m\u001b[0m\u001b[0;34m\u001b[0m\u001b[0m\n\u001b[1;32m      5\u001b[0m     \u001b[0mimage\u001b[0m\u001b[0;34m,\u001b[0m \u001b[0mtarget\u001b[0m\u001b[0;34m,\u001b[0m \u001b[0mtarget_lengths\u001b[0m \u001b[0;34m=\u001b[0m \u001b[0mtrain_dataset\u001b[0m\u001b[0;34m.\u001b[0m\u001b[0m__getitem__\u001b[0m\u001b[0;34m(\u001b[0m\u001b[0mrandom_index\u001b[0m\u001b[0;34m)\u001b[0m\u001b[0;34m\u001b[0m\u001b[0;34m\u001b[0m\u001b[0m\n\u001b[0;32m----> 6\u001b[0;31m     \u001b[0max\u001b[0m\u001b[0;34m.\u001b[0m\u001b[0mimshow\u001b[0m\u001b[0;34m(\u001b[0m\u001b[0mimage\u001b[0m\u001b[0;34m)\u001b[0m\u001b[0;34m\u001b[0m\u001b[0;34m\u001b[0m\u001b[0m\n\u001b[0m\u001b[1;32m      7\u001b[0m     \u001b[0max\u001b[0m\u001b[0;34m.\u001b[0m\u001b[0mgrid\u001b[0m\u001b[0;34m(\u001b[0m\u001b[0;32mFalse\u001b[0m\u001b[0;34m)\u001b[0m\u001b[0;34m\u001b[0m\u001b[0;34m\u001b[0m\u001b[0m\n\u001b[1;32m      8\u001b[0m     \u001b[0max\u001b[0m\u001b[0;34m.\u001b[0m\u001b[0mset_title\u001b[0m\u001b[0;34m(\u001b[0m\u001b[0;34mf'{random_index}'\u001b[0m\u001b[0;34m,\u001b[0m \u001b[0mfontsize\u001b[0m\u001b[0;34m=\u001b[0m\u001b[0;36m10\u001b[0m\u001b[0;34m)\u001b[0m\u001b[0;34m\u001b[0m\u001b[0;34m\u001b[0m\u001b[0m\n",
            "\u001b[0;32m/usr/local/lib/python3.11/dist-packages/matplotlib/__init__.py\u001b[0m in \u001b[0;36minner\u001b[0;34m(ax, data, *args, **kwargs)\u001b[0m\n\u001b[1;32m   1519\u001b[0m     \u001b[0;32mdef\u001b[0m \u001b[0minner\u001b[0m\u001b[0;34m(\u001b[0m\u001b[0max\u001b[0m\u001b[0;34m,\u001b[0m \u001b[0;34m*\u001b[0m\u001b[0margs\u001b[0m\u001b[0;34m,\u001b[0m \u001b[0mdata\u001b[0m\u001b[0;34m=\u001b[0m\u001b[0;32mNone\u001b[0m\u001b[0;34m,\u001b[0m \u001b[0;34m**\u001b[0m\u001b[0mkwargs\u001b[0m\u001b[0;34m)\u001b[0m\u001b[0;34m:\u001b[0m\u001b[0;34m\u001b[0m\u001b[0;34m\u001b[0m\u001b[0m\n\u001b[1;32m   1520\u001b[0m         \u001b[0;32mif\u001b[0m \u001b[0mdata\u001b[0m \u001b[0;32mis\u001b[0m \u001b[0;32mNone\u001b[0m\u001b[0;34m:\u001b[0m\u001b[0;34m\u001b[0m\u001b[0;34m\u001b[0m\u001b[0m\n\u001b[0;32m-> 1521\u001b[0;31m             return func(\n\u001b[0m\u001b[1;32m   1522\u001b[0m                 \u001b[0max\u001b[0m\u001b[0;34m,\u001b[0m\u001b[0;34m\u001b[0m\u001b[0;34m\u001b[0m\u001b[0m\n\u001b[1;32m   1523\u001b[0m                 \u001b[0;34m*\u001b[0m\u001b[0mmap\u001b[0m\u001b[0;34m(\u001b[0m\u001b[0mcbook\u001b[0m\u001b[0;34m.\u001b[0m\u001b[0msanitize_sequence\u001b[0m\u001b[0;34m,\u001b[0m \u001b[0margs\u001b[0m\u001b[0;34m)\u001b[0m\u001b[0;34m,\u001b[0m\u001b[0;34m\u001b[0m\u001b[0;34m\u001b[0m\u001b[0m\n",
            "\u001b[0;32m/usr/local/lib/python3.11/dist-packages/matplotlib/axes/_axes.py\u001b[0m in \u001b[0;36mimshow\u001b[0;34m(self, X, cmap, norm, aspect, interpolation, alpha, vmin, vmax, colorizer, origin, extent, interpolation_stage, filternorm, filterrad, resample, url, **kwargs)\u001b[0m\n\u001b[1;32m   5943\u001b[0m             \u001b[0mself\u001b[0m\u001b[0;34m.\u001b[0m\u001b[0mset_aspect\u001b[0m\u001b[0;34m(\u001b[0m\u001b[0maspect\u001b[0m\u001b[0;34m)\u001b[0m\u001b[0;34m\u001b[0m\u001b[0;34m\u001b[0m\u001b[0m\n\u001b[1;32m   5944\u001b[0m \u001b[0;34m\u001b[0m\u001b[0m\n\u001b[0;32m-> 5945\u001b[0;31m         \u001b[0mim\u001b[0m\u001b[0;34m.\u001b[0m\u001b[0mset_data\u001b[0m\u001b[0;34m(\u001b[0m\u001b[0mX\u001b[0m\u001b[0;34m)\u001b[0m\u001b[0;34m\u001b[0m\u001b[0;34m\u001b[0m\u001b[0m\n\u001b[0m\u001b[1;32m   5946\u001b[0m         \u001b[0mim\u001b[0m\u001b[0;34m.\u001b[0m\u001b[0mset_alpha\u001b[0m\u001b[0;34m(\u001b[0m\u001b[0malpha\u001b[0m\u001b[0;34m)\u001b[0m\u001b[0;34m\u001b[0m\u001b[0;34m\u001b[0m\u001b[0m\n\u001b[1;32m   5947\u001b[0m         \u001b[0;32mif\u001b[0m \u001b[0mim\u001b[0m\u001b[0;34m.\u001b[0m\u001b[0mget_clip_path\u001b[0m\u001b[0;34m(\u001b[0m\u001b[0;34m)\u001b[0m \u001b[0;32mis\u001b[0m \u001b[0;32mNone\u001b[0m\u001b[0;34m:\u001b[0m\u001b[0;34m\u001b[0m\u001b[0;34m\u001b[0m\u001b[0m\n",
            "\u001b[0;32m/usr/local/lib/python3.11/dist-packages/matplotlib/image.py\u001b[0m in \u001b[0;36mset_data\u001b[0;34m(self, A)\u001b[0m\n\u001b[1;32m    673\u001b[0m         \u001b[0;32mif\u001b[0m \u001b[0misinstance\u001b[0m\u001b[0;34m(\u001b[0m\u001b[0mA\u001b[0m\u001b[0;34m,\u001b[0m \u001b[0mPIL\u001b[0m\u001b[0;34m.\u001b[0m\u001b[0mImage\u001b[0m\u001b[0;34m.\u001b[0m\u001b[0mImage\u001b[0m\u001b[0;34m)\u001b[0m\u001b[0;34m:\u001b[0m\u001b[0;34m\u001b[0m\u001b[0;34m\u001b[0m\u001b[0m\n\u001b[1;32m    674\u001b[0m             \u001b[0mA\u001b[0m \u001b[0;34m=\u001b[0m \u001b[0mpil_to_array\u001b[0m\u001b[0;34m(\u001b[0m\u001b[0mA\u001b[0m\u001b[0;34m)\u001b[0m  \u001b[0;31m# Needed e.g. to apply png palette.\u001b[0m\u001b[0;34m\u001b[0m\u001b[0;34m\u001b[0m\u001b[0m\n\u001b[0;32m--> 675\u001b[0;31m         \u001b[0mself\u001b[0m\u001b[0;34m.\u001b[0m\u001b[0m_A\u001b[0m \u001b[0;34m=\u001b[0m \u001b[0mself\u001b[0m\u001b[0;34m.\u001b[0m\u001b[0m_normalize_image_array\u001b[0m\u001b[0;34m(\u001b[0m\u001b[0mA\u001b[0m\u001b[0;34m)\u001b[0m\u001b[0;34m\u001b[0m\u001b[0;34m\u001b[0m\u001b[0m\n\u001b[0m\u001b[1;32m    676\u001b[0m         \u001b[0mself\u001b[0m\u001b[0;34m.\u001b[0m\u001b[0m_imcache\u001b[0m \u001b[0;34m=\u001b[0m \u001b[0;32mNone\u001b[0m\u001b[0;34m\u001b[0m\u001b[0;34m\u001b[0m\u001b[0m\n\u001b[1;32m    677\u001b[0m         \u001b[0mself\u001b[0m\u001b[0;34m.\u001b[0m\u001b[0mstale\u001b[0m \u001b[0;34m=\u001b[0m \u001b[0;32mTrue\u001b[0m\u001b[0;34m\u001b[0m\u001b[0;34m\u001b[0m\u001b[0m\n",
            "\u001b[0;32m/usr/local/lib/python3.11/dist-packages/matplotlib/image.py\u001b[0m in \u001b[0;36m_normalize_image_array\u001b[0;34m(A)\u001b[0m\n\u001b[1;32m    641\u001b[0m             \u001b[0mA\u001b[0m \u001b[0;34m=\u001b[0m \u001b[0mA\u001b[0m\u001b[0;34m.\u001b[0m\u001b[0msqueeze\u001b[0m\u001b[0;34m(\u001b[0m\u001b[0;34m-\u001b[0m\u001b[0;36m1\u001b[0m\u001b[0;34m)\u001b[0m  \u001b[0;31m# If just (M, N, 1), assume scalar and apply colormap.\u001b[0m\u001b[0;34m\u001b[0m\u001b[0;34m\u001b[0m\u001b[0m\n\u001b[1;32m    642\u001b[0m         \u001b[0;32mif\u001b[0m \u001b[0;32mnot\u001b[0m \u001b[0;34m(\u001b[0m\u001b[0mA\u001b[0m\u001b[0;34m.\u001b[0m\u001b[0mndim\u001b[0m \u001b[0;34m==\u001b[0m \u001b[0;36m2\u001b[0m \u001b[0;32mor\u001b[0m \u001b[0mA\u001b[0m\u001b[0;34m.\u001b[0m\u001b[0mndim\u001b[0m \u001b[0;34m==\u001b[0m \u001b[0;36m3\u001b[0m \u001b[0;32mand\u001b[0m \u001b[0mA\u001b[0m\u001b[0;34m.\u001b[0m\u001b[0mshape\u001b[0m\u001b[0;34m[\u001b[0m\u001b[0;34m-\u001b[0m\u001b[0;36m1\u001b[0m\u001b[0;34m]\u001b[0m \u001b[0;32min\u001b[0m \u001b[0;34m[\u001b[0m\u001b[0;36m3\u001b[0m\u001b[0;34m,\u001b[0m \u001b[0;36m4\u001b[0m\u001b[0;34m]\u001b[0m\u001b[0;34m)\u001b[0m\u001b[0;34m:\u001b[0m\u001b[0;34m\u001b[0m\u001b[0;34m\u001b[0m\u001b[0m\n\u001b[0;32m--> 643\u001b[0;31m             \u001b[0;32mraise\u001b[0m \u001b[0mTypeError\u001b[0m\u001b[0;34m(\u001b[0m\u001b[0;34mf\"Invalid shape {A.shape} for image data\"\u001b[0m\u001b[0;34m)\u001b[0m\u001b[0;34m\u001b[0m\u001b[0;34m\u001b[0m\u001b[0m\n\u001b[0m\u001b[1;32m    644\u001b[0m         \u001b[0;32mif\u001b[0m \u001b[0mA\u001b[0m\u001b[0;34m.\u001b[0m\u001b[0mndim\u001b[0m \u001b[0;34m==\u001b[0m \u001b[0;36m3\u001b[0m\u001b[0;34m:\u001b[0m\u001b[0;34m\u001b[0m\u001b[0;34m\u001b[0m\u001b[0m\n\u001b[1;32m    645\u001b[0m             \u001b[0;31m# If the input data has values outside the valid range (after\u001b[0m\u001b[0;34m\u001b[0m\u001b[0;34m\u001b[0m\u001b[0m\n",
            "\u001b[0;31mTypeError\u001b[0m: Invalid shape (3, 64, 256) for image data"
          ]
        },
        {
          "output_type": "display_data",
          "data": {
            "text/plain": [
              "<Figure size 1600x550 with 15 Axes>"
            ],
            "image/png": "[encoded data removed]"
          },
          "metadata": {}
        }
      ]
    },
    {
      "cell_type": "markdown",
      "source": [
        "## Defining the CAPTCHA Recognition Model\n",
        "\n",
        "Implements a Convolutional Recurrent Neural Network (CRNN) with fully connected layers.\n",
        "Uses a CTC (Connectionist Temporal Classification) loss for sequence-based recognition."
      ],
      "metadata": {
        "id": "3ycjUt861O3h"
      }
    },
    {
      "cell_type": "markdown",
      "source": [
        "### Architecture 1"
      ],
      "metadata": {
        "id": "vjQ0VlAy1VeZ"
      }
    },
    {
      "cell_type": "code",
      "source": [
        "class ConvBlock(nn.Module):\n",
        "\n",
        "    def __init__(self, in_ch, out_ch, ks, stride, padding, dilation=1, pool_ks=None):\n",
        "        super().__init__()\n",
        "        self.bn = nn.BatchNorm2d(in_ch)\n",
        "        self.conv = nn.Conv2d(in_channels=in_ch, out_channels=out_ch, kernel_size=ks,\n",
        "                              stride=stride, padding=padding, dilation=dilation, bias=False)\n",
        "        self.pooling = nn.MaxPool2d(kernel_size=pool_ks) if pool_ks is not None else None\n",
        "        self.activation = nn.Hardswish()\n",
        "\n",
        "    def forward(self, x):\n",
        "        x = self.conv(self.bn(x))\n",
        "        if self.pooling:\n",
        "            x = self.pooling(x)\n",
        "        x = self.activation(x)\n",
        "        return x\n",
        "\n",
        "class CNNImageEncoder(nn.Module):\n",
        "\n",
        "    \"\"\"\n",
        "    This model accept images with size (64x256).\n",
        "    It reduces the size of H component to 1, so we can use W component as sequence for RNN.\n",
        "    \"\"\"\n",
        "\n",
        "    def __init__(self, out_dim=128, dropout=0.1):\n",
        "        super().__init__()\n",
        "        # self.pre_bath_norm = nn.BatchNorm2d(3)\n",
        "        self.layers = nn.Sequential(\n",
        "            ConvBlock(3, 32, 9, 1, 4, pool_ks=2),\n",
        "            ConvBlock(32, 64, 7, 1, 3, pool_ks=2),\n",
        "            ConvBlock(64, 128, 5, 1, 2, pool_ks=(2, 1)),\n",
        "            ConvBlock(128, 128, 3, 1, 1, pool_ks=(2, 1)),\n",
        "            ConvBlock(128, 128, 3, 1, 1, pool_ks=(2, 1)),\n",
        "            ConvBlock(128, 128, 3, 1, 1, pool_ks=(2, 1)),\n",
        "        )  # [b, 128, 1, 64]\n",
        "        self.dropout = nn.Dropout(dropout)\n",
        "        self.out_net = nn.Sequential(\n",
        "            nn.LayerNorm(128),\n",
        "            nn.Linear(128, out_dim)\n",
        "        )\n",
        "\n",
        "    def forward(self, x):\n",
        "        # x = self.pre_bath_norm(x)  # [b, 3, h, w]\n",
        "        x = self.layers(x)  # [b, ch, 2, w]\n",
        "        x = x.permute(0, 3, 1, 2)  # [b, w, ch, 2]\n",
        "        x = x.flatten(-2)  # [b, w, 2*ch]\n",
        "        x = self.dropout(x)\n",
        "        x = self.out_net(x)  # [b, 64, out_dim]\n",
        "        return x\n",
        "\n",
        "class BiLSTMImageDecoder(nn.Module):\n",
        "\n",
        "    def __init__(self, in_dim, hidden_dim, vocab_size, lstm_layers, dropout=0.1):\n",
        "        super().__init__()\n",
        "        self.norm = nn.BatchNorm1d(64)\n",
        "        self.rnn = nn.LSTM(in_dim, hidden_dim, num_layers=lstm_layers, dropout=dropout, bidirectional=True,\n",
        "                           batch_first=False)\n",
        "        self.out_proj = nn.Linear(hidden_dim * 2, vocab_size)\n",
        "\n",
        "    def forward(self, x):\n",
        "        x = self.norm(x)\n",
        "        x = x.permute(1, 0, 2)  # [B, T, in_dim] to [T, B, in_dim]\n",
        "        rnn_out, _ = self.rnn(x)\n",
        "        x = self.out_proj(rnn_out)\n",
        "        return x\n",
        "\n",
        "\n",
        "class OCR_CRNN(nn.Module):\n",
        "\n",
        "    def __init__(self, vocab_size, hidden_dim=128, lstm_layers=2, dropout=0.1):\n",
        "        super().__init__()\n",
        "        self.encoder = CNNImageEncoder(out_dim=hidden_dim, dropout=dropout)\n",
        "        self.decoder = BiLSTMImageDecoder(in_dim=hidden_dim, hidden_dim=hidden_dim,\n",
        "                                          vocab_size=vocab_size, lstm_layers=lstm_layers, dropout=dropout)\n",
        "        self.softmax = nn.LogSoftmax(-1)  # for CTCLoss\n",
        "\n",
        "    def forward(self, x):\n",
        "        x = self.encoder(x)\n",
        "        x = self.decoder(x)\n",
        "        x = self.softmax(x)\n",
        "        return x\n"
      ],
      "metadata": {
        "id": "er1jkXUhI2IJ"
      },
      "execution_count": 9,
      "outputs": []
    },
    {
      "cell_type": "markdown",
      "source": [
        "### Architecture 2"
      ],
      "metadata": {
        "id": "jbb1sXoK1YyB"
      }
    },
    {
      "cell_type": "code",
      "source": [
        "class CRNN(nn.Module):\n",
        "\n",
        "    def __init__(self, img_channel, img_height, img_width, num_class,\n",
        "                 map_to_seq_hidden=64, rnn_hidden=256, leaky_relu=False):\n",
        "        super(CRNN, self).__init__()\n",
        "\n",
        "        self.cnn, (output_channel, output_height, output_width) = \\\n",
        "            self._cnn_backbone(img_channel, img_height, img_width, leaky_relu)\n",
        "\n",
        "        self.map_to_seq = nn.Linear(output_channel * output_height, map_to_seq_hidden)\n",
        "\n",
        "        self.rnn1 = nn.LSTM(map_to_seq_hidden, rnn_hidden, bidirectional=True)\n",
        "        self.rnn2 = nn.LSTM(2 * rnn_hidden, rnn_hidden, bidirectional=True)\n",
        "\n",
        "        self.dense = nn.Linear(2 * rnn_hidden, num_class)\n",
        "\n",
        "    def _cnn_backbone(self, img_channel, img_height, img_width, leaky_relu):\n",
        "        assert img_height % 16 == 0\n",
        "        assert img_width % 4 == 0\n",
        "\n",
        "        channels = [img_channel, 64, 128, 256, 256, 512, 512, 512]\n",
        "        kernel_sizes = [3, 3, 3, 3, 3, 3, 2]\n",
        "        strides = [1, 1, 1, 1, 1, 1, 1]\n",
        "        paddings = [1, 1, 1, 1, 1, 1, 0]\n",
        "\n",
        "        cnn = nn.Sequential()\n",
        "\n",
        "        def conv_relu(i, batch_norm=False):\n",
        "            # shape of input: (batch, input_channel, height, width)\n",
        "            input_channel = channels[i]\n",
        "            output_channel = channels[i+1]\n",
        "\n",
        "            cnn.add_module(\n",
        "                f'conv{i}',\n",
        "                nn.Conv2d(input_channel, output_channel, kernel_sizes[i], strides[i], paddings[i])\n",
        "            )\n",
        "\n",
        "            if batch_norm:\n",
        "                cnn.add_module(f'batchnorm{i}', nn.BatchNorm2d(output_channel))\n",
        "\n",
        "            relu = nn.LeakyReLU(0.2, inplace=True) if leaky_relu else nn.ReLU(inplace=True)\n",
        "            cnn.add_module(f'relu{i}', relu)\n",
        "\n",
        "        # size of image: (channel, height, width) = (img_channel, img_height, img_width)\n",
        "        conv_relu(0)\n",
        "        cnn.add_module('pooling0', nn.MaxPool2d(kernel_size=2, stride=2))\n",
        "        # (64, img_height // 2, img_width // 2)\n",
        "\n",
        "        conv_relu(1)\n",
        "        cnn.add_module('pooling1', nn.MaxPool2d(kernel_size=2, stride=2))\n",
        "        # (128, img_height // 4, img_width // 4)\n",
        "\n",
        "        conv_relu(2)\n",
        "        conv_relu(3)\n",
        "        cnn.add_module(\n",
        "            'pooling2',\n",
        "            nn.MaxPool2d(kernel_size=(2, 1))\n",
        "        )  # (256, img_height // 8, img_width // 4)\n",
        "\n",
        "        conv_relu(4, batch_norm=True)\n",
        "        conv_relu(5, batch_norm=True)\n",
        "        cnn.add_module(\n",
        "            'pooling3',\n",
        "            nn.MaxPool2d(kernel_size=(2, 1))\n",
        "        )  # (512, img_height // 16, img_width // 4)\n",
        "\n",
        "        conv_relu(6)  # (512, img_height // 16 - 1, img_width // 4 - 1)\n",
        "\n",
        "        output_channel, output_height, output_width = \\\n",
        "            channels[-1], img_height // 16 - 1, img_width // 4 - 1\n",
        "        return cnn, (output_channel, output_height, output_width)\n",
        "\n",
        "    def forward(self, images):\n",
        "        # shape of images: (batch, channel, height, width)\n",
        "\n",
        "        conv = self.cnn(images)\n",
        "        batch, channel, height, width = conv.size()\n",
        "        print(conv.shape)\n",
        "        conv = conv.view(batch, channel * height, width)\n",
        "        conv = conv.permute(2, 0, 1)  # (width, batch, feature)\n",
        "        print(conv.shape)\n",
        "        seq = self.map_to_seq(conv)\n",
        "\n",
        "        recurrent, _ = self.rnn1(seq)\n",
        "        recurrent, _ = self.rnn2(recurrent)\n",
        "\n",
        "        output = self.dense(recurrent)\n",
        "        return output  # shape: (seq_len, batch, num_class)"
      ],
      "metadata": {
        "id": "CarwWNdrsLpj"
      },
      "execution_count": 10,
      "outputs": []
    },
    {
      "cell_type": "markdown",
      "source": [
        "## Initializing the Model and Loss Function\n",
        "\n",
        "Moves the model to the appropriate device (CPU/GPU).\n",
        "Defines the loss function and optimizer."
      ],
      "metadata": {
        "id": "kLmEbjqL1hvQ"
      }
    },
    {
      "cell_type": "code",
      "source": [
        "num_classes = len(CaptchaDataset.LABEL2CHAR)+1\n",
        "print(num_classes)\n",
        "model = CRNN(1, img_height=img_height, img_width=img_width, num_class=num_classes).to(device)\n",
        "model2 = OCR_CRNN(vocab_size=num_classes).to(device)\n",
        "criterion = nn.CTCLoss(reduction='sum', zero_infinity=True).to(device)\n",
        "optimizer = torch.optim.AdamW(model2.parameters(), lr = learning_rate)"
      ],
      "metadata": {
        "id": "blp0zkG_tWK7",
        "colab": {
          "base_uri": "https://localhost:8080/"
        },
        "outputId": "44a662c2-f62f-4567-d2e1-543f9dfc9959"
      },
      "execution_count": 11,
      "outputs": [
        {
          "output_type": "stream",
          "name": "stdout",
          "text": [
            "11\n"
          ]
        }
      ]
    },
    {
      "cell_type": "code",
      "source": [
        "x = torch.randn((1, 3, 64, 256)).to(device)\n",
        "y = model2(x)\n",
        "print(y.shape)"
      ],
      "metadata": {
        "colab": {
          "base_uri": "https://localhost:8080/"
        },
        "id": "OmAAcO36sth0",
        "outputId": "ef997235-7ed8-4cc0-abff-b0365b111a32"
      },
      "execution_count": 12,
      "outputs": [
        {
          "output_type": "stream",
          "name": "stdout",
          "text": [
            "torch.Size([64, 1, 11])\n"
          ]
        }
      ]
    },
    {
      "cell_type": "markdown",
      "source": [
        "## Decoding the Model Predictions\n",
        "Converts raw model outputs into readable CAPTCHA text."
      ],
      "metadata": {
        "id": "KBWGmGH01rxg"
      }
    },
    {
      "cell_type": "code",
      "source": [
        "def _reconstruct(labels, blank=0):\n",
        "    new_labels = []\n",
        "    # merge same labels\n",
        "    previous = None\n",
        "    for l in labels:\n",
        "        if l != previous:\n",
        "            new_labels.append(l)\n",
        "            previous = l\n",
        "    # delete blank\n",
        "    new_labels = [l for l in new_labels if l != blank]\n",
        "\n",
        "    return new_labels\n",
        "\n",
        "\n",
        "def greedy_decode(emission_log_prob, blank=0, **kwargs):\n",
        "    labels = np.argmax(emission_log_prob, axis=-1)\n",
        "    labels = _reconstruct(labels, blank=blank)\n",
        "    return labels\n",
        "\n",
        "def ctc_decode(log_probs, label2char=None, blank=0):\n",
        "    emission_log_probs = np.transpose(log_probs.detach().cpu().numpy(), (1, 0, 2))\n",
        "    # size of emission_log_probs: (batch, length, class)\n",
        "\n",
        "    decoded_list = []\n",
        "    for emission_log_prob in emission_log_probs:\n",
        "        decoded = greedy_decode(emission_log_prob, blank=blank)\n",
        "        if label2char:\n",
        "            decoded = [label2char[l] for l in decoded]\n",
        "        decoded_list.append(decoded)\n",
        "    return decoded_list"
      ],
      "metadata": {
        "id": "gEkhhHVbDQEG"
      },
      "execution_count": 13,
      "outputs": []
    },
    {
      "cell_type": "code",
      "source": [
        "def evaluate_model():\n",
        "  tot_count = 0\n",
        "  tot_loss = 0.0\n",
        "  tot_correct = 0\n",
        "  for i, sample in tqdm.tqdm(enumerate(val_loader)):\n",
        "    with torch.no_grad():\n",
        "      images, targets, target_lengths = [d.to(device) for d in sample]\n",
        "      logits = model2(images)\n",
        "      log_probs = nn.functional.log_softmax(logits, dim=2)\n",
        "      # print(log_probs)\n",
        "      bs = images.size(0)\n",
        "      input_lengths = torch.LongTensor([logits.size(0)] * bs)\n",
        "\n",
        "      loss = criterion(log_probs, targets, input_lengths, target_lengths)\n",
        "\n",
        "      preds = ctc_decode(log_probs)\n",
        "      reals = targets.cpu().numpy().tolist()\n",
        "      # print(target_lengths.shape)\n",
        "      target_lengths = torch.flatten(target_lengths).cpu().numpy().tolist()\n",
        "      # print(target_lengths)\n",
        "\n",
        "      tot_count += bs\n",
        "      tot_loss += loss.item()\n",
        "      target_length_counter = 0\n",
        "      for pred, target_length in zip(preds, target_lengths):\n",
        "          real = reals[target_length_counter:target_length_counter + target_length]\n",
        "          target_length_counter += target_length\n",
        "          # print(pred, real)\n",
        "          if pred == real:\n",
        "              tot_correct += 1\n",
        "  acc = tot_correct/tot_count\n",
        "  val_loss = tot_loss/ tot_count\n",
        "  return acc, val_loss\n"
      ],
      "metadata": {
        "id": "P_fx0PeGBo0F"
      },
      "execution_count": 14,
      "outputs": []
    },
    {
      "cell_type": "markdown",
      "source": [
        "## Training Loop Implementation\n",
        "\n",
        "Iterates over epochs, processing batches of images.\n",
        "Computes loss and updates model parameters.\n",
        "Computes Validation Loss and accuracy at each epoch"
      ],
      "metadata": {
        "id": "Ukzrbmz211Jp"
      }
    },
    {
      "cell_type": "code",
      "source": [
        "loss_values = []\n",
        "for epoch in range(num_epochs):\n",
        "  for i, sample in tqdm.tqdm(enumerate(train_loader)):\n",
        "    images, targets, target_lengths = [d.to(device) for d in sample]\n",
        "    # print(images.shape)\n",
        "    logits = model2(images)\n",
        "    # log_probs = nn.functional.log_softmax(logits, dim=2)\n",
        "\n",
        "    bs = images.shape[0]\n",
        "    input_lengths = torch.full(size=(images.shape[0],), fill_value=logits.shape[0], dtype=torch.long)\n",
        "    # print(input_lengths)\n",
        "    target_lengths = torch.flatten(target_lengths)\n",
        "    # print(target_lengths)\n",
        "\n",
        "    loss = criterion(logits, targets, input_lengths, target_lengths)\n",
        "    loss_values.append(loss.item())\n",
        "    optimizer.zero_grad()\n",
        "    loss.backward()\n",
        "    torch.nn.utils.clip_grad_norm_(model.parameters(), 5) # gradient clipping with 5\n",
        "    optimizer.step()\n",
        "    if((i+1) % 50 == 0):\n",
        "      print(f\"Epoch = {epoch+1}/{num_epochs}, step = {(i+1)} / {(len(train_dataset) / batch_size)}, loss = {loss.item() / batch_size:.8f}\")\n",
        "\n",
        "  acc, val_loss = evaluate_model()\n",
        "  print(f\"Epoch = {epoch+1}/{num_epochs}, Accuracy = {acc}, Val_loss = {val_loss}\")\n",
        "  torch.save(model, ckpt_path + f\"model_{epoch}.pth\")\n",
        "\n"
      ],
      "metadata": {
        "colab": {
          "base_uri": "https://localhost:8080/"
        },
        "id": "9WLyrhMAtzqX",
        "outputId": "d89cb37a-2a42-49c6-9a1e-dc994e1b1c67"
      },
      "execution_count": null,
      "outputs": [
        {
          "output_type": "stream",
          "name": "stderr",
          "text": [
            "3it [00:10,  3.32s/it]"
          ]
        }
      ]
    },
    {
      "cell_type": "code",
      "source": [
        "\n",
        "\n",
        "plt.plot(loss_values)\n",
        "plt.xlabel(\"Iterations\")\n",
        "plt.ylabel(\"Loss\")\n",
        "plt.title(\"Loss vs Iterations\")\n",
        "plt.show()"
      ],
      "metadata": {
        "colab": {
          "base_uri": "https://localhost:8080/",
          "height": 472
        },
        "id": "gYe63LkxCjch",
        "outputId": "6125fa1c-55e1-43a3-d95d-9fda4913c77a"
      },
      "execution_count": null,
      "outputs": [
        {
          "output_type": "display_data",
          "data": {
            "text/plain": [
              "<Figure size 640x480 with 1 Axes>"
            ],
            "image/png": "[encoded data removed]"
          },
          "metadata": {}
        }
      ]
    },
    {
      "cell_type": "code",
      "source": [
        "acc = evaluate_model()\n",
        "print(acc)"
      ],
      "metadata": {
        "colab": {
          "base_uri": "https://localhost:8080/"
        },
        "id": "iWfa564PKfZc",
        "outputId": "6eaeef0e-bbeb-4c9b-873a-50283cdb1be0"
      },
      "execution_count": null,
      "outputs": [
        {
          "output_type": "stream",
          "name": "stderr",
          "text": [
            "16it [00:00, 77.28it/s]"
          ]
        },
        {
          "output_type": "stream",
          "name": "stdout",
          "text": [
            "torch.Size([1])\n",
            "[6]\n",
            "[6, 2, 9, 6, 9, 5] [6, 1, 1, 6, 9, 5]\n",
            "torch.Size([1])\n",
            "[6]\n",
            "[6, 1, 4, 3, 3, 4] [6, 1, 6, 4, 2, 2]\n",
            "torch.Size([1])\n",
            "[6]\n",
            "[6, 1, 10, 1, 5, 1] [6, 2, 10, 1, 8, 8]\n",
            "torch.Size([1])\n",
            "[6]\n",
            "[7, 1, 8, 4, 2, 10] [6, 1, 8, 5, 1, 7]\n",
            "torch.Size([1])\n",
            "[6]\n",
            "[7, 3, 4, 4, 4, 3] [6, 3, 4, 4, 4, 2]\n",
            "torch.Size([1])\n",
            "[6]\n",
            "[1, 7, 8, 5, 6, 5] [1, 6, 8, 5, 7, 5]\n",
            "torch.Size([1])\n",
            "[6]\n",
            "[6, 3, 4, 9, 3, 7] [6, 3, 3, 10, 3, 7]\n",
            "torch.Size([1])\n",
            "[6]\n",
            "[6, 2, 10, 9, 6, 10] [6, 2, 10, 10, 8, 10]\n",
            "torch.Size([1])\n",
            "[6]\n",
            "[5, 3, 4, 3, 4, 3] [6, 3, 4, 2, 4, 3]\n",
            "torch.Size([1])\n",
            "[6]\n",
            "[6, 2, 7, 5, 10, 10] [6, 2, 7, 6, 9, 10]\n",
            "torch.Size([1])\n",
            "[6]\n",
            "[6, 1, 9, 9, 8, 4] [6, 1, 9, 8, 9, 3]\n",
            "torch.Size([1])\n",
            "[6]\n",
            "[7, 3, 4, 9, 4, 8] [6, 3, 4, 9, 3, 8]\n",
            "torch.Size([1])\n",
            "[6]\n",
            "[6, 1, 10, 9, 5, 9] [6, 1, 10, 9, 6, 8]\n",
            "torch.Size([1])\n",
            "[6]\n",
            "[6, 1, 9, 4, 5, 9] [6, 1, 10, 4, 6, 10]\n",
            "torch.Size([1])\n",
            "[6]\n",
            "[6, 1, 10, 4, 3, 4] [6, 1, 10, 4, 3, 2]\n",
            "torch.Size([1])\n",
            "[6]\n",
            "[6, 2, 5, 2, 2, 7] [6, 2, 5, 1, 2, 6]\n",
            "torch.Size([1])\n",
            "[6]\n",
            "[7, 3, 4, 9, 10, 1] [6, 3, 4, 9, 9, 2]\n"
          ]
        },
        {
          "output_type": "stream",
          "name": "stderr",
          "text": [
            "\r26it [00:00, 84.91it/s]"
          ]
        },
        {
          "output_type": "stream",
          "name": "stdout",
          "text": [
            "torch.Size([1])\n",
            "[6]\n",
            "[6, 2, 7, 9, 5, 2] [6, 2, 7, 8, 6, 3]\n",
            "torch.Size([1])\n",
            "[6]\n",
            "[6, 2, 3, 6, 4, 7] [6, 2, 3, 7, 4, 8]\n",
            "torch.Size([1])\n",
            "[6]\n",
            "[6, 2, 8, 5, 6, 9] [6, 2, 8, 4, 7, 8]\n",
            "torch.Size([1])\n",
            "[6]\n",
            "[4, 1, 10, 5, 2, 1] [6, 1, 10, 5, 1, 8]\n",
            "torch.Size([1])\n",
            "[6]\n",
            "[7, 2, 5, 3, 7, 10] [6, 2, 4, 2, 8, 10]\n",
            "torch.Size([1])\n",
            "[6]\n",
            "[7, 1, 10, 5, 4, 4] [6, 1, 10, 9, 3, 2]\n",
            "torch.Size([1])\n",
            "[6]\n",
            "[6, 5, 9, 4, 9, 5] [6, 5, 9, 4, 9, 6]\n",
            "torch.Size([1])\n",
            "[6]\n",
            "[6, 4, 7, 5, 7, 6] [6, 4, 7, 5, 8, 6]\n",
            "torch.Size([1])\n",
            "[6]\n",
            "[6, 3, 10, 3, 8, 4] [6, 3, 10, 2, 8, 3]\n",
            "torch.Size([1])\n",
            "[6]\n",
            "[7, 4, 8, 7, 5, 8] [6, 4, 8, 7, 6, 7]\n",
            "torch.Size([1])\n",
            "[6]\n",
            "[6, 5, 5, 3, 7, 4] [6, 5, 5, 2, 7, 4]\n",
            "torch.Size([1])\n",
            "[6]\n",
            "[7, 3, 7, 5, 5, 1] [6, 3, 9, 4, 6, 1]\n",
            "torch.Size([1])\n",
            "[6]\n",
            "[7, 1, 8, 4, 3, 10] [6, 3, 8, 4, 4, 10]\n",
            "torch.Size([1])\n",
            "[6]\n",
            "[6, 5, 10, 2, 6, 8] [6, 5, 9, 1, 8, 9]\n",
            "torch.Size([1])\n",
            "[6]\n",
            "[6, 5, 1, 9, 10, 7] [6, 5, 1, 9, 9, 8]\n",
            "torch.Size([1])\n",
            "[6]\n",
            "[6, 5, 3, 8, 1, 8] [6, 5, 3, 7, 1, 6]\n",
            "torch.Size([1])\n",
            "[6]\n",
            "[6, 5, 3, 6, 2, 7] [6, 5, 1, 6, 4, 6]\n",
            "torch.Size([1])\n",
            "[6]\n",
            "[7, 3, 10, 3, 2, 6] [6, 4, 4, 2, 2, 5]\n"
          ]
        },
        {
          "output_type": "stream",
          "name": "stderr",
          "text": [
            "\r36it [00:01, 21.66it/s]"
          ]
        },
        {
          "output_type": "stream",
          "name": "stdout",
          "text": [
            "torch.Size([1])\n",
            "[6]\n",
            "[7, 3, 8, 6, 4, 4] [6, 3, 8, 6, 6, 3]\n",
            "torch.Size([1])\n",
            "[6]\n",
            "[6, 4, 5, 2, 7, 6] [6, 4, 2, 1, 7, 6]\n",
            "torch.Size([1])\n",
            "[6]\n",
            "[7, 3, 8, 10, 9, 10] [6, 3, 8, 10, 10, 10]\n",
            "torch.Size([1])\n",
            "[6]\n",
            "[6, 3, 5, 4, 6, 9] [6, 3, 5, 3, 6, 10]\n",
            "torch.Size([1])\n",
            "[6]\n",
            "[7, 3, 7, 9, 10, 7] [6, 3, 7, 9, 10, 8]\n",
            "torch.Size([1])\n",
            "[6]\n",
            "[6, 5, 2, 6, 3, 6] [6, 5, 2, 7, 3, 5]\n"
          ]
        },
        {
          "output_type": "stream",
          "name": "stderr",
          "text": [
            "\r42it [00:04,  6.28it/s]"
          ]
        },
        {
          "output_type": "stream",
          "name": "stdout",
          "text": [
            "torch.Size([1])\n",
            "[6]\n",
            "[6, 5, 4, 8, 2, 4] [6, 5, 6, 9, 2, 3]\n",
            "torch.Size([1])\n",
            "[6]\n",
            "[7, 4, 7, 9, 10, 7] [6, 4, 9, 10, 9, 7]\n",
            "torch.Size([1])\n",
            "[6]\n",
            "[7, 6, 8, 3, 2, 10] [6, 4, 8, 3, 3, 8]\n",
            "torch.Size([1])\n",
            "[6]\n",
            "[1, 6, 9, 4, 7, 2] [1, 6, 9, 3, 8, 3]\n"
          ]
        },
        {
          "output_type": "stream",
          "name": "stderr",
          "text": [
            "\r46it [00:05,  4.77it/s]"
          ]
        },
        {
          "output_type": "stream",
          "name": "stdout",
          "text": [
            "torch.Size([1])\n",
            "[6]\n",
            "[6, 6, 5, 9, 8, 6] [6, 6, 5, 10, 7, 5]\n",
            "torch.Size([1])\n",
            "[6]\n",
            "[7, 6, 3, 3, 5, 5] [6, 6, 3, 3, 5, 4]\n",
            "torch.Size([1])\n",
            "[6]\n",
            "[6, 4, 4, 9, 8, 7] [6, 6, 5, 10, 8, 6]\n"
          ]
        },
        {
          "output_type": "stream",
          "name": "stderr",
          "text": [
            "\r49it [00:08,  3.14it/s]"
          ]
        },
        {
          "output_type": "stream",
          "name": "stdout",
          "text": [
            "torch.Size([1])\n",
            "[6]\n",
            "[6, 6, 3, 9, 5, 3] [6, 6, 4, 10, 4, 2]\n",
            "torch.Size([1])\n",
            "[6]\n",
            "[1, 7, 1, 3, 2, 7] [1, 7, 2, 2, 1, 8]\n"
          ]
        },
        {
          "output_type": "stream",
          "name": "stderr",
          "text": [
            "\r51it [00:09,  3.01it/s]"
          ]
        },
        {
          "output_type": "stream",
          "name": "stdout",
          "text": [
            "torch.Size([1])\n",
            "[6]\n",
            "[6, 6, 2, 4, 1, 3] [6, 6, 2, 6, 2, 2]\n",
            "torch.Size([1])\n",
            "[6]\n",
            "[6, 5, 10, 9, 2, 10] [6, 5, 10, 7, 2, 9]\n"
          ]
        },
        {
          "output_type": "stream",
          "name": "stderr",
          "text": [
            "\r53it [00:10,  2.52it/s]"
          ]
        },
        {
          "output_type": "stream",
          "name": "stdout",
          "text": [
            "torch.Size([1])\n",
            "[6]\n",
            "[6, 6, 7, 9, 5, 5] [6, 6, 7, 8, 5, 5]\n",
            "torch.Size([1])\n",
            "[6]\n",
            "[6, 6, 7, 5, 6, 6] [6, 6, 7, 5, 7, 7]\n"
          ]
        },
        {
          "output_type": "stream",
          "name": "stderr",
          "text": [
            "\r55it [00:11,  2.42it/s]"
          ]
        },
        {
          "output_type": "stream",
          "name": "stdout",
          "text": [
            "torch.Size([1])\n",
            "[6]\n",
            "[7, 6, 10, 9, 5, 8] [6, 6, 1, 10, 5, 8]\n",
            "torch.Size([1])\n",
            "[6]\n",
            "[6, 6, 8, 3, 3, 1] [6, 6, 8, 3, 2, 1]\n"
          ]
        },
        {
          "output_type": "stream",
          "name": "stderr",
          "text": [
            "\r57it [00:12,  2.21it/s]"
          ]
        },
        {
          "output_type": "stream",
          "name": "stdout",
          "text": [
            "torch.Size([1])\n",
            "[6]\n",
            "[6, 6, 10, 1, 1, 6] [6, 6, 8, 1, 1, 6]\n",
            "torch.Size([1])\n",
            "[6]\n",
            "[7, 5, 9, 9, 7, 7] [6, 5, 10, 10, 7, 5]\n"
          ]
        },
        {
          "output_type": "stream",
          "name": "stderr",
          "text": [
            "\r59it [00:13,  2.28it/s]"
          ]
        },
        {
          "output_type": "stream",
          "name": "stdout",
          "text": [
            "torch.Size([1])\n",
            "[6]\n",
            "[6, 6, 6, 3, 4, 7] [6, 6, 1, 3, 4, 7]\n",
            "torch.Size([1])\n",
            "[6]\n",
            "[6, 6, 9, 2, 6, 6] [6, 6, 8, 2, 7, 7]\n"
          ]
        },
        {
          "output_type": "stream",
          "name": "stderr",
          "text": [
            "\r61it [00:14,  2.13it/s]"
          ]
        },
        {
          "output_type": "stream",
          "name": "stdout",
          "text": [
            "torch.Size([1])\n",
            "[6]\n",
            "[1, 1, 7, 9, 1, 5] [1, 1, 7, 10, 1, 1]\n",
            "torch.Size([1])\n",
            "[6]\n",
            "[6, 6, 6, 6, 5, 6] [6, 6, 6, 6, 6, 6]\n"
          ]
        },
        {
          "output_type": "stream",
          "name": "stderr",
          "text": [
            "\r63it [00:15,  2.09it/s]"
          ]
        },
        {
          "output_type": "stream",
          "name": "stdout",
          "text": [
            "torch.Size([1])\n",
            "[6]\n",
            "[6, 6, 3, 3, 3, 7] [6, 7, 1, 2, 3, 7]\n",
            "torch.Size([1])\n",
            "[6]\n",
            "[6, 5, 10, 4, 3, 7] [6, 5, 10, 4, 3, 2]\n"
          ]
        },
        {
          "output_type": "stream",
          "name": "stderr",
          "text": [
            "\r65it [00:16,  1.97it/s]"
          ]
        },
        {
          "output_type": "stream",
          "name": "stdout",
          "text": [
            "torch.Size([1])\n",
            "[6]\n",
            "[6, 6, 7, 1, 7, 4] [6, 6, 7, 1, 7, 3]\n",
            "torch.Size([1])\n",
            "[6]\n",
            "[6, 7, 3, 6, 6, 7] [6, 7, 3, 7, 5, 6]\n"
          ]
        },
        {
          "output_type": "stream",
          "name": "stderr",
          "text": [
            "\r67it [00:17,  1.91it/s]"
          ]
        },
        {
          "output_type": "stream",
          "name": "stdout",
          "text": [
            "torch.Size([1])\n",
            "[6]\n",
            "[6, 8, 7, 5, 9, 6] [6, 8, 7, 7, 9, 5]\n",
            "torch.Size([1])\n",
            "[6]\n",
            "[6, 7, 10, 5, 3, 6] [6, 7, 9, 5, 2, 6]\n"
          ]
        },
        {
          "output_type": "stream",
          "name": "stderr",
          "text": [
            "\r69it [00:19,  1.72it/s]"
          ]
        },
        {
          "output_type": "stream",
          "name": "stdout",
          "text": [
            "torch.Size([1])\n",
            "[6]\n",
            "[6, 8, 3, 3, 6, 5] [6, 8, 3, 2, 6, 5]\n",
            "torch.Size([1])\n",
            "[6]\n",
            "[6, 7, 5, 4, 8, 7] [6, 7, 5, 3, 7, 7]\n"
          ]
        },
        {
          "output_type": "stream",
          "name": "stderr",
          "text": [
            "\r71it [00:20,  1.61it/s]"
          ]
        },
        {
          "output_type": "stream",
          "name": "stdout",
          "text": [
            "torch.Size([1])\n",
            "[6]\n",
            "[6, 7, 5, 9, 4, 8] [6, 7, 5, 9, 4, 7]\n",
            "torch.Size([1])\n",
            "[6]\n",
            "[6, 8, 3, 3, 5, 4] [6, 8, 3, 2, 5, 2]\n"
          ]
        },
        {
          "output_type": "stream",
          "name": "stderr",
          "text": [
            "\r73it [00:21,  1.63it/s]"
          ]
        },
        {
          "output_type": "stream",
          "name": "stdout",
          "text": [
            "torch.Size([1])\n",
            "[6]\n",
            "[7, 8, 7, 7, 8, 3] [6, 8, 5, 7, 8, 2]\n",
            "torch.Size([1])\n",
            "[6]\n",
            "[6, 8, 7, 5, 8, 2] [6, 8, 7, 6, 8, 1]\n"
          ]
        },
        {
          "output_type": "stream",
          "name": "stderr",
          "text": [
            "\r75it [00:23,  1.54it/s]"
          ]
        },
        {
          "output_type": "stream",
          "name": "stdout",
          "text": [
            "torch.Size([1])\n",
            "[6]\n",
            "[6, 8, 3, 5, 4, 6] [6, 8, 3, 5, 4, 5]\n",
            "torch.Size([1])\n",
            "[6]\n",
            "[6, 8, 3, 7, 5, 9] [6, 8, 3, 9, 5, 9]\n"
          ]
        },
        {
          "output_type": "stream",
          "name": "stderr",
          "text": [
            "\r77it [00:24,  1.47it/s]"
          ]
        },
        {
          "output_type": "stream",
          "name": "stdout",
          "text": [
            "torch.Size([1])\n",
            "[6]\n",
            "[6, 8, 7, 9, 3, 1] [6, 8, 1, 9, 3, 3]\n",
            "torch.Size([1])\n",
            "[6]\n",
            "[1, 8, 2, 8, 5, 1] [1, 7, 2, 8, 7, 1]\n"
          ]
        },
        {
          "output_type": "stream",
          "name": "stderr",
          "text": [
            "\r79it [00:25,  1.66it/s]"
          ]
        },
        {
          "output_type": "stream",
          "name": "stdout",
          "text": [
            "torch.Size([1])\n",
            "[6]\n",
            "[6, 8, 2, 6, 3, 2] [6, 8, 2, 6, 3, 1]\n",
            "torch.Size([1])\n",
            "[6]\n",
            "[3, 7, 3, 9, 1, 8] [1, 7, 3, 10, 1, 6]\n"
          ]
        },
        {
          "output_type": "stream",
          "name": "stderr",
          "text": [
            "\r81it [00:26,  1.77it/s]"
          ]
        },
        {
          "output_type": "stream",
          "name": "stdout",
          "text": [
            "torch.Size([1])\n",
            "[6]\n",
            "[6, 7, 8, 1, 3, 7] [6, 7, 4, 1, 3, 6]\n",
            "torch.Size([1])\n",
            "[6]\n",
            "[6, 8, 5, 5, 4, 5] [6, 8, 5, 5, 4, 5]\n"
          ]
        },
        {
          "output_type": "stream",
          "name": "stderr",
          "text": [
            "\r83it [00:27,  1.73it/s]"
          ]
        },
        {
          "output_type": "stream",
          "name": "stdout",
          "text": [
            "torch.Size([1])\n",
            "[6]\n",
            "[4, 7, 7, 1, 2, 4] [6, 8, 7, 2, 2, 9]\n",
            "torch.Size([1])\n",
            "[6]\n",
            "[6, 8, 5, 9, 5, 8] [6, 8, 5, 10, 5, 8]\n"
          ]
        },
        {
          "output_type": "stream",
          "name": "stderr",
          "text": [
            "\r85it [00:28,  1.90it/s]"
          ]
        },
        {
          "output_type": "stream",
          "name": "stdout",
          "text": [
            "torch.Size([1])\n",
            "[6]\n",
            "[6, 7, 4, 6, 10, 5] [6, 7, 4, 6, 10, 3]\n",
            "torch.Size([1])\n",
            "[6]\n",
            "[6, 6, 7, 6, 3, 5] [6, 7, 7, 6, 3, 4]\n"
          ]
        },
        {
          "output_type": "stream",
          "name": "stderr",
          "text": [
            "\r87it [00:29,  2.06it/s]"
          ]
        },
        {
          "output_type": "stream",
          "name": "stdout",
          "text": [
            "torch.Size([1])\n",
            "[6]\n",
            "[6, 8, 7, 8, 5, 7] [6, 8, 7, 8, 6, 7]\n",
            "torch.Size([1])\n",
            "[6]\n",
            "[6, 9, 4, 9, 8, 8] [6, 9, 4, 9, 8, 8]\n"
          ]
        },
        {
          "output_type": "stream",
          "name": "stderr",
          "text": [
            "\r89it [00:30,  1.84it/s]"
          ]
        },
        {
          "output_type": "stream",
          "name": "stdout",
          "text": [
            "torch.Size([1])\n",
            "[6]\n",
            "[1, 7, 9, 2, 3, 6] [1, 7, 7, 2, 3, 4]\n",
            "torch.Size([1])\n",
            "[6]\n",
            "[6, 7, 8, 2, 7, 6] [6, 9, 8, 3, 8, 5]\n"
          ]
        },
        {
          "output_type": "stream",
          "name": "stderr",
          "text": [
            "\r91it [00:31,  1.81it/s]"
          ]
        },
        {
          "output_type": "stream",
          "name": "stdout",
          "text": [
            "torch.Size([1])\n",
            "[6]\n",
            "[6, 7, 10, 5, 3, 4] [6, 9, 9, 7, 3, 3]\n",
            "torch.Size([1])\n",
            "[6]\n",
            "[2, 7, 4, 8, 10, 9] [1, 7, 6, 8, 10, 10]\n"
          ]
        },
        {
          "output_type": "stream",
          "name": "stderr",
          "text": [
            "\r93it [00:32,  2.00it/s]"
          ]
        },
        {
          "output_type": "stream",
          "name": "stdout",
          "text": [
            "torch.Size([1])\n",
            "[6]\n",
            "[6, 8, 10, 4, 7, 7] [6, 8, 10, 4, 8, 8]\n",
            "torch.Size([1])\n",
            "[6]\n",
            "[4, 10, 2, 5, 5, 2] [6, 10, 2, 5, 4, 2]\n"
          ]
        },
        {
          "output_type": "stream",
          "name": "stderr",
          "text": [
            "\r95it [00:33,  2.16it/s]"
          ]
        },
        {
          "output_type": "stream",
          "name": "stdout",
          "text": [
            "torch.Size([1])\n",
            "[6]\n",
            "[6, 9, 3, 9, 6, 5] [6, 9, 3, 10, 5, 5]\n",
            "torch.Size([1])\n",
            "[6]\n",
            "[6, 10, 3, 3, 9, 4] [6, 10, 3, 3, 10, 4]\n"
          ]
        },
        {
          "output_type": "stream",
          "name": "stderr",
          "text": [
            "\r97it [00:34,  1.83it/s]"
          ]
        },
        {
          "output_type": "stream",
          "name": "stdout",
          "text": [
            "torch.Size([1])\n",
            "[6]\n",
            "[6, 9, 4, 5, 3, 7] [6, 9, 4, 7, 3, 6]\n",
            "torch.Size([1])\n",
            "[6]\n",
            "[6, 9, 4, 2, 5, 9] [6, 9, 3, 3, 6, 10]\n"
          ]
        },
        {
          "output_type": "stream",
          "name": "stderr",
          "text": [
            "\r99it [00:36,  1.82it/s]"
          ]
        },
        {
          "output_type": "stream",
          "name": "stdout",
          "text": [
            "torch.Size([1])\n",
            "[6]\n",
            "[6, 9, 1, 8, 3, 6] [6, 9, 1, 8, 4, 7]\n",
            "torch.Size([1])\n",
            "[6]\n",
            "[6, 9, 10, 2, 7, 5] [6, 9, 10, 3, 7, 4]\n"
          ]
        },
        {
          "output_type": "stream",
          "name": "stderr",
          "text": [
            "\r101it [00:36,  1.99it/s]"
          ]
        },
        {
          "output_type": "stream",
          "name": "stdout",
          "text": [
            "torch.Size([1])\n",
            "[6]\n",
            "[6, 8, 10, 4, 9, 7] [6, 8, 10, 3, 9, 7]\n",
            "torch.Size([1])\n",
            "[6]\n",
            "[6, 9, 10, 9, 8, 7] [6, 9, 10, 9, 8, 6]\n"
          ]
        },
        {
          "output_type": "stream",
          "name": "stderr",
          "text": [
            "\r103it [00:37,  2.09it/s]"
          ]
        },
        {
          "output_type": "stream",
          "name": "stdout",
          "text": [
            "torch.Size([1])\n",
            "[6]\n",
            "[6, 9, 4, 5, 7, 9] [6, 9, 4, 5, 8, 9]\n",
            "torch.Size([1])\n",
            "[6]\n",
            "[6, 10, 3, 3, 7, 6] [6, 10, 3, 3, 8, 8]\n"
          ]
        },
        {
          "output_type": "stream",
          "name": "stderr",
          "text": [
            "\r105it [00:38,  2.19it/s]"
          ]
        },
        {
          "output_type": "stream",
          "name": "stdout",
          "text": [
            "torch.Size([1])\n",
            "[6]\n",
            "[6, 7, 10, 6, 9, 10] [6, 8, 9, 6, 10, 10]\n",
            "torch.Size([1])\n",
            "[6]\n",
            "[3, 10, 1, 6, 9, 4] [6, 10, 1, 4, 10, 3]\n"
          ]
        },
        {
          "output_type": "stream",
          "name": "stderr",
          "text": [
            "\r107it [00:39,  2.28it/s]"
          ]
        },
        {
          "output_type": "stream",
          "name": "stdout",
          "text": [
            "torch.Size([1])\n",
            "[6]\n",
            "[6, 8, 10, 2, 3, 4] [6, 8, 10, 1, 4, 3]\n",
            "torch.Size([1])\n",
            "[6]\n",
            "[6, 9, 8, 3, 4, 7] [6, 9, 8, 3, 4, 6]\n"
          ]
        },
        {
          "output_type": "stream",
          "name": "stderr",
          "text": [
            "\r109it [00:40,  2.27it/s]"
          ]
        },
        {
          "output_type": "stream",
          "name": "stdout",
          "text": [
            "torch.Size([1])\n",
            "[6]\n",
            "[6, 10, 4, 8, 4, 5] [6, 10, 4, 7, 1, 5]\n",
            "torch.Size([1])\n",
            "[6]\n",
            "[7, 1, 2, 3, 6, 5] [7, 1, 2, 3, 7, 5]\n"
          ]
        },
        {
          "output_type": "stream",
          "name": "stderr",
          "text": [
            "112it [00:41,  2.62it/s]"
          ]
        },
        {
          "output_type": "stream",
          "name": "stdout",
          "text": [
            "torch.Size([1])\n",
            "[6]\n",
            "[7, 2, 9, 3, 2, 8] [7, 2, 1, 2, 1, 8]\n",
            "torch.Size([1])\n",
            "[6]\n",
            "[6, 10, 5, 4, 7, 3] [6, 10, 5, 3, 7, 3]\n"
          ]
        },
        {
          "output_type": "stream",
          "name": "stderr",
          "text": [
            "\r113it [00:42,  1.74it/s]"
          ]
        },
        {
          "output_type": "stream",
          "name": "stdout",
          "text": [
            "torch.Size([1])\n",
            "[6]\n",
            "[7, 1, 7, 2, 9, 3] [7, 1, 7, 2, 9, 3]\n",
            "torch.Size([1])\n",
            "[6]\n",
            "[6, 10, 6, 4, 5, 4] [6, 10, 6, 4, 4, 3]\n"
          ]
        },
        {
          "output_type": "stream",
          "name": "stderr",
          "text": [
            "\r115it [00:43,  1.95it/s]"
          ]
        },
        {
          "output_type": "stream",
          "name": "stdout",
          "text": [
            "torch.Size([1])\n",
            "[6]\n",
            "[7, 1, 8, 9, 5, 7] [7, 1, 10, 10, 3, 3]\n"
          ]
        },
        {
          "output_type": "stream",
          "name": "stderr",
          "text": [
            "\r116it [00:43,  2.23it/s]"
          ]
        },
        {
          "output_type": "stream",
          "name": "stdout",
          "text": [
            "torch.Size([1])\n",
            "[6]\n",
            "[7, 5, 8, 7, 7, 1] [7, 2, 2, 7, 8, 1]\n"
          ]
        },
        {
          "output_type": "stream",
          "name": "stderr",
          "text": [
            "\r117it [00:44,  2.10it/s]"
          ]
        },
        {
          "output_type": "stream",
          "name": "stdout",
          "text": [
            "torch.Size([1])\n",
            "[6]\n",
            "[3, 10, 10, 5, 5, 9] [6, 10, 8, 5, 3, 10]\n"
          ]
        },
        {
          "output_type": "stream",
          "name": "stderr",
          "text": [
            "\r118it [00:44,  2.41it/s]"
          ]
        },
        {
          "output_type": "stream",
          "name": "stdout",
          "text": [
            "torch.Size([1])\n",
            "[6]\n",
            "[9, 1, 6, 5, 7, 6] [7, 1, 6, 5, 7, 6]\n"
          ]
        },
        {
          "output_type": "stream",
          "name": "stderr",
          "text": [
            "\r119it [00:45,  1.60it/s]"
          ]
        },
        {
          "output_type": "stream",
          "name": "stdout",
          "text": [
            "torch.Size([1])\n",
            "[6]\n",
            "[2, 7, 9, 3, 4, 7] [1, 7, 7, 2, 5, 10]\n"
          ]
        },
        {
          "output_type": "stream",
          "name": "stderr",
          "text": [
            "\r120it [00:45,  1.80it/s]"
          ]
        },
        {
          "output_type": "stream",
          "name": "stdout",
          "text": [
            "torch.Size([1])\n",
            "[6]\n",
            "[1, 7, 7, 9, 4, 2] [1, 7, 7, 8, 5, 5]\n"
          ]
        },
        {
          "output_type": "stream",
          "name": "stderr",
          "text": [
            "\r121it [00:46,  1.85it/s]"
          ]
        },
        {
          "output_type": "stream",
          "name": "stdout",
          "text": [
            "torch.Size([1])\n",
            "[6]\n",
            "[7, 1, 10, 2, 5, 10] [7, 1, 4, 1, 5, 8]\n"
          ]
        },
        {
          "output_type": "stream",
          "name": "stderr",
          "text": [
            "\r122it [00:46,  2.16it/s]"
          ]
        },
        {
          "output_type": "stream",
          "name": "stdout",
          "text": [
            "torch.Size([1])\n",
            "[6]\n",
            "[7, 1, 10, 4, 4, 7] [7, 1, 9, 5, 4, 7]\n"
          ]
        },
        {
          "output_type": "stream",
          "name": "stderr",
          "text": [
            "\r123it [00:47,  2.08it/s]"
          ]
        },
        {
          "output_type": "stream",
          "name": "stdout",
          "text": [
            "torch.Size([1])\n",
            "[6]\n",
            "[6, 1, 4, 4, 2, 6] [7, 1, 1, 4, 2, 6]\n"
          ]
        },
        {
          "output_type": "stream",
          "name": "stderr",
          "text": [
            "\r124it [00:47,  2.37it/s]"
          ]
        },
        {
          "output_type": "stream",
          "name": "stdout",
          "text": [
            "torch.Size([1])\n",
            "[6]\n",
            "[7, 1, 8, 8, 3, 7] [7, 1, 6, 8, 1, 7]\n"
          ]
        },
        {
          "output_type": "stream",
          "name": "stderr",
          "text": [
            "\r125it [00:48,  1.82it/s]"
          ]
        },
        {
          "output_type": "stream",
          "name": "stdout",
          "text": [
            "torch.Size([1])\n",
            "[6]\n",
            "[6, 10, 9, 5, 2, 5] [6, 10, 9, 5, 2, 3]\n",
            "torch.Size([1])\n",
            "[6]\n",
            "[6, 10, 4, 8, 7, 7] [6, 10, 4, 8, 8, 8]\n"
          ]
        },
        {
          "output_type": "stream",
          "name": "stderr",
          "text": [
            "128it [00:49,  2.61it/s]"
          ]
        },
        {
          "output_type": "stream",
          "name": "stdout",
          "text": [
            "torch.Size([1])\n",
            "[6]\n",
            "[7, 2, 1, 4, 5, 2] [7, 2, 1, 4, 5, 1]\n",
            "torch.Size([1])\n",
            "[6]\n",
            "[3, 10, 10, 6, 6, 9] [6, 10, 10, 6, 8, 10]\n"
          ]
        },
        {
          "output_type": "stream",
          "name": "stderr",
          "text": [
            "\r129it [00:49,  2.20it/s]"
          ]
        },
        {
          "output_type": "stream",
          "name": "stdout",
          "text": [
            "torch.Size([1])\n",
            "[6]\n",
            "[1, 7, 9, 4, 6, 3] [1, 7, 7, 3, 6, 4]\n"
          ]
        },
        {
          "output_type": "stream",
          "name": "stderr",
          "text": [
            "\r130it [00:50,  2.57it/s]"
          ]
        },
        {
          "output_type": "stream",
          "name": "stdout",
          "text": [
            "torch.Size([1])\n",
            "[6]\n",
            "[7, 1, 8, 6, 2, 10] [7, 1, 8, 7, 1, 10]\n"
          ]
        },
        {
          "output_type": "stream",
          "name": "stderr",
          "text": [
            "\r131it [00:50,  2.19it/s]"
          ]
        },
        {
          "output_type": "stream",
          "name": "stdout",
          "text": [
            "torch.Size([1])\n",
            "[6]\n",
            "[7, 10, 4, 9, 7, 6] [6, 10, 4, 9, 7, 8]\n"
          ]
        },
        {
          "output_type": "stream",
          "name": "stderr",
          "text": [
            "\r132it [00:51,  1.81it/s]"
          ]
        },
        {
          "output_type": "stream",
          "name": "stdout",
          "text": [
            "torch.Size([1])\n",
            "[6]\n",
            "[7, 2, 8, 3, 3, 1] [7, 2, 8, 3, 4, 2]\n"
          ]
        },
        {
          "output_type": "stream",
          "name": "stderr",
          "text": [
            "134it [00:52,  2.22it/s]"
          ]
        },
        {
          "output_type": "stream",
          "name": "stdout",
          "text": [
            "torch.Size([1])\n",
            "[6]\n",
            "[7, 3, 2, 9, 4, 7] [7, 3, 2, 9, 4, 6]\n",
            "torch.Size([1])\n",
            "[6]\n",
            "[7, 3, 4, 8, 4, 3] [7, 3, 3, 7, 4, 2]\n"
          ]
        },
        {
          "output_type": "stream",
          "name": "stderr",
          "text": [
            "\r135it [00:53,  1.60it/s]"
          ]
        },
        {
          "output_type": "stream",
          "name": "stdout",
          "text": [
            "torch.Size([1])\n",
            "[6]\n",
            "[7, 3, 2, 9, 9, 7] [7, 3, 2, 9, 9, 9]\n",
            "torch.Size([1])\n",
            "[6]\n",
            "[9, 4, 2, 1, 10, 3] [7, 4, 2, 1, 10, 3]\n"
          ]
        },
        {
          "output_type": "stream",
          "name": "stderr",
          "text": [
            "\r137it [00:54,  1.46it/s]"
          ]
        },
        {
          "output_type": "stream",
          "name": "stdout",
          "text": [
            "torch.Size([1])\n",
            "[6]\n",
            "[7, 2, 9, 6, 10, 10] [7, 2, 8, 6, 10, 10]\n",
            "torch.Size([1])\n",
            "[6]\n",
            "[1, 4, 10, 5, 1, 9] [1, 7, 10, 5, 1, 9]\n"
          ]
        },
        {
          "output_type": "stream",
          "name": "stderr",
          "text": [
            "\r139it [00:55,  1.72it/s]"
          ]
        },
        {
          "output_type": "stream",
          "name": "stdout",
          "text": [
            "torch.Size([1])\n",
            "[6]\n",
            "[7, 3, 10, 4, 2, 7] [7, 3, 10, 4, 1, 5]\n",
            "torch.Size([1])\n",
            "[6]\n",
            "[7, 3, 4, 4, 7, 10] [7, 3, 4, 4, 7, 10]\n"
          ]
        },
        {
          "output_type": "stream",
          "name": "stderr",
          "text": [
            "\r141it [00:56,  1.94it/s]"
          ]
        },
        {
          "output_type": "stream",
          "name": "stdout",
          "text": [
            "torch.Size([1])\n",
            "[6]\n",
            "[1, 6, 9, 3, 3, 7] [1, 7, 9, 5, 3, 6]\n",
            "torch.Size([1])\n",
            "[6]\n",
            "[7, 3, 8, 4, 3, 7] [7, 3, 8, 6, 2, 4]\n"
          ]
        },
        {
          "output_type": "stream",
          "name": "stderr",
          "text": [
            "\r143it [00:57,  1.74it/s]"
          ]
        },
        {
          "output_type": "stream",
          "name": "stdout",
          "text": [
            "torch.Size([1])\n",
            "[6]\n",
            "[7, 3, 7, 6, 3, 8] [7, 2, 7, 8, 9, 8]\n",
            "torch.Size([1])\n",
            "[6]\n",
            "[7, 3, 7, 4, 8, 6] [7, 3, 7, 4, 9, 6]\n"
          ]
        },
        {
          "output_type": "stream",
          "name": "stderr",
          "text": [
            "\r145it [00:58,  1.96it/s]"
          ]
        },
        {
          "output_type": "stream",
          "name": "stdout",
          "text": [
            "torch.Size([1])\n",
            "[6]\n",
            "[7, 3, 4, 8, 5, 9] [7, 3, 3, 8, 4, 10]\n",
            "torch.Size([1])\n",
            "[6]\n",
            "[7, 3, 7, 3, 6, 4] [7, 3, 7, 2, 7, 5]\n"
          ]
        },
        {
          "output_type": "stream",
          "name": "stderr",
          "text": [
            "\r147it [01:00,  1.72it/s]"
          ]
        },
        {
          "output_type": "stream",
          "name": "stdout",
          "text": [
            "torch.Size([1])\n",
            "[6]\n",
            "[7, 3, 4, 8, 4, 6] [7, 3, 4, 8, 4, 7]\n",
            "torch.Size([1])\n",
            "[6]\n",
            "[9, 4, 2, 8, 8, 4] [7, 4, 2, 8, 8, 4]\n"
          ]
        },
        {
          "output_type": "stream",
          "name": "stderr",
          "text": [
            "\r149it [01:00,  1.90it/s]"
          ]
        },
        {
          "output_type": "stream",
          "name": "stdout",
          "text": [
            "torch.Size([1])\n",
            "[6]\n",
            "[1, 8, 10, 3, 3, 5] [1, 7, 10, 1, 3, 4]\n",
            "torch.Size([1])\n",
            "[6]\n",
            "[9, 4, 4, 9, 9, 6] [7, 2, 4, 9, 9, 8]\n"
          ]
        },
        {
          "output_type": "stream",
          "name": "stderr",
          "text": [
            "\r151it [01:01,  2.05it/s]"
          ]
        },
        {
          "output_type": "stream",
          "name": "stdout",
          "text": [
            "torch.Size([1])\n",
            "[6]\n",
            "[7, 3, 8, 1, 3, 2] [7, 3, 8, 1, 4, 9]\n",
            "torch.Size([1])\n",
            "[6]\n",
            "[7, 3, 7, 4, 10, 6] [7, 3, 5, 4, 10, 6]\n"
          ]
        },
        {
          "output_type": "stream",
          "name": "stderr",
          "text": [
            "\r153it [01:02,  1.88it/s]"
          ]
        },
        {
          "output_type": "stream",
          "name": "stdout",
          "text": [
            "torch.Size([1])\n",
            "[6]\n",
            "[6, 2, 9, 7, 8, 4] [7, 2, 9, 7, 7, 3]\n",
            "torch.Size([1])\n",
            "[6]\n",
            "[7, 4, 9, 8, 7, 6] [7, 4, 9, 8, 7, 7]\n"
          ]
        },
        {
          "output_type": "stream",
          "name": "stderr",
          "text": [
            "\r155it [01:04,  1.85it/s]"
          ]
        },
        {
          "output_type": "stream",
          "name": "stdout",
          "text": [
            "torch.Size([1])\n",
            "[6]\n",
            "[7, 4, 5, 4, 10, 7] [7, 4, 5, 3, 10, 9]\n",
            "torch.Size([1])\n",
            "[6]\n",
            "[7, 2, 6, 9, 1, 2] [7, 4, 6, 10, 1, 1]\n"
          ]
        },
        {
          "output_type": "stream",
          "name": "stderr",
          "text": [
            "\r157it [01:04,  2.02it/s]"
          ]
        },
        {
          "output_type": "stream",
          "name": "stdout",
          "text": [
            "torch.Size([1])\n",
            "[6]\n",
            "[6, 5, 3, 6, 2, 6] [7, 5, 2, 6, 2, 7]\n",
            "torch.Size([1])\n",
            "[6]\n",
            "[7, 4, 10, 3, 6, 7] [7, 4, 8, 3, 7, 9]\n"
          ]
        },
        {
          "output_type": "stream",
          "name": "stderr",
          "text": [
            "\r159it [01:05,  2.14it/s]"
          ]
        },
        {
          "output_type": "stream",
          "name": "stdout",
          "text": [
            "torch.Size([1])\n",
            "[6]\n",
            "[7, 4, 6, 3, 7, 4] [7, 4, 6, 2, 7, 4]\n",
            "torch.Size([1])\n",
            "[6]\n",
            "[1, 8, 10, 4, 3, 1] [1, 8, 1, 3, 3, 3]\n"
          ]
        },
        {
          "output_type": "stream",
          "name": "stderr",
          "text": [
            "\r161it [01:07,  1.85it/s]"
          ]
        },
        {
          "output_type": "stream",
          "name": "stdout",
          "text": [
            "torch.Size([1])\n",
            "[6]\n",
            "[7, 4, 8, 5, 7, 4] [7, 4, 8, 7, 8, 2]\n",
            "torch.Size([1])\n",
            "[6]\n",
            "[7, 5, 3, 9, 10, 7] [7, 5, 3, 9, 9, 9]\n"
          ]
        },
        {
          "output_type": "stream",
          "name": "stderr",
          "text": [
            "\r163it [01:07,  2.02it/s]"
          ]
        },
        {
          "output_type": "stream",
          "name": "stdout",
          "text": [
            "torch.Size([1])\n",
            "[6]\n",
            "[7, 4, 10, 8, 3, 7] [7, 4, 10, 8, 3, 5]\n",
            "torch.Size([1])\n",
            "[6]\n",
            "[7, 4, 9, 6, 9, 4] [7, 4, 9, 6, 9, 2]\n"
          ]
        },
        {
          "output_type": "stream",
          "name": "stderr",
          "text": [
            "\r165it [01:08,  2.11it/s]"
          ]
        },
        {
          "output_type": "stream",
          "name": "stdout",
          "text": [
            "torch.Size([1])\n",
            "[6]\n",
            "[7, 5, 2, 4, 1, 6] [7, 5, 2, 5, 1, 5]\n",
            "torch.Size([1])\n",
            "[6]\n",
            "[7, 5, 4, 6, 6, 9] [7, 5, 4, 7, 5, 10]\n"
          ]
        },
        {
          "output_type": "stream",
          "name": "stderr",
          "text": [
            "\r167it [01:10,  1.89it/s]"
          ]
        },
        {
          "output_type": "stream",
          "name": "stdout",
          "text": [
            "torch.Size([1])\n",
            "[6]\n",
            "[7, 5, 6, 10, 4, 7] [7, 5, 6, 10, 4, 7]\n",
            "torch.Size([1])\n",
            "[6]\n",
            "[7, 4, 9, 9, 3, 7] [7, 4, 9, 9, 5, 8]\n"
          ]
        },
        {
          "output_type": "stream",
          "name": "stderr",
          "text": [
            "\r169it [01:11,  1.67it/s]"
          ]
        },
        {
          "output_type": "stream",
          "name": "stdout",
          "text": [
            "torch.Size([1])\n",
            "[6]\n",
            "[7, 4, 5, 10, 3, 7] [7, 4, 5, 10, 3, 7]\n",
            "torch.Size([1])\n",
            "[6]\n",
            "[7, 4, 1, 3, 3, 5] [7, 4, 3, 3, 2, 9]\n"
          ]
        },
        {
          "output_type": "stream",
          "name": "stderr",
          "text": [
            "\r171it [01:12,  1.85it/s]"
          ]
        },
        {
          "output_type": "stream",
          "name": "stdout",
          "text": [
            "torch.Size([1])\n",
            "[6]\n",
            "[7, 1, 6, 3, 9, 4] [7, 5, 6, 2, 10, 3]\n",
            "torch.Size([1])\n",
            "[6]\n",
            "[7, 4, 10, 5, 5, 6] [7, 4, 10, 5, 5, 6]\n"
          ]
        },
        {
          "output_type": "stream",
          "name": "stderr",
          "text": [
            "\r173it [01:13,  1.96it/s]"
          ]
        },
        {
          "output_type": "stream",
          "name": "stdout",
          "text": [
            "torch.Size([1])\n",
            "[6]\n",
            "[1, 8, 5, 5, 3, 7] [1, 8, 2, 2, 4, 5]\n",
            "torch.Size([1])\n",
            "[6]\n",
            "[7, 4, 8, 5, 7, 6] [7, 4, 8, 5, 7, 6]\n"
          ]
        },
        {
          "output_type": "stream",
          "name": "stderr",
          "text": [
            "\r175it [01:14,  1.73it/s]"
          ]
        },
        {
          "output_type": "stream",
          "name": "stdout",
          "text": [
            "torch.Size([1])\n",
            "[6]\n",
            "[7, 6, 6, 3, 7, 4] [7, 6, 6, 3, 7, 5]\n",
            "torch.Size([1])\n",
            "[6]\n",
            "[7, 5, 7, 2, 3, 5] [7, 5, 7, 2, 4, 8]\n"
          ]
        },
        {
          "output_type": "stream",
          "name": "stderr",
          "text": [
            "\r177it [01:15,  1.85it/s]"
          ]
        },
        {
          "output_type": "stream",
          "name": "stdout",
          "text": [
            "torch.Size([1])\n",
            "[6]\n",
            "[7, 5, 10, 1, 8, 6] [7, 5, 10, 1, 9, 6]\n",
            "torch.Size([1])\n",
            "[6]\n",
            "[7, 6, 5, 8, 9, 8] [7, 6, 5, 8, 9, 9]\n"
          ]
        },
        {
          "output_type": "stream",
          "name": "stderr",
          "text": [
            "\r179it [01:17,  1.70it/s]"
          ]
        },
        {
          "output_type": "stream",
          "name": "stdout",
          "text": [
            "torch.Size([1])\n",
            "[6]\n",
            "[7, 1, 10, 7, 7, 2] [7, 5, 10, 7, 8, 1]\n",
            "torch.Size([1])\n",
            "[6]\n",
            "[7, 6, 4, 7, 5, 10] [7, 6, 4, 7, 4, 9]\n"
          ]
        },
        {
          "output_type": "stream",
          "name": "stderr",
          "text": [
            "\r181it [01:17,  1.91it/s]"
          ]
        },
        {
          "output_type": "stream",
          "name": "stdout",
          "text": [
            "torch.Size([1])\n",
            "[6]\n",
            "[7, 6, 10, 7, 4, 5] [7, 6, 10, 7, 4, 4]\n",
            "torch.Size([1])\n",
            "[6]\n",
            "[1, 1, 10, 5, 8, 10] [1, 1, 10, 5, 8, 10]\n"
          ]
        },
        {
          "output_type": "stream",
          "name": "stderr",
          "text": [
            "\r183it [01:18,  1.83it/s]"
          ]
        },
        {
          "output_type": "stream",
          "name": "stdout",
          "text": [
            "torch.Size([1])\n",
            "[6]\n",
            "[7, 6, 9, 4, 3, 10] [7, 6, 9, 4, 4, 10]\n",
            "torch.Size([1])\n",
            "[6]\n",
            "[7, 6, 3, 7, 6, 6] [7, 6, 3, 7, 7, 6]\n"
          ]
        },
        {
          "output_type": "stream",
          "name": "stderr",
          "text": [
            "\r185it [01:19,  1.98it/s]"
          ]
        },
        {
          "output_type": "stream",
          "name": "stdout",
          "text": [
            "torch.Size([1])\n",
            "[6]\n",
            "[7, 5, 7, 7, 10, 10] [7, 5, 7, 8, 10, 10]\n",
            "torch.Size([1])\n",
            "[6]\n",
            "[7, 6, 2, 8, 5, 4] [7, 6, 2, 6, 6, 4]\n"
          ]
        },
        {
          "output_type": "stream",
          "name": "stderr",
          "text": [
            "\r187it [01:21,  1.76it/s]"
          ]
        },
        {
          "output_type": "stream",
          "name": "stdout",
          "text": [
            "torch.Size([1])\n",
            "[6]\n",
            "[1, 8, 5, 2, 4, 10] [1, 8, 4, 1, 5, 10]\n",
            "torch.Size([1])\n",
            "[6]\n",
            "[7, 6, 9, 4, 3, 5] [7, 6, 9, 3, 3, 5]\n"
          ]
        },
        {
          "output_type": "stream",
          "name": "stderr",
          "text": [
            "\r189it [01:22,  1.92it/s]"
          ]
        },
        {
          "output_type": "stream",
          "name": "stdout",
          "text": [
            "torch.Size([1])\n",
            "[6]\n",
            "[7, 6, 10, 9, 8, 5] [7, 6, 10, 9, 9, 9]\n",
            "torch.Size([1])\n",
            "[6]\n",
            "[7, 6, 4, 9, 4, 7] [7, 6, 3, 10, 4, 7]\n"
          ]
        },
        {
          "output_type": "stream",
          "name": "stderr",
          "text": [
            "\r191it [01:22,  2.05it/s]"
          ]
        },
        {
          "output_type": "stream",
          "name": "stdout",
          "text": [
            "torch.Size([1])\n",
            "[6]\n",
            "[1, 8, 5, 8, 10, 1] [1, 8, 3, 7, 8, 1]\n",
            "torch.Size([1])\n",
            "[6]\n",
            "[7, 6, 5, 9, 6, 1] [7, 6, 1, 9, 7, 2]\n"
          ]
        },
        {
          "output_type": "stream",
          "name": "stderr",
          "text": [
            "\r193it [01:23,  2.28it/s]"
          ]
        },
        {
          "output_type": "stream",
          "name": "stdout",
          "text": [
            "torch.Size([1])\n",
            "[6]\n",
            "[7, 5, 8, 8, 3, 3] [7, 5, 8, 8, 3, 1]\n",
            "torch.Size([1])\n",
            "[6]\n",
            "[7, 6, 9, 6, 7, 6] [7, 6, 9, 6, 7, 7]\n"
          ]
        },
        {
          "output_type": "stream",
          "name": "stderr",
          "text": [
            "\r195it [01:24,  1.92it/s]"
          ]
        },
        {
          "output_type": "stream",
          "name": "stdout",
          "text": [
            "torch.Size([1])\n",
            "[6]\n",
            "[7, 7, 4, 6, 2, 6] [7, 7, 3, 7, 1, 5]\n",
            "torch.Size([1])\n",
            "[6]\n",
            "[7, 6, 5, 3, 8, 1] [7, 6, 5, 2, 9, 1]\n"
          ]
        },
        {
          "output_type": "stream",
          "name": "stderr",
          "text": [
            "\r197it [01:25,  2.02it/s]"
          ]
        },
        {
          "output_type": "stream",
          "name": "stdout",
          "text": [
            "torch.Size([1])\n",
            "[6]\n",
            "[7, 6, 5, 3, 4, 1] [7, 6, 5, 2, 3, 1]\n",
            "torch.Size([1])\n",
            "[6]\n",
            "[7, 8, 1, 3, 4, 3] [7, 8, 1, 2, 4, 1]\n"
          ]
        },
        {
          "output_type": "stream",
          "name": "stderr",
          "text": [
            "\r199it [01:26,  2.14it/s]"
          ]
        },
        {
          "output_type": "stream",
          "name": "stdout",
          "text": [
            "torch.Size([1])\n",
            "[6]\n",
            "[7, 7, 10, 9, 10, 7] [7, 7, 10, 9, 10, 6]\n",
            "torch.Size([1])\n",
            "[6]\n",
            "[7, 2, 10, 4, 2, 7] [7, 8, 5, 3, 1, 7]\n"
          ]
        },
        {
          "output_type": "stream",
          "name": "stderr",
          "text": [
            "\r201it [01:27,  2.21it/s]"
          ]
        },
        {
          "output_type": "stream",
          "name": "stdout",
          "text": [
            "torch.Size([1])\n",
            "[6]\n",
            "[9, 9, 1, 3, 10, 5] [7, 9, 1, 3, 10, 5]\n",
            "torch.Size([1])\n",
            "[6]\n",
            "[7, 7, 8, 3, 8, 6] [7, 7, 8, 3, 8, 6]\n"
          ]
        },
        {
          "output_type": "stream",
          "name": "stderr",
          "text": [
            "204it [01:28,  2.57it/s]"
          ]
        },
        {
          "output_type": "stream",
          "name": "stdout",
          "text": [
            "torch.Size([1])\n",
            "[6]\n",
            "[7, 8, 8, 10, 4, 4] [7, 8, 8, 10, 3, 6]\n",
            "torch.Size([1])\n",
            "[6]\n",
            "[7, 7, 8, 2, 9, 1] [7, 7, 8, 1, 10, 2]\n"
          ]
        },
        {
          "output_type": "stream",
          "name": "stderr",
          "text": [
            "\r205it [01:29,  2.16it/s]"
          ]
        },
        {
          "output_type": "stream",
          "name": "stdout",
          "text": [
            "torch.Size([1])\n",
            "[6]\n",
            "[7, 7, 4, 3, 9, 8] [7, 7, 4, 2, 9, 8]\n",
            "torch.Size([1])\n",
            "[6]\n",
            "[7, 9, 6, 3, 8, 3] [7, 7, 6, 3, 8, 3]\n"
          ]
        },
        {
          "output_type": "stream",
          "name": "stderr",
          "text": [
            "\r207it [01:29,  2.27it/s]"
          ]
        },
        {
          "output_type": "stream",
          "name": "stdout",
          "text": [
            "torch.Size([1])\n",
            "[6]\n",
            "[7, 8, 4, 9, 8, 5] [7, 8, 4, 8, 9, 6]\n"
          ]
        },
        {
          "output_type": "stream",
          "name": "stderr",
          "text": [
            "209it [01:30,  2.46it/s]"
          ]
        },
        {
          "output_type": "stream",
          "name": "stdout",
          "text": [
            "torch.Size([1])\n",
            "[6]\n",
            "[7, 8, 9, 2, 2, 7] [7, 8, 7, 2, 3, 6]\n",
            "torch.Size([1])\n",
            "[6]\n",
            "[7, 8, 8, 4, 3, 4] [7, 8, 8, 3, 4, 4]\n"
          ]
        },
        {
          "output_type": "stream",
          "name": "stderr",
          "text": [
            "\r210it [01:31,  2.13it/s]"
          ]
        },
        {
          "output_type": "stream",
          "name": "stdout",
          "text": [
            "torch.Size([1])\n",
            "[6]\n",
            "[7, 8, 1, 4, 7, 4] [7, 8, 1, 3, 8, 5]\n",
            "torch.Size([1])\n",
            "[6]\n",
            "[7, 7, 5, 8, 1, 4] [7, 7, 5, 9, 1, 3]\n"
          ]
        },
        {
          "output_type": "stream",
          "name": "stderr",
          "text": [
            "\r212it [01:32,  2.30it/s]"
          ]
        },
        {
          "output_type": "stream",
          "name": "stdout",
          "text": [
            "torch.Size([1])\n",
            "[6]\n",
            "[7, 7, 7, 1, 4, 10] [7, 7, 7, 1, 4, 10]\n"
          ]
        },
        {
          "output_type": "stream",
          "name": "stderr",
          "text": [
            "214it [01:33,  2.42it/s]"
          ]
        },
        {
          "output_type": "stream",
          "name": "stdout",
          "text": [
            "torch.Size([1])\n",
            "[6]\n",
            "[7, 7, 10, 9, 3, 7] [7, 7, 8, 9, 4, 7]\n",
            "torch.Size([1])\n",
            "[6]\n",
            "[7, 8, 8, 8, 5, 8] [7, 8, 8, 8, 6, 7]\n"
          ]
        },
        {
          "output_type": "stream",
          "name": "stderr",
          "text": [
            "\r215it [01:33,  2.16it/s]"
          ]
        },
        {
          "output_type": "stream",
          "name": "stdout",
          "text": [
            "torch.Size([1])\n",
            "[6]\n",
            "[7, 8, 7, 1, 6, 8] [7, 7, 7, 1, 7, 10]\n"
          ]
        },
        {
          "output_type": "stream",
          "name": "stderr",
          "text": [
            "\r216it [01:34,  1.84it/s]"
          ]
        },
        {
          "output_type": "stream",
          "name": "stdout",
          "text": [
            "torch.Size([1])\n",
            "[6]\n",
            "[7, 8, 6, 5, 5, 5] [7, 8, 6, 5, 6, 4]\n",
            "torch.Size([1])\n",
            "[6]\n",
            "[7, 6, 9, 8, 6, 8] [7, 7, 9, 8, 6, 8]\n"
          ]
        },
        {
          "output_type": "stream",
          "name": "stderr",
          "text": [
            "\r218it [01:35,  2.05it/s]"
          ]
        },
        {
          "output_type": "stream",
          "name": "stdout",
          "text": [
            "torch.Size([1])\n",
            "[6]\n",
            "[1, 8, 6, 8, 1, 5] [1, 8, 4, 8, 1, 6]\n"
          ]
        },
        {
          "output_type": "stream",
          "name": "stderr",
          "text": [
            "\r219it [01:35,  2.18it/s]"
          ]
        },
        {
          "output_type": "stream",
          "name": "stdout",
          "text": [
            "torch.Size([1])\n",
            "[6]\n",
            "[7, 8, 6, 5, 6, 7] [7, 8, 6, 4, 7, 8]\n"
          ]
        },
        {
          "output_type": "stream",
          "name": "stderr",
          "text": [
            "\r220it [01:36,  1.92it/s]"
          ]
        },
        {
          "output_type": "stream",
          "name": "stdout",
          "text": [
            "torch.Size([1])\n",
            "[6]\n",
            "[7, 9, 4, 4, 7, 9] [7, 9, 2, 4, 10, 9]\n",
            "torch.Size([1])\n",
            "[6]\n",
            "[7, 8, 2, 10, 7, 7] [7, 8, 2, 10, 7, 8]\n"
          ]
        },
        {
          "output_type": "stream",
          "name": "stderr",
          "text": [
            "\r222it [01:37,  2.10it/s]"
          ]
        },
        {
          "output_type": "stream",
          "name": "stdout",
          "text": [
            "torch.Size([1])\n",
            "[6]\n",
            "[9, 1, 5, 1, 1, 7] [8, 1, 2, 1, 1, 6]\n"
          ]
        },
        {
          "output_type": "stream",
          "name": "stderr",
          "text": [
            "\r223it [01:37,  1.95it/s]"
          ]
        },
        {
          "output_type": "stream",
          "name": "stdout",
          "text": [
            "torch.Size([1])\n",
            "[6]\n",
            "[7, 9, 8, 8, 1, 4] [7, 9, 8, 8, 2, 3]\n"
          ]
        },
        {
          "output_type": "stream",
          "name": "stderr",
          "text": [
            "\r224it [01:38,  1.70it/s]"
          ]
        },
        {
          "output_type": "stream",
          "name": "stdout",
          "text": [
            "torch.Size([1])\n",
            "[6]\n",
            "[6, 9, 7, 6, 2, 10] [7, 9, 7, 7, 3, 10]\n",
            "torch.Size([1])\n",
            "[6]\n",
            "[8, 1, 4, 2, 9, 9] [8, 1, 4, 1, 10, 8]\n"
          ]
        },
        {
          "output_type": "stream",
          "name": "stderr",
          "text": [
            "\r226it [01:39,  1.99it/s]"
          ]
        },
        {
          "output_type": "stream",
          "name": "stdout",
          "text": [
            "torch.Size([1])\n",
            "[6]\n",
            "[9, 9, 2, 8, 9, 7] [7, 9, 2, 9, 10, 6]\n",
            "torch.Size([1])\n",
            "[6]\n",
            "[7, 10, 7, 3, 7, 2] [7, 10, 7, 1, 7, 2]\n"
          ]
        },
        {
          "output_type": "stream",
          "name": "stderr",
          "text": [
            "\r228it [01:40,  2.16it/s]"
          ]
        },
        {
          "output_type": "stream",
          "name": "stdout",
          "text": [
            "torch.Size([1])\n",
            "[6]\n",
            "[7, 7, 8, 9, 6, 5] [7, 9, 8, 10, 7, 3]\n"
          ]
        },
        {
          "output_type": "stream",
          "name": "stderr",
          "text": [
            "\r229it [01:40,  2.45it/s]"
          ]
        },
        {
          "output_type": "stream",
          "name": "stdout",
          "text": [
            "torch.Size([1])\n",
            "[6]\n",
            "[7, 9, 4, 8, 8, 3] [7, 9, 3, 6, 9, 2]\n"
          ]
        },
        {
          "output_type": "stream",
          "name": "stderr",
          "text": [
            "\r230it [01:41,  1.93it/s]"
          ]
        },
        {
          "output_type": "stream",
          "name": "stdout",
          "text": [
            "torch.Size([1])\n",
            "[6]\n",
            "[7, 10, 3, 2, 9, 9] [7, 10, 3, 1, 9, 10]\n",
            "torch.Size([1])\n",
            "[6]\n",
            "[7, 10, 7, 7, 9, 4] [7, 10, 7, 7, 9, 3]\n"
          ]
        },
        {
          "output_type": "stream",
          "name": "stderr",
          "text": [
            "\r232it [01:42,  2.07it/s]"
          ]
        },
        {
          "output_type": "stream",
          "name": "stdout",
          "text": [
            "torch.Size([1])\n",
            "[6]\n",
            "[7, 1, 4, 9, 2, 6] [8, 1, 4, 10, 2, 6]\n",
            "torch.Size([1])\n",
            "[6]\n",
            "[6, 9, 5, 2, 1, 6] [7, 9, 5, 1, 1, 4]\n"
          ]
        },
        {
          "output_type": "stream",
          "name": "stderr",
          "text": [
            "\r234it [01:42,  2.23it/s]"
          ]
        },
        {
          "output_type": "stream",
          "name": "stdout",
          "text": [
            "torch.Size([1])\n",
            "[6]\n",
            "[1, 8, 9, 1, 1, 5] [1, 8, 8, 1, 1, 4]\n",
            "torch.Size([1])\n",
            "[6]\n",
            "[8, 1, 7, 1, 3, 7] [8, 1, 5, 1, 3, 7]\n"
          ]
        },
        {
          "output_type": "stream",
          "name": "stderr",
          "text": [
            "\r236it [01:43,  2.26it/s]"
          ]
        },
        {
          "output_type": "stream",
          "name": "stdout",
          "text": [
            "torch.Size([1])\n",
            "[6]\n",
            "[7, 9, 4, 5, 8, 6] [7, 9, 3, 5, 9, 5]\n"
          ]
        },
        {
          "output_type": "stream",
          "name": "stderr",
          "text": [
            "\r237it [01:44,  2.11it/s]"
          ]
        },
        {
          "output_type": "stream",
          "name": "stdout",
          "text": [
            "torch.Size([1])\n",
            "[6]\n",
            "[10, 1, 4, 5, 9, 4] [8, 1, 4, 6, 9, 2]\n"
          ]
        },
        {
          "output_type": "stream",
          "name": "stderr",
          "text": [
            "\r238it [01:44,  2.37it/s]"
          ]
        },
        {
          "output_type": "stream",
          "name": "stdout",
          "text": [
            "torch.Size([1])\n",
            "[6]\n",
            "[1, 8, 7, 9, 7, 1] [1, 8, 7, 9, 8, 1]\n"
          ]
        },
        {
          "output_type": "stream",
          "name": "stderr",
          "text": [
            "\r239it [01:44,  2.38it/s]"
          ]
        },
        {
          "output_type": "stream",
          "name": "stdout",
          "text": [
            "torch.Size([1])\n",
            "[6]\n",
            "[7, 10, 1, 8, 5, 4] [7, 10, 1, 8, 5, 5]\n"
          ]
        },
        {
          "output_type": "stream",
          "name": "stderr",
          "text": [
            "\r240it [01:45,  2.55it/s]"
          ]
        },
        {
          "output_type": "stream",
          "name": "stdout",
          "text": [
            "torch.Size([1])\n",
            "[6]\n",
            "[7, 7, 7, 9, 7, 2] [7, 9, 10, 10, 7, 10]\n"
          ]
        },
        {
          "output_type": "stream",
          "name": "stderr",
          "text": [
            "\r241it [01:46,  2.03it/s]"
          ]
        },
        {
          "output_type": "stream",
          "name": "stdout",
          "text": [
            "torch.Size([1])\n",
            "[6]\n",
            "[7, 9, 6, 1, 8, 6] [7, 9, 6, 1, 9, 7]\n"
          ]
        },
        {
          "output_type": "stream",
          "name": "stderr",
          "text": [
            "\r242it [01:46,  2.24it/s]"
          ]
        },
        {
          "output_type": "stream",
          "name": "stdout",
          "text": [
            "torch.Size([1])\n",
            "[6]\n",
            "[8, 3, 6, 9, 9, 4] [8, 3, 4, 9, 8, 4]\n"
          ]
        },
        {
          "output_type": "stream",
          "name": "stderr",
          "text": [
            "\r243it [01:47,  1.57it/s]"
          ]
        },
        {
          "output_type": "stream",
          "name": "stdout",
          "text": [
            "torch.Size([1])\n",
            "[6]\n",
            "[8, 2, 9, 9, 5, 5] [8, 2, 9, 9, 8, 9]\n",
            "torch.Size([1])\n",
            "[6]\n",
            "[8, 2, 3, 4, 10, 4] [8, 2, 3, 4, 9, 2]\n"
          ]
        },
        {
          "output_type": "stream",
          "name": "stderr",
          "text": [
            "\r245it [01:48,  1.91it/s]"
          ]
        },
        {
          "output_type": "stream",
          "name": "stdout",
          "text": [
            "torch.Size([1])\n",
            "[6]\n",
            "[9, 2, 3, 2, 5, 4] [8, 2, 2, 2, 6, 3]\n",
            "torch.Size([1])\n",
            "[6]\n",
            "[8, 1, 10, 4, 2, 4] [8, 1, 8, 5, 3, 5]\n"
          ]
        },
        {
          "output_type": "stream",
          "name": "stderr",
          "text": [
            "\r247it [01:48,  2.28it/s]"
          ]
        },
        {
          "output_type": "stream",
          "name": "stdout",
          "text": [
            "torch.Size([1])\n",
            "[6]\n",
            "[8, 1, 6, 9, 7, 5] [8, 1, 10, 10, 8, 5]\n"
          ]
        },
        {
          "output_type": "stream",
          "name": "stderr",
          "text": [
            "\r248it [01:49,  2.54it/s]"
          ]
        },
        {
          "output_type": "stream",
          "name": "stdout",
          "text": [
            "torch.Size([1])\n",
            "[6]\n",
            "[8, 2, 3, 9, 8, 5] [8, 2, 3, 9, 7, 4]\n"
          ]
        },
        {
          "output_type": "stream",
          "name": "stderr",
          "text": [
            "\r249it [01:49,  2.34it/s]"
          ]
        },
        {
          "output_type": "stream",
          "name": "stdout",
          "text": [
            "torch.Size([1])\n",
            "[6]\n",
            "[8, 2, 3, 5, 8, 6] [8, 2, 3, 6, 8, 7]\n"
          ]
        },
        {
          "output_type": "stream",
          "name": "stderr",
          "text": [
            "\r250it [01:49,  2.64it/s]"
          ]
        },
        {
          "output_type": "stream",
          "name": "stdout",
          "text": [
            "torch.Size([1])\n",
            "[6]\n",
            "[8, 2, 10, 4, 5, 7] [8, 1, 10, 5, 5, 6]\n"
          ]
        },
        {
          "output_type": "stream",
          "name": "stderr",
          "text": [
            "\r251it [01:50,  1.93it/s]"
          ]
        },
        {
          "output_type": "stream",
          "name": "stdout",
          "text": [
            "torch.Size([1])\n",
            "[6]\n",
            "[8, 3, 4, 2, 9, 5] [8, 3, 4, 1, 9, 5]\n",
            "torch.Size([1])\n",
            "[6]\n",
            "[8, 2, 1, 4, 3, 9] [8, 2, 2, 6, 2, 7]\n"
          ]
        },
        {
          "output_type": "stream",
          "name": "stderr",
          "text": [
            "\r253it [01:51,  2.07it/s]"
          ]
        },
        {
          "output_type": "stream",
          "name": "stdout",
          "text": [
            "torch.Size([1])\n",
            "[6]\n",
            "[9, 2, 3, 5, 6, 9] [8, 2, 3, 3, 7, 8]\n",
            "torch.Size([1])\n",
            "[6]\n",
            "[9, 3, 10, 3, 6, 7] [8, 3, 1, 2, 6, 8]\n"
          ]
        },
        {
          "output_type": "stream",
          "name": "stderr",
          "text": [
            "\r255it [01:53,  1.74it/s]"
          ]
        },
        {
          "output_type": "stream",
          "name": "stdout",
          "text": [
            "torch.Size([1])\n",
            "[6]\n",
            "[8, 2, 7, 9, 3, 7] [8, 2, 9, 10, 2, 6]\n",
            "torch.Size([1])\n",
            "[6]\n",
            "[1, 8, 9, 3, 3, 3] [1, 8, 10, 3, 2, 2]\n"
          ]
        },
        {
          "output_type": "stream",
          "name": "stderr",
          "text": [
            "\r257it [01:54,  1.61it/s]"
          ]
        },
        {
          "output_type": "stream",
          "name": "stdout",
          "text": [
            "torch.Size([1])\n",
            "[6]\n",
            "[8, 6, 5, 5, 6, 4] [8, 3, 2, 2, 7, 5]\n",
            "torch.Size([1])\n",
            "[6]\n",
            "[8, 2, 7, 5, 7, 5] [8, 2, 7, 5, 8, 5]\n"
          ]
        },
        {
          "output_type": "stream",
          "name": "stderr",
          "text": [
            "\r259it [01:55,  1.65it/s]"
          ]
        },
        {
          "output_type": "stream",
          "name": "stdout",
          "text": [
            "torch.Size([1])\n",
            "[6]\n",
            "[9, 4, 1, 8, 6, 5] [8, 3, 1, 8, 6, 7]\n",
            "torch.Size([1])\n",
            "[6]\n",
            "[1, 10, 3, 8, 3, 6] [8, 3, 1, 4, 2, 7]\n"
          ]
        },
        {
          "output_type": "stream",
          "name": "stderr",
          "text": [
            "\r261it [01:56,  1.78it/s]"
          ]
        },
        {
          "output_type": "stream",
          "name": "stdout",
          "text": [
            "torch.Size([1])\n",
            "[6]\n",
            "[1, 9, 2, 5, 5, 4] [1, 9, 1, 5, 5, 6]\n",
            "torch.Size([1])\n",
            "[6]\n",
            "[8, 4, 1, 3, 5, 4] [8, 4, 1, 1, 5, 5]\n"
          ]
        },
        {
          "output_type": "stream",
          "name": "stderr",
          "text": [
            "\r263it [01:57,  1.95it/s]"
          ]
        },
        {
          "output_type": "stream",
          "name": "stdout",
          "text": [
            "torch.Size([1])\n",
            "[6]\n",
            "[8, 4, 1, 6, 5, 4] [8, 5, 1, 6, 5, 4]\n",
            "torch.Size([1])\n",
            "[6]\n",
            "[10, 3, 8, 9, 9, 9] [8, 4, 8, 10, 8, 8]\n"
          ]
        },
        {
          "output_type": "stream",
          "name": "stderr",
          "text": [
            "\r265it [01:58,  1.86it/s]"
          ]
        },
        {
          "output_type": "stream",
          "name": "stdout",
          "text": [
            "torch.Size([1])\n",
            "[6]\n",
            "[8, 1, 10, 4, 5, 5] [8, 4, 10, 4, 5, 4]\n",
            "torch.Size([1])\n",
            "[6]\n",
            "[8, 4, 6, 3, 5, 3] [8, 4, 6, 2, 4, 2]\n"
          ]
        },
        {
          "output_type": "stream",
          "name": "stderr",
          "text": [
            "\r267it [01:59,  2.02it/s]"
          ]
        },
        {
          "output_type": "stream",
          "name": "stdout",
          "text": [
            "torch.Size([1])\n",
            "[6]\n",
            "[9, 4, 8, 2, 3, 6] [8, 4, 8, 2, 4, 6]\n",
            "torch.Size([1])\n",
            "[6]\n",
            "[8, 6, 3, 4, 5, 3] [8, 4, 3, 3, 4, 3]\n"
          ]
        },
        {
          "output_type": "stream",
          "name": "stderr",
          "text": [
            "\r269it [02:00,  2.14it/s]"
          ]
        },
        {
          "output_type": "stream",
          "name": "stdout",
          "text": [
            "torch.Size([1])\n",
            "[6]\n",
            "[8, 5, 3, 3, 7, 6] [8, 5, 3, 2, 7, 6]\n",
            "torch.Size([1])\n",
            "[6]\n",
            "[9, 4, 7, 8, 10, 10] [8, 4, 8, 8, 9, 10]\n"
          ]
        },
        {
          "output_type": "stream",
          "name": "stderr",
          "text": [
            "\r271it [02:01,  2.22it/s]"
          ]
        },
        {
          "output_type": "stream",
          "name": "stdout",
          "text": [
            "torch.Size([1])\n",
            "[6]\n",
            "[8, 4, 10, 3, 1, 4] [8, 4, 10, 4, 1, 5]\n",
            "torch.Size([1])\n",
            "[6]\n",
            "[8, 7, 4, 5, 9, 4] [8, 5, 3, 5, 9, 7]\n"
          ]
        },
        {
          "output_type": "stream",
          "name": "stderr",
          "text": [
            "\r273it [02:02,  1.87it/s]"
          ]
        },
        {
          "output_type": "stream",
          "name": "stdout",
          "text": [
            "torch.Size([1])\n",
            "[6]\n",
            "[8, 4, 5, 3, 3, 1] [8, 4, 4, 1, 3, 1]\n",
            "torch.Size([1])\n",
            "[6]\n",
            "[8, 6, 6, 3, 10, 7] [8, 4, 4, 1, 10, 7]\n"
          ]
        },
        {
          "output_type": "stream",
          "name": "stderr",
          "text": [
            "\r275it [02:03,  2.05it/s]"
          ]
        },
        {
          "output_type": "stream",
          "name": "stdout",
          "text": [
            "torch.Size([1])\n",
            "[6]\n",
            "[8, 4, 5, 10, 9, 4] [8, 4, 5, 10, 10, 4]\n",
            "torch.Size([1])\n",
            "[6]\n",
            "[8, 5, 3, 5, 10, 1] [8, 5, 1, 1, 10, 3]\n"
          ]
        },
        {
          "output_type": "stream",
          "name": "stderr",
          "text": [
            "\r277it [02:04,  2.17it/s]"
          ]
        },
        {
          "output_type": "stream",
          "name": "stdout",
          "text": [
            "torch.Size([1])\n",
            "[6]\n",
            "[8, 4, 4, 9, 8, 6] [8, 4, 4, 7, 7, 5]\n",
            "torch.Size([1])\n",
            "[6]\n",
            "[8, 3, 7, 5, 5, 2] [8, 3, 5, 5, 6, 2]\n"
          ]
        },
        {
          "output_type": "stream",
          "name": "stderr",
          "text": [
            "280it [02:05,  2.55it/s]"
          ]
        },
        {
          "output_type": "stream",
          "name": "stdout",
          "text": [
            "torch.Size([1])\n",
            "[6]\n",
            "[8, 4, 5, 8, 4, 4] [8, 4, 5, 8, 3, 3]\n",
            "torch.Size([1])\n",
            "[6]\n",
            "[8, 5, 4, 4, 9, 4] [8, 5, 4, 4, 8, 6]\n"
          ]
        },
        {
          "output_type": "stream",
          "name": "stderr",
          "text": [
            "282it [02:05,  2.61it/s]"
          ]
        },
        {
          "output_type": "stream",
          "name": "stdout",
          "text": [
            "torch.Size([1])\n",
            "[6]\n",
            "[8, 7, 7, 9, 8, 6] [8, 7, 4, 9, 9, 10]\n",
            "torch.Size([1])\n",
            "[6]\n",
            "[8, 7, 7, 3, 5, 9] [8, 7, 7, 4, 6, 6]\n"
          ]
        },
        {
          "output_type": "stream",
          "name": "stderr",
          "text": [
            "\r283it [02:06,  2.24it/s]"
          ]
        },
        {
          "output_type": "stream",
          "name": "stdout",
          "text": [
            "torch.Size([1])\n",
            "[6]\n",
            "[8, 7, 1, 6, 3, 10] [8, 7, 1, 6, 2, 9]\n"
          ]
        },
        {
          "output_type": "stream",
          "name": "stderr",
          "text": [
            "\r284it [02:07,  1.79it/s]"
          ]
        },
        {
          "output_type": "stream",
          "name": "stdout",
          "text": [
            "torch.Size([1])\n",
            "[6]\n",
            "[1, 9, 2, 8, 7, 9] [1, 9, 2, 9, 8, 10]\n",
            "torch.Size([1])\n",
            "[6]\n",
            "[8, 6, 1, 4, 8, 5] [8, 6, 1, 2, 7, 2]\n"
          ]
        },
        {
          "output_type": "stream",
          "name": "stderr",
          "text": [
            "\r286it [02:08,  2.04it/s]"
          ]
        },
        {
          "output_type": "stream",
          "name": "stdout",
          "text": [
            "torch.Size([1])\n",
            "[6]\n",
            "[8, 6, 7, 4, 2, 7] [8, 6, 1, 4, 4, 7]\n"
          ]
        },
        {
          "output_type": "stream",
          "name": "stderr",
          "text": [
            "\r287it [02:08,  1.92it/s]"
          ]
        },
        {
          "output_type": "stream",
          "name": "stdout",
          "text": [
            "torch.Size([1])\n",
            "[6]\n",
            "[7, 6, 4, 7, 2, 6] [8, 6, 4, 10, 1, 5]\n"
          ]
        },
        {
          "output_type": "stream",
          "name": "stderr",
          "text": [
            "289it [02:09,  2.24it/s]"
          ]
        },
        {
          "output_type": "stream",
          "name": "stdout",
          "text": [
            "torch.Size([1])\n",
            "[6]\n",
            "[8, 1, 6, 4, 2, 3] [8, 7, 6, 4, 1, 1]\n",
            "torch.Size([1])\n",
            "[6]\n",
            "[8, 6, 5, 7, 6, 4] [8, 6, 4, 7, 6, 3]\n"
          ]
        },
        {
          "output_type": "stream",
          "name": "stderr",
          "text": [
            "\r290it [02:10,  2.05it/s]"
          ]
        },
        {
          "output_type": "stream",
          "name": "stdout",
          "text": [
            "torch.Size([1])\n",
            "[6]\n",
            "[8, 5, 6, 3, 1, 6] [8, 5, 6, 2, 3, 5]\n"
          ]
        },
        {
          "output_type": "stream",
          "name": "stderr",
          "text": [
            "\r291it [02:10,  2.42it/s]"
          ]
        },
        {
          "output_type": "stream",
          "name": "stdout",
          "text": [
            "torch.Size([1])\n",
            "[6]\n",
            "[8, 6, 5, 7, 7, 7] [8, 6, 4, 6, 8, 7]\n"
          ]
        },
        {
          "output_type": "stream",
          "name": "stderr",
          "text": [
            "\r292it [02:10,  2.13it/s]"
          ]
        },
        {
          "output_type": "stream",
          "name": "stdout",
          "text": [
            "torch.Size([1])\n",
            "[6]\n",
            "[8, 7, 6, 7, 7, 4] [8, 7, 6, 7, 7, 4]\n"
          ]
        },
        {
          "output_type": "stream",
          "name": "stderr",
          "text": [
            "\r293it [02:11,  2.17it/s]"
          ]
        },
        {
          "output_type": "stream",
          "name": "stdout",
          "text": [
            "torch.Size([1])\n",
            "[6]\n",
            "[8, 6, 3, 5, 2, 1] [8, 6, 3, 5, 1, 1]\n"
          ]
        },
        {
          "output_type": "stream",
          "name": "stderr",
          "text": [
            "\r294it [02:11,  2.29it/s]"
          ]
        },
        {
          "output_type": "stream",
          "name": "stdout",
          "text": [
            "torch.Size([1])\n",
            "[6]\n",
            "[8, 6, 9, 8, 6, 4] [8, 6, 9, 8, 5, 10]\n"
          ]
        },
        {
          "output_type": "stream",
          "name": "stderr",
          "text": [
            "\r295it [02:12,  1.93it/s]"
          ]
        },
        {
          "output_type": "stream",
          "name": "stdout",
          "text": [
            "torch.Size([1])\n",
            "[6]\n",
            "[8, 5, 6, 9, 1, 6] [8, 5, 6, 10, 1, 6]\n"
          ]
        },
        {
          "output_type": "stream",
          "name": "stderr",
          "text": [
            "\r296it [02:13,  1.74it/s]"
          ]
        },
        {
          "output_type": "stream",
          "name": "stdout",
          "text": [
            "torch.Size([1])\n",
            "[6]\n",
            "[8, 6, 1, 3, 6, 5] [8, 6, 1, 3, 6, 5]\n",
            "torch.Size([1])\n",
            "[6]\n",
            "[1, 9, 2, 4, 5, 1] [1, 9, 4, 10, 9, 2]\n"
          ]
        },
        {
          "output_type": "stream",
          "name": "stderr",
          "text": [
            "\r298it [02:13,  2.07it/s]"
          ]
        },
        {
          "output_type": "stream",
          "name": "stdout",
          "text": [
            "torch.Size([1])\n",
            "[6]\n",
            "[1, 9, 10, 3, 6, 5] [1, 9, 2, 9, 7, 5]\n"
          ]
        },
        {
          "output_type": "stream",
          "name": "stderr",
          "text": [
            "\r299it [02:14,  1.86it/s]"
          ]
        },
        {
          "output_type": "stream",
          "name": "stdout",
          "text": [
            "torch.Size([1])\n",
            "[6]\n",
            "[8, 6, 7, 9, 5, 4] [8, 6, 7, 9, 5, 3]\n"
          ]
        },
        {
          "output_type": "stream",
          "name": "stderr",
          "text": [
            "\r300it [02:15,  1.67it/s]"
          ]
        },
        {
          "output_type": "stream",
          "name": "stdout",
          "text": [
            "torch.Size([1])\n",
            "[6]\n",
            "[8, 7, 9, 4, 2, 10] [8, 5, 9, 5, 1, 10]\n"
          ]
        },
        {
          "output_type": "stream",
          "name": "stderr",
          "text": [
            "302it [02:16,  2.05it/s]"
          ]
        },
        {
          "output_type": "stream",
          "name": "stdout",
          "text": [
            "torch.Size([1])\n",
            "[6]\n",
            "[8, 9, 3, 9, 10, 9] [8, 9, 3, 8, 10, 9]\n",
            "torch.Size([1])\n",
            "[6]\n",
            "[8, 8, 6, 3, 4, 7] [8, 8, 4, 3, 4, 6]\n"
          ]
        },
        {
          "output_type": "stream",
          "name": "stderr",
          "text": [
            "\r303it [02:17,  1.67it/s]"
          ]
        },
        {
          "output_type": "stream",
          "name": "stdout",
          "text": [
            "torch.Size([1])\n",
            "[6]\n",
            "[9, 8, 6, 7, 3, 6] [8, 8, 4, 8, 3, 6]\n"
          ]
        },
        {
          "output_type": "stream",
          "name": "stderr",
          "text": [
            "\r304it [02:17,  1.94it/s]"
          ]
        },
        {
          "output_type": "stream",
          "name": "stdout",
          "text": [
            "torch.Size([1])\n",
            "[6]\n",
            "[8, 8, 10, 9, 3, 7] [8, 8, 10, 10, 9, 7]\n"
          ]
        },
        {
          "output_type": "stream",
          "name": "stderr",
          "text": [
            "\r305it [02:18,  1.43it/s]"
          ]
        },
        {
          "output_type": "stream",
          "name": "stdout",
          "text": [
            "torch.Size([1])\n",
            "[6]\n",
            "[9, 7, 3, 2, 3, 4] [8, 9, 2, 2, 2, 3]\n"
          ]
        },
        {
          "output_type": "stream",
          "name": "stderr",
          "text": [
            "\r306it [02:18,  1.69it/s]"
          ]
        },
        {
          "output_type": "stream",
          "name": "stdout",
          "text": [
            "torch.Size([1])\n",
            "[6]\n",
            "[8, 8, 10, 7, 3, 4] [8, 8, 5, 5, 2, 2]\n"
          ]
        },
        {
          "output_type": "stream",
          "name": "stderr",
          "text": [
            "\r307it [02:19,  1.84it/s]"
          ]
        },
        {
          "output_type": "stream",
          "name": "stdout",
          "text": [
            "torch.Size([1])\n",
            "[6]\n",
            "[8, 8, 7, 4, 7, 8] [8, 8, 1, 4, 6, 8]\n"
          ]
        },
        {
          "output_type": "stream",
          "name": "stderr",
          "text": [
            "\r308it [02:20,  1.47it/s]"
          ]
        },
        {
          "output_type": "stream",
          "name": "stdout",
          "text": [
            "torch.Size([1])\n",
            "[6]\n",
            "[7, 10, 5, 10, 1, 6] [8, 9, 4, 10, 2, 8]\n"
          ]
        },
        {
          "output_type": "stream",
          "name": "stderr",
          "text": [
            "\r309it [02:20,  1.61it/s]"
          ]
        },
        {
          "output_type": "stream",
          "name": "stdout",
          "text": [
            "torch.Size([1])\n",
            "[6]\n",
            "[8, 7, 6, 9, 9, 6] [8, 7, 8, 10, 9, 6]\n"
          ]
        },
        {
          "output_type": "stream",
          "name": "stderr",
          "text": [
            "\r310it [02:21,  1.60it/s]"
          ]
        },
        {
          "output_type": "stream",
          "name": "stdout",
          "text": [
            "torch.Size([1])\n",
            "[6]\n",
            "[8, 8, 5, 5, 6, 5] [8, 8, 5, 7, 8, 8]\n"
          ]
        },
        {
          "output_type": "stream",
          "name": "stderr",
          "text": [
            "\r311it [02:21,  1.95it/s]"
          ]
        },
        {
          "output_type": "stream",
          "name": "stdout",
          "text": [
            "torch.Size([1])\n",
            "[6]\n",
            "[8, 8, 5, 9, 2, 7] [8, 8, 4, 9, 2, 8]\n"
          ]
        },
        {
          "output_type": "stream",
          "name": "stderr",
          "text": [
            "\r312it [02:22,  1.95it/s]"
          ]
        },
        {
          "output_type": "stream",
          "name": "stdout",
          "text": [
            "torch.Size([1])\n",
            "[6]\n",
            "[6, 9, 8, 2, 7, 7] [8, 9, 6, 1, 2, 6]\n"
          ]
        },
        {
          "output_type": "stream",
          "name": "stderr",
          "text": [
            "\r313it [02:22,  2.19it/s]"
          ]
        },
        {
          "output_type": "stream",
          "name": "stdout",
          "text": [
            "torch.Size([1])\n",
            "[6]\n",
            "[8, 7, 9, 1, 2, 5] [8, 7, 9, 1, 3, 5]\n"
          ]
        },
        {
          "output_type": "stream",
          "name": "stderr",
          "text": [
            "\r314it [02:23,  1.77it/s]"
          ]
        },
        {
          "output_type": "stream",
          "name": "stdout",
          "text": [
            "torch.Size([1])\n",
            "[6]\n",
            "[8, 9, 4, 4, 8, 1] [8, 9, 4, 3, 8, 2]\n",
            "torch.Size([1])\n",
            "[6]\n",
            "[8, 7, 3, 8, 1, 7] [8, 9, 2, 8, 2, 9]\n"
          ]
        },
        {
          "output_type": "stream",
          "name": "stderr",
          "text": [
            "\r316it [02:26,  1.09s/it]"
          ]
        },
        {
          "output_type": "stream",
          "name": "stdout",
          "text": [
            "torch.Size([1])\n",
            "[6]\n",
            "[8, 6, 9, 7, 6, 5] [8, 7, 9, 7, 6, 2]\n",
            "torch.Size([1])\n",
            "[6]\n",
            "[8, 9, 4, 5, 10, 7] [8, 9, 3, 1, 9, 7]\n"
          ]
        },
        {
          "output_type": "stream",
          "name": "stderr",
          "text": [
            "\r318it [02:27,  1.24it/s]"
          ]
        },
        {
          "output_type": "stream",
          "name": "stdout",
          "text": [
            "torch.Size([1])\n",
            "[6]\n",
            "[8, 8, 5, 6, 3, 7] [8, 9, 5, 7, 3, 7]\n",
            "torch.Size([1])\n",
            "[6]\n",
            "[9, 8, 6, 8, 9, 4] [8, 8, 10, 8, 10, 3]\n"
          ]
        },
        {
          "output_type": "stream",
          "name": "stderr",
          "text": [
            "\r320it [02:28,  1.59it/s]"
          ]
        },
        {
          "output_type": "stream",
          "name": "stdout",
          "text": [
            "torch.Size([1])\n",
            "[6]\n",
            "[8, 10, 1, 8, 4, 4] [8, 10, 1, 8, 4, 4]\n",
            "torch.Size([1])\n",
            "[6]\n",
            "[8, 9, 10, 3, 10, 6] [8, 9, 10, 1, 10, 6]\n"
          ]
        },
        {
          "output_type": "stream",
          "name": "stderr",
          "text": [
            "\r322it [02:29,  1.53it/s]"
          ]
        },
        {
          "output_type": "stream",
          "name": "stdout",
          "text": [
            "torch.Size([1])\n",
            "[6]\n",
            "[7, 10, 8, 10, 2, 4] [8, 10, 8, 10, 1, 4]\n",
            "torch.Size([1])\n",
            "[6]\n",
            "[8, 10, 9, 2, 3, 7] [8, 10, 8, 2, 8, 6]\n"
          ]
        },
        {
          "output_type": "stream",
          "name": "stderr",
          "text": [
            "\r324it [02:30,  1.74it/s]"
          ]
        },
        {
          "output_type": "stream",
          "name": "stdout",
          "text": [
            "torch.Size([1])\n",
            "[6]\n",
            "[8, 10, 1, 8, 5, 6] [8, 10, 1, 8, 4, 5]\n",
            "torch.Size([1])\n",
            "[6]\n",
            "[8, 10, 2, 4, 10, 7] [8, 10, 2, 2, 10, 4]\n"
          ]
        },
        {
          "output_type": "stream",
          "name": "stderr",
          "text": [
            "\r326it [02:31,  1.61it/s]"
          ]
        },
        {
          "output_type": "stream",
          "name": "stdout",
          "text": [
            "torch.Size([1])\n",
            "[6]\n",
            "[7, 9, 10, 4, 5, 2] [8, 9, 10, 3, 1, 2]\n",
            "torch.Size([1])\n",
            "[6]\n",
            "[8, 9, 10, 9, 4, 1] [8, 9, 10, 9, 3, 7]\n"
          ]
        },
        {
          "output_type": "stream",
          "name": "stderr",
          "text": [
            "\r328it [02:33,  1.55it/s]"
          ]
        },
        {
          "output_type": "stream",
          "name": "stdout",
          "text": [
            "torch.Size([1])\n",
            "[6]\n",
            "[7, 10, 9, 1, 4, 7] [8, 10, 8, 1, 4, 8]\n",
            "torch.Size([1])\n",
            "[6]\n",
            "[8, 10, 2, 8, 6, 3] [8, 10, 2, 9, 5, 1]\n"
          ]
        },
        {
          "output_type": "stream",
          "name": "stderr",
          "text": [
            "\r330it [02:34,  1.62it/s]"
          ]
        },
        {
          "output_type": "stream",
          "name": "stdout",
          "text": [
            "torch.Size([1])\n",
            "[6]\n",
            "[8, 8, 6, 2, 5, 6] [8, 10, 6, 1, 5, 5]\n",
            "torch.Size([1])\n",
            "[6]\n",
            "[8, 10, 5, 9, 10, 4] [8, 10, 5, 10, 10, 1]\n"
          ]
        },
        {
          "output_type": "stream",
          "name": "stderr",
          "text": [
            "\r332it [02:35,  1.56it/s]"
          ]
        },
        {
          "output_type": "stream",
          "name": "stdout",
          "text": [
            "torch.Size([1])\n",
            "[6]\n",
            "[4, 10, 3, 9, 9, 4] [8, 10, 3, 9, 9, 5]\n"
          ]
        },
        {
          "output_type": "stream",
          "name": "stderr",
          "text": [
            "\r333it [02:36,  1.59it/s]"
          ]
        },
        {
          "output_type": "stream",
          "name": "stdout",
          "text": [
            "torch.Size([1])\n",
            "[6]\n",
            "[8, 9, 7, 9, 5, 5] [8, 9, 7, 8, 6, 4]\n"
          ]
        },
        {
          "output_type": "stream",
          "name": "stderr",
          "text": [
            "\r334it [02:37,  1.48it/s]"
          ]
        },
        {
          "output_type": "stream",
          "name": "stdout",
          "text": [
            "torch.Size([1])\n",
            "[6]\n",
            "[1, 9, 8, 5, 4, 4] [1, 9, 8, 6, 5, 3]\n",
            "torch.Size([1])\n",
            "[6]\n",
            "[7, 10, 2, 4, 9, 7] [8, 10, 2, 5, 10, 8]\n"
          ]
        },
        {
          "output_type": "stream",
          "name": "stderr",
          "text": [
            "\r336it [02:38,  1.69it/s]"
          ]
        },
        {
          "output_type": "stream",
          "name": "stdout",
          "text": [
            "torch.Size([1])\n",
            "[6]\n",
            "[8, 9, 6, 7, 9, 7] [8, 9, 6, 7, 10, 8]\n"
          ]
        },
        {
          "output_type": "stream",
          "name": "stderr",
          "text": [
            "\r337it [02:38,  1.69it/s]"
          ]
        },
        {
          "output_type": "stream",
          "name": "stdout",
          "text": [
            "torch.Size([1])\n",
            "[6]\n",
            "[8, 9, 10, 3, 9, 7] [8, 9, 10, 4, 9, 8]\n"
          ]
        },
        {
          "output_type": "stream",
          "name": "stderr",
          "text": [
            "\r338it [02:39,  1.48it/s]"
          ]
        },
        {
          "output_type": "stream",
          "name": "stdout",
          "text": [
            "torch.Size([1])\n",
            "[6]\n",
            "[9, 10, 4, 5, 7, 6] [8, 10, 4, 5, 7, 3]\n",
            "torch.Size([1])\n",
            "[6]\n",
            "[9, 1, 8, 3, 4, 2] [9, 1, 8, 3, 4, 1]\n"
          ]
        },
        {
          "output_type": "stream",
          "name": "stderr",
          "text": [
            "\r340it [02:40,  1.75it/s]"
          ]
        },
        {
          "output_type": "stream",
          "name": "stdout",
          "text": [
            "torch.Size([1])\n",
            "[6]\n",
            "[9, 1, 10, 5, 2, 9] [9, 1, 10, 5, 2, 8]\n"
          ]
        },
        {
          "output_type": "stream",
          "name": "stderr",
          "text": [
            "\r341it [02:40,  1.86it/s]"
          ]
        },
        {
          "output_type": "stream",
          "name": "stdout",
          "text": [
            "torch.Size([1])\n",
            "[6]\n",
            "[9, 1, 10, 1, 2, 9] [9, 1, 10, 1, 1, 4]\n"
          ]
        },
        {
          "output_type": "stream",
          "name": "stderr",
          "text": [
            "\r342it [02:41,  2.19it/s]"
          ]
        },
        {
          "output_type": "stream",
          "name": "stdout",
          "text": [
            "torch.Size([1])\n",
            "[6]\n",
            "[9, 2, 1, 7, 5, 2] [9, 2, 1, 7, 4, 2]\n"
          ]
        },
        {
          "output_type": "stream",
          "name": "stderr",
          "text": [
            "\r343it [02:41,  2.06it/s]"
          ]
        },
        {
          "output_type": "stream",
          "name": "stdout",
          "text": [
            "torch.Size([1])\n",
            "[6]\n",
            "[9, 2, 4, 5, 9, 5] [9, 2, 8, 5, 9, 3]\n"
          ]
        },
        {
          "output_type": "stream",
          "name": "stderr",
          "text": [
            "\r344it [02:42,  2.04it/s]"
          ]
        },
        {
          "output_type": "stream",
          "name": "stdout",
          "text": [
            "torch.Size([1])\n",
            "[6]\n",
            "[9, 1, 6, 3, 3, 2] [9, 1, 1, 3, 3, 3]\n"
          ]
        },
        {
          "output_type": "stream",
          "name": "stderr",
          "text": [
            "\r345it [02:43,  1.58it/s]"
          ]
        },
        {
          "output_type": "stream",
          "name": "stdout",
          "text": [
            "torch.Size([1])\n",
            "[6]\n",
            "[9, 2, 4, 8, 4, 9] [9, 2, 4, 8, 4, 10]\n",
            "torch.Size([1])\n",
            "[6]\n",
            "[9, 1, 5, 6, 5, 9] [9, 1, 5, 7, 5, 10]\n"
          ]
        },
        {
          "output_type": "stream",
          "name": "stderr",
          "text": [
            "\r347it [02:44,  1.50it/s]"
          ]
        },
        {
          "output_type": "stream",
          "name": "stdout",
          "text": [
            "torch.Size([1])\n",
            "[6]\n",
            "[7, 5, 10, 7, 10, 10] [8, 10, 10, 8, 1, 8]\n",
            "torch.Size([1])\n",
            "[6]\n",
            "[9, 1, 10, 3, 3, 3] [9, 1, 9, 3, 3, 2]\n"
          ]
        },
        {
          "output_type": "stream",
          "name": "stderr",
          "text": [
            "\r349it [02:45,  1.78it/s]"
          ]
        },
        {
          "output_type": "stream",
          "name": "stdout",
          "text": [
            "torch.Size([1])\n",
            "[6]\n",
            "[9, 2, 5, 5, 3, 10] [9, 2, 5, 6, 2, 8]\n",
            "torch.Size([1])\n",
            "[6]\n",
            "[1, 9, 9, 3, 5, 7] [1, 9, 9, 2, 7, 9]\n"
          ]
        },
        {
          "output_type": "stream",
          "name": "stderr",
          "text": [
            "\r351it [02:45,  2.13it/s]"
          ]
        },
        {
          "output_type": "stream",
          "name": "stdout",
          "text": [
            "torch.Size([1])\n",
            "[6]\n",
            "[9, 1, 8, 3, 2, 2] [9, 1, 8, 2, 2, 2]\n"
          ]
        },
        {
          "output_type": "stream",
          "name": "stderr",
          "text": [
            "\r352it [02:46,  2.30it/s]"
          ]
        },
        {
          "output_type": "stream",
          "name": "stdout",
          "text": [
            "torch.Size([1])\n",
            "[6]\n",
            "[9, 2, 1, 7, 7, 9] [9, 2, 1, 7, 7, 9]\n"
          ]
        },
        {
          "output_type": "stream",
          "name": "stderr",
          "text": [
            "\r353it [02:46,  2.24it/s]"
          ]
        },
        {
          "output_type": "stream",
          "name": "stdout",
          "text": [
            "torch.Size([1])\n",
            "[6]\n",
            "[9, 3, 1, 1, 8, 4] [9, 3, 1, 1, 9, 3]\n"
          ]
        },
        {
          "output_type": "stream",
          "name": "stderr",
          "text": [
            "\r354it [02:47,  1.75it/s]"
          ]
        },
        {
          "output_type": "stream",
          "name": "stdout",
          "text": [
            "torch.Size([1])\n",
            "[6]\n",
            "[9, 3, 5, 1, 2, 9] [9, 1, 5, 1, 3, 9]\n",
            "torch.Size([1])\n",
            "[6]\n",
            "[1, 7, 8, 6, 5, 2] [1, 9, 8, 6, 6, 1]\n"
          ]
        },
        {
          "output_type": "stream",
          "name": "stderr",
          "text": [
            "\r356it [02:48,  1.99it/s]"
          ]
        },
        {
          "output_type": "stream",
          "name": "stdout",
          "text": [
            "torch.Size([1])\n",
            "[6]\n",
            "[9, 2, 1, 3, 3, 10] [9, 2, 1, 2, 2, 10]\n",
            "torch.Size([1])\n",
            "[6]\n",
            "[1, 2, 6, 6, 4, 6] [1, 2, 1, 7, 4, 8]\n"
          ]
        },
        {
          "output_type": "stream",
          "name": "stderr",
          "text": [
            "\r358it [02:49,  1.93it/s]"
          ]
        },
        {
          "output_type": "stream",
          "name": "stdout",
          "text": [
            "torch.Size([1])\n",
            "[6]\n",
            "[9, 2, 10, 4, 7, 5] [9, 2, 10, 4, 8, 4]\n",
            "torch.Size([1])\n",
            "[6]\n",
            "[9, 2, 1, 9, 5, 6] [9, 2, 5, 9, 4, 6]\n"
          ]
        },
        {
          "output_type": "stream",
          "name": "stderr",
          "text": [
            "\r360it [02:50,  2.08it/s]"
          ]
        },
        {
          "output_type": "stream",
          "name": "stdout",
          "text": [
            "torch.Size([1])\n",
            "[6]\n",
            "[9, 6, 8, 5, 3, 4] [9, 4, 8, 7, 3, 2]\n",
            "torch.Size([1])\n",
            "[6]\n",
            "[9, 3, 6, 3, 2, 5] [9, 3, 6, 4, 2, 6]\n"
          ]
        },
        {
          "output_type": "stream",
          "name": "stderr",
          "text": [
            "\r362it [02:51,  1.99it/s]"
          ]
        },
        {
          "output_type": "stream",
          "name": "stdout",
          "text": [
            "torch.Size([1])\n",
            "[6]\n",
            "[9, 4, 4, 8, 5, 5] [9, 4, 4, 8, 5, 6]\n",
            "torch.Size([1])\n",
            "[6]\n",
            "[9, 4, 2, 9, 10, 9] [9, 4, 2, 9, 10, 10]\n"
          ]
        },
        {
          "output_type": "stream",
          "name": "stderr",
          "text": [
            "\r364it [02:52,  2.15it/s]"
          ]
        },
        {
          "output_type": "stream",
          "name": "stdout",
          "text": [
            "torch.Size([1])\n",
            "[6]\n",
            "[9, 4, 3, 4, 9, 1] [9, 4, 3, 4, 9, 1]\n"
          ]
        },
        {
          "output_type": "stream",
          "name": "stderr",
          "text": [
            "\r365it [02:52,  2.04it/s]"
          ]
        },
        {
          "output_type": "stream",
          "name": "stdout",
          "text": [
            "torch.Size([1])\n",
            "[6]\n",
            "[1, 8, 10, 6, 1, 7] [1, 9, 10, 6, 1, 6]\n"
          ]
        },
        {
          "output_type": "stream",
          "name": "stderr",
          "text": [
            "\r366it [02:53,  2.30it/s]"
          ]
        },
        {
          "output_type": "stream",
          "name": "stdout",
          "text": [
            "torch.Size([1])\n",
            "[6]\n",
            "[9, 4, 6, 6, 4, 3] [9, 4, 4, 6, 4, 4]\n"
          ]
        },
        {
          "output_type": "stream",
          "name": "stderr",
          "text": [
            "\r367it [02:54,  1.83it/s]"
          ]
        },
        {
          "output_type": "stream",
          "name": "stdout",
          "text": [
            "torch.Size([1])\n",
            "[6]\n",
            "[9, 1, 8, 1, 5, 6] [9, 3, 8, 1, 4, 4]\n"
          ]
        },
        {
          "output_type": "stream",
          "name": "stderr",
          "text": [
            "\r368it [02:54,  2.10it/s]"
          ]
        },
        {
          "output_type": "stream",
          "name": "stdout",
          "text": [
            "torch.Size([1])\n",
            "[6]\n",
            "[9, 4, 9, 9, 7, 4] [9, 4, 9, 10, 7, 2]\n"
          ]
        },
        {
          "output_type": "stream",
          "name": "stderr",
          "text": [
            "\r369it [02:54,  2.01it/s]"
          ]
        },
        {
          "output_type": "stream",
          "name": "stdout",
          "text": [
            "torch.Size([1])\n",
            "[6]\n",
            "[5, 4, 2, 5, 5, 2] [9, 4, 2, 10, 4, 2]\n"
          ]
        },
        {
          "output_type": "stream",
          "name": "stderr",
          "text": [
            "\r370it [02:55,  2.22it/s]"
          ]
        },
        {
          "output_type": "stream",
          "name": "stdout",
          "text": [
            "torch.Size([1])\n",
            "[6]\n",
            "[9, 3, 3, 5, 10, 3] [9, 3, 3, 5, 10, 1]\n"
          ]
        },
        {
          "output_type": "stream",
          "name": "stderr",
          "text": [
            "\r371it [02:55,  2.19it/s]"
          ]
        },
        {
          "output_type": "stream",
          "name": "stdout",
          "text": [
            "torch.Size([1])\n",
            "[6]\n",
            "[9, 4, 3, 8, 10, 4] [9, 4, 3, 7, 10, 5]\n"
          ]
        },
        {
          "output_type": "stream",
          "name": "stderr",
          "text": [
            "\r372it [02:55,  2.43it/s]"
          ]
        },
        {
          "output_type": "stream",
          "name": "stdout",
          "text": [
            "torch.Size([1])\n",
            "[6]\n",
            "[9, 4, 5, 3, 10, 6] [9, 4, 5, 3, 10, 5]\n"
          ]
        },
        {
          "output_type": "stream",
          "name": "stderr",
          "text": [
            "\r373it [02:56,  2.14it/s]"
          ]
        },
        {
          "output_type": "stream",
          "name": "stdout",
          "text": [
            "torch.Size([1])\n",
            "[6]\n",
            "[9, 2, 1, 3, 9, 4] [9, 4, 1, 1, 8, 4]\n"
          ]
        },
        {
          "output_type": "stream",
          "name": "stderr",
          "text": [
            "\r374it [02:57,  1.72it/s]"
          ]
        },
        {
          "output_type": "stream",
          "name": "stdout",
          "text": [
            "torch.Size([1])\n",
            "[6]\n",
            "[9, 4, 7, 7, 8, 7] [9, 4, 7, 7, 9, 7]\n",
            "torch.Size([1])\n",
            "[6]\n",
            "[9, 3, 2, 4, 2, 3] [9, 3, 2, 4, 2, 2]\n"
          ]
        },
        {
          "output_type": "stream",
          "name": "stderr",
          "text": [
            "\r376it [02:58,  2.04it/s]"
          ]
        },
        {
          "output_type": "stream",
          "name": "stdout",
          "text": [
            "torch.Size([1])\n",
            "[6]\n",
            "[9, 3, 10, 4, 4, 5] [9, 3, 10, 4, 4, 5]\n"
          ]
        },
        {
          "output_type": "stream",
          "name": "stderr",
          "text": [
            "378it [02:59,  2.25it/s]"
          ]
        },
        {
          "output_type": "stream",
          "name": "stdout",
          "text": [
            "torch.Size([1])\n",
            "[6]\n",
            "[1, 10, 2, 10, 4, 6] [1, 10, 2, 9, 4, 6]\n",
            "torch.Size([1])\n",
            "[6]\n",
            "[9, 3, 10, 9, 9, 7] [9, 3, 9, 9, 9, 6]\n"
          ]
        },
        {
          "output_type": "stream",
          "name": "stderr",
          "text": [
            "380it [02:59,  2.53it/s]"
          ]
        },
        {
          "output_type": "stream",
          "name": "stdout",
          "text": [
            "torch.Size([1])\n",
            "[6]\n",
            "[9, 4, 5, 7, 9, 7] [9, 4, 5, 6, 9, 8]\n",
            "torch.Size([1])\n",
            "[6]\n",
            "[9, 3, 4, 1, 10, 9] [9, 3, 4, 1, 10, 10]\n"
          ]
        },
        {
          "output_type": "stream",
          "name": "stderr",
          "text": [
            "\r381it [03:00,  2.12it/s]"
          ]
        },
        {
          "output_type": "stream",
          "name": "stdout",
          "text": [
            "torch.Size([1])\n",
            "[6]\n",
            "[9, 3, 5, 9, 10, 7] [9, 3, 5, 9, 10, 8]\n"
          ]
        },
        {
          "output_type": "stream",
          "name": "stderr",
          "text": [
            "\r382it [03:01,  1.77it/s]"
          ]
        },
        {
          "output_type": "stream",
          "name": "stdout",
          "text": [
            "torch.Size([1])\n",
            "[6]\n",
            "[9, 6, 2, 4, 2, 10] [9, 6, 2, 4, 2, 10]\n",
            "torch.Size([1])\n",
            "[6]\n",
            "[9, 6, 4, 8, 5, 3] [9, 6, 3, 10, 5, 2]\n"
          ]
        },
        {
          "output_type": "stream",
          "name": "stderr",
          "text": [
            "\r384it [03:02,  2.01it/s]"
          ]
        },
        {
          "output_type": "stream",
          "name": "stdout",
          "text": [
            "torch.Size([1])\n",
            "[6]\n",
            "[9, 5, 4, 3, 2, 4] [9, 5, 4, 1, 2, 4]\n"
          ]
        },
        {
          "output_type": "stream",
          "name": "stderr",
          "text": [
            "\r385it [03:02,  2.31it/s]"
          ]
        },
        {
          "output_type": "stream",
          "name": "stdout",
          "text": [
            "torch.Size([1])\n",
            "[6]\n",
            "[1, 10, 8, 3, 3, 3] [1, 10, 3, 3, 2, 2]\n"
          ]
        },
        {
          "output_type": "stream",
          "name": "stderr",
          "text": [
            "\r386it [03:03,  1.60it/s]"
          ]
        },
        {
          "output_type": "stream",
          "name": "stdout",
          "text": [
            "torch.Size([1])\n",
            "[6]\n",
            "[9, 5, 4, 9, 5, 5] [9, 5, 9, 10, 8, 9]\n",
            "torch.Size([1])\n",
            "[6]\n",
            "[9, 6, 2, 8, 5, 6] [9, 6, 1, 7, 6, 6]\n"
          ]
        },
        {
          "output_type": "stream",
          "name": "stderr",
          "text": [
            "\r388it [03:04,  1.51it/s]"
          ]
        },
        {
          "output_type": "stream",
          "name": "stdout",
          "text": [
            "torch.Size([1])\n",
            "[6]\n",
            "[9, 5, 3, 4, 2, 5] [9, 5, 3, 4, 10, 6]\n",
            "torch.Size([1])\n",
            "[6]\n",
            "[9, 5, 4, 6, 7, 10] [9, 5, 4, 6, 8, 10]\n"
          ]
        },
        {
          "output_type": "stream",
          "name": "stderr",
          "text": [
            "\r390it [03:05,  1.76it/s]"
          ]
        },
        {
          "output_type": "stream",
          "name": "stdout",
          "text": [
            "torch.Size([1])\n",
            "[6]\n",
            "[9, 5, 10, 1, 5, 6] [9, 5, 10, 2, 5, 7]\n",
            "torch.Size([1])\n",
            "[6]\n",
            "[9, 7, 3, 5, 9, 1] [9, 5, 3, 6, 9, 1]\n"
          ]
        },
        {
          "output_type": "stream",
          "name": "stderr",
          "text": [
            "\r392it [03:06,  1.94it/s]"
          ]
        },
        {
          "output_type": "stream",
          "name": "stdout",
          "text": [
            "torch.Size([1])\n",
            "[6]\n",
            "[9, 5, 4, 9, 8, 7] [9, 5, 5, 10, 8, 8]\n",
            "torch.Size([1])\n",
            "[6]\n",
            "[9, 5, 6, 4, 5, 9] [9, 5, 6, 4, 5, 10]\n"
          ]
        },
        {
          "output_type": "stream",
          "name": "stderr",
          "text": [
            "\r394it [03:07,  1.86it/s]"
          ]
        },
        {
          "output_type": "stream",
          "name": "stdout",
          "text": [
            "torch.Size([1])\n",
            "[6]\n",
            "[9, 6, 9, 1, 6, 4] [9, 6, 9, 2, 8, 8]\n",
            "torch.Size([1])\n",
            "[6]\n",
            "[9, 5, 7, 5, 5, 10] [9, 5, 7, 5, 6, 9]\n"
          ]
        },
        {
          "output_type": "stream",
          "name": "stderr",
          "text": [
            "\r396it [03:09,  1.69it/s]"
          ]
        },
        {
          "output_type": "stream",
          "name": "stdout",
          "text": [
            "torch.Size([1])\n",
            "[6]\n",
            "[9, 6, 7, 6, 2, 3] [9, 6, 7, 7, 1, 1]\n",
            "torch.Size([1])\n",
            "[6]\n",
            "[9, 5, 8, 6, 9, 9] [9, 5, 8, 6, 10, 8]\n"
          ]
        },
        {
          "output_type": "stream",
          "name": "stderr",
          "text": [
            "\r398it [03:10,  1.55it/s]"
          ]
        },
        {
          "output_type": "stream",
          "name": "stdout",
          "text": [
            "torch.Size([1])\n",
            "[6]\n",
            "[9, 6, 10, 3, 4, 4] [9, 6, 9, 3, 4, 5]\n",
            "torch.Size([1])\n",
            "[6]\n",
            "[9, 7, 2, 3, 6, 5] [9, 5, 2, 2, 6, 5]\n"
          ]
        },
        {
          "output_type": "stream",
          "name": "stderr",
          "text": [
            "\r400it [03:11,  1.83it/s]"
          ]
        },
        {
          "output_type": "stream",
          "name": "stdout",
          "text": [
            "torch.Size([1])\n",
            "[6]\n",
            "[9, 5, 8, 3, 5, 6] [9, 5, 8, 3, 5, 5]\n",
            "torch.Size([1])\n",
            "[6]\n",
            "[9, 6, 10, 3, 6, 7] [9, 6, 9, 4, 7, 10]\n"
          ]
        },
        {
          "output_type": "stream",
          "name": "stderr",
          "text": [
            "\r402it [03:12,  1.99it/s]"
          ]
        },
        {
          "output_type": "stream",
          "name": "stdout",
          "text": [
            "torch.Size([1])\n",
            "[6]\n",
            "[9, 7, 8, 10, 9, 4] [9, 7, 8, 10, 9, 3]\n",
            "torch.Size([1])\n",
            "[6]\n",
            "[9, 6, 10, 7, 9, 9] [9, 6, 10, 9, 10, 9]\n"
          ]
        },
        {
          "output_type": "stream",
          "name": "stderr",
          "text": [
            "\r404it [03:12,  2.13it/s]"
          ]
        },
        {
          "output_type": "stream",
          "name": "stdout",
          "text": [
            "torch.Size([1])\n",
            "[6]\n",
            "[7, 7, 5, 9, 4, 9] [9, 7, 5, 10, 4, 10]\n",
            "torch.Size([1])\n",
            "[6]\n",
            "[1, 10, 4, 9, 7, 6] [1, 10, 4, 9, 7, 8]\n"
          ]
        },
        {
          "output_type": "stream",
          "name": "stderr",
          "text": [
            "\r406it [03:14,  2.02it/s]"
          ]
        },
        {
          "output_type": "stream",
          "name": "stdout",
          "text": [
            "torch.Size([1])\n",
            "[6]\n",
            "[1, 10, 7, 3, 4, 7] [1, 10, 6, 4, 5, 6]\n",
            "torch.Size([1])\n",
            "[6]\n",
            "[9, 7, 5, 9, 4, 4] [9, 7, 5, 9, 3, 3]\n"
          ]
        },
        {
          "output_type": "stream",
          "name": "stderr",
          "text": [
            "\r408it [03:15,  1.78it/s]"
          ]
        },
        {
          "output_type": "stream",
          "name": "stdout",
          "text": [
            "torch.Size([1])\n",
            "[6]\n",
            "[9, 7, 5, 4, 10, 3] [9, 7, 5, 4, 10, 1]\n",
            "torch.Size([1])\n",
            "[6]\n",
            "[9, 7, 4, 3, 9, 5] [9, 7, 4, 3, 9, 5]\n"
          ]
        },
        {
          "output_type": "stream",
          "name": "stderr",
          "text": [
            "\r410it [03:16,  1.90it/s]"
          ]
        },
        {
          "output_type": "stream",
          "name": "stdout",
          "text": [
            "torch.Size([1])\n",
            "[6]\n",
            "[9, 7, 3, 9, 10, 8] [9, 7, 3, 9, 10, 9]\n",
            "torch.Size([1])\n",
            "[6]\n",
            "[9, 7, 6, 3, 10, 3] [9, 7, 6, 2, 10, 4]\n"
          ]
        },
        {
          "output_type": "stream",
          "name": "stderr",
          "text": [
            "\r412it [03:17,  2.08it/s]"
          ]
        },
        {
          "output_type": "stream",
          "name": "stdout",
          "text": [
            "torch.Size([1])\n",
            "[6]\n",
            "[9, 7, 6, 3, 4, 7] [9, 7, 6, 3, 4, 9]\n",
            "torch.Size([1])\n",
            "[6]\n",
            "[2, 9, 4, 10, 4, 1] [1, 10, 4, 9, 8, 1]\n"
          ]
        },
        {
          "output_type": "stream",
          "name": "stderr",
          "text": [
            "\r414it [03:17,  2.21it/s]"
          ]
        },
        {
          "output_type": "stream",
          "name": "stdout",
          "text": [
            "torch.Size([1])\n",
            "[6]\n",
            "[9, 7, 8, 9, 5, 5] [9, 7, 8, 10, 6, 7]\n",
            "torch.Size([1])\n",
            "[6]\n",
            "[9, 7, 4, 5, 9, 9] [9, 7, 2, 5, 9, 10]\n"
          ]
        },
        {
          "output_type": "stream",
          "name": "stderr",
          "text": [
            "\r416it [03:18,  2.28it/s]"
          ]
        },
        {
          "output_type": "stream",
          "name": "stdout",
          "text": [
            "torch.Size([1])\n",
            "[6]\n",
            "[9, 7, 7, 9, 6, 7] [9, 7, 7, 9, 7, 9]\n",
            "torch.Size([1])\n",
            "[6]\n",
            "[7, 7, 10, 2, 2, 7] [9, 7, 10, 3, 1, 7]\n"
          ]
        },
        {
          "output_type": "stream",
          "name": "stderr",
          "text": [
            "\r418it [03:19,  2.08it/s]"
          ]
        },
        {
          "output_type": "stream",
          "name": "stdout",
          "text": [
            "torch.Size([1])\n",
            "[6]\n",
            "[9, 7, 1, 8, 6, 7] [9, 7, 1, 8, 7, 9]\n",
            "torch.Size([1])\n",
            "[6]\n",
            "[9, 7, 10, 4, 6, 7] [9, 7, 10, 6, 6, 6]\n"
          ]
        },
        {
          "output_type": "stream",
          "name": "stderr",
          "text": [
            "\r420it [03:21,  1.80it/s]"
          ]
        },
        {
          "output_type": "stream",
          "name": "stdout",
          "text": [
            "torch.Size([1])\n",
            "[6]\n",
            "[8, 9, 4, 9, 5, 4] [9, 9, 4, 9, 5, 3]\n",
            "torch.Size([1])\n",
            "[6]\n",
            "[9, 8, 4, 10, 7, 4] [9, 8, 8, 10, 8, 4]\n"
          ]
        },
        {
          "output_type": "stream",
          "name": "stderr",
          "text": [
            "\r422it [03:22,  1.79it/s]"
          ]
        },
        {
          "output_type": "stream",
          "name": "stdout",
          "text": [
            "torch.Size([1])\n",
            "[6]\n",
            "[7, 8, 10, 2, 3, 9] [9, 8, 10, 1, 3, 9]\n",
            "torch.Size([1])\n",
            "[6]\n",
            "[9, 8, 7, 9, 3, 3] [9, 8, 9, 9, 3, 2]\n"
          ]
        },
        {
          "output_type": "stream",
          "name": "stderr",
          "text": [
            "\r424it [03:23,  1.80it/s]"
          ]
        },
        {
          "output_type": "stream",
          "name": "stdout",
          "text": [
            "torch.Size([1])\n",
            "[6]\n",
            "[1, 10, 9, 5, 1, 1] [1, 10, 10, 5, 1, 2]\n",
            "torch.Size([1])\n",
            "[6]\n",
            "[10, 9, 4, 4, 2, 3] [9, 9, 3, 3, 2, 2]\n"
          ]
        },
        {
          "output_type": "stream",
          "name": "stderr",
          "text": [
            "\r426it [03:24,  1.93it/s]"
          ]
        },
        {
          "output_type": "stream",
          "name": "stdout",
          "text": [
            "torch.Size([1])\n",
            "[6]\n",
            "[5, 8, 6, 4, 5, 5] [9, 8, 4, 3, 5, 3]\n",
            "torch.Size([1])\n",
            "[6]\n",
            "[9, 8, 4, 7, 9, 7] [9, 8, 4, 7, 10, 7]\n"
          ]
        },
        {
          "output_type": "stream",
          "name": "stderr",
          "text": [
            "\r428it [03:25,  1.89it/s]"
          ]
        },
        {
          "output_type": "stream",
          "name": "stdout",
          "text": [
            "torch.Size([1])\n",
            "[6]\n",
            "[9, 8, 6, 1, 10, 3] [9, 8, 6, 1, 10, 1]\n",
            "torch.Size([1])\n",
            "[6]\n",
            "[9, 8, 5, 4, 5, 5] [9, 8, 5, 6, 5, 6]\n"
          ]
        },
        {
          "output_type": "stream",
          "name": "stderr",
          "text": [
            "\r430it [03:26,  2.05it/s]"
          ]
        },
        {
          "output_type": "stream",
          "name": "stdout",
          "text": [
            "torch.Size([1])\n",
            "[6]\n",
            "[9, 8, 6, 5, 1, 5] [9, 8, 4, 5, 1, 1]\n",
            "torch.Size([1])\n",
            "[6]\n",
            "[9, 8, 6, 5, 3, 9] [9, 8, 4, 5, 4, 9]\n"
          ]
        },
        {
          "output_type": "stream",
          "name": "stderr",
          "text": [
            "\r432it [03:27,  2.15it/s]"
          ]
        },
        {
          "output_type": "stream",
          "name": "stdout",
          "text": [
            "torch.Size([1])\n",
            "[6]\n",
            "[9, 9, 6, 3, 7, 8] [9, 9, 6, 4, 7, 8]\n",
            "torch.Size([1])\n",
            "[6]\n",
            "[7, 8, 7, 1, 1, 8] [9, 8, 6, 1, 1, 7]\n"
          ]
        },
        {
          "output_type": "stream",
          "name": "stderr",
          "text": [
            "\r434it [03:27,  2.40it/s]"
          ]
        },
        {
          "output_type": "stream",
          "name": "stdout",
          "text": [
            "torch.Size([1])\n",
            "[6]\n",
            "[9, 8, 8, 4, 6, 2] [9, 8, 8, 3, 6, 2]\n",
            "torch.Size([1])\n",
            "[6]\n",
            "[9, 7, 9, 2, 7, 9] [9, 9, 7, 1, 7, 10]\n"
          ]
        },
        {
          "output_type": "stream",
          "name": "stderr",
          "text": [
            "\r436it [03:28,  2.21it/s]"
          ]
        },
        {
          "output_type": "stream",
          "name": "stdout",
          "text": [
            "torch.Size([1])\n",
            "[6]\n",
            "[1, 9, 10, 2, 6, 9] [1, 10, 9, 3, 4, 9]\n",
            "torch.Size([1])\n",
            "[6]\n",
            "[10, 9, 3, 9, 5, 1] [9, 9, 3, 10, 4, 1]\n"
          ]
        },
        {
          "output_type": "stream",
          "name": "stderr",
          "text": [
            "\r438it [03:29,  2.31it/s]"
          ]
        },
        {
          "output_type": "stream",
          "name": "stdout",
          "text": [
            "torch.Size([1])\n",
            "[6]\n",
            "[9, 8, 6, 9, 8, 5] [9, 8, 10, 10, 7, 3]\n",
            "torch.Size([1])\n",
            "[6]\n",
            "[9, 9, 2, 5, 3, 7] [9, 9, 2, 5, 1, 7]\n"
          ]
        },
        {
          "output_type": "stream",
          "name": "stderr",
          "text": [
            "\r440it [03:30,  1.94it/s]"
          ]
        },
        {
          "output_type": "stream",
          "name": "stdout",
          "text": [
            "torch.Size([1])\n",
            "[6]\n",
            "[9, 10, 5, 5, 5, 1] [9, 10, 4, 5, 6, 8]\n",
            "torch.Size([1])\n",
            "[6]\n",
            "[7, 10, 1, 9, 1, 7] [9, 10, 1, 9, 2, 6]\n"
          ]
        },
        {
          "output_type": "stream",
          "name": "stderr",
          "text": [
            "\r442it [03:31,  2.05it/s]"
          ]
        },
        {
          "output_type": "stream",
          "name": "stdout",
          "text": [
            "torch.Size([1])\n",
            "[6]\n",
            "[9, 10, 8, 8, 6, 4] [9, 10, 8, 8, 7, 4]\n",
            "torch.Size([1])\n",
            "[6]\n",
            "[9, 10, 2, 4, 9, 1] [9, 10, 2, 2, 9, 1]\n"
          ]
        },
        {
          "output_type": "stream",
          "name": "stderr",
          "text": [
            "\r444it [03:32,  2.15it/s]"
          ]
        },
        {
          "output_type": "stream",
          "name": "stdout",
          "text": [
            "torch.Size([1])\n",
            "[6]\n",
            "[7, 10, 3, 4, 4, 9] [9, 10, 2, 4, 3, 9]\n",
            "torch.Size([1])\n",
            "[6]\n",
            "[9, 9, 10, 3, 5, 5] [9, 9, 10, 5, 4, 5]\n"
          ]
        },
        {
          "output_type": "stream",
          "name": "stderr",
          "text": [
            "\r446it [03:33,  2.26it/s]"
          ]
        },
        {
          "output_type": "stream",
          "name": "stdout",
          "text": [
            "torch.Size([1])\n",
            "[6]\n",
            "[10, 1, 7, 4, 6, 4] [10, 1, 7, 6, 6, 6]\n"
          ]
        },
        {
          "output_type": "stream",
          "name": "stderr",
          "text": [
            "\r447it [03:33,  2.29it/s]"
          ]
        },
        {
          "output_type": "stream",
          "name": "stdout",
          "text": [
            "torch.Size([1])\n",
            "[6]\n",
            "[9, 10, 7, 6, 3, 7] [9, 10, 7, 8, 2, 7]\n"
          ]
        },
        {
          "output_type": "stream",
          "name": "stderr",
          "text": [
            "\r448it [03:34,  1.83it/s]"
          ]
        },
        {
          "output_type": "stream",
          "name": "stdout",
          "text": [
            "torch.Size([1])\n",
            "[6]\n",
            "[1, 10, 10, 8, 6, 7] [1, 10, 10, 8, 10, 8]\n"
          ]
        },
        {
          "output_type": "stream",
          "name": "stderr",
          "text": [
            "\r449it [03:35,  1.88it/s]"
          ]
        },
        {
          "output_type": "stream",
          "name": "stdout",
          "text": [
            "torch.Size([1])\n",
            "[6]\n",
            "[9, 10, 8, 3, 6, 7] [9, 10, 8, 4, 6, 7]\n"
          ]
        },
        {
          "output_type": "stream",
          "name": "stderr",
          "text": [
            "\r450it [03:35,  2.12it/s]"
          ]
        },
        {
          "output_type": "stream",
          "name": "stdout",
          "text": [
            "torch.Size([1])\n",
            "[6]\n",
            "[9, 10, 2, 7, 9, 5] [9, 10, 1, 7, 9, 6]\n"
          ]
        },
        {
          "output_type": "stream",
          "name": "stderr",
          "text": [
            "\r451it [03:36,  2.06it/s]"
          ]
        },
        {
          "output_type": "stream",
          "name": "stdout",
          "text": [
            "torch.Size([1])\n",
            "[6]\n",
            "[10, 1, 3, 1, 6, 1] [10, 1, 3, 1, 6, 1]\n"
          ]
        },
        {
          "output_type": "stream",
          "name": "stderr",
          "text": [
            "\r452it [03:36,  2.15it/s]"
          ]
        },
        {
          "output_type": "stream",
          "name": "stdout",
          "text": [
            "torch.Size([1])\n",
            "[6]\n",
            "[9, 1, 4, 3, 3, 9] [10, 1, 4, 2, 2, 9]\n"
          ]
        },
        {
          "output_type": "stream",
          "name": "stderr",
          "text": [
            "\r453it [03:36,  2.25it/s]"
          ]
        },
        {
          "output_type": "stream",
          "name": "stdout",
          "text": [
            "torch.Size([1])\n",
            "[6]\n",
            "[10, 1, 3, 4, 3, 5] [10, 1, 3, 6, 2, 6]\n"
          ]
        },
        {
          "output_type": "stream",
          "name": "stderr",
          "text": [
            "\r454it [03:37,  2.33it/s]"
          ]
        },
        {
          "output_type": "stream",
          "name": "stdout",
          "text": [
            "torch.Size([1])\n",
            "[6]\n",
            "[9, 9, 8, 3, 8, 2] [9, 9, 8, 3, 8, 1]\n"
          ]
        },
        {
          "output_type": "stream",
          "name": "stderr",
          "text": [
            "\r455it [03:37,  2.38it/s]"
          ]
        },
        {
          "output_type": "stream",
          "name": "stdout",
          "text": [
            "torch.Size([1])\n",
            "[6]\n",
            "[9, 10, 2, 4, 5, 3] [9, 10, 3, 5, 5, 1]\n"
          ]
        },
        {
          "output_type": "stream",
          "name": "stderr",
          "text": [
            "\r456it [03:38,  2.39it/s]"
          ]
        },
        {
          "output_type": "stream",
          "name": "stdout",
          "text": [
            "torch.Size([1])\n",
            "[6]\n",
            "[9, 1, 3, 4, 7, 9] [10, 1, 1, 4, 8, 9]\n"
          ]
        },
        {
          "output_type": "stream",
          "name": "stderr",
          "text": [
            "\r457it [03:38,  2.47it/s]"
          ]
        },
        {
          "output_type": "stream",
          "name": "stdout",
          "text": [
            "torch.Size([1])\n",
            "[6]\n",
            "[10, 1, 2, 4, 4, 6] [10, 1, 2, 4, 4, 6]\n"
          ]
        },
        {
          "output_type": "stream",
          "name": "stderr",
          "text": [
            "\r458it [03:39,  1.69it/s]"
          ]
        },
        {
          "output_type": "stream",
          "name": "stdout",
          "text": [
            "torch.Size([1])\n",
            "[6]\n",
            "[10, 1, 5, 7, 9, 10] [10, 1, 5, 7, 10, 10]\n",
            "torch.Size([1])\n",
            "[6]\n",
            "[9, 9, 8, 4, 7, 4] [9, 9, 8, 3, 8, 2]\n"
          ]
        },
        {
          "output_type": "stream",
          "name": "stderr",
          "text": [
            "\r460it [03:40,  1.97it/s]"
          ]
        },
        {
          "output_type": "stream",
          "name": "stdout",
          "text": [
            "torch.Size([1])\n",
            "[6]\n",
            "[9, 2, 4, 6, 8, 5] [10, 2, 8, 7, 7, 5]\n"
          ]
        },
        {
          "output_type": "stream",
          "name": "stderr",
          "text": [
            "\r461it [03:41,  1.71it/s]"
          ]
        },
        {
          "output_type": "stream",
          "name": "stdout",
          "text": [
            "torch.Size([1])\n",
            "[6]\n",
            "[10, 3, 7, 5, 5, 4] [10, 3, 1, 4, 5, 4]\n",
            "torch.Size([1])\n",
            "[6]\n",
            "[9, 2, 7, 5, 7, 10] [10, 2, 5, 6, 8, 9]\n"
          ]
        },
        {
          "output_type": "stream",
          "name": "stderr",
          "text": [
            "\r463it [03:42,  1.58it/s]"
          ]
        },
        {
          "output_type": "stream",
          "name": "stdout",
          "text": [
            "torch.Size([1])\n",
            "[6]\n",
            "[10, 2, 6, 4, 10, 7] [10, 2, 6, 3, 10, 7]\n",
            "torch.Size([1])\n",
            "[6]\n",
            "[2, 1, 4, 3, 5, 10] [2, 1, 4, 2, 7, 10]\n"
          ]
        },
        {
          "output_type": "stream",
          "name": "stderr",
          "text": [
            "\r465it [03:43,  1.65it/s]"
          ]
        },
        {
          "output_type": "stream",
          "name": "stdout",
          "text": [
            "torch.Size([1])\n",
            "[6]\n",
            "[9, 1, 8, 9, 3, 9] [10, 1, 8, 9, 1, 7]\n",
            "torch.Size([1])\n",
            "[6]\n",
            "[8, 1, 3, 2, 9, 10] [2, 1, 3, 1, 10, 10]\n"
          ]
        },
        {
          "output_type": "stream",
          "name": "stderr",
          "text": [
            "\r467it [03:44,  1.87it/s]"
          ]
        },
        {
          "output_type": "stream",
          "name": "stdout",
          "text": [
            "torch.Size([1])\n",
            "[6]\n",
            "[9, 2, 1, 7, 4, 2] [10, 2, 1, 8, 3, 1]\n",
            "torch.Size([1])\n",
            "[6]\n",
            "[9, 4, 7, 9, 9, 7] [10, 2, 7, 10, 8, 3]\n"
          ]
        },
        {
          "output_type": "stream",
          "name": "stderr",
          "text": [
            "\r469it [03:45,  1.86it/s]"
          ]
        },
        {
          "output_type": "stream",
          "name": "stdout",
          "text": [
            "torch.Size([1])\n",
            "[6]\n",
            "[10, 3, 2, 7, 6, 4] [10, 3, 2, 7, 4, 3]\n",
            "torch.Size([1])\n",
            "[6]\n",
            "[9, 2, 7, 6, 3, 10] [10, 2, 6, 7, 2, 10]\n"
          ]
        },
        {
          "output_type": "stream",
          "name": "stderr",
          "text": [
            "\r471it [03:46,  2.01it/s]"
          ]
        },
        {
          "output_type": "stream",
          "name": "stdout",
          "text": [
            "torch.Size([1])\n",
            "[6]\n",
            "[9, 1, 10, 3, 3, 2] [10, 2, 10, 4, 3, 5]\n",
            "torch.Size([1])\n",
            "[6]\n",
            "[10, 2, 7, 4, 4, 9] [10, 2, 7, 3, 4, 7]\n"
          ]
        },
        {
          "output_type": "stream",
          "name": "stderr",
          "text": [
            "\r473it [03:47,  1.92it/s]"
          ]
        },
        {
          "output_type": "stream",
          "name": "stdout",
          "text": [
            "torch.Size([1])\n",
            "[6]\n",
            "[9, 1, 8, 4, 4, 3] [10, 1, 8, 5, 4, 2]\n",
            "torch.Size([1])\n",
            "[6]\n",
            "[10, 2, 1, 4, 8, 5] [10, 2, 1, 4, 8, 6]\n"
          ]
        },
        {
          "output_type": "stream",
          "name": "stderr",
          "text": [
            "\r475it [03:49,  1.71it/s]"
          ]
        },
        {
          "output_type": "stream",
          "name": "stdout",
          "text": [
            "torch.Size([1])\n",
            "[6]\n",
            "[9, 2, 6, 6, 3, 3] [10, 2, 8, 6, 2, 2]\n",
            "torch.Size([1])\n",
            "[6]\n",
            "[9, 2, 1, 1, 2, 9] [10, 2, 1, 1, 1, 9]\n"
          ]
        },
        {
          "output_type": "stream",
          "name": "stderr",
          "text": [
            "\r477it [03:49,  1.88it/s]"
          ]
        },
        {
          "output_type": "stream",
          "name": "stdout",
          "text": [
            "torch.Size([1])\n",
            "[6]\n",
            "[9, 2, 8, 5, 4, 7] [10, 2, 8, 5, 5, 10]\n",
            "torch.Size([1])\n",
            "[6]\n",
            "[9, 2, 1, 4, 6, 6] [10, 2, 1, 3, 6, 5]\n"
          ]
        },
        {
          "output_type": "stream",
          "name": "stderr",
          "text": [
            "\r479it [03:50,  2.06it/s]"
          ]
        },
        {
          "output_type": "stream",
          "name": "stdout",
          "text": [
            "torch.Size([1])\n",
            "[6]\n",
            "[10, 5, 1, 6, 8, 3] [10, 5, 1, 6, 7, 3]\n",
            "torch.Size([1])\n",
            "[6]\n",
            "[9, 4, 5, 4, 3, 4] [10, 4, 4, 3, 3, 6]\n"
          ]
        },
        {
          "output_type": "stream",
          "name": "stderr",
          "text": [
            "\r481it [03:51,  1.83it/s]"
          ]
        },
        {
          "output_type": "stream",
          "name": "stdout",
          "text": [
            "torch.Size([1])\n",
            "[6]\n",
            "[10, 3, 4, 6, 4, 6] [10, 3, 3, 6, 4, 7]\n",
            "torch.Size([1])\n",
            "[6]\n",
            "[9, 4, 1, 8, 6, 5] [10, 4, 1, 10, 5, 5]\n"
          ]
        },
        {
          "output_type": "stream",
          "name": "stderr",
          "text": [
            "\r483it [03:52,  2.00it/s]"
          ]
        },
        {
          "output_type": "stream",
          "name": "stdout",
          "text": [
            "torch.Size([1])\n",
            "[6]\n",
            "[9, 3, 8, 4, 6, 9] [10, 3, 8, 6, 5, 7]\n",
            "torch.Size([1])\n",
            "[6]\n",
            "[9, 3, 6, 8, 8, 7] [10, 3, 6, 8, 8, 7]\n"
          ]
        },
        {
          "output_type": "stream",
          "name": "stderr",
          "text": [
            "\r485it [03:54,  1.78it/s]"
          ]
        },
        {
          "output_type": "stream",
          "name": "stdout",
          "text": [
            "torch.Size([1])\n",
            "[6]\n",
            "[10, 4, 9, 5, 10, 4] [10, 4, 9, 5, 10, 1]\n",
            "torch.Size([1])\n",
            "[6]\n",
            "[4, 1, 4, 8, 5, 9] [2, 1, 4, 8, 3, 8]\n"
          ]
        },
        {
          "output_type": "stream",
          "name": "stderr",
          "text": [
            "\r487it [03:55,  1.91it/s]"
          ]
        },
        {
          "output_type": "stream",
          "name": "stdout",
          "text": [
            "torch.Size([1])\n",
            "[6]\n",
            "[10, 3, 4, 9, 8, 4] [10, 3, 4, 10, 8, 4]\n",
            "torch.Size([1])\n",
            "[6]\n",
            "[9, 8, 7, 1, 5, 1] [10, 4, 7, 1, 4, 1]\n"
          ]
        },
        {
          "output_type": "stream",
          "name": "stderr",
          "text": [
            "\r489it [03:55,  2.02it/s]"
          ]
        },
        {
          "output_type": "stream",
          "name": "stdout",
          "text": [
            "torch.Size([1])\n",
            "[6]\n",
            "[9, 3, 9, 4, 3, 5] [10, 3, 9, 4, 2, 5]\n",
            "torch.Size([1])\n",
            "[6]\n",
            "[9, 4, 5, 2, 8, 6] [10, 4, 5, 2, 8, 4]\n"
          ]
        },
        {
          "output_type": "stream",
          "name": "stderr",
          "text": [
            "\r491it [03:56,  2.10it/s]"
          ]
        },
        {
          "output_type": "stream",
          "name": "stdout",
          "text": [
            "torch.Size([1])\n",
            "[6]\n",
            "[10, 5, 2, 8, 3, 7] [10, 5, 2, 8, 2, 8]\n",
            "torch.Size([1])\n",
            "[6]\n",
            "[10, 1, 6, 3, 10, 1] [10, 3, 10, 1, 10, 2]\n"
          ]
        },
        {
          "output_type": "stream",
          "name": "stderr",
          "text": [
            "\r493it [03:58,  1.83it/s]"
          ]
        },
        {
          "output_type": "stream",
          "name": "stdout",
          "text": [
            "torch.Size([1])\n",
            "[6]\n",
            "[10, 7, 4, 4, 6, 2] [10, 5, 4, 3, 6, 1]\n",
            "torch.Size([1])\n",
            "[6]\n",
            "[9, 4, 4, 9, 5, 7] [10, 4, 4, 10, 4, 8]\n"
          ]
        },
        {
          "output_type": "stream",
          "name": "stderr",
          "text": [
            "\r495it [03:58,  2.01it/s]"
          ]
        },
        {
          "output_type": "stream",
          "name": "stdout",
          "text": [
            "torch.Size([1])\n",
            "[6]\n",
            "[9, 3, 2, 6, 3, 9] [10, 3, 2, 8, 2, 10]\n",
            "torch.Size([1])\n",
            "[6]\n",
            "[2, 1, 4, 9, 5, 4] [2, 1, 4, 9, 6, 1]\n"
          ]
        },
        {
          "output_type": "stream",
          "name": "stderr",
          "text": [
            "\r497it [03:59,  2.11it/s]"
          ]
        },
        {
          "output_type": "stream",
          "name": "stdout",
          "text": [
            "torch.Size([1])\n",
            "[6]\n",
            "[10, 6, 5, 4, 10, 10] [10, 6, 5, 4, 10, 10]\n",
            "torch.Size([1])\n",
            "[6]\n",
            "[10, 5, 7, 5, 6, 7] [10, 5, 7, 5, 8, 8]\n"
          ]
        },
        {
          "output_type": "stream",
          "name": "stderr",
          "text": [
            "\r499it [04:01,  1.76it/s]"
          ]
        },
        {
          "output_type": "stream",
          "name": "stdout",
          "text": [
            "torch.Size([1])\n",
            "[6]\n",
            "[9, 5, 4, 6, 6, 5] [10, 5, 4, 6, 7, 7]\n",
            "torch.Size([1])\n",
            "[6]\n",
            "[9, 4, 7, 4, 4, 3] [10, 5, 5, 6, 2, 5]\n"
          ]
        },
        {
          "output_type": "stream",
          "name": "stderr",
          "text": [
            "\r501it [04:02,  1.93it/s]"
          ]
        },
        {
          "output_type": "stream",
          "name": "stdout",
          "text": [
            "torch.Size([1])\n",
            "[6]\n",
            "[9, 1, 10, 4, 7, 9] [10, 5, 10, 4, 9, 8]\n",
            "torch.Size([1])\n",
            "[6]\n",
            "[9, 4, 9, 5, 5, 9] [10, 5, 8, 5, 6, 10]\n"
          ]
        },
        {
          "output_type": "stream",
          "name": "stderr",
          "text": [
            "\r503it [04:03,  2.04it/s]"
          ]
        },
        {
          "output_type": "stream",
          "name": "stdout",
          "text": [
            "torch.Size([1])\n",
            "[6]\n",
            "[4, 1, 8, 3, 9, 9] [2, 1, 8, 2, 9, 8]\n",
            "torch.Size([1])\n",
            "[6]\n",
            "[10, 7, 9, 3, 3, 2] [10, 5, 9, 3, 3, 1]\n"
          ]
        },
        {
          "output_type": "stream",
          "name": "stderr",
          "text": [
            "\r505it [04:04,  1.77it/s]"
          ]
        },
        {
          "output_type": "stream",
          "name": "stdout",
          "text": [
            "torch.Size([1])\n",
            "[6]\n",
            "[10, 4, 6, 5, 3, 7] [10, 5, 6, 5, 10, 8]\n",
            "torch.Size([1])\n",
            "[6]\n",
            "[10, 5, 7, 2, 3, 6] [10, 5, 7, 2, 3, 5]\n"
          ]
        },
        {
          "output_type": "stream",
          "name": "stderr",
          "text": [
            "\r507it [04:05,  1.73it/s]"
          ]
        },
        {
          "output_type": "stream",
          "name": "stdout",
          "text": [
            "torch.Size([1])\n",
            "[6]\n",
            "[9, 7, 6, 8, 8, 3] [10, 5, 6, 9, 6, 1]\n",
            "torch.Size([1])\n",
            "[6]\n",
            "[10, 6, 2, 3, 8, 1] [10, 6, 2, 1, 7, 1]\n"
          ]
        },
        {
          "output_type": "stream",
          "name": "stderr",
          "text": [
            "\r509it [04:07,  1.61it/s]"
          ]
        },
        {
          "output_type": "stream",
          "name": "stdout",
          "text": [
            "torch.Size([1])\n",
            "[6]\n",
            "[9, 6, 6, 9, 5, 4] [10, 6, 6, 10, 4, 3]\n",
            "torch.Size([1])\n",
            "[6]\n",
            "[10, 5, 6, 2, 6, 5] [10, 5, 6, 2, 6, 6]\n"
          ]
        },
        {
          "output_type": "stream",
          "name": "stderr",
          "text": [
            "\r511it [04:07,  1.80it/s]"
          ]
        },
        {
          "output_type": "stream",
          "name": "stdout",
          "text": [
            "torch.Size([1])\n",
            "[6]\n",
            "[9, 6, 8, 3, 3, 2] [10, 6, 6, 2, 1, 2]\n",
            "torch.Size([1])\n",
            "[6]\n",
            "[10, 6, 3, 4, 5, 9] [10, 6, 3, 6, 5, 8]\n"
          ]
        },
        {
          "output_type": "stream",
          "name": "stderr",
          "text": [
            "\r513it [04:09,  1.80it/s]"
          ]
        },
        {
          "output_type": "stream",
          "name": "stdout",
          "text": [
            "torch.Size([1])\n",
            "[6]\n",
            "[2, 1, 10, 3, 5, 4] [2, 1, 10, 3, 6, 1]\n",
            "torch.Size([1])\n",
            "[6]\n",
            "[10, 7, 8, 2, 5, 6] [10, 5, 6, 2, 5, 5]\n"
          ]
        },
        {
          "output_type": "stream",
          "name": "stderr",
          "text": [
            "\r515it [04:10,  1.67it/s]"
          ]
        },
        {
          "output_type": "stream",
          "name": "stdout",
          "text": [
            "torch.Size([1])\n",
            "[6]\n",
            "[8, 7, 10, 9, 9, 10] [10, 7, 10, 8, 9, 10]\n",
            "torch.Size([1])\n",
            "[6]\n",
            "[10, 8, 1, 5, 6, 3] [10, 8, 1, 6, 6, 4]\n"
          ]
        },
        {
          "output_type": "stream",
          "name": "stderr",
          "text": [
            "\r517it [04:11,  1.82it/s]"
          ]
        },
        {
          "output_type": "stream",
          "name": "stdout",
          "text": [
            "torch.Size([1])\n",
            "[6]\n",
            "[10, 7, 4, 6, 10, 9] [10, 7, 4, 6, 10, 9]\n",
            "torch.Size([1])\n",
            "[6]\n",
            "[7, 8, 5, 3, 5, 7] [10, 6, 9, 10, 7, 5]\n"
          ]
        },
        {
          "output_type": "stream",
          "name": "stderr",
          "text": [
            "\r519it [04:11,  2.09it/s]"
          ]
        },
        {
          "output_type": "stream",
          "name": "stdout",
          "text": [
            "torch.Size([1])\n",
            "[6]\n",
            "[10, 7, 3, 8, 8, 5] [10, 7, 3, 8, 8, 5]\n",
            "torch.Size([1])\n",
            "[6]\n",
            "[10, 7, 8, 5, 5, 7] [10, 7, 8, 6, 6, 8]\n"
          ]
        },
        {
          "output_type": "stream",
          "name": "stderr",
          "text": [
            "\r521it [04:13,  1.75it/s]"
          ]
        },
        {
          "output_type": "stream",
          "name": "stdout",
          "text": [
            "torch.Size([1])\n",
            "[6]\n",
            "[9, 7, 4, 3, 3, 10] [10, 7, 4, 3, 1, 10]\n",
            "torch.Size([1])\n",
            "[6]\n",
            "[10, 7, 6, 4, 3, 3] [10, 7, 6, 4, 1, 2]\n"
          ]
        },
        {
          "output_type": "stream",
          "name": "stderr",
          "text": [
            "524it [04:14,  2.19it/s]"
          ]
        },
        {
          "output_type": "stream",
          "name": "stdout",
          "text": [
            "torch.Size([1])\n",
            "[6]\n",
            "[10, 7, 4, 9, 6, 7] [10, 7, 4, 10, 6, 7]\n",
            "torch.Size([1])\n",
            "[6]\n",
            "[10, 7, 2, 6, 5, 4] [10, 7, 2, 7, 2, 3]\n"
          ]
        },
        {
          "output_type": "stream",
          "name": "stderr",
          "text": [
            "526it [04:15,  2.35it/s]"
          ]
        },
        {
          "output_type": "stream",
          "name": "stdout",
          "text": [
            "torch.Size([1])\n",
            "[6]\n",
            "[9, 8, 6, 9, 10, 4] [10, 8, 1, 7, 1, 2]\n",
            "torch.Size([1])\n",
            "[6]\n",
            "[10, 7, 3, 2, 5, 4] [10, 7, 3, 2, 5, 3]\n"
          ]
        },
        {
          "output_type": "stream",
          "name": "stderr",
          "text": [
            "\r527it [04:15,  2.15it/s]"
          ]
        },
        {
          "output_type": "stream",
          "name": "stdout",
          "text": [
            "torch.Size([1])\n",
            "[6]\n",
            "[9, 6, 8, 1, 4, 4] [10, 6, 8, 1, 2, 8]\n"
          ]
        },
        {
          "output_type": "stream",
          "name": "stderr",
          "text": [
            "\r528it [04:16,  2.47it/s]"
          ]
        },
        {
          "output_type": "stream",
          "name": "stdout",
          "text": [
            "torch.Size([1])\n",
            "[6]\n",
            "[5, 8, 1, 5, 3, 3] [10, 8, 1, 5, 2, 1]\n"
          ]
        },
        {
          "output_type": "stream",
          "name": "stderr",
          "text": [
            "\r529it [04:16,  2.24it/s]"
          ]
        },
        {
          "output_type": "stream",
          "name": "stdout",
          "text": [
            "torch.Size([1])\n",
            "[6]\n",
            "[10, 7, 4, 10, 3, 6] [10, 7, 4, 10, 2, 5]\n"
          ]
        },
        {
          "output_type": "stream",
          "name": "stderr",
          "text": [
            "\r530it [04:16,  2.50it/s]"
          ]
        },
        {
          "output_type": "stream",
          "name": "stdout",
          "text": [
            "torch.Size([1])\n",
            "[6]\n",
            "[6, 2, 1, 8, 8, 7] [2, 2, 1, 8, 7, 7]\n"
          ]
        },
        {
          "output_type": "stream",
          "name": "stderr",
          "text": [
            "\r531it [04:17,  2.32it/s]"
          ]
        },
        {
          "output_type": "stream",
          "name": "stdout",
          "text": [
            "torch.Size([1])\n",
            "[6]\n",
            "[10, 8, 1, 6, 5, 2] [10, 8, 1, 6, 5, 2]\n"
          ]
        },
        {
          "output_type": "stream",
          "name": "stderr",
          "text": [
            "\r532it [04:17,  2.58it/s]"
          ]
        },
        {
          "output_type": "stream",
          "name": "stdout",
          "text": [
            "torch.Size([1])\n",
            "[6]\n",
            "[10, 7, 10, 5, 6, 7] [10, 7, 10, 6, 6, 6]\n"
          ]
        },
        {
          "output_type": "stream",
          "name": "stderr",
          "text": [
            "\r533it [04:18,  2.31it/s]"
          ]
        },
        {
          "output_type": "stream",
          "name": "stdout",
          "text": [
            "torch.Size([1])\n",
            "[6]\n",
            "[10, 8, 1, 3, 4, 5] [10, 9, 1, 2, 2, 3]\n"
          ]
        },
        {
          "output_type": "stream",
          "name": "stderr",
          "text": [
            "\r534it [04:18,  2.50it/s]"
          ]
        },
        {
          "output_type": "stream",
          "name": "stdout",
          "text": [
            "torch.Size([1])\n",
            "[6]\n",
            "[9, 8, 9, 3, 3, 7] [10, 8, 9, 2, 3, 4]\n"
          ]
        },
        {
          "output_type": "stream",
          "name": "stderr",
          "text": [
            "\r535it [04:19,  2.18it/s]"
          ]
        },
        {
          "output_type": "stream",
          "name": "stdout",
          "text": [
            "torch.Size([1])\n",
            "[6]\n",
            "[10, 8, 6, 3, 7, 5] [10, 8, 5, 3, 6, 4]\n"
          ]
        },
        {
          "output_type": "stream",
          "name": "stderr",
          "text": [
            "\r536it [04:20,  1.77it/s]"
          ]
        },
        {
          "output_type": "stream",
          "name": "stdout",
          "text": [
            "torch.Size([1])\n",
            "[6]\n",
            "[9, 8, 3, 9, 3, 8] [10, 8, 3, 10, 2, 8]\n"
          ]
        },
        {
          "output_type": "stream",
          "name": "stderr",
          "text": [
            "\r537it [04:20,  1.77it/s]"
          ]
        },
        {
          "output_type": "stream",
          "name": "stdout",
          "text": [
            "torch.Size([1])\n",
            "[6]\n",
            "[10, 8, 7, 9, 9, 9] [10, 8, 7, 9, 9, 9]\n"
          ]
        },
        {
          "output_type": "stream",
          "name": "stderr",
          "text": [
            "\r538it [04:21,  1.55it/s]"
          ]
        },
        {
          "output_type": "stream",
          "name": "stdout",
          "text": [
            "torch.Size([1])\n",
            "[6]\n",
            "[10, 7, 2, 4, 7, 2] [10, 9, 2, 4, 6, 2]\n",
            "torch.Size([1])\n",
            "[6]\n",
            "[10, 8, 3, 5, 9, 4] [10, 8, 3, 5, 9, 3]\n"
          ]
        },
        {
          "output_type": "stream",
          "name": "stderr",
          "text": [
            "\r540it [04:22,  1.66it/s]"
          ]
        },
        {
          "output_type": "stream",
          "name": "stdout",
          "text": [
            "torch.Size([1])\n",
            "[6]\n",
            "[9, 8, 10, 5, 2, 10] [10, 8, 10, 5, 4, 10]\n"
          ]
        },
        {
          "output_type": "stream",
          "name": "stderr",
          "text": [
            "\r541it [04:22,  1.91it/s]"
          ]
        },
        {
          "output_type": "stream",
          "name": "stdout",
          "text": [
            "torch.Size([1])\n",
            "[6]\n",
            "[8, 3, 5, 3, 3, 6] [2, 2, 3, 2, 2, 5]\n"
          ]
        },
        {
          "output_type": "stream",
          "name": "stderr",
          "text": [
            "\r542it [04:23,  1.91it/s]"
          ]
        },
        {
          "output_type": "stream",
          "name": "stdout",
          "text": [
            "torch.Size([1])\n",
            "[6]\n",
            "[9, 8, 7, 7, 5, 4] [10, 8, 10, 7, 4, 1]\n"
          ]
        },
        {
          "output_type": "stream",
          "name": "stderr",
          "text": [
            "\r543it [04:23,  2.22it/s]"
          ]
        },
        {
          "output_type": "stream",
          "name": "stdout",
          "text": [
            "torch.Size([1])\n",
            "[6]\n",
            "[9, 9, 2, 8, 7, 8] [10, 9, 3, 8, 1, 10]\n"
          ]
        },
        {
          "output_type": "stream",
          "name": "stderr",
          "text": [
            "\r544it [04:24,  2.11it/s]"
          ]
        },
        {
          "output_type": "stream",
          "name": "stdout",
          "text": [
            "torch.Size([1])\n",
            "[6]\n",
            "[2, 2, 9, 9, 3, 4] [2, 2, 1, 10, 1, 5]\n"
          ]
        },
        {
          "output_type": "stream",
          "name": "stderr",
          "text": [
            "\r545it [04:24,  2.33it/s]"
          ]
        },
        {
          "output_type": "stream",
          "name": "stdout",
          "text": [
            "torch.Size([1])\n",
            "[6]\n",
            "[9, 9, 3, 4, 9, 3] [10, 9, 3, 2, 10, 3]\n"
          ]
        },
        {
          "output_type": "stream",
          "name": "stderr",
          "text": [
            "\r546it [04:24,  2.28it/s]"
          ]
        },
        {
          "output_type": "stream",
          "name": "stdout",
          "text": [
            "torch.Size([1])\n",
            "[6]\n",
            "[10, 7, 4, 5, 2, 3] [10, 9, 4, 5, 1, 2]\n"
          ]
        },
        {
          "output_type": "stream",
          "name": "stderr",
          "text": [
            "\r547it [04:25,  2.42it/s]"
          ]
        },
        {
          "output_type": "stream",
          "name": "stdout",
          "text": [
            "torch.Size([1])\n",
            "[6]\n",
            "[4, 2, 1, 6, 5, 6] [2, 2, 2, 7, 5, 5]\n"
          ]
        },
        {
          "output_type": "stream",
          "name": "stderr",
          "text": [
            "\r548it [04:25,  2.32it/s]"
          ]
        },
        {
          "output_type": "stream",
          "name": "stdout",
          "text": [
            "torch.Size([1])\n",
            "[6]\n",
            "[10, 7, 2, 3, 6, 4] [10, 9, 2, 2, 6, 4]\n"
          ]
        },
        {
          "output_type": "stream",
          "name": "stderr",
          "text": [
            "\r549it [04:26,  2.49it/s]"
          ]
        },
        {
          "output_type": "stream",
          "name": "stdout",
          "text": [
            "torch.Size([1])\n",
            "[6]\n",
            "[9, 9, 5, 4, 1, 5] [10, 9, 5, 3, 2, 7]\n"
          ]
        },
        {
          "output_type": "stream",
          "name": "stderr",
          "text": [
            "\r550it [04:26,  2.39it/s]"
          ]
        },
        {
          "output_type": "stream",
          "name": "stdout",
          "text": [
            "torch.Size([1])\n",
            "[6]\n",
            "[10, 9, 7, 6, 10, 5] [10, 9, 7, 6, 10, 5]\n"
          ]
        },
        {
          "output_type": "stream",
          "name": "stderr",
          "text": [
            "\r551it [04:26,  2.55it/s]"
          ]
        },
        {
          "output_type": "stream",
          "name": "stdout",
          "text": [
            "torch.Size([1])\n",
            "[6]\n",
            "[10, 7, 5, 9, 6, 7] [10, 9, 5, 9, 5, 9]\n"
          ]
        },
        {
          "output_type": "stream",
          "name": "stderr",
          "text": [
            "553it [04:27,  3.00it/s]"
          ]
        },
        {
          "output_type": "stream",
          "name": "stdout",
          "text": [
            "torch.Size([1])\n",
            "[6]\n",
            "[10, 9, 4, 2, 7, 5] [10, 9, 1, 1, 6, 5]\n",
            "torch.Size([1])\n",
            "[6]\n",
            "[10, 10, 2, 7, 9, 6] [10, 10, 2, 7, 8, 6]\n"
          ]
        },
        {
          "output_type": "stream",
          "name": "stderr",
          "text": [
            "555it [04:28,  2.84it/s]"
          ]
        },
        {
          "output_type": "stream",
          "name": "stdout",
          "text": [
            "torch.Size([1])\n",
            "[6]\n",
            "[9, 10, 3, 9, 9, 7] [10, 10, 3, 9, 7, 10]\n",
            "torch.Size([1])\n",
            "[6]\n",
            "[9, 10, 7, 5, 8, 7] [10, 10, 7, 3, 9, 9]\n"
          ]
        },
        {
          "output_type": "stream",
          "name": "stderr",
          "text": [
            "557it [04:29,  2.77it/s]"
          ]
        },
        {
          "output_type": "stream",
          "name": "stdout",
          "text": [
            "torch.Size([1])\n",
            "[6]\n",
            "[10, 9, 5, 7, 3, 4] [10, 10, 5, 5, 2, 1]\n",
            "torch.Size([1])\n",
            "[6]\n",
            "[10, 10, 1, 6, 5, 5] [10, 10, 1, 5, 1, 1]\n"
          ]
        },
        {
          "output_type": "stream",
          "name": "stderr",
          "text": [
            "\r558it [04:29,  2.29it/s]"
          ]
        },
        {
          "output_type": "stream",
          "name": "stdout",
          "text": [
            "torch.Size([1])\n",
            "[6]\n",
            "[9, 8, 1, 1, 4, 9] [10, 10, 1, 1, 3, 9]\n"
          ]
        },
        {
          "output_type": "stream",
          "name": "stderr",
          "text": [
            "\r559it [04:30,  2.23it/s]"
          ]
        },
        {
          "output_type": "stream",
          "name": "stdout",
          "text": [
            "torch.Size([1])\n",
            "[6]\n",
            "[10, 10, 7, 5, 5, 4] [10, 10, 7, 5, 4, 3]\n"
          ]
        },
        {
          "output_type": "stream",
          "name": "stderr",
          "text": [
            "\r560it [04:30,  2.26it/s]"
          ]
        },
        {
          "output_type": "stream",
          "name": "stdout",
          "text": [
            "torch.Size([1])\n",
            "[6]\n",
            "[9, 10, 4, 5, 4, 6] [10, 10, 4, 7, 10, 6]\n"
          ]
        },
        {
          "output_type": "stream",
          "name": "stderr",
          "text": [
            "\r561it [04:31,  1.58it/s]"
          ]
        },
        {
          "output_type": "stream",
          "name": "stdout",
          "text": [
            "torch.Size([1])\n",
            "[6]\n",
            "[10, 9, 9, 5, 8, 8] [10, 10, 8, 5, 8, 10]\n",
            "torch.Size([1])\n",
            "[6]\n",
            "[9, 3, 8, 6, 10, 4] [10, 10, 8, 6, 10, 4]\n"
          ]
        },
        {
          "output_type": "stream",
          "name": "stderr",
          "text": [
            "\r563it [04:32,  1.72it/s]"
          ]
        },
        {
          "output_type": "stream",
          "name": "stdout",
          "text": [
            "torch.Size([1])\n",
            "[6]\n",
            "[10, 10, 9, 4, 5, 5] [10, 10, 9, 4, 6, 5]\n",
            "torch.Size([1])\n",
            "[6]\n",
            "[9, 10, 5, 4, 7, 9] [10, 10, 1, 3, 2, 10]\n"
          ]
        },
        {
          "output_type": "stream",
          "name": "stderr",
          "text": [
            "\r565it [04:33,  1.98it/s]"
          ]
        },
        {
          "output_type": "stream",
          "name": "stdout",
          "text": [
            "torch.Size([1])\n",
            "[6]\n",
            "[10, 10, 7, 3, 6, 5] [10, 10, 7, 4, 7, 6]\n",
            "torch.Size([1])\n",
            "[6]\n",
            "[9, 9, 8, 7, 2, 6] [10, 9, 8, 8, 2, 6]\n"
          ]
        },
        {
          "output_type": "stream",
          "name": "stderr",
          "text": [
            "\r567it [04:34,  1.90it/s]"
          ]
        },
        {
          "output_type": "stream",
          "name": "stdout",
          "text": [
            "torch.Size([1])\n",
            "[6]\n",
            "[1, 1, 3, 4, 8, 4] [1, 1, 3, 2, 9, 6]\n",
            "torch.Size([1])\n",
            "[6]\n",
            "[9, 10, 7, 7, 4, 9] [10, 10, 7, 7, 3, 8]\n"
          ]
        },
        {
          "output_type": "stream",
          "name": "stderr",
          "text": [
            "\r569it [04:35,  1.87it/s]"
          ]
        },
        {
          "output_type": "stream",
          "name": "stdout",
          "text": [
            "torch.Size([1])\n",
            "[6]\n",
            "[10, 10, 7, 5, 8, 8] [10, 10, 5, 4, 9, 8]\n",
            "torch.Size([1])\n",
            "[6]\n",
            "[4, 8, 3, 7, 3, 4] [2, 2, 3, 9, 2, 1]\n"
          ]
        },
        {
          "output_type": "stream",
          "name": "stderr",
          "text": [
            "\r571it [04:36,  2.01it/s]"
          ]
        },
        {
          "output_type": "stream",
          "name": "stdout",
          "text": [
            "torch.Size([1])\n",
            "[6]\n",
            "[10, 10, 3, 8, 3, 5] [10, 10, 3, 6, 2, 4]\n",
            "torch.Size([1])\n",
            "[6]\n",
            "[4, 2, 4, 4, 9, 8] [2, 2, 4, 4, 9, 6]\n"
          ]
        },
        {
          "output_type": "stream",
          "name": "stderr",
          "text": [
            "\r573it [04:37,  1.79it/s]"
          ]
        },
        {
          "output_type": "stream",
          "name": "stdout",
          "text": [
            "torch.Size([1])\n",
            "[6]\n",
            "[4, 3, 6, 6, 7, 5] [2, 3, 6, 4, 8, 5]\n",
            "torch.Size([1])\n",
            "[6]\n",
            "[1, 2, 10, 5, 5, 4] [2, 2, 10, 7, 5, 2]\n"
          ]
        },
        {
          "output_type": "stream",
          "name": "stderr",
          "text": [
            "\r575it [04:38,  1.96it/s]"
          ]
        },
        {
          "output_type": "stream",
          "name": "stdout",
          "text": [
            "torch.Size([1])\n",
            "[6]\n",
            "[1, 2, 6, 3, 1, 6] [1, 2, 6, 2, 1, 6]\n",
            "torch.Size([1])\n",
            "[6]\n",
            "[2, 2, 5, 9, 5, 8] [2, 2, 5, 9, 5, 10]\n"
          ]
        },
        {
          "output_type": "stream",
          "name": "stderr",
          "text": [
            "\r577it [04:39,  2.10it/s]"
          ]
        },
        {
          "output_type": "stream",
          "name": "stdout",
          "text": [
            "torch.Size([1])\n",
            "[6]\n",
            "[2, 3, 9, 3, 3, 8] [2, 3, 7, 2, 5, 9]\n",
            "torch.Size([1])\n",
            "[6]\n",
            "[5, 3, 6, 5, 5, 9] [2, 3, 4, 5, 6, 9]\n"
          ]
        },
        {
          "output_type": "stream",
          "name": "stderr",
          "text": [
            "\r579it [04:40,  2.19it/s]"
          ]
        },
        {
          "output_type": "stream",
          "name": "stdout",
          "text": [
            "torch.Size([1])\n",
            "[6]\n",
            "[2, 3, 9, 1, 1, 2] [2, 3, 7, 1, 1, 10]\n",
            "torch.Size([1])\n",
            "[6]\n",
            "[2, 3, 8, 5, 9, 2] [2, 3, 8, 7, 10, 1]\n"
          ]
        },
        {
          "output_type": "stream",
          "name": "stderr",
          "text": [
            "\r581it [04:41,  2.26it/s]"
          ]
        },
        {
          "output_type": "stream",
          "name": "stdout",
          "text": [
            "torch.Size([1])\n",
            "[6]\n",
            "[3, 2, 9, 8, 5, 10] [2, 2, 10, 8, 5, 10]\n",
            "torch.Size([1])\n",
            "[6]\n",
            "[2, 2, 9, 5, 5, 8] [2, 2, 7, 5, 7, 9]\n"
          ]
        },
        {
          "output_type": "stream",
          "name": "stderr",
          "text": [
            "\r583it [04:42,  2.09it/s]"
          ]
        },
        {
          "output_type": "stream",
          "name": "stdout",
          "text": [
            "torch.Size([1])\n",
            "[6]\n",
            "[2, 4, 7, 9, 5, 8] [2, 3, 7, 9, 5, 8]\n",
            "torch.Size([1])\n",
            "[6]\n",
            "[2, 5, 9, 8, 8, 7] [2, 3, 9, 8, 8, 6]\n"
          ]
        },
        {
          "output_type": "stream",
          "name": "stderr",
          "text": [
            "\r585it [04:43,  2.22it/s]"
          ]
        },
        {
          "output_type": "stream",
          "name": "stdout",
          "text": [
            "torch.Size([1])\n",
            "[6]\n",
            "[3, 3, 9, 4, 7, 2] [2, 3, 9, 3, 7, 2]\n",
            "torch.Size([1])\n",
            "[6]\n",
            "[3, 5, 8, 9, 8, 5] [2, 2, 8, 10, 6, 2]\n"
          ]
        },
        {
          "output_type": "stream",
          "name": "stderr",
          "text": [
            "588it [04:44,  2.54it/s]"
          ]
        },
        {
          "output_type": "stream",
          "name": "stdout",
          "text": [
            "torch.Size([1])\n",
            "[6]\n",
            "[2, 2, 9, 10, 4, 8] [2, 2, 9, 10, 3, 6]\n",
            "torch.Size([1])\n",
            "[6]\n",
            "[4, 2, 6, 9, 8, 8] [2, 2, 6, 9, 9, 8]\n"
          ]
        },
        {
          "output_type": "stream",
          "name": "stderr",
          "text": [
            "\r589it [04:44,  2.35it/s]"
          ]
        },
        {
          "output_type": "stream",
          "name": "stdout",
          "text": [
            "torch.Size([1])\n",
            "[6]\n",
            "[2, 3, 9, 3, 5, 7] [2, 3, 1, 1, 5, 8]\n"
          ]
        },
        {
          "output_type": "stream",
          "name": "stderr",
          "text": [
            "\r590it [04:44,  2.63it/s]"
          ]
        },
        {
          "output_type": "stream",
          "name": "stdout",
          "text": [
            "torch.Size([1])\n",
            "[6]\n",
            "[2, 2, 7, 8, 2, 5] [2, 2, 4, 9, 1, 9]\n"
          ]
        },
        {
          "output_type": "stream",
          "name": "stderr",
          "text": [
            "592it [04:45,  2.71it/s]"
          ]
        },
        {
          "output_type": "stream",
          "name": "stdout",
          "text": [
            "torch.Size([1])\n",
            "[6]\n",
            "[1, 4, 2, 5, 5, 8] [2, 4, 2, 2, 5, 9]\n",
            "torch.Size([1])\n",
            "[6]\n",
            "[4, 4, 3, 7, 7, 5] [2, 4, 3, 5, 8, 6]\n"
          ]
        },
        {
          "output_type": "stream",
          "name": "stderr",
          "text": [
            "\r593it [04:46,  2.13it/s]"
          ]
        },
        {
          "output_type": "stream",
          "name": "stdout",
          "text": [
            "torch.Size([1])\n",
            "[6]\n",
            "[2, 3, 1, 1, 5, 6] [2, 4, 4, 1, 6, 7]\n"
          ]
        },
        {
          "output_type": "stream",
          "name": "stderr",
          "text": [
            "\r594it [04:47,  1.90it/s]"
          ]
        },
        {
          "output_type": "stream",
          "name": "stdout",
          "text": [
            "torch.Size([1])\n",
            "[6]\n",
            "[5, 6, 8, 10, 10, 1] [2, 4, 8, 9, 9, 1]\n"
          ]
        },
        {
          "output_type": "stream",
          "name": "stderr",
          "text": [
            "\r595it [04:47,  1.67it/s]"
          ]
        },
        {
          "output_type": "stream",
          "name": "stdout",
          "text": [
            "torch.Size([1])\n",
            "[6]\n",
            "[2, 10, 5, 6, 5, 10] [2, 5, 1, 5, 6, 10]\n",
            "torch.Size([1])\n",
            "[6]\n",
            "[2, 7, 9, 1, 6, 3] [2, 3, 9, 10, 7, 3]\n"
          ]
        },
        {
          "output_type": "stream",
          "name": "stderr",
          "text": [
            "\r597it [04:49,  1.52it/s]"
          ]
        },
        {
          "output_type": "stream",
          "name": "stdout",
          "text": [
            "torch.Size([1])\n",
            "[6]\n",
            "[2, 4, 5, 9, 10, 5] [2, 4, 5, 10, 10, 4]\n",
            "torch.Size([1])\n",
            "[6]\n",
            "[2, 5, 10, 3, 4, 7] [2, 4, 10, 2, 6, 9]\n"
          ]
        },
        {
          "output_type": "stream",
          "name": "stderr",
          "text": [
            "\r599it [04:50,  1.76it/s]"
          ]
        },
        {
          "output_type": "stream",
          "name": "stdout",
          "text": [
            "torch.Size([1])\n",
            "[6]\n",
            "[1, 4, 3, 2, 5, 9] [2, 4, 3, 2, 6, 9]\n",
            "torch.Size([1])\n",
            "[6]\n",
            "[1, 4, 10, 9, 5, 10] [2, 4, 10, 10, 5, 10]\n"
          ]
        },
        {
          "output_type": "stream",
          "name": "stderr",
          "text": [
            "\r601it [04:51,  1.70it/s]"
          ]
        },
        {
          "output_type": "stream",
          "name": "stdout",
          "text": [
            "torch.Size([1])\n",
            "[6]\n",
            "[4, 5, 5, 4, 5, 1] [2, 5, 5, 4, 5, 2]\n",
            "torch.Size([1])\n",
            "[6]\n",
            "[3, 2, 7, 7, 8, 2] [1, 2, 7, 6, 9, 1]\n"
          ]
        },
        {
          "output_type": "stream",
          "name": "stderr",
          "text": [
            "\r603it [04:52,  1.57it/s]"
          ]
        },
        {
          "output_type": "stream",
          "name": "stdout",
          "text": [
            "torch.Size([1])\n",
            "[6]\n",
            "[4, 4, 3, 10, 7, 6] [2, 4, 3, 10, 7, 6]\n",
            "torch.Size([1])\n",
            "[6]\n",
            "[2, 1, 10, 5, 9, 6] [2, 3, 10, 5, 10, 6]\n"
          ]
        },
        {
          "output_type": "stream",
          "name": "stderr",
          "text": [
            "\r605it [04:53,  1.78it/s]"
          ]
        },
        {
          "output_type": "stream",
          "name": "stdout",
          "text": [
            "torch.Size([1])\n",
            "[6]\n",
            "[2, 4, 3, 5, 5, 8] [2, 4, 3, 5, 5, 9]\n",
            "torch.Size([1])\n",
            "[6]\n",
            "[2, 6, 8, 3, 1, 5] [2, 4, 8, 3, 3, 4]\n"
          ]
        },
        {
          "output_type": "stream",
          "name": "stderr",
          "text": [
            "\r607it [04:54,  2.06it/s]"
          ]
        },
        {
          "output_type": "stream",
          "name": "stdout",
          "text": [
            "torch.Size([1])\n",
            "[6]\n",
            "[2, 6, 3, 5, 4, 9] [2, 4, 3, 5, 5, 9]\n",
            "torch.Size([1])\n",
            "[6]\n",
            "[1, 2, 6, 5, 2, 10] [1, 2, 7, 6, 2, 10]\n"
          ]
        },
        {
          "output_type": "stream",
          "name": "stderr",
          "text": [
            "\r609it [04:55,  2.19it/s]"
          ]
        },
        {
          "output_type": "stream",
          "name": "stdout",
          "text": [
            "torch.Size([1])\n",
            "[6]\n",
            "[2, 5, 3, 8, 6, 8] [2, 5, 1, 8, 8, 8]\n",
            "torch.Size([1])\n",
            "[6]\n",
            "[1, 2, 6, 8, 5, 5] [1, 2, 6, 7, 7, 5]\n"
          ]
        },
        {
          "output_type": "stream",
          "name": "stderr",
          "text": [
            "\r611it [04:56,  2.19it/s]"
          ]
        },
        {
          "output_type": "stream",
          "name": "stdout",
          "text": [
            "torch.Size([1])\n",
            "[6]\n",
            "[1, 4, 8, 3, 4, 8] [2, 4, 6, 2, 3, 9]\n",
            "torch.Size([1])\n",
            "[6]\n",
            "[5, 8, 4, 9, 4, 8] [1, 2, 6, 7, 7, 8]\n"
          ]
        },
        {
          "output_type": "stream",
          "name": "stderr",
          "text": [
            "\r613it [04:57,  1.87it/s]"
          ]
        },
        {
          "output_type": "stream",
          "name": "stdout",
          "text": [
            "torch.Size([1])\n",
            "[6]\n",
            "[2, 7, 5, 4, 2, 6] [2, 7, 5, 4, 3, 5]\n",
            "torch.Size([1])\n",
            "[6]\n",
            "[4, 6, 7, 9, 3, 4] [2, 6, 5, 9, 2, 2]\n"
          ]
        },
        {
          "output_type": "stream",
          "name": "stderr",
          "text": [
            "\r615it [04:58,  1.96it/s]"
          ]
        },
        {
          "output_type": "stream",
          "name": "stdout",
          "text": [
            "torch.Size([1])\n",
            "[6]\n",
            "[4, 6, 7, 9, 5, 3] [2, 6, 7, 10, 3, 1]\n",
            "torch.Size([1])\n",
            "[6]\n",
            "[4, 6, 5, 9, 7, 1] [2, 6, 4, 9, 8, 1]\n"
          ]
        },
        {
          "output_type": "stream",
          "name": "stderr",
          "text": [
            "\r617it [04:59,  2.04it/s]"
          ]
        },
        {
          "output_type": "stream",
          "name": "stdout",
          "text": [
            "torch.Size([1])\n",
            "[6]\n",
            "[2, 5, 8, 9, 3, 4] [2, 5, 8, 10, 1, 2]\n",
            "torch.Size([1])\n",
            "[6]\n",
            "[1, 3, 2, 2, 3, 7] [1, 3, 2, 2, 3, 8]\n"
          ]
        },
        {
          "output_type": "stream",
          "name": "stderr",
          "text": [
            "\r619it [05:00,  1.98it/s]"
          ]
        },
        {
          "output_type": "stream",
          "name": "stdout",
          "text": [
            "torch.Size([1])\n",
            "[6]\n",
            "[2, 6, 7, 4, 7, 7] [2, 6, 7, 4, 7, 7]\n",
            "torch.Size([1])\n",
            "[6]\n",
            "[2, 7, 1, 4, 10, 4] [2, 7, 1, 1, 10, 3]\n"
          ]
        },
        {
          "output_type": "stream",
          "name": "stderr",
          "text": [
            "\r621it [05:01,  1.91it/s]"
          ]
        },
        {
          "output_type": "stream",
          "name": "stdout",
          "text": [
            "torch.Size([1])\n",
            "[6]\n",
            "[4, 6, 2, 3, 8, 9] [2, 6, 2, 3, 9, 8]\n",
            "torch.Size([1])\n",
            "[6]\n",
            "[2, 6, 1, 2, 5, 5] [2, 7, 1, 1, 5, 5]\n"
          ]
        },
        {
          "output_type": "stream",
          "name": "stderr",
          "text": [
            "\r623it [05:02,  2.06it/s]"
          ]
        },
        {
          "output_type": "stream",
          "name": "stdout",
          "text": [
            "torch.Size([1])\n",
            "[6]\n",
            "[2, 6, 5, 5, 5, 3] [2, 7, 5, 7, 4, 3]\n",
            "torch.Size([1])\n",
            "[6]\n",
            "[4, 7, 5, 1, 9, 8] [2, 7, 5, 1, 9, 7]\n"
          ]
        },
        {
          "output_type": "stream",
          "name": "stderr",
          "text": [
            "\r625it [05:03,  2.17it/s]"
          ]
        },
        {
          "output_type": "stream",
          "name": "stdout",
          "text": [
            "torch.Size([1])\n",
            "[6]\n",
            "[5, 7, 4, 9, 7, 3] [2, 7, 2, 10, 6, 2]\n",
            "torch.Size([1])\n",
            "[6]\n",
            "[1, 2, 8, 8, 4, 4] [1, 2, 8, 9, 5, 3]\n"
          ]
        },
        {
          "output_type": "stream",
          "name": "stderr",
          "text": [
            "\r627it [05:04,  1.88it/s]"
          ]
        },
        {
          "output_type": "stream",
          "name": "stdout",
          "text": [
            "torch.Size([1])\n",
            "[6]\n",
            "[2, 5, 7, 6, 7, 9] [2, 5, 7, 6, 8, 8]\n",
            "torch.Size([1])\n",
            "[6]\n",
            "[4, 5, 7, 9, 7, 7] [2, 5, 7, 9, 7, 6]\n"
          ]
        },
        {
          "output_type": "stream",
          "name": "stderr",
          "text": [
            "\r629it [05:05,  2.03it/s]"
          ]
        },
        {
          "output_type": "stream",
          "name": "stdout",
          "text": [
            "torch.Size([1])\n",
            "[6]\n",
            "[4, 6, 1, 6, 7, 6] [2, 6, 1, 4, 7, 3]\n",
            "torch.Size([1])\n",
            "[6]\n",
            "[4, 7, 6, 2, 5, 4] [2, 7, 6, 2, 6, 4]\n"
          ]
        },
        {
          "output_type": "stream",
          "name": "stderr",
          "text": [
            "\r631it [05:06,  1.96it/s]"
          ]
        },
        {
          "output_type": "stream",
          "name": "stdout",
          "text": [
            "torch.Size([1])\n",
            "[6]\n",
            "[5, 6, 7, 9, 4, 5] [2, 6, 1, 10, 3, 5]\n",
            "torch.Size([1])\n",
            "[6]\n",
            "[2, 7, 9, 6, 1, 8] [2, 5, 7, 7, 1, 9]\n"
          ]
        },
        {
          "output_type": "stream",
          "name": "stderr",
          "text": [
            "\r633it [05:07,  2.08it/s]"
          ]
        },
        {
          "output_type": "stream",
          "name": "stdout",
          "text": [
            "torch.Size([1])\n",
            "[6]\n",
            "[2, 6, 6, 9, 3, 1] [2, 6, 6, 10, 2, 2]\n",
            "torch.Size([1])\n",
            "[6]\n",
            "[2, 8, 9, 2, 7, 4] [2, 8, 9, 2, 7, 4]\n"
          ]
        },
        {
          "output_type": "stream",
          "name": "stderr",
          "text": [
            "\r635it [05:08,  2.12it/s]"
          ]
        },
        {
          "output_type": "stream",
          "name": "stdout",
          "text": [
            "torch.Size([1])\n",
            "[6]\n",
            "[1, 8, 7, 9, 6, 6] [2, 8, 8, 7, 6, 5]\n",
            "torch.Size([1])\n",
            "[6]\n",
            "[2, 8, 6, 7, 2, 5] [2, 8, 6, 5, 2, 2]\n"
          ]
        },
        {
          "output_type": "stream",
          "name": "stderr",
          "text": [
            "\r637it [05:09,  1.84it/s]"
          ]
        },
        {
          "output_type": "stream",
          "name": "stdout",
          "text": [
            "torch.Size([1])\n",
            "[6]\n",
            "[2, 8, 9, 5, 9, 10] [2, 7, 7, 5, 9, 10]\n",
            "torch.Size([1])\n",
            "[6]\n",
            "[3, 4, 2, 5, 9, 6] [1, 3, 2, 4, 9, 7]\n"
          ]
        },
        {
          "output_type": "stream",
          "name": "stderr",
          "text": [
            "\r639it [05:10,  2.00it/s]"
          ]
        },
        {
          "output_type": "stream",
          "name": "stdout",
          "text": [
            "torch.Size([1])\n",
            "[6]\n",
            "[2, 9, 4, 8, 5, 4] [2, 9, 4, 8, 6, 5]\n",
            "torch.Size([1])\n",
            "[6]\n",
            "[4, 6, 7, 7, 6, 7] [2, 7, 7, 7, 8, 4]\n"
          ]
        },
        {
          "output_type": "stream",
          "name": "stderr",
          "text": [
            "\r641it [05:11,  2.14it/s]"
          ]
        },
        {
          "output_type": "stream",
          "name": "stdout",
          "text": [
            "torch.Size([1])\n",
            "[6]\n",
            "[5, 8, 4, 10, 8, 6] [2, 8, 4, 10, 7, 5]\n",
            "torch.Size([1])\n",
            "[6]\n",
            "[4, 9, 3, 2, 6, 4] [2, 9, 3, 1, 6, 4]\n"
          ]
        },
        {
          "output_type": "stream",
          "name": "stderr",
          "text": [
            "\r643it [05:11,  2.32it/s]"
          ]
        },
        {
          "output_type": "stream",
          "name": "stdout",
          "text": [
            "torch.Size([1])\n",
            "[6]\n",
            "[1, 8, 1, 8, 5, 6] [2, 8, 2, 8, 6, 8]\n"
          ]
        },
        {
          "output_type": "stream",
          "name": "stderr",
          "text": [
            "\r644it [05:12,  2.54it/s]"
          ]
        },
        {
          "output_type": "stream",
          "name": "stdout",
          "text": [
            "torch.Size([1])\n",
            "[6]\n",
            "[1, 9, 4, 3, 4, 5] [2, 9, 4, 2, 3, 5]\n"
          ]
        },
        {
          "output_type": "stream",
          "name": "stderr",
          "text": [
            "\r645it [05:12,  2.30it/s]"
          ]
        },
        {
          "output_type": "stream",
          "name": "stdout",
          "text": [
            "torch.Size([1])\n",
            "[6]\n",
            "[6, 8, 1, 9, 6, 3] [2, 8, 1, 7, 7, 3]\n"
          ]
        },
        {
          "output_type": "stream",
          "name": "stderr",
          "text": [
            "\r646it [05:13,  1.87it/s]"
          ]
        },
        {
          "output_type": "stream",
          "name": "stdout",
          "text": [
            "torch.Size([1])\n",
            "[6]\n",
            "[2, 7, 9, 3, 3, 7] [2, 7, 9, 3, 4, 6]\n"
          ]
        },
        {
          "output_type": "stream",
          "name": "stderr",
          "text": [
            "\r647it [05:14,  1.91it/s]"
          ]
        },
        {
          "output_type": "stream",
          "name": "stdout",
          "text": [
            "torch.Size([1])\n",
            "[6]\n",
            "[6, 8, 5, 5, 4, 4] [2, 8, 5, 7, 3, 1]\n"
          ]
        },
        {
          "output_type": "stream",
          "name": "stderr",
          "text": [
            "\r648it [05:14,  2.12it/s]"
          ]
        },
        {
          "output_type": "stream",
          "name": "stdout",
          "text": [
            "torch.Size([1])\n",
            "[6]\n",
            "[2, 6, 8, 3, 1, 4] [2, 7, 8, 2, 1, 4]\n"
          ]
        },
        {
          "output_type": "stream",
          "name": "stderr",
          "text": [
            "\r649it [05:15,  1.79it/s]"
          ]
        },
        {
          "output_type": "stream",
          "name": "stdout",
          "text": [
            "torch.Size([1])\n",
            "[6]\n",
            "[2, 8, 9, 1, 10, 4] [2, 8, 9, 2, 10, 1]\n",
            "torch.Size([1])\n",
            "[6]\n",
            "[2, 7, 6, 9, 7, 7] [2, 7, 6, 9, 10, 7]\n"
          ]
        },
        {
          "output_type": "stream",
          "name": "stderr",
          "text": [
            "\r651it [05:15,  2.05it/s]"
          ]
        },
        {
          "output_type": "stream",
          "name": "stdout",
          "text": [
            "torch.Size([1])\n",
            "[6]\n",
            "[1, 7, 6, 4, 4, 9] [2, 7, 6, 4, 5, 10]\n",
            "torch.Size([1])\n",
            "[6]\n",
            "[1, 4, 5, 4, 3, 5] [1, 3, 3, 2, 4, 7]\n"
          ]
        },
        {
          "output_type": "stream",
          "name": "stderr",
          "text": [
            "\r653it [05:17,  1.94it/s]"
          ]
        },
        {
          "output_type": "stream",
          "name": "stdout",
          "text": [
            "torch.Size([1])\n",
            "[6]\n",
            "[2, 7, 7, 8, 8, 10] [2, 7, 7, 8, 7, 10]\n"
          ]
        },
        {
          "output_type": "stream",
          "name": "stderr",
          "text": [
            "\r654it [05:17,  2.13it/s]"
          ]
        },
        {
          "output_type": "stream",
          "name": "stdout",
          "text": [
            "torch.Size([1])\n",
            "[6]\n",
            "[2, 8, 5, 6, 4, 5] [2, 8, 5, 7, 3, 4]\n"
          ]
        },
        {
          "output_type": "stream",
          "name": "stderr",
          "text": [
            "\r655it [05:17,  2.03it/s]"
          ]
        },
        {
          "output_type": "stream",
          "name": "stdout",
          "text": [
            "torch.Size([1])\n",
            "[6]\n",
            "[1, 8, 9, 1, 2, 9] [2, 9, 8, 2, 4, 10]\n"
          ]
        },
        {
          "output_type": "stream",
          "name": "stderr",
          "text": [
            "\r656it [05:18,  1.76it/s]"
          ]
        },
        {
          "output_type": "stream",
          "name": "stdout",
          "text": [
            "torch.Size([1])\n",
            "[6]\n",
            "[2, 9, 6, 10, 6, 1] [2, 9, 6, 9, 7, 1]\n",
            "torch.Size([1])\n",
            "[6]\n",
            "[3, 1, 4, 6, 8, 5] [3, 1, 4, 7, 9, 3]\n"
          ]
        },
        {
          "output_type": "stream",
          "name": "stderr",
          "text": [
            "\r658it [05:20,  1.62it/s]"
          ]
        },
        {
          "output_type": "stream",
          "name": "stdout",
          "text": [
            "torch.Size([1])\n",
            "[6]\n",
            "[2, 9, 6, 4, 5, 3] [2, 9, 6, 4, 6, 4]\n",
            "torch.Size([1])\n",
            "[6]\n",
            "[3, 1, 4, 7, 7, 1] [3, 1, 4, 7, 8, 1]\n"
          ]
        },
        {
          "output_type": "stream",
          "name": "stderr",
          "text": [
            "\r660it [05:21,  1.53it/s]"
          ]
        },
        {
          "output_type": "stream",
          "name": "stdout",
          "text": [
            "torch.Size([1])\n",
            "[6]\n",
            "[3, 1, 6, 5, 7, 9] [3, 1, 6, 5, 8, 9]\n",
            "torch.Size([1])\n",
            "[6]\n",
            "[1, 4, 5, 4, 5, 8] [1, 3, 5, 3, 5, 8]\n"
          ]
        },
        {
          "output_type": "stream",
          "name": "stderr",
          "text": [
            "\r662it [05:22,  1.73it/s]"
          ]
        },
        {
          "output_type": "stream",
          "name": "stdout",
          "text": [
            "torch.Size([1])\n",
            "[6]\n",
            "[2, 9, 4, 8, 3, 7] [2, 10, 4, 8, 3, 8]\n",
            "torch.Size([1])\n",
            "[6]\n",
            "[1, 7, 2, 7, 5, 4] [1, 3, 4, 9, 7, 4]\n"
          ]
        },
        {
          "output_type": "stream",
          "name": "stderr",
          "text": [
            "\r664it [05:23,  1.87it/s]"
          ]
        },
        {
          "output_type": "stream",
          "name": "stdout",
          "text": [
            "torch.Size([1])\n",
            "[6]\n",
            "[3, 2, 7, 6, 1, 10] [3, 2, 4, 6, 2, 7]\n",
            "torch.Size([1])\n",
            "[6]\n",
            "[1, 3, 5, 8, 3, 5] [1, 3, 5, 8, 3, 5]\n"
          ]
        },
        {
          "output_type": "stream",
          "name": "stderr",
          "text": [
            "\r666it [05:24,  2.05it/s]"
          ]
        },
        {
          "output_type": "stream",
          "name": "stdout",
          "text": [
            "torch.Size([1])\n",
            "[6]\n",
            "[3, 2, 5, 4, 3, 1] [3, 1, 5, 6, 3, 1]\n",
            "torch.Size([1])\n",
            "[6]\n",
            "[3, 2, 5, 7, 9, 7] [3, 2, 5, 7, 10, 8]\n"
          ]
        },
        {
          "output_type": "stream",
          "name": "stderr",
          "text": [
            "\r668it [05:24,  2.10it/s]"
          ]
        },
        {
          "output_type": "stream",
          "name": "stdout",
          "text": [
            "torch.Size([1])\n",
            "[6]\n",
            "[1, 7, 8, 3, 3, 7] [2, 9, 8, 2, 3, 8]\n",
            "torch.Size([1])\n",
            "[6]\n",
            "[3, 2, 3, 3, 7, 4] [3, 2, 3, 3, 7, 5]\n"
          ]
        },
        {
          "output_type": "stream",
          "name": "stderr",
          "text": [
            "\r670it [05:25,  2.14it/s]"
          ]
        },
        {
          "output_type": "stream",
          "name": "stdout",
          "text": [
            "torch.Size([1])\n",
            "[6]\n",
            "[3, 4, 7, 3, 6, 7] [3, 1, 7, 3, 8, 7]\n",
            "torch.Size([1])\n",
            "[6]\n",
            "[3, 2, 5, 5, 6, 4] [3, 2, 5, 6, 7, 6]\n"
          ]
        },
        {
          "output_type": "stream",
          "name": "stderr",
          "text": [
            "\r672it [05:26,  2.13it/s]"
          ]
        },
        {
          "output_type": "stream",
          "name": "stdout",
          "text": [
            "torch.Size([1])\n",
            "[6]\n",
            "[3, 1, 8, 3, 3, 5] [3, 1, 8, 2, 3, 4]\n"
          ]
        },
        {
          "output_type": "stream",
          "name": "stderr",
          "text": [
            "\r673it [05:27,  2.18it/s]"
          ]
        },
        {
          "output_type": "stream",
          "name": "stdout",
          "text": [
            "torch.Size([1])\n",
            "[6]\n",
            "[2, 9, 10, 4, 7, 4] [2, 9, 10, 5, 8, 1]\n"
          ]
        },
        {
          "output_type": "stream",
          "name": "stderr",
          "text": [
            "\r674it [05:27,  2.27it/s]"
          ]
        },
        {
          "output_type": "stream",
          "name": "stdout",
          "text": [
            "torch.Size([1])\n",
            "[6]\n",
            "[2, 9, 8, 9, 3, 1] [2, 9, 8, 9, 2, 3]\n"
          ]
        },
        {
          "output_type": "stream",
          "name": "stderr",
          "text": [
            "\r675it [05:28,  2.33it/s]"
          ]
        },
        {
          "output_type": "stream",
          "name": "stdout",
          "text": [
            "torch.Size([1])\n",
            "[6]\n",
            "[2, 10, 5, 3, 6, 8] [2, 10, 5, 3, 6, 9]\n"
          ]
        },
        {
          "output_type": "stream",
          "name": "stderr",
          "text": [
            "\r676it [05:28,  2.36it/s]"
          ]
        },
        {
          "output_type": "stream",
          "name": "stdout",
          "text": [
            "torch.Size([1])\n",
            "[6]\n",
            "[3, 2, 10, 5, 2, 7] [3, 2, 10, 5, 3, 9]\n"
          ]
        },
        {
          "output_type": "stream",
          "name": "stderr",
          "text": [
            "\r677it [05:28,  2.44it/s]"
          ]
        },
        {
          "output_type": "stream",
          "name": "stdout",
          "text": [
            "torch.Size([1])\n",
            "[6]\n",
            "[1, 5, 8, 1, 8, 6] [1, 3, 8, 2, 9, 6]\n"
          ]
        },
        {
          "output_type": "stream",
          "name": "stderr",
          "text": [
            "\r678it [05:29,  1.86it/s]"
          ]
        },
        {
          "output_type": "stream",
          "name": "stdout",
          "text": [
            "torch.Size([1])\n",
            "[6]\n",
            "[1, 3, 8, 2, 9, 6] [1, 3, 8, 1, 10, 8]\n",
            "torch.Size([1])\n",
            "[6]\n",
            "[3, 4, 9, 6, 4, 2] [3, 4, 9, 7, 4, 2]\n"
          ]
        },
        {
          "output_type": "stream",
          "name": "stderr",
          "text": [
            "\r680it [05:30,  1.97it/s]"
          ]
        },
        {
          "output_type": "stream",
          "name": "stdout",
          "text": [
            "torch.Size([1])\n",
            "[6]\n",
            "[3, 2, 7, 4, 2, 4] [3, 3, 7, 3, 2, 2]\n"
          ]
        },
        {
          "output_type": "stream",
          "name": "stderr",
          "text": [
            "\r681it [05:31,  2.00it/s]"
          ]
        },
        {
          "output_type": "stream",
          "name": "stdout",
          "text": [
            "torch.Size([1])\n",
            "[6]\n",
            "[3, 2, 10, 1, 3, 6] [3, 4, 8, 1, 4, 7]\n"
          ]
        },
        {
          "output_type": "stream",
          "name": "stderr",
          "text": [
            "\r682it [05:31,  1.86it/s]"
          ]
        },
        {
          "output_type": "stream",
          "name": "stdout",
          "text": [
            "torch.Size([1])\n",
            "[6]\n",
            "[3, 4, 8, 8, 7, 4] [3, 2, 8, 8, 8, 2]\n"
          ]
        },
        {
          "output_type": "stream",
          "name": "stderr",
          "text": [
            "684it [05:32,  2.15it/s]"
          ]
        },
        {
          "output_type": "stream",
          "name": "stdout",
          "text": [
            "torch.Size([1])\n",
            "[6]\n",
            "[4, 3, 9, 3, 8, 1] [3, 3, 9, 3, 9, 2]\n",
            "torch.Size([1])\n",
            "[6]\n",
            "[3, 8, 7, 2, 10, 1] [3, 4, 4, 2, 10, 2]\n"
          ]
        },
        {
          "output_type": "stream",
          "name": "stderr",
          "text": [
            "\r685it [05:34,  1.28it/s]"
          ]
        },
        {
          "output_type": "stream",
          "name": "stdout",
          "text": [
            "torch.Size([1])\n",
            "[6]\n",
            "[4, 3, 1, 9, 4, 6] [3, 3, 1, 10, 4, 6]\n",
            "torch.Size([1])\n",
            "[6]\n",
            "[3, 4, 2, 3, 3, 10] [3, 4, 3, 2, 3, 10]\n"
          ]
        },
        {
          "output_type": "stream",
          "name": "stderr",
          "text": [
            "\r687it [05:34,  1.64it/s]"
          ]
        },
        {
          "output_type": "stream",
          "name": "stdout",
          "text": [
            "torch.Size([1])\n",
            "[6]\n",
            "[3, 3, 9, 1, 1, 2] [3, 3, 6, 1, 1, 2]\n",
            "torch.Size([1])\n",
            "[6]\n",
            "[3, 4, 10, 9, 3, 7] [3, 2, 10, 10, 2, 7]\n"
          ]
        },
        {
          "output_type": "stream",
          "name": "stderr",
          "text": [
            "\r689it [05:35,  1.88it/s]"
          ]
        },
        {
          "output_type": "stream",
          "name": "stdout",
          "text": [
            "torch.Size([1])\n",
            "[6]\n",
            "[3, 4, 8, 9, 3, 8] [3, 2, 8, 10, 4, 7]\n",
            "torch.Size([1])\n",
            "[6]\n",
            "[3, 3, 1, 7, 3, 7] [3, 3, 1, 5, 8, 7]\n"
          ]
        },
        {
          "output_type": "stream",
          "name": "stderr",
          "text": [
            "\r691it [05:36,  2.07it/s]"
          ]
        },
        {
          "output_type": "stream",
          "name": "stdout",
          "text": [
            "torch.Size([1])\n",
            "[6]\n",
            "[3, 3, 6, 3, 8, 4] [3, 3, 6, 1, 8, 4]\n",
            "torch.Size([1])\n",
            "[6]\n",
            "[3, 4, 6, 4, 3, 7] [3, 4, 6, 4, 4, 7]\n"
          ]
        },
        {
          "output_type": "stream",
          "name": "stderr",
          "text": [
            "\r693it [05:38,  1.76it/s]"
          ]
        },
        {
          "output_type": "stream",
          "name": "stdout",
          "text": [
            "torch.Size([1])\n",
            "[6]\n",
            "[3, 3, 5, 6, 3, 4] [3, 3, 5, 7, 4, 8]\n",
            "torch.Size([1])\n",
            "[6]\n",
            "[3, 4, 7, 1, 5, 4] [3, 4, 7, 2, 6, 1]\n"
          ]
        },
        {
          "output_type": "stream",
          "name": "stderr",
          "text": [
            "\r695it [05:39,  1.82it/s]"
          ]
        },
        {
          "output_type": "stream",
          "name": "stdout",
          "text": [
            "torch.Size([1])\n",
            "[6]\n",
            "[1, 4, 7, 9, 4, 3] [1, 3, 7, 10, 4, 2]\n",
            "torch.Size([1])\n",
            "[6]\n",
            "[4, 3, 7, 6, 3, 7] [3, 3, 7, 7, 3, 6]\n"
          ]
        },
        {
          "output_type": "stream",
          "name": "stderr",
          "text": [
            "\r697it [05:40,  1.67it/s]"
          ]
        },
        {
          "output_type": "stream",
          "name": "stdout",
          "text": [
            "torch.Size([1])\n",
            "[6]\n",
            "[3, 6, 5, 9, 5, 3] [3, 6, 5, 9, 6, 4]\n",
            "torch.Size([1])\n",
            "[6]\n",
            "[4, 5, 4, 3, 9, 6] [3, 5, 3, 1, 10, 6]\n"
          ]
        },
        {
          "output_type": "stream",
          "name": "stderr",
          "text": [
            "\r699it [05:41,  1.87it/s]"
          ]
        },
        {
          "output_type": "stream",
          "name": "stdout",
          "text": [
            "torch.Size([1])\n",
            "[6]\n",
            "[4, 8, 6, 2, 5, 7] [3, 7, 3, 1, 3, 10]\n",
            "torch.Size([1])\n",
            "[6]\n",
            "[3, 5, 4, 4, 4, 7] [3, 5, 4, 4, 5, 7]\n"
          ]
        },
        {
          "output_type": "stream",
          "name": "stderr",
          "text": [
            "\r701it [05:42,  2.02it/s]"
          ]
        },
        {
          "output_type": "stream",
          "name": "stdout",
          "text": [
            "torch.Size([1])\n",
            "[6]\n",
            "[3, 4, 10, 6, 9, 7] [3, 4, 10, 6, 10, 7]\n",
            "torch.Size([1])\n",
            "[6]\n",
            "[3, 5, 6, 1, 6, 7] [3, 5, 6, 1, 7, 8]\n"
          ]
        },
        {
          "output_type": "stream",
          "name": "stderr",
          "text": [
            "\r703it [05:43,  1.97it/s]"
          ]
        },
        {
          "output_type": "stream",
          "name": "stdout",
          "text": [
            "torch.Size([1])\n",
            "[6]\n",
            "[3, 5, 5, 9, 7, 6] [3, 5, 5, 10, 8, 8]\n",
            "torch.Size([1])\n",
            "[6]\n",
            "[3, 5, 9, 8, 3, 4] [3, 5, 9, 8, 4, 4]\n"
          ]
        },
        {
          "output_type": "stream",
          "name": "stderr",
          "text": [
            "\r705it [05:44,  2.06it/s]"
          ]
        },
        {
          "output_type": "stream",
          "name": "stdout",
          "text": [
            "torch.Size([1])\n",
            "[6]\n",
            "[3, 5, 8, 2, 8, 6] [3, 5, 8, 2, 9, 7]\n",
            "torch.Size([1])\n",
            "[6]\n",
            "[4, 7, 4, 6, 8, 2] [3, 7, 1, 6, 9, 3]\n"
          ]
        },
        {
          "output_type": "stream",
          "name": "stderr",
          "text": [
            "\r707it [05:44,  2.19it/s]"
          ]
        },
        {
          "output_type": "stream",
          "name": "stdout",
          "text": [
            "torch.Size([1])\n",
            "[6]\n",
            "[3, 5, 4, 4, 5, 4] [3, 5, 4, 3, 6, 5]\n",
            "torch.Size([1])\n",
            "[6]\n",
            "[3, 6, 8, 8, 5, 6] [3, 6, 8, 8, 5, 8]\n"
          ]
        },
        {
          "output_type": "stream",
          "name": "stderr",
          "text": [
            "710it [05:45,  2.44it/s]"
          ]
        },
        {
          "output_type": "stream",
          "name": "stdout",
          "text": [
            "torch.Size([1])\n",
            "[6]\n",
            "[3, 5, 4, 1, 8, 5] [3, 5, 2, 1, 8, 7]\n",
            "torch.Size([1])\n",
            "[6]\n",
            "[3, 6, 9, 6, 3, 7] [3, 6, 1, 7, 3, 8]\n"
          ]
        },
        {
          "output_type": "stream",
          "name": "stderr",
          "text": [
            "\r711it [05:46,  1.90it/s]"
          ]
        },
        {
          "output_type": "stream",
          "name": "stdout",
          "text": [
            "torch.Size([1])\n",
            "[6]\n",
            "[3, 6, 6, 3, 5, 7] [3, 6, 7, 3, 6, 7]\n",
            "torch.Size([1])\n",
            "[6]\n",
            "[3, 7, 2, 9, 4, 7] [3, 7, 2, 9, 4, 7]\n"
          ]
        },
        {
          "output_type": "stream",
          "name": "stderr",
          "text": [
            "\r713it [05:47,  2.08it/s]"
          ]
        },
        {
          "output_type": "stream",
          "name": "stdout",
          "text": [
            "torch.Size([1])\n",
            "[6]\n",
            "[1, 7, 2, 5, 1, 7] [3, 7, 3, 5, 1, 7]\n"
          ]
        },
        {
          "output_type": "stream",
          "name": "stderr",
          "text": [
            "\r714it [05:48,  2.28it/s]"
          ]
        },
        {
          "output_type": "stream",
          "name": "stdout",
          "text": [
            "torch.Size([1])\n",
            "[6]\n",
            "[3, 7, 2, 8, 7, 8] [3, 7, 2, 8, 8, 9]\n"
          ]
        },
        {
          "output_type": "stream",
          "name": "stderr",
          "text": [
            "\r715it [05:48,  2.20it/s]"
          ]
        },
        {
          "output_type": "stream",
          "name": "stdout",
          "text": [
            "torch.Size([1])\n",
            "[6]\n",
            "[3, 10, 5, 3, 4, 9] [3, 5, 2, 1, 5, 9]\n"
          ]
        },
        {
          "output_type": "stream",
          "name": "stderr",
          "text": [
            "\r716it [05:49,  1.77it/s]"
          ]
        },
        {
          "output_type": "stream",
          "name": "stdout",
          "text": [
            "torch.Size([1])\n",
            "[6]\n",
            "[3, 5, 8, 7, 4, 7] [3, 5, 8, 9, 3, 5]\n",
            "torch.Size([1])\n",
            "[6]\n",
            "[3, 7, 10, 5, 3, 1] [3, 7, 10, 5, 4, 1]\n"
          ]
        },
        {
          "output_type": "stream",
          "name": "stderr",
          "text": [
            "\r718it [05:50,  2.00it/s]"
          ]
        },
        {
          "output_type": "stream",
          "name": "stdout",
          "text": [
            "torch.Size([1])\n",
            "[6]\n",
            "[3, 7, 4, 6, 7, 7] [3, 7, 4, 6, 9, 9]\n"
          ]
        },
        {
          "output_type": "stream",
          "name": "stderr",
          "text": [
            "\r719it [05:50,  2.23it/s]"
          ]
        },
        {
          "output_type": "stream",
          "name": "stdout",
          "text": [
            "torch.Size([1])\n",
            "[6]\n",
            "[7, 1, 8, 1, 1, 10] [3, 7, 4, 7, 1, 9]\n"
          ]
        },
        {
          "output_type": "stream",
          "name": "stderr",
          "text": [
            "\r720it [05:51,  2.12it/s]"
          ]
        },
        {
          "output_type": "stream",
          "name": "stdout",
          "text": [
            "torch.Size([1])\n",
            "[6]\n",
            "[1, 3, 10, 1, 4, 3] [1, 3, 10, 1, 5, 1]\n"
          ]
        },
        {
          "output_type": "stream",
          "name": "stderr",
          "text": [
            "\r721it [05:51,  2.45it/s]"
          ]
        },
        {
          "output_type": "stream",
          "name": "stdout",
          "text": [
            "torch.Size([1])\n",
            "[6]\n",
            "[1, 3, 10, 4, 4, 4] [1, 3, 10, 5, 5, 2]\n"
          ]
        },
        {
          "output_type": "stream",
          "name": "stderr",
          "text": [
            "\r722it [05:52,  1.58it/s]"
          ]
        },
        {
          "output_type": "stream",
          "name": "stdout",
          "text": [
            "torch.Size([1])\n",
            "[6]\n",
            "[1, 8, 10, 9, 3, 4] [3, 8, 6, 10, 1, 7]\n",
            "torch.Size([1])\n",
            "[6]\n",
            "[3, 8, 6, 1, 5, 4] [3, 8, 6, 1, 6, 4]\n"
          ]
        },
        {
          "output_type": "stream",
          "name": "stderr",
          "text": [
            "\r724it [05:53,  1.90it/s]"
          ]
        },
        {
          "output_type": "stream",
          "name": "stdout",
          "text": [
            "torch.Size([1])\n",
            "[6]\n",
            "[3, 7, 7, 1, 4, 8] [3, 7, 4, 1, 5, 9]\n",
            "torch.Size([1])\n",
            "[6]\n",
            "[3, 8, 6, 6, 6, 3] [3, 8, 6, 6, 7, 6]\n"
          ]
        },
        {
          "output_type": "stream",
          "name": "stderr",
          "text": [
            "\r726it [05:54,  2.10it/s]"
          ]
        },
        {
          "output_type": "stream",
          "name": "stdout",
          "text": [
            "torch.Size([1])\n",
            "[6]\n",
            "[3, 8, 7, 6, 1, 4] [3, 8, 7, 6, 2, 4]\n",
            "torch.Size([1])\n",
            "[6]\n",
            "[3, 8, 1, 4, 9, 6] [3, 8, 1, 4, 10, 6]\n"
          ]
        },
        {
          "output_type": "stream",
          "name": "stderr",
          "text": [
            "\r728it [05:55,  1.99it/s]"
          ]
        },
        {
          "output_type": "stream",
          "name": "stdout",
          "text": [
            "torch.Size([1])\n",
            "[6]\n",
            "[1, 1, 4, 4, 3, 7] [1, 1, 4, 4, 4, 7]\n",
            "torch.Size([1])\n",
            "[6]\n",
            "[3, 6, 9, 6, 8, 2] [3, 7, 9, 5, 9, 3]\n"
          ]
        },
        {
          "output_type": "stream",
          "name": "stderr",
          "text": [
            "\r730it [05:56,  2.12it/s]"
          ]
        },
        {
          "output_type": "stream",
          "name": "stdout",
          "text": [
            "torch.Size([1])\n",
            "[6]\n",
            "[3, 7, 7, 8, 4, 5] [3, 7, 7, 8, 3, 4]\n",
            "torch.Size([1])\n",
            "[6]\n",
            "[1, 8, 8, 9, 5, 7] [3, 8, 8, 10, 6, 7]\n"
          ]
        },
        {
          "output_type": "stream",
          "name": "stderr",
          "text": [
            "\r732it [05:56,  2.25it/s]"
          ]
        },
        {
          "output_type": "stream",
          "name": "stdout",
          "text": [
            "torch.Size([1])\n",
            "[6]\n",
            "[1, 8, 6, 9, 5, 4] [3, 8, 6, 9, 5, 5]\n",
            "torch.Size([1])\n",
            "[6]\n",
            "[3, 6, 8, 8, 1, 5] [3, 7, 8, 8, 1, 3]\n"
          ]
        },
        {
          "output_type": "stream",
          "name": "stderr",
          "text": [
            "\r734it [05:57,  2.32it/s]"
          ]
        },
        {
          "output_type": "stream",
          "name": "stdout",
          "text": [
            "torch.Size([1])\n",
            "[6]\n",
            "[3, 7, 4, 2, 3, 5] [3, 7, 4, 1, 3, 5]\n",
            "torch.Size([1])\n",
            "[6]\n",
            "[3, 8, 9, 9, 3, 5] [3, 8, 8, 9, 3, 7]\n"
          ]
        },
        {
          "output_type": "stream",
          "name": "stderr",
          "text": [
            "\r736it [05:58,  2.34it/s]"
          ]
        },
        {
          "output_type": "stream",
          "name": "stdout",
          "text": [
            "torch.Size([1])\n",
            "[6]\n",
            "[3, 10, 7, 4, 7, 1] [3, 9, 7, 3, 9, 1]\n"
          ]
        },
        {
          "output_type": "stream",
          "name": "stderr",
          "text": [
            "\r737it [05:58,  2.55it/s]"
          ]
        },
        {
          "output_type": "stream",
          "name": "stdout",
          "text": [
            "torch.Size([1])\n",
            "[6]\n",
            "[4, 8, 9, 5, 9, 1] [3, 8, 9, 5, 10, 1]\n"
          ]
        },
        {
          "output_type": "stream",
          "name": "stderr",
          "text": [
            "739it [05:59,  2.65it/s]"
          ]
        },
        {
          "output_type": "stream",
          "name": "stdout",
          "text": [
            "torch.Size([1])\n",
            "[6]\n",
            "[3, 9, 6, 10, 2, 4] [3, 9, 6, 10, 1, 2]\n",
            "torch.Size([1])\n",
            "[6]\n",
            "[3, 9, 1, 10, 6, 9] [3, 9, 1, 10, 9, 10]\n"
          ]
        },
        {
          "output_type": "stream",
          "name": "stderr",
          "text": [
            "741it [06:00,  2.73it/s]"
          ]
        },
        {
          "output_type": "stream",
          "name": "stdout",
          "text": [
            "torch.Size([1])\n",
            "[6]\n",
            "[1, 9, 4, 4, 8, 7] [3, 9, 4, 5, 9, 8]\n",
            "torch.Size([1])\n",
            "[6]\n",
            "[3, 9, 4, 4, 1, 4] [3, 9, 3, 3, 3, 5]\n"
          ]
        },
        {
          "output_type": "stream",
          "name": "stderr",
          "text": [
            "\r742it [06:00,  2.29it/s]"
          ]
        },
        {
          "output_type": "stream",
          "name": "stdout",
          "text": [
            "torch.Size([1])\n",
            "[6]\n",
            "[1, 4, 10, 9, 3, 4] [1, 3, 10, 8, 3, 4]\n"
          ]
        },
        {
          "output_type": "stream",
          "name": "stderr",
          "text": [
            "\r743it [06:01,  2.65it/s]"
          ]
        },
        {
          "output_type": "stream",
          "name": "stdout",
          "text": [
            "torch.Size([1])\n",
            "[6]\n",
            "[3, 9, 7, 6, 6, 2] [3, 9, 9, 7, 6, 2]\n"
          ]
        },
        {
          "output_type": "stream",
          "name": "stderr",
          "text": [
            "\r744it [06:02,  1.58it/s]"
          ]
        },
        {
          "output_type": "stream",
          "name": "stdout",
          "text": [
            "torch.Size([1])\n",
            "[6]\n",
            "[3, 9, 7, 9, 4, 9] [3, 9, 7, 9, 4, 8]\n",
            "torch.Size([1])\n",
            "[6]\n",
            "[1, 9, 3, 4, 1, 7] [3, 9, 3, 5, 2, 7]\n"
          ]
        },
        {
          "output_type": "stream",
          "name": "stderr",
          "text": [
            "747it [06:03,  2.34it/s]"
          ]
        },
        {
          "output_type": "stream",
          "name": "stdout",
          "text": [
            "torch.Size([1])\n",
            "[6]\n",
            "[3, 10, 2, 9, 7, 9] [3, 9, 1, 9, 7, 9]\n",
            "torch.Size([1])\n",
            "[6]\n",
            "[3, 8, 9, 9, 4, 9] [3, 8, 9, 10, 5, 10]\n"
          ]
        },
        {
          "output_type": "stream",
          "name": "stderr",
          "text": [
            "749it [06:04,  2.53it/s]"
          ]
        },
        {
          "output_type": "stream",
          "name": "stdout",
          "text": [
            "torch.Size([1])\n",
            "[6]\n",
            "[3, 9, 5, 9, 3, 8] [3, 9, 5, 9, 3, 7]\n",
            "torch.Size([1])\n",
            "[6]\n",
            "[3, 10, 1, 8, 6, 1] [3, 10, 1, 6, 7, 3]\n"
          ]
        },
        {
          "output_type": "stream",
          "name": "stderr",
          "text": [
            "\r750it [06:04,  2.18it/s]"
          ]
        },
        {
          "output_type": "stream",
          "name": "stdout",
          "text": [
            "torch.Size([1])\n",
            "[6]\n",
            "[3, 10, 7, 9, 5, 3] [3, 9, 7, 10, 5, 3]\n"
          ]
        },
        {
          "output_type": "stream",
          "name": "stderr",
          "text": [
            "\r751it [06:05,  2.11it/s]"
          ]
        },
        {
          "output_type": "stream",
          "name": "stdout",
          "text": [
            "torch.Size([1])\n",
            "[6]\n",
            "[1, 7, 8, 4, 1, 7] [3, 9, 8, 4, 1, 8]\n"
          ]
        },
        {
          "output_type": "stream",
          "name": "stderr",
          "text": [
            "\r752it [06:05,  2.48it/s]"
          ]
        },
        {
          "output_type": "stream",
          "name": "stdout",
          "text": [
            "torch.Size([1])\n",
            "[6]\n",
            "[4, 7, 3, 9, 4, 8] [3, 9, 3, 10, 2, 8]\n"
          ]
        },
        {
          "output_type": "stream",
          "name": "stderr",
          "text": [
            "\r753it [06:06,  1.58it/s]"
          ]
        },
        {
          "output_type": "stream",
          "name": "stdout",
          "text": [
            "torch.Size([1])\n",
            "[6]\n",
            "[4, 9, 4, 3, 3, 5] [3, 9, 4, 3, 4, 4]\n",
            "torch.Size([1])\n",
            "[6]\n",
            "[3, 9, 2, 8, 5, 1] [3, 9, 3, 8, 6, 3]\n"
          ]
        },
        {
          "output_type": "stream",
          "name": "stderr",
          "text": [
            "\r755it [06:07,  1.78it/s]"
          ]
        },
        {
          "output_type": "stream",
          "name": "stdout",
          "text": [
            "torch.Size([1])\n",
            "[6]\n",
            "[4, 10, 4, 4, 1, 4] [3, 10, 3, 6, 2, 5]\n",
            "torch.Size([1])\n",
            "[6]\n",
            "[1, 4, 3, 8, 3, 1] [1, 4, 3, 8, 4, 3]\n"
          ]
        },
        {
          "output_type": "stream",
          "name": "stderr",
          "text": [
            "\r757it [06:08,  1.98it/s]"
          ]
        },
        {
          "output_type": "stream",
          "name": "stdout",
          "text": [
            "torch.Size([1])\n",
            "[6]\n",
            "[4, 1, 9, 8, 8, 9] [4, 1, 9, 8, 9, 7]\n"
          ]
        },
        {
          "output_type": "stream",
          "name": "stderr",
          "text": [
            "759it [06:09,  2.26it/s]"
          ]
        },
        {
          "output_type": "stream",
          "name": "stdout",
          "text": [
            "torch.Size([1])\n",
            "[6]\n",
            "[4, 1, 7, 7, 5, 5] [4, 1, 7, 8, 6, 4]\n",
            "torch.Size([1])\n",
            "[6]\n",
            "[3, 10, 4, 2, 8, 7] [3, 10, 4, 1, 9, 8]\n"
          ]
        },
        {
          "output_type": "stream",
          "name": "stderr",
          "text": [
            "\r760it [06:09,  1.98it/s]"
          ]
        },
        {
          "output_type": "stream",
          "name": "stdout",
          "text": [
            "torch.Size([1])\n",
            "[6]\n",
            "[6, 1, 5, 4, 4, 7] [4, 1, 5, 4, 4, 7]\n"
          ]
        },
        {
          "output_type": "stream",
          "name": "stderr",
          "text": [
            "\r761it [06:10,  2.11it/s]"
          ]
        },
        {
          "output_type": "stream",
          "name": "stdout",
          "text": [
            "torch.Size([1])\n",
            "[6]\n",
            "[6, 2, 9, 3, 3, 7] [4, 2, 1, 3, 1, 3]\n"
          ]
        },
        {
          "output_type": "stream",
          "name": "stderr",
          "text": [
            "\r762it [06:10,  2.08it/s]"
          ]
        },
        {
          "output_type": "stream",
          "name": "stdout",
          "text": [
            "torch.Size([1])\n",
            "[6]\n",
            "[3, 10, 7, 2, 3, 3] [3, 10, 7, 2, 4, 3]\n"
          ]
        },
        {
          "output_type": "stream",
          "name": "stderr",
          "text": [
            "\r763it [06:11,  2.17it/s]"
          ]
        },
        {
          "output_type": "stream",
          "name": "stdout",
          "text": [
            "torch.Size([1])\n",
            "[6]\n",
            "[6, 1, 7, 4, 6, 9] [4, 1, 5, 4, 8, 9]\n"
          ]
        },
        {
          "output_type": "stream",
          "name": "stderr",
          "text": [
            "\r764it [06:11,  2.25it/s]"
          ]
        },
        {
          "output_type": "stream",
          "name": "stdout",
          "text": [
            "torch.Size([1])\n",
            "[6]\n",
            "[3, 10, 7, 9, 7, 8] [3, 10, 9, 9, 9, 9]\n"
          ]
        },
        {
          "output_type": "stream",
          "name": "stderr",
          "text": [
            "\r765it [06:12,  2.33it/s]"
          ]
        },
        {
          "output_type": "stream",
          "name": "stdout",
          "text": [
            "torch.Size([1])\n",
            "[6]\n",
            "[3, 10, 8, 7, 5, 4] [3, 10, 8, 7, 5, 2]\n"
          ]
        },
        {
          "output_type": "stream",
          "name": "stderr",
          "text": [
            "\r766it [06:12,  2.37it/s]"
          ]
        },
        {
          "output_type": "stream",
          "name": "stdout",
          "text": [
            "torch.Size([1])\n",
            "[6]\n",
            "[7, 8, 1, 1, 6, 4] [4, 2, 1, 1, 6, 4]\n"
          ]
        },
        {
          "output_type": "stream",
          "name": "stderr",
          "text": [
            "\r767it [06:13,  1.66it/s]"
          ]
        },
        {
          "output_type": "stream",
          "name": "stdout",
          "text": [
            "torch.Size([1])\n",
            "[6]\n",
            "[3, 10, 8, 8, 2, 5] [3, 10, 8, 7, 2, 5]\n",
            "torch.Size([1])\n",
            "[6]\n",
            "[3, 10, 10, 5, 1, 7] [3, 10, 10, 6, 2, 7]\n"
          ]
        },
        {
          "output_type": "stream",
          "name": "stderr",
          "text": [
            "\r769it [06:14,  1.96it/s]"
          ]
        },
        {
          "output_type": "stream",
          "name": "stdout",
          "text": [
            "torch.Size([1])\n",
            "[6]\n",
            "[4, 1, 4, 9, 4, 3] [4, 1, 3, 9, 2, 1]\n",
            "torch.Size([1])\n",
            "[6]\n",
            "[1, 4, 7, 3, 8, 4] [1, 4, 5, 2, 7, 3]\n"
          ]
        },
        {
          "output_type": "stream",
          "name": "stderr",
          "text": [
            "\r771it [06:15,  1.72it/s]"
          ]
        },
        {
          "output_type": "stream",
          "name": "stdout",
          "text": [
            "torch.Size([1])\n",
            "[6]\n",
            "[3, 9, 4, 4, 4, 9] [3, 10, 4, 3, 2, 10]\n",
            "torch.Size([1])\n",
            "[6]\n",
            "[3, 10, 9, 6, 5, 9] [3, 10, 8, 7, 6, 9]\n"
          ]
        },
        {
          "output_type": "stream",
          "name": "stderr",
          "text": [
            "\r773it [06:16,  1.93it/s]"
          ]
        },
        {
          "output_type": "stream",
          "name": "stdout",
          "text": [
            "torch.Size([1])\n",
            "[6]\n",
            "[4, 1, 4, 4, 4, 7] [4, 1, 3, 5, 3, 8]\n",
            "torch.Size([1])\n",
            "[6]\n",
            "[4, 1, 8, 3, 2, 5] [4, 1, 8, 2, 2, 3]\n"
          ]
        },
        {
          "output_type": "stream",
          "name": "stderr",
          "text": [
            "\r775it [06:17,  2.10it/s]"
          ]
        },
        {
          "output_type": "stream",
          "name": "stdout",
          "text": [
            "torch.Size([1])\n",
            "[6]\n",
            "[5, 1, 3, 6, 5, 8] [4, 1, 3, 8, 6, 10]\n",
            "torch.Size([1])\n",
            "[6]\n",
            "[3, 10, 9, 1, 4, 7] [3, 10, 7, 1, 6, 9]\n"
          ]
        },
        {
          "output_type": "stream",
          "name": "stderr",
          "text": [
            "\r777it [06:18,  2.16it/s]"
          ]
        },
        {
          "output_type": "stream",
          "name": "stdout",
          "text": [
            "torch.Size([1])\n",
            "[6]\n",
            "[6, 3, 1, 8, 10, 1] [4, 1, 1, 9, 9, 1]\n",
            "torch.Size([1])\n",
            "[6]\n",
            "[3, 10, 5, 6, 6, 6] [3, 10, 5, 7, 7, 7]\n"
          ]
        },
        {
          "output_type": "stream",
          "name": "stderr",
          "text": [
            "\r779it [06:18,  2.26it/s]"
          ]
        },
        {
          "output_type": "stream",
          "name": "stdout",
          "text": [
            "torch.Size([1])\n",
            "[6]\n",
            "[4, 3, 9, 4, 2, 2] [4, 3, 9, 5, 1, 9]\n",
            "torch.Size([1])\n",
            "[6]\n",
            "[4, 3, 9, 8, 9, 9] [4, 3, 9, 8, 9, 7]\n"
          ]
        },
        {
          "output_type": "stream",
          "name": "stderr",
          "text": [
            "\r781it [06:20,  1.90it/s]"
          ]
        },
        {
          "output_type": "stream",
          "name": "stdout",
          "text": [
            "torch.Size([1])\n",
            "[6]\n",
            "[3, 2, 8, 8, 2, 10] [4, 2, 8, 8, 2, 10]\n",
            "torch.Size([1])\n",
            "[6]\n",
            "[4, 4, 9, 3, 2, 5] [4, 4, 9, 3, 2, 5]\n"
          ]
        },
        {
          "output_type": "stream",
          "name": "stderr",
          "text": [
            "\r783it [06:21,  1.87it/s]"
          ]
        },
        {
          "output_type": "stream",
          "name": "stdout",
          "text": [
            "torch.Size([1])\n",
            "[6]\n",
            "[4, 6, 10, 9, 8, 4] [4, 4, 10, 9, 9, 4]\n",
            "torch.Size([1])\n",
            "[6]\n",
            "[4, 2, 4, 9, 5, 9] [4, 2, 4, 10, 5, 10]\n"
          ]
        },
        {
          "output_type": "stream",
          "name": "stderr",
          "text": [
            "\r785it [06:22,  2.05it/s]"
          ]
        },
        {
          "output_type": "stream",
          "name": "stdout",
          "text": [
            "torch.Size([1])\n",
            "[6]\n",
            "[7, 4, 3, 2, 10, 9] [4, 4, 3, 1, 10, 9]\n"
          ]
        },
        {
          "output_type": "stream",
          "name": "stderr",
          "text": [
            "\r786it [06:22,  2.20it/s]"
          ]
        },
        {
          "output_type": "stream",
          "name": "stdout",
          "text": [
            "torch.Size([1])\n",
            "[6]\n",
            "[6, 2, 4, 4, 5, 5] [4, 2, 3, 2, 4, 4]\n"
          ]
        },
        {
          "output_type": "stream",
          "name": "stderr",
          "text": [
            "\r787it [06:22,  2.16it/s]"
          ]
        },
        {
          "output_type": "stream",
          "name": "stdout",
          "text": [
            "torch.Size([1])\n",
            "[6]\n",
            "[5, 4, 1, 6, 4, 9] [4, 4, 1, 6, 6, 10]\n"
          ]
        },
        {
          "output_type": "stream",
          "name": "stderr",
          "text": [
            "\r788it [06:23,  2.16it/s]"
          ]
        },
        {
          "output_type": "stream",
          "name": "stdout",
          "text": [
            "torch.Size([1])\n",
            "[6]\n",
            "[4, 4, 2, 5, 1, 6] [4, 4, 2, 4, 1, 10]\n"
          ]
        },
        {
          "output_type": "stream",
          "name": "stderr",
          "text": [
            "\r789it [06:23,  2.28it/s]"
          ]
        },
        {
          "output_type": "stream",
          "name": "stdout",
          "text": [
            "torch.Size([1])\n",
            "[6]\n",
            "[4, 5, 4, 3, 2, 7] [4, 5, 1, 3, 2, 4]\n"
          ]
        },
        {
          "output_type": "stream",
          "name": "stderr",
          "text": [
            "\r790it [06:24,  1.65it/s]"
          ]
        },
        {
          "output_type": "stream",
          "name": "stdout",
          "text": [
            "torch.Size([1])\n",
            "[6]\n",
            "[4, 4, 7, 9, 8, 2] [4, 3, 7, 7, 10, 1]\n",
            "torch.Size([1])\n",
            "[6]\n",
            "[4, 4, 7, 5, 6, 9] [4, 4, 7, 5, 6, 7]\n"
          ]
        },
        {
          "output_type": "stream",
          "name": "stderr",
          "text": [
            "\r792it [06:25,  1.74it/s]"
          ]
        },
        {
          "output_type": "stream",
          "name": "stdout",
          "text": [
            "torch.Size([1])\n",
            "[6]\n",
            "[4, 3, 7, 5, 3, 10] [4, 3, 6, 6, 1, 7]\n",
            "torch.Size([1])\n",
            "[6]\n",
            "[4, 3, 7, 9, 1, 6] [4, 3, 7, 10, 1, 10]\n"
          ]
        },
        {
          "output_type": "stream",
          "name": "stderr",
          "text": [
            "\r794it [06:27,  1.77it/s]"
          ]
        },
        {
          "output_type": "stream",
          "name": "stdout",
          "text": [
            "torch.Size([1])\n",
            "[6]\n",
            "[1, 4, 9, 4, 4, 4] [1, 4, 7, 3, 5, 5]\n",
            "torch.Size([1])\n",
            "[6]\n",
            "[4, 2, 8, 4, 5, 9] [4, 2, 8, 4, 7, 9]\n"
          ]
        },
        {
          "output_type": "stream",
          "name": "stderr",
          "text": [
            "\r796it [06:27,  1.94it/s]"
          ]
        },
        {
          "output_type": "stream",
          "name": "stdout",
          "text": [
            "torch.Size([1])\n",
            "[6]\n",
            "[4, 4, 9, 3, 2, 9] [4, 4, 9, 2, 3, 9]\n",
            "torch.Size([1])\n",
            "[6]\n",
            "[6, 2, 3, 6, 6, 9] [4, 2, 3, 7, 7, 8]\n"
          ]
        },
        {
          "output_type": "stream",
          "name": "stderr",
          "text": [
            "\r798it [06:28,  2.11it/s]"
          ]
        },
        {
          "output_type": "stream",
          "name": "stdout",
          "text": [
            "torch.Size([1])\n",
            "[6]\n",
            "[6, 4, 10, 3, 2, 1] [4, 4, 2, 1, 2, 2]\n",
            "torch.Size([1])\n",
            "[6]\n",
            "[4, 4, 1, 8, 4, 3] [4, 4, 1, 8, 4, 3]\n"
          ]
        },
        {
          "output_type": "stream",
          "name": "stderr",
          "text": [
            "\r800it [06:29,  2.24it/s]"
          ]
        },
        {
          "output_type": "stream",
          "name": "stdout",
          "text": [
            "torch.Size([1])\n",
            "[6]\n",
            "[3, 5, 10, 4, 7, 10] [4, 5, 10, 4, 9, 10]\n",
            "torch.Size([1])\n",
            "[6]\n",
            "[4, 6, 4, 3, 10, 1] [4, 6, 4, 1, 9, 2]\n"
          ]
        },
        {
          "output_type": "stream",
          "name": "stderr",
          "text": [
            "\r802it [06:30,  2.34it/s]"
          ]
        },
        {
          "output_type": "stream",
          "name": "stdout",
          "text": [
            "torch.Size([1])\n",
            "[6]\n",
            "[4, 6, 2, 6, 5, 2] [4, 6, 2, 6, 5, 2]\n",
            "torch.Size([1])\n",
            "[6]\n",
            "[8, 5, 4, 9, 7, 5] [4, 5, 6, 10, 7, 2]\n"
          ]
        },
        {
          "output_type": "stream",
          "name": "stderr",
          "text": [
            "\r804it [06:31,  1.95it/s]"
          ]
        },
        {
          "output_type": "stream",
          "name": "stdout",
          "text": [
            "torch.Size([1])\n",
            "[6]\n",
            "[4, 5, 4, 7, 2, 8] [4, 5, 1, 9, 1, 7]\n",
            "torch.Size([1])\n",
            "[6]\n",
            "[4, 10, 2, 8, 6, 8] [4, 5, 2, 8, 7, 9]\n"
          ]
        },
        {
          "output_type": "stream",
          "name": "stderr",
          "text": [
            "\r806it [06:32,  2.07it/s]"
          ]
        },
        {
          "output_type": "stream",
          "name": "stdout",
          "text": [
            "torch.Size([1])\n",
            "[6]\n",
            "[4, 1, 4, 5, 10, 5] [4, 5, 4, 5, 10, 4]\n",
            "torch.Size([1])\n",
            "[6]\n",
            "[1, 4, 8, 8, 9, 6] [1, 4, 8, 8, 9, 5]\n"
          ]
        },
        {
          "output_type": "stream",
          "name": "stderr",
          "text": [
            "\r808it [06:33,  2.19it/s]"
          ]
        },
        {
          "output_type": "stream",
          "name": "stdout",
          "text": [
            "torch.Size([1])\n",
            "[6]\n",
            "[4, 5, 7, 4, 9, 4] [4, 5, 7, 4, 9, 4]\n",
            "torch.Size([1])\n",
            "[6]\n",
            "[5, 7, 1, 9, 6, 1] [4, 6, 1, 9, 5, 1]\n"
          ]
        },
        {
          "output_type": "stream",
          "name": "stderr",
          "text": [
            "\r810it [06:34,  2.23it/s]"
          ]
        },
        {
          "output_type": "stream",
          "name": "stdout",
          "text": [
            "torch.Size([1])\n",
            "[6]\n",
            "[4, 5, 3, 9, 10, 7] [4, 5, 3, 9, 10, 8]\n",
            "torch.Size([1])\n",
            "[6]\n",
            "[1, 4, 8, 6, 5, 4] [1, 4, 8, 8, 6, 4]\n"
          ]
        },
        {
          "output_type": "stream",
          "name": "stderr",
          "text": [
            "\r812it [06:35,  1.88it/s]"
          ]
        },
        {
          "output_type": "stream",
          "name": "stdout",
          "text": [
            "torch.Size([1])\n",
            "[6]\n",
            "[4, 6, 10, 3, 4, 1] [4, 6, 1, 1, 4, 3]\n",
            "torch.Size([1])\n",
            "[6]\n",
            "[4, 5, 1, 8, 2, 9] [4, 5, 1, 9, 1, 10]\n"
          ]
        },
        {
          "output_type": "stream",
          "name": "stderr",
          "text": [
            "\r814it [06:36,  1.97it/s]"
          ]
        },
        {
          "output_type": "stream",
          "name": "stdout",
          "text": [
            "torch.Size([1])\n",
            "[6]\n",
            "[4, 1, 6, 3, 7, 4] [4, 5, 7, 2, 7, 3]\n",
            "torch.Size([1])\n",
            "[6]\n",
            "[4, 7, 4, 4, 5, 4] [4, 6, 4, 3, 5, 4]\n"
          ]
        },
        {
          "output_type": "stream",
          "name": "stderr",
          "text": [
            "\r816it [06:37,  2.09it/s]"
          ]
        },
        {
          "output_type": "stream",
          "name": "stdout",
          "text": [
            "torch.Size([1])\n",
            "[6]\n",
            "[4, 5, 9, 4, 6, 4] [4, 5, 9, 3, 6, 4]\n",
            "torch.Size([1])\n",
            "[6]\n",
            "[4, 5, 5, 1, 10, 7] [4, 5, 5, 1, 10, 9]\n"
          ]
        },
        {
          "output_type": "stream",
          "name": "stderr",
          "text": [
            "\r818it [06:38,  1.81it/s]"
          ]
        },
        {
          "output_type": "stream",
          "name": "stdout",
          "text": [
            "torch.Size([1])\n",
            "[6]\n",
            "[4, 8, 5, 6, 2, 6] [4, 8, 2, 6, 2, 5]\n",
            "torch.Size([1])\n",
            "[6]\n",
            "[4, 8, 5, 4, 8, 3] [4, 8, 5, 3, 8, 1]\n"
          ]
        },
        {
          "output_type": "stream",
          "name": "stderr",
          "text": [
            "\r820it [06:39,  1.77it/s]"
          ]
        },
        {
          "output_type": "stream",
          "name": "stdout",
          "text": [
            "torch.Size([1])\n",
            "[6]\n",
            "[3, 1, 5, 3, 5, 9] [1, 1, 5, 3, 6, 10]\n",
            "torch.Size([1])\n",
            "[6]\n",
            "[1, 4, 9, 8, 8, 10] [1, 4, 9, 8, 9, 10]\n"
          ]
        },
        {
          "output_type": "stream",
          "name": "stderr",
          "text": [
            "\r822it [06:40,  1.91it/s]"
          ]
        },
        {
          "output_type": "stream",
          "name": "stdout",
          "text": [
            "torch.Size([1])\n",
            "[6]\n",
            "[4, 7, 9, 3, 5, 5] [4, 7, 7, 2, 5, 6]\n",
            "torch.Size([1])\n",
            "[6]\n",
            "[4, 6, 7, 7, 7, 5] [4, 6, 7, 7, 8, 5]\n"
          ]
        },
        {
          "output_type": "stream",
          "name": "stderr",
          "text": [
            "\r824it [06:41,  1.99it/s]"
          ]
        },
        {
          "output_type": "stream",
          "name": "stdout",
          "text": [
            "torch.Size([1])\n",
            "[6]\n",
            "[4, 6, 8, 5, 6, 4] [4, 6, 8, 5, 5, 4]\n",
            "torch.Size([1])\n",
            "[6]\n",
            "[4, 7, 6, 3, 10, 1] [4, 7, 6, 2, 10, 2]\n"
          ]
        },
        {
          "output_type": "stream",
          "name": "stderr",
          "text": [
            "\r826it [06:42,  2.14it/s]"
          ]
        },
        {
          "output_type": "stream",
          "name": "stdout",
          "text": [
            "torch.Size([1])\n",
            "[6]\n",
            "[1, 4, 10, 5, 1, 7] [1, 4, 10, 3, 2, 8]\n",
            "torch.Size([1])\n",
            "[6]\n",
            "[4, 5, 10, 3, 9, 1] [4, 6, 9, 1, 10, 1]\n"
          ]
        },
        {
          "output_type": "stream",
          "name": "stderr",
          "text": [
            "\r828it [06:43,  2.24it/s]"
          ]
        },
        {
          "output_type": "stream",
          "name": "stdout",
          "text": [
            "torch.Size([1])\n",
            "[6]\n",
            "[4, 7, 3, 4, 5, 7] [4, 7, 3, 5, 6, 8]\n",
            "torch.Size([1])\n",
            "[6]\n",
            "[1, 4, 9, 5, 5, 7] [1, 4, 9, 5, 6, 7]\n"
          ]
        },
        {
          "output_type": "stream",
          "name": "stderr",
          "text": [
            "\r830it [06:44,  2.32it/s]"
          ]
        },
        {
          "output_type": "stream",
          "name": "stdout",
          "text": [
            "torch.Size([1])\n",
            "[6]\n",
            "[4, 7, 6, 7, 8, 6] [4, 7, 6, 7, 8, 4]\n",
            "torch.Size([1])\n",
            "[6]\n",
            "[4, 6, 7, 10, 6, 1] [4, 6, 5, 10, 5, 1]\n"
          ]
        },
        {
          "output_type": "stream",
          "name": "stderr",
          "text": [
            "\r832it [06:44,  2.36it/s]"
          ]
        },
        {
          "output_type": "stream",
          "name": "stdout",
          "text": [
            "torch.Size([1])\n",
            "[6]\n",
            "[4, 8, 2, 5, 1, 6] [4, 8, 2, 7, 1, 7]\n",
            "torch.Size([1])\n",
            "[6]\n",
            "[4, 8, 5, 9, 5, 8] [4, 8, 1, 8, 6, 9]\n"
          ]
        },
        {
          "output_type": "stream",
          "name": "stderr",
          "text": [
            "\r834it [06:45,  2.41it/s]"
          ]
        },
        {
          "output_type": "stream",
          "name": "stdout",
          "text": [
            "torch.Size([1])\n",
            "[6]\n",
            "[4, 8, 7, 4, 4, 1] [4, 8, 6, 7, 5, 1]\n",
            "torch.Size([1])\n",
            "[6]\n",
            "[4, 7, 1, 9, 8, 4] [4, 7, 1, 9, 8, 4]\n"
          ]
        },
        {
          "output_type": "stream",
          "name": "stderr",
          "text": [
            "\r836it [06:46,  2.42it/s]"
          ]
        },
        {
          "output_type": "stream",
          "name": "stdout",
          "text": [
            "torch.Size([1])\n",
            "[6]\n",
            "[6, 8, 4, 9, 7, 5] [4, 8, 3, 9, 7, 4]\n",
            "torch.Size([1])\n",
            "[6]\n",
            "[4, 8, 3, 10, 9, 7] [4, 8, 3, 10, 10, 8]\n"
          ]
        },
        {
          "output_type": "stream",
          "name": "stderr",
          "text": [
            "\r838it [06:47,  1.95it/s]"
          ]
        },
        {
          "output_type": "stream",
          "name": "stdout",
          "text": [
            "torch.Size([1])\n",
            "[6]\n",
            "[3, 9, 4, 4, 5, 9] [4, 9, 4, 6, 3, 9]\n",
            "torch.Size([1])\n",
            "[6]\n",
            "[4, 9, 9, 5, 6, 6] [4, 9, 9, 5, 7, 6]\n"
          ]
        },
        {
          "output_type": "stream",
          "name": "stderr",
          "text": [
            "\r840it [06:48,  2.09it/s]"
          ]
        },
        {
          "output_type": "stream",
          "name": "stdout",
          "text": [
            "torch.Size([1])\n",
            "[6]\n",
            "[4, 9, 7, 6, 4, 5] [4, 9, 7, 6, 4, 5]\n",
            "torch.Size([1])\n",
            "[6]\n",
            "[6, 8, 9, 5, 9, 7] [4, 8, 8, 6, 10, 7]\n"
          ]
        },
        {
          "output_type": "stream",
          "name": "stderr",
          "text": [
            "\r842it [06:49,  2.18it/s]"
          ]
        },
        {
          "output_type": "stream",
          "name": "stdout",
          "text": [
            "torch.Size([1])\n",
            "[6]\n",
            "[4, 8, 7, 10, 2, 2] [4, 8, 7, 10, 1, 2]\n",
            "torch.Size([1])\n",
            "[6]\n",
            "[9, 9, 4, 4, 7, 1] [4, 9, 3, 5, 2, 2]\n"
          ]
        },
        {
          "output_type": "stream",
          "name": "stderr",
          "text": [
            "\r844it [06:50,  2.07it/s]"
          ]
        },
        {
          "output_type": "stream",
          "name": "stdout",
          "text": [
            "torch.Size([1])\n",
            "[6]\n",
            "[4, 7, 8, 9, 7, 3] [4, 9, 8, 9, 7, 2]\n",
            "torch.Size([1])\n",
            "[6]\n",
            "[1, 2, 10, 3, 4, 7] [1, 4, 10, 3, 4, 6]\n"
          ]
        },
        {
          "output_type": "stream",
          "name": "stderr",
          "text": [
            "\r846it [06:51,  2.13it/s]"
          ]
        },
        {
          "output_type": "stream",
          "name": "stdout",
          "text": [
            "torch.Size([1])\n",
            "[6]\n",
            "[4, 9, 5, 4, 2, 4] [4, 9, 5, 4, 2, 4]\n",
            "torch.Size([1])\n",
            "[6]\n",
            "[4, 8, 9, 5, 7, 7] [4, 8, 9, 5, 7, 7]\n"
          ]
        },
        {
          "output_type": "stream",
          "name": "stderr",
          "text": [
            "\r848it [06:52,  2.01it/s]"
          ]
        },
        {
          "output_type": "stream",
          "name": "stdout",
          "text": [
            "torch.Size([1])\n",
            "[6]\n",
            "[4, 8, 9, 4, 2, 7] [4, 9, 9, 6, 3, 7]\n",
            "torch.Size([1])\n",
            "[6]\n",
            "[4, 9, 7, 2, 3, 6] [4, 9, 7, 1, 2, 4]\n"
          ]
        },
        {
          "output_type": "stream",
          "name": "stderr",
          "text": [
            "\r850it [06:53,  2.15it/s]"
          ]
        },
        {
          "output_type": "stream",
          "name": "stdout",
          "text": [
            "torch.Size([1])\n",
            "[6]\n",
            "[4, 8, 10, 1, 9, 7] [4, 8, 9, 1, 10, 9]\n",
            "torch.Size([1])\n",
            "[6]\n",
            "[4, 8, 7, 5, 3, 1] [4, 8, 7, 7, 3, 2]\n"
          ]
        },
        {
          "output_type": "stream",
          "name": "stderr",
          "text": [
            "\r852it [06:54,  1.86it/s]"
          ]
        },
        {
          "output_type": "stream",
          "name": "stdout",
          "text": [
            "torch.Size([1])\n",
            "[6]\n",
            "[4, 9, 4, 2, 4, 3] [4, 9, 4, 3, 4, 4]\n",
            "torch.Size([1])\n",
            "[6]\n",
            "[4, 9, 4, 3, 7, 9] [4, 9, 4, 3, 7, 10]\n"
          ]
        },
        {
          "output_type": "stream",
          "name": "stderr",
          "text": [
            "\r854it [06:55,  1.83it/s]"
          ]
        },
        {
          "output_type": "stream",
          "name": "stdout",
          "text": [
            "torch.Size([1])\n",
            "[6]\n",
            "[4, 9, 8, 6, 6, 7] [4, 9, 8, 6, 7, 7]\n",
            "torch.Size([1])\n",
            "[6]\n",
            "[7, 9, 2, 4, 10, 7] [4, 9, 2, 3, 10, 6]\n"
          ]
        },
        {
          "output_type": "stream",
          "name": "stderr",
          "text": [
            "\r856it [06:56,  1.96it/s]"
          ]
        },
        {
          "output_type": "stream",
          "name": "stdout",
          "text": [
            "torch.Size([1])\n",
            "[6]\n",
            "[1, 2, 10, 3, 2, 6] [1, 5, 1, 2, 2, 9]\n",
            "torch.Size([1])\n",
            "[6]\n",
            "[4, 10, 3, 3, 10, 3] [4, 10, 3, 1, 10, 2]\n"
          ]
        },
        {
          "output_type": "stream",
          "name": "stderr",
          "text": [
            "\r858it [06:57,  2.10it/s]"
          ]
        },
        {
          "output_type": "stream",
          "name": "stdout",
          "text": [
            "torch.Size([1])\n",
            "[6]\n",
            "[2, 5, 4, 4, 3, 7] [1, 5, 3, 3, 2, 4]\n",
            "torch.Size([1])\n",
            "[6]\n",
            "[4, 10, 5, 2, 3, 9] [4, 10, 5, 1, 2, 10]\n"
          ]
        },
        {
          "output_type": "stream",
          "name": "stderr",
          "text": [
            "\r860it [06:59,  1.83it/s]"
          ]
        },
        {
          "output_type": "stream",
          "name": "stdout",
          "text": [
            "torch.Size([1])\n",
            "[6]\n",
            "[4, 10, 4, 9, 7, 7] [4, 10, 3, 9, 8, 10]\n",
            "torch.Size([1])\n",
            "[6]\n",
            "[1, 5, 3, 3, 6, 8] [1, 5, 3, 2, 7, 9]\n"
          ]
        },
        {
          "output_type": "stream",
          "name": "stderr",
          "text": [
            "\r862it [07:00,  1.63it/s]"
          ]
        },
        {
          "output_type": "stream",
          "name": "stdout",
          "text": [
            "torch.Size([1])\n",
            "[6]\n",
            "[3, 10, 5, 2, 7, 6] [4, 10, 5, 3, 7, 5]\n",
            "torch.Size([1])\n",
            "[6]\n",
            "[5, 10, 2, 8, 7, 4] [4, 10, 2, 8, 4, 1]\n"
          ]
        },
        {
          "output_type": "stream",
          "name": "stderr",
          "text": [
            "\r864it [07:01,  1.82it/s]"
          ]
        },
        {
          "output_type": "stream",
          "name": "stdout",
          "text": [
            "torch.Size([1])\n",
            "[6]\n",
            "[5, 1, 3, 3, 3, 3] [5, 1, 3, 1, 2, 2]\n",
            "torch.Size([1])\n",
            "[6]\n",
            "[3, 10, 6, 5, 7, 4] [4, 10, 6, 5, 7, 4]\n"
          ]
        },
        {
          "output_type": "stream",
          "name": "stderr",
          "text": [
            "\r866it [07:02,  1.83it/s]"
          ]
        },
        {
          "output_type": "stream",
          "name": "stdout",
          "text": [
            "torch.Size([1])\n",
            "[6]\n",
            "[4, 10, 5, 6, 6, 4] [4, 10, 5, 6, 5, 2]\n",
            "torch.Size([1])\n",
            "[6]\n",
            "[4, 10, 5, 5, 9, 4] [4, 10, 5, 5, 10, 2]\n"
          ]
        },
        {
          "output_type": "stream",
          "name": "stderr",
          "text": [
            "\r868it [07:03,  1.96it/s]"
          ]
        },
        {
          "output_type": "stream",
          "name": "stdout",
          "text": [
            "torch.Size([1])\n",
            "[6]\n",
            "[4, 10, 5, 2, 10, 1] [4, 10, 5, 1, 9, 2]\n",
            "torch.Size([1])\n",
            "[6]\n",
            "[7, 1, 4, 9, 7, 6] [5, 1, 4, 9, 7, 6]\n"
          ]
        },
        {
          "output_type": "stream",
          "name": "stderr",
          "text": [
            "\r870it [07:04,  1.90it/s]"
          ]
        },
        {
          "output_type": "stream",
          "name": "stdout",
          "text": [
            "torch.Size([1])\n",
            "[6]\n",
            "[4, 9, 9, 6, 4, 7] [4, 9, 9, 8, 4, 8]\n",
            "torch.Size([1])\n",
            "[6]\n",
            "[3, 9, 9, 10, 2, 7] [4, 9, 9, 10, 1, 6]\n"
          ]
        },
        {
          "output_type": "stream",
          "name": "stderr",
          "text": [
            "\r872it [07:05,  2.05it/s]"
          ]
        },
        {
          "output_type": "stream",
          "name": "stdout",
          "text": [
            "torch.Size([1])\n",
            "[6]\n",
            "[4, 10, 6, 9, 4, 7] [4, 10, 6, 10, 3, 8]\n",
            "torch.Size([1])\n",
            "[6]\n",
            "[4, 10, 8, 7, 1, 9] [4, 10, 8, 9, 1, 8]\n"
          ]
        },
        {
          "output_type": "stream",
          "name": "stderr",
          "text": [
            "\r874it [07:06,  2.15it/s]"
          ]
        },
        {
          "output_type": "stream",
          "name": "stdout",
          "text": [
            "torch.Size([1])\n",
            "[6]\n",
            "[4, 10, 10, 8, 7, 1] [4, 10, 9, 8, 8, 1]\n",
            "torch.Size([1])\n",
            "[6]\n",
            "[6, 1, 5, 7, 9, 3] [1, 1, 5, 10, 10, 4]\n"
          ]
        },
        {
          "output_type": "stream",
          "name": "stderr",
          "text": [
            "\r876it [07:06,  2.22it/s]"
          ]
        },
        {
          "output_type": "stream",
          "name": "stdout",
          "text": [
            "torch.Size([1])\n",
            "[6]\n",
            "[5, 1, 6, 4, 6, 7] [5, 1, 6, 3, 7, 7]\n",
            "torch.Size([1])\n",
            "[6]\n",
            "[5, 3, 10, 1, 5, 7] [5, 3, 1, 1, 4, 8]\n"
          ]
        },
        {
          "output_type": "stream",
          "name": "stderr",
          "text": [
            "\r878it [07:07,  2.29it/s]"
          ]
        },
        {
          "output_type": "stream",
          "name": "stdout",
          "text": [
            "torch.Size([1])\n",
            "[6]\n",
            "[5, 3, 10, 5, 4, 10] [5, 3, 1, 5, 3, 10]\n",
            "torch.Size([1])\n",
            "[6]\n",
            "[5, 1, 6, 8, 4, 8] [5, 1, 6, 9, 3, 7]\n"
          ]
        },
        {
          "output_type": "stream",
          "name": "stderr",
          "text": [
            "\r880it [07:08,  2.12it/s]"
          ]
        },
        {
          "output_type": "stream",
          "name": "stdout",
          "text": [
            "torch.Size([1])\n",
            "[6]\n",
            "[5, 2, 6, 9, 8, 6] [5, 2, 6, 9, 8, 6]\n",
            "torch.Size([1])\n",
            "[6]\n",
            "[5, 1, 4, 2, 3, 9] [5, 1, 6, 2, 2, 8]\n"
          ]
        },
        {
          "output_type": "stream",
          "name": "stderr",
          "text": [
            "\r882it [07:09,  2.15it/s]"
          ]
        },
        {
          "output_type": "stream",
          "name": "stdout",
          "text": [
            "torch.Size([1])\n",
            "[6]\n",
            "[5, 1, 4, 9, 7, 9] [5, 1, 4, 10, 10, 9]\n",
            "torch.Size([1])\n",
            "[6]\n",
            "[9, 1, 7, 8, 5, 9] [5, 1, 7, 8, 9, 7]\n"
          ]
        },
        {
          "output_type": "stream",
          "name": "stderr",
          "text": [
            "\r884it [07:10,  2.23it/s]"
          ]
        },
        {
          "output_type": "stream",
          "name": "stdout",
          "text": [
            "torch.Size([1])\n",
            "[6]\n",
            "[5, 1, 10, 9, 5, 9] [5, 1, 10, 9, 3, 5]\n",
            "torch.Size([1])\n",
            "[6]\n",
            "[7, 2, 8, 9, 6, 2] [5, 2, 8, 9, 8, 1]\n"
          ]
        },
        {
          "output_type": "stream",
          "name": "stderr",
          "text": [
            "\r886it [07:11,  2.30it/s]"
          ]
        },
        {
          "output_type": "stream",
          "name": "stdout",
          "text": [
            "torch.Size([1])\n",
            "[6]\n",
            "[7, 2, 8, 5, 4, 1] [5, 1, 5, 6, 3, 2]\n"
          ]
        },
        {
          "output_type": "stream",
          "name": "stderr",
          "text": [
            "\r887it [07:11,  2.24it/s]"
          ]
        },
        {
          "output_type": "stream",
          "name": "stdout",
          "text": [
            "torch.Size([1])\n",
            "[6]\n",
            "[5, 2, 1, 6, 2, 8] [5, 2, 1, 6, 1, 7]\n"
          ]
        },
        {
          "output_type": "stream",
          "name": "stderr",
          "text": [
            "\r888it [07:12,  2.39it/s]"
          ]
        },
        {
          "output_type": "stream",
          "name": "stdout",
          "text": [
            "torch.Size([1])\n",
            "[6]\n",
            "[5, 2, 10, 3, 3, 3] [5, 2, 10, 2, 5, 1]\n"
          ]
        },
        {
          "output_type": "stream",
          "name": "stderr",
          "text": [
            "\r889it [07:12,  2.31it/s]"
          ]
        },
        {
          "output_type": "stream",
          "name": "stdout",
          "text": [
            "torch.Size([1])\n",
            "[6]\n",
            "[5, 2, 3, 1, 10, 9] [5, 2, 3, 1, 9, 9]\n"
          ]
        },
        {
          "output_type": "stream",
          "name": "stderr",
          "text": [
            "\r890it [07:12,  2.55it/s]"
          ]
        },
        {
          "output_type": "stream",
          "name": "stdout",
          "text": [
            "torch.Size([1])\n",
            "[6]\n",
            "[1, 5, 4, 2, 9, 2] [1, 5, 4, 1, 9, 3]\n"
          ]
        },
        {
          "output_type": "stream",
          "name": "stderr",
          "text": [
            "\r891it [07:13,  2.30it/s]"
          ]
        },
        {
          "output_type": "stream",
          "name": "stdout",
          "text": [
            "torch.Size([1])\n",
            "[6]\n",
            "[5, 2, 7, 2, 6, 2] [5, 1, 7, 2, 8, 1]\n"
          ]
        },
        {
          "output_type": "stream",
          "name": "stderr",
          "text": [
            "\r892it [07:13,  2.63it/s]"
          ]
        },
        {
          "output_type": "stream",
          "name": "stdout",
          "text": [
            "torch.Size([1])\n",
            "[6]\n",
            "[9, 2, 8, 9, 5, 6] [5, 2, 4, 9, 2, 5]\n"
          ]
        },
        {
          "output_type": "stream",
          "name": "stderr",
          "text": [
            "\r893it [07:14,  1.86it/s]"
          ]
        },
        {
          "output_type": "stream",
          "name": "stdout",
          "text": [
            "torch.Size([1])\n",
            "[6]\n",
            "[5, 2, 10, 5, 3, 10] [5, 2, 8, 3, 3, 10]\n"
          ]
        },
        {
          "output_type": "stream",
          "name": "stderr",
          "text": [
            "\r894it [07:15,  1.95it/s]"
          ]
        },
        {
          "output_type": "stream",
          "name": "stdout",
          "text": [
            "torch.Size([1])\n",
            "[6]\n",
            "[7, 1, 9, 5, 5, 9] [5, 1, 9, 4, 5, 9]\n"
          ]
        },
        {
          "output_type": "stream",
          "name": "stderr",
          "text": [
            "\r895it [07:15,  2.17it/s]"
          ]
        },
        {
          "output_type": "stream",
          "name": "stdout",
          "text": [
            "torch.Size([1])\n",
            "[6]\n",
            "[5, 3, 4, 9, 3, 9] [5, 3, 3, 9, 3, 9]\n"
          ]
        },
        {
          "output_type": "stream",
          "name": "stderr",
          "text": [
            "\r896it [07:15,  2.02it/s]"
          ]
        },
        {
          "output_type": "stream",
          "name": "stdout",
          "text": [
            "torch.Size([1])\n",
            "[6]\n",
            "[5, 3, 2, 9, 4, 9] [5, 3, 4, 9, 1, 8]\n"
          ]
        },
        {
          "output_type": "stream",
          "name": "stderr",
          "text": [
            "\r897it [07:16,  1.92it/s]"
          ]
        },
        {
          "output_type": "stream",
          "name": "stdout",
          "text": [
            "torch.Size([1])\n",
            "[6]\n",
            "[5, 4, 9, 5, 7, 8] [5, 4, 9, 5, 7, 10]\n"
          ]
        },
        {
          "output_type": "stream",
          "name": "stderr",
          "text": [
            "\r898it [07:16,  2.23it/s]"
          ]
        },
        {
          "output_type": "stream",
          "name": "stdout",
          "text": [
            "torch.Size([1])\n",
            "[6]\n",
            "[5, 3, 4, 5, 3, 10] [5, 3, 4, 5, 2, 10]\n"
          ]
        },
        {
          "output_type": "stream",
          "name": "stderr",
          "text": [
            "\r899it [07:17,  2.07it/s]"
          ]
        },
        {
          "output_type": "stream",
          "name": "stdout",
          "text": [
            "torch.Size([1])\n",
            "[6]\n",
            "[1, 5, 3, 9, 6, 5] [1, 5, 6, 10, 8, 4]\n"
          ]
        },
        {
          "output_type": "stream",
          "name": "stderr",
          "text": [
            "\r900it [07:17,  2.46it/s]"
          ]
        },
        {
          "output_type": "stream",
          "name": "stdout",
          "text": [
            "torch.Size([1])\n",
            "[6]\n",
            "[5, 4, 2, 3, 2, 4] [5, 4, 2, 4, 3, 4]\n"
          ]
        },
        {
          "output_type": "stream",
          "name": "stderr",
          "text": [
            "902it [07:18,  2.62it/s]"
          ]
        },
        {
          "output_type": "stream",
          "name": "stdout",
          "text": [
            "torch.Size([1])\n",
            "[6]\n",
            "[5, 2, 10, 6, 5, 6] [5, 4, 10, 6, 4, 7]\n",
            "torch.Size([1])\n",
            "[6]\n",
            "[5, 4, 8, 9, 9, 7] [5, 4, 8, 10, 8, 7]\n"
          ]
        },
        {
          "output_type": "stream",
          "name": "stderr",
          "text": [
            "\r903it [07:19,  1.97it/s]"
          ]
        },
        {
          "output_type": "stream",
          "name": "stdout",
          "text": [
            "torch.Size([1])\n",
            "[6]\n",
            "[5, 4, 7, 4, 7, 3] [5, 4, 7, 4, 7, 1]\n",
            "torch.Size([1])\n",
            "[6]\n",
            "[5, 4, 4, 6, 4, 3] [5, 4, 4, 6, 4, 2]\n"
          ]
        },
        {
          "output_type": "stream",
          "name": "stderr",
          "text": [
            "\r905it [07:20,  1.58it/s]"
          ]
        },
        {
          "output_type": "stream",
          "name": "stdout",
          "text": [
            "torch.Size([1])\n",
            "[6]\n",
            "[9, 4, 5, 9, 9, 1] [5, 3, 5, 10, 9, 1]\n",
            "torch.Size([1])\n",
            "[6]\n",
            "[1, 5, 4, 9, 2, 9] [1, 5, 4, 9, 2, 9]\n"
          ]
        },
        {
          "output_type": "stream",
          "name": "stderr",
          "text": [
            "\r907it [07:22,  1.50it/s]"
          ]
        },
        {
          "output_type": "stream",
          "name": "stdout",
          "text": [
            "torch.Size([1])\n",
            "[6]\n",
            "[5, 4, 7, 5, 3, 4] [5, 4, 7, 5, 3, 4]\n",
            "torch.Size([1])\n",
            "[6]\n",
            "[5, 3, 6, 2, 2, 6] [5, 3, 7, 1, 1, 5]\n"
          ]
        },
        {
          "output_type": "stream",
          "name": "stderr",
          "text": [
            "\r909it [07:23,  1.47it/s]"
          ]
        },
        {
          "output_type": "stream",
          "name": "stdout",
          "text": [
            "torch.Size([1])\n",
            "[6]\n",
            "[5, 4, 1, 4, 3, 6] [5, 4, 2, 4, 2, 8]\n",
            "torch.Size([1])\n",
            "[6]\n",
            "[5, 3, 10, 9, 7, 1] [5, 3, 10, 9, 7, 1]\n"
          ]
        },
        {
          "output_type": "stream",
          "name": "stderr",
          "text": [
            "\r911it [07:25,  1.44it/s]"
          ]
        },
        {
          "output_type": "stream",
          "name": "stdout",
          "text": [
            "torch.Size([1])\n",
            "[6]\n",
            "[5, 3, 10, 8, 2, 10] [5, 3, 9, 8, 1, 10]\n",
            "torch.Size([1])\n",
            "[6]\n",
            "[5, 4, 3, 4, 6, 6] [5, 3, 3, 3, 6, 6]\n"
          ]
        },
        {
          "output_type": "stream",
          "name": "stderr",
          "text": [
            "\r913it [07:26,  1.62it/s]"
          ]
        },
        {
          "output_type": "stream",
          "name": "stdout",
          "text": [
            "torch.Size([1])\n",
            "[6]\n",
            "[5, 2, 7, 8, 9, 4] [5, 4, 7, 8, 10, 9]\n",
            "torch.Size([1])\n",
            "[6]\n",
            "[1, 5, 6, 8, 7, 7] [1, 5, 6, 8, 8, 8]\n"
          ]
        },
        {
          "output_type": "stream",
          "name": "stderr",
          "text": [
            "\r915it [07:26,  1.82it/s]"
          ]
        },
        {
          "output_type": "stream",
          "name": "stdout",
          "text": [
            "torch.Size([1])\n",
            "[6]\n",
            "[4, 5, 7, 4, 1, 7] [5, 5, 5, 3, 1, 7]\n",
            "torch.Size([1])\n",
            "[6]\n",
            "[5, 5, 7, 9, 5, 10] [5, 5, 7, 9, 5, 9]\n"
          ]
        },
        {
          "output_type": "stream",
          "name": "stderr",
          "text": [
            "\r917it [07:27,  1.99it/s]"
          ]
        },
        {
          "output_type": "stream",
          "name": "stdout",
          "text": [
            "torch.Size([1])\n",
            "[6]\n",
            "[5, 9, 8, 5, 5, 9] [5, 5, 1, 7, 4, 8]\n",
            "torch.Size([1])\n",
            "[6]\n",
            "[5, 1, 5, 8, 6, 10] [5, 5, 5, 8, 7, 9]\n"
          ]
        },
        {
          "output_type": "stream",
          "name": "stderr",
          "text": [
            "\r919it [07:29,  1.78it/s]"
          ]
        },
        {
          "output_type": "stream",
          "name": "stdout",
          "text": [
            "torch.Size([1])\n",
            "[6]\n",
            "[9, 2, 1, 9, 6, 8] [5, 5, 1, 10, 9, 2]\n",
            "torch.Size([1])\n",
            "[6]\n",
            "[5, 5, 4, 6, 9, 9] [5, 5, 4, 6, 9, 10]\n"
          ]
        },
        {
          "output_type": "stream",
          "name": "stderr",
          "text": [
            "\r921it [07:29,  1.98it/s]"
          ]
        },
        {
          "output_type": "stream",
          "name": "stdout",
          "text": [
            "torch.Size([1])\n",
            "[6]\n",
            "[5, 5, 9, 3, 2, 5] [5, 5, 5, 1, 2, 2]\n",
            "torch.Size([1])\n",
            "[6]\n",
            "[7, 5, 10, 8, 6, 6] [5, 5, 5, 8, 5, 5]\n"
          ]
        },
        {
          "output_type": "stream",
          "name": "stderr",
          "text": [
            "\r923it [07:30,  2.11it/s]"
          ]
        },
        {
          "output_type": "stream",
          "name": "stdout",
          "text": [
            "torch.Size([1])\n",
            "[6]\n",
            "[9, 5, 2, 6, 7, 3] [5, 5, 2, 6, 7, 2]\n",
            "torch.Size([1])\n",
            "[6]\n",
            "[7, 5, 8, 4, 1, 4] [5, 5, 8, 4, 2, 1]\n"
          ]
        },
        {
          "output_type": "stream",
          "name": "stderr",
          "text": [
            "\r925it [07:31,  2.22it/s]"
          ]
        },
        {
          "output_type": "stream",
          "name": "stdout",
          "text": [
            "torch.Size([1])\n",
            "[6]\n",
            "[5, 3, 7, 2, 10, 3] [5, 5, 7, 2, 10, 1]\n",
            "torch.Size([1])\n",
            "[6]\n",
            "[9, 5, 4, 8, 6, 8] [5, 5, 2, 8, 6, 7]\n"
          ]
        },
        {
          "output_type": "stream",
          "name": "stderr",
          "text": [
            "\r927it [07:32,  2.30it/s]"
          ]
        },
        {
          "output_type": "stream",
          "name": "stdout",
          "text": [
            "torch.Size([1])\n",
            "[6]\n",
            "[7, 5, 3, 9, 8, 10] [5, 5, 3, 9, 8, 10]\n",
            "torch.Size([1])\n",
            "[6]\n",
            "[5, 1, 7, 2, 7, 7] [5, 5, 5, 1, 8, 6]\n"
          ]
        },
        {
          "output_type": "stream",
          "name": "stderr",
          "text": [
            "\r929it [07:32,  2.35it/s]"
          ]
        },
        {
          "output_type": "stream",
          "name": "stdout",
          "text": [
            "torch.Size([1])\n",
            "[6]\n",
            "[4, 5, 7, 6, 9, 4] [1, 5, 7, 5, 10, 4]\n"
          ]
        },
        {
          "output_type": "stream",
          "name": "stderr",
          "text": [
            "\r930it [07:33,  2.39it/s]"
          ]
        },
        {
          "output_type": "stream",
          "name": "stdout",
          "text": [
            "torch.Size([1])\n",
            "[6]\n",
            "[1, 5, 8, 6, 5, 1] [1, 5, 8, 7, 6, 1]\n"
          ]
        },
        {
          "output_type": "stream",
          "name": "stderr",
          "text": [
            "\r931it [07:33,  2.35it/s]"
          ]
        },
        {
          "output_type": "stream",
          "name": "stdout",
          "text": [
            "torch.Size([1])\n",
            "[6]\n",
            "[7, 7, 2, 8, 4, 7] [5, 5, 2, 9, 3, 1]\n"
          ]
        },
        {
          "output_type": "stream",
          "name": "stderr",
          "text": [
            "\r932it [07:35,  1.57it/s]"
          ]
        },
        {
          "output_type": "stream",
          "name": "stdout",
          "text": [
            "torch.Size([1])\n",
            "[6]\n",
            "[5, 4, 10, 9, 5, 9] [5, 5, 5, 10, 4, 8]\n",
            "torch.Size([1])\n",
            "[6]\n",
            "[1, 5, 7, 3, 7, 5] [1, 5, 7, 3, 8, 5]\n"
          ]
        },
        {
          "output_type": "stream",
          "name": "stderr",
          "text": [
            "\r934it [07:36,  1.83it/s]"
          ]
        },
        {
          "output_type": "stream",
          "name": "stdout",
          "text": [
            "torch.Size([1])\n",
            "[6]\n",
            "[5, 4, 10, 9, 2, 5] [5, 4, 10, 10, 1, 2]\n",
            "torch.Size([1])\n",
            "[6]\n",
            "[7, 5, 5, 2, 8, 4] [5, 5, 5, 2, 7, 3]\n"
          ]
        },
        {
          "output_type": "stream",
          "name": "stderr",
          "text": [
            "\r936it [07:36,  2.01it/s]"
          ]
        },
        {
          "output_type": "stream",
          "name": "stdout",
          "text": [
            "torch.Size([1])\n",
            "[6]\n",
            "[5, 5, 6, 1, 6, 5] [5, 5, 6, 1, 6, 7]\n",
            "torch.Size([1])\n",
            "[6]\n",
            "[5, 6, 5, 4, 7, 10] [5, 6, 5, 3, 7, 10]\n"
          ]
        },
        {
          "output_type": "stream",
          "name": "stderr",
          "text": [
            "\r938it [07:37,  2.11it/s]"
          ]
        },
        {
          "output_type": "stream",
          "name": "stdout",
          "text": [
            "torch.Size([1])\n",
            "[6]\n",
            "[5, 6, 8, 4, 4, 4] [5, 6, 10, 6, 3, 1]\n",
            "torch.Size([1])\n",
            "[6]\n",
            "[7, 6, 1, 5, 2, 7] [5, 6, 2, 4, 1, 8]\n"
          ]
        },
        {
          "output_type": "stream",
          "name": "stderr",
          "text": [
            "\r940it [07:38,  2.39it/s]"
          ]
        },
        {
          "output_type": "stream",
          "name": "stdout",
          "text": [
            "torch.Size([1])\n",
            "[6]\n",
            "[5, 7, 2, 4, 7, 9] [5, 7, 2, 4, 8, 10]\n",
            "torch.Size([1])\n",
            "[6]\n",
            "[5, 6, 3, 2, 10, 7] [5, 6, 3, 1, 10, 6]\n"
          ]
        },
        {
          "output_type": "stream",
          "name": "stderr",
          "text": [
            "943it [07:39,  2.73it/s]"
          ]
        },
        {
          "output_type": "stream",
          "name": "stdout",
          "text": [
            "torch.Size([1])\n",
            "[6]\n",
            "[1, 6, 9, 4, 5, 3] [1, 6, 1, 3, 7, 3]\n",
            "torch.Size([1])\n",
            "[6]\n",
            "[5, 6, 10, 9, 6, 5] [5, 6, 10, 9, 6, 1]\n"
          ]
        },
        {
          "output_type": "stream",
          "name": "stderr",
          "text": [
            "\r944it [07:40,  1.79it/s]"
          ]
        },
        {
          "output_type": "stream",
          "name": "stdout",
          "text": [
            "torch.Size([1])\n",
            "[6]\n",
            "[1, 6, 2, 10, 1, 9] [1, 6, 1, 10, 1, 9]\n",
            "torch.Size([1])\n",
            "[6]\n",
            "[6, 6, 1, 7, 2, 3] [5, 6, 1, 7, 1, 4]\n"
          ]
        },
        {
          "output_type": "stream",
          "name": "stderr",
          "text": [
            "\r946it [07:41,  1.63it/s]"
          ]
        },
        {
          "output_type": "stream",
          "name": "stdout",
          "text": [
            "torch.Size([1])\n",
            "[6]\n",
            "[5, 6, 7, 4, 3, 1] [5, 6, 7, 3, 3, 1]\n",
            "torch.Size([1])\n",
            "[6]\n",
            "[1, 3, 5, 9, 9, 4] [1, 1, 5, 10, 10, 4]\n"
          ]
        },
        {
          "output_type": "stream",
          "name": "stderr",
          "text": [
            "\r948it [07:42,  1.83it/s]"
          ]
        },
        {
          "output_type": "stream",
          "name": "stdout",
          "text": [
            "torch.Size([1])\n",
            "[6]\n",
            "[5, 6, 10, 10, 4, 4] [5, 6, 10, 10, 3, 4]\n",
            "torch.Size([1])\n",
            "[6]\n",
            "[5, 6, 4, 9, 4, 6] [5, 6, 6, 10, 5, 7]\n"
          ]
        },
        {
          "output_type": "stream",
          "name": "stderr",
          "text": [
            "\r950it [07:43,  2.02it/s]"
          ]
        },
        {
          "output_type": "stream",
          "name": "stdout",
          "text": [
            "torch.Size([1])\n",
            "[6]\n",
            "[9, 6, 6, 6, 8, 3] [5, 6, 6, 5, 8, 2]\n",
            "torch.Size([1])\n",
            "[6]\n",
            "[5, 6, 7, 1, 9, 9] [5, 6, 5, 1, 10, 7]\n"
          ]
        },
        {
          "output_type": "stream",
          "name": "stderr",
          "text": [
            "\r952it [07:44,  2.14it/s]"
          ]
        },
        {
          "output_type": "stream",
          "name": "stdout",
          "text": [
            "torch.Size([1])\n",
            "[6]\n",
            "[5, 7, 3, 6, 7, 1] [5, 7, 3, 5, 7, 1]\n",
            "torch.Size([1])\n",
            "[6]\n",
            "[5, 6, 3, 8, 9, 7] [5, 6, 3, 8, 10, 10]\n"
          ]
        },
        {
          "output_type": "stream",
          "name": "stderr",
          "text": [
            "\r954it [07:45,  2.25it/s]"
          ]
        },
        {
          "output_type": "stream",
          "name": "stdout",
          "text": [
            "torch.Size([1])\n",
            "[6]\n",
            "[1, 6, 2, 8, 8, 6] [1, 6, 2, 6, 8, 6]\n",
            "torch.Size([1])\n",
            "[6]\n",
            "[5, 6, 9, 6, 3, 7] [5, 6, 9, 6, 3, 7]\n"
          ]
        },
        {
          "output_type": "stream",
          "name": "stderr",
          "text": [
            "\r956it [07:45,  2.34it/s]"
          ]
        },
        {
          "output_type": "stream",
          "name": "stdout",
          "text": [
            "torch.Size([1])\n",
            "[6]\n",
            "[5, 6, 3, 3, 6, 1] [5, 6, 3, 3, 6, 2]\n",
            "torch.Size([1])\n",
            "[6]\n",
            "[5, 6, 7, 8, 8, 3] [5, 6, 7, 7, 8, 1]\n"
          ]
        },
        {
          "output_type": "stream",
          "name": "stderr",
          "text": [
            "\r958it [07:47,  1.92it/s]"
          ]
        },
        {
          "output_type": "stream",
          "name": "stdout",
          "text": [
            "torch.Size([1])\n",
            "[6]\n",
            "[5, 9, 1, 3, 4, 9] [5, 9, 1, 2, 5, 10]\n",
            "torch.Size([1])\n",
            "[6]\n",
            "[5, 8, 5, 5, 3, 4] [5, 8, 5, 5, 3, 3]\n"
          ]
        },
        {
          "output_type": "stream",
          "name": "stderr",
          "text": [
            "\r960it [07:48,  2.04it/s]"
          ]
        },
        {
          "output_type": "stream",
          "name": "stdout",
          "text": [
            "torch.Size([1])\n",
            "[6]\n",
            "[1, 6, 3, 4, 1, 6] [1, 6, 3, 3, 1, 6]\n",
            "torch.Size([1])\n",
            "[6]\n",
            "[7, 8, 10, 7, 4, 4] [5, 8, 10, 7, 5, 4]\n"
          ]
        },
        {
          "output_type": "stream",
          "name": "stderr",
          "text": [
            "\r962it [07:49,  1.75it/s]"
          ]
        },
        {
          "output_type": "stream",
          "name": "stdout",
          "text": [
            "torch.Size([1])\n",
            "[6]\n",
            "[7, 8, 6, 3, 3, 7] [5, 8, 6, 3, 3, 5]\n",
            "torch.Size([1])\n",
            "[6]\n",
            "[7, 6, 6, 6, 1, 1] [5, 7, 7, 6, 1, 1]\n"
          ]
        },
        {
          "output_type": "stream",
          "name": "stderr",
          "text": [
            "\r964it [07:50,  1.90it/s]"
          ]
        },
        {
          "output_type": "stream",
          "name": "stdout",
          "text": [
            "torch.Size([1])\n",
            "[6]\n",
            "[5, 8, 10, 5, 5, 10] [5, 8, 10, 5, 6, 9]\n",
            "torch.Size([1])\n",
            "[6]\n",
            "[7, 6, 5, 4, 5, 4] [5, 7, 5, 4, 4, 4]\n"
          ]
        },
        {
          "output_type": "stream",
          "name": "stderr",
          "text": [
            "\r966it [07:52,  1.68it/s]"
          ]
        },
        {
          "output_type": "stream",
          "name": "stdout",
          "text": [
            "torch.Size([1])\n",
            "[6]\n",
            "[5, 8, 1, 5, 9, 4] [5, 8, 1, 5, 9, 2]\n",
            "torch.Size([1])\n",
            "[6]\n",
            "[5, 8, 10, 9, 5, 6] [5, 8, 9, 9, 6, 5]\n"
          ]
        },
        {
          "output_type": "stream",
          "name": "stderr",
          "text": [
            "\r968it [07:52,  1.88it/s]"
          ]
        },
        {
          "output_type": "stream",
          "name": "stdout",
          "text": [
            "torch.Size([1])\n",
            "[6]\n",
            "[5, 7, 2, 9, 6, 7] [5, 9, 2, 9, 7, 8]\n",
            "torch.Size([1])\n",
            "[6]\n",
            "[1, 6, 5, 6, 5, 6] [1, 6, 5, 6, 5, 7]\n"
          ]
        },
        {
          "output_type": "stream",
          "name": "stderr",
          "text": [
            "\r970it [07:53,  2.04it/s]"
          ]
        },
        {
          "output_type": "stream",
          "name": "stdout",
          "text": [
            "torch.Size([1])\n",
            "[6]\n",
            "[7, 8, 5, 3, 2, 4] [5, 8, 5, 3, 1, 3]\n",
            "torch.Size([1])\n",
            "[6]\n",
            "[7, 8, 2, 6, 10, 7] [5, 8, 2, 6, 10, 7]\n"
          ]
        },
        {
          "output_type": "stream",
          "name": "stderr",
          "text": [
            "\r972it [07:54,  2.15it/s]"
          ]
        },
        {
          "output_type": "stream",
          "name": "stdout",
          "text": [
            "torch.Size([1])\n",
            "[6]\n",
            "[5, 7, 9, 8, 10, 4] [5, 7, 9, 8, 9, 4]\n",
            "torch.Size([1])\n",
            "[6]\n",
            "[7, 9, 2, 2, 9, 5] [5, 9, 2, 1, 10, 7]\n"
          ]
        },
        {
          "output_type": "stream",
          "name": "stderr",
          "text": [
            "\r974it [07:55,  1.88it/s]"
          ]
        },
        {
          "output_type": "stream",
          "name": "stdout",
          "text": [
            "torch.Size([1])\n",
            "[6]\n",
            "[9, 8, 1, 8, 7, 7] [5, 8, 1, 6, 9, 3]\n",
            "torch.Size([1])\n",
            "[6]\n",
            "[7, 8, 5, 5, 5, 6] [5, 8, 5, 5, 7, 1]\n"
          ]
        },
        {
          "output_type": "stream",
          "name": "stderr",
          "text": [
            "\r976it [07:56,  1.98it/s]"
          ]
        },
        {
          "output_type": "stream",
          "name": "stdout",
          "text": [
            "torch.Size([1])\n",
            "[6]\n",
            "[5, 9, 3, 3, 9, 10] [5, 9, 3, 2, 10, 9]\n",
            "torch.Size([1])\n",
            "[6]\n",
            "[1, 6, 2, 7, 6, 1] [1, 6, 4, 7, 7, 1]\n"
          ]
        },
        {
          "output_type": "stream",
          "name": "stderr",
          "text": [
            "\r978it [07:57,  2.14it/s]"
          ]
        },
        {
          "output_type": "stream",
          "name": "stdout",
          "text": [
            "torch.Size([1])\n",
            "[6]\n",
            "[5, 9, 4, 6, 7, 1] [5, 9, 4, 6, 5, 1]\n",
            "torch.Size([1])\n",
            "[6]\n",
            "[5, 10, 9, 7, 5, 9] [5, 10, 10, 9, 4, 8]\n"
          ]
        },
        {
          "output_type": "stream",
          "name": "stderr",
          "text": [
            "\r980it [07:58,  2.21it/s]"
          ]
        },
        {
          "output_type": "stream",
          "name": "stdout",
          "text": [
            "torch.Size([1])\n",
            "[6]\n",
            "[5, 10, 2, 4, 8, 6] [5, 10, 2, 9, 8, 7]\n",
            "torch.Size([1])\n",
            "[6]\n",
            "[5, 10, 7, 7, 4, 4] [5, 10, 7, 7, 5, 4]\n"
          ]
        },
        {
          "output_type": "stream",
          "name": "stderr",
          "text": [
            "\r982it [07:59,  2.28it/s]"
          ]
        },
        {
          "output_type": "stream",
          "name": "stdout",
          "text": [
            "torch.Size([1])\n",
            "[6]\n",
            "[6, 1, 8, 1, 1, 10] [6, 1, 7, 1, 1, 6]\n",
            "torch.Size([1])\n",
            "[6]\n",
            "[7, 10, 3, 4, 6, 3] [5, 10, 3, 3, 7, 2]\n"
          ]
        },
        {
          "output_type": "stream",
          "name": "stderr",
          "text": [
            "\r984it [07:59,  2.34it/s]"
          ]
        },
        {
          "output_type": "stream",
          "name": "stdout",
          "text": [
            "torch.Size([1])\n",
            "[6]\n",
            "[5, 10, 9, 3, 5, 7] [5, 10, 9, 3, 6, 8]\n",
            "torch.Size([1])\n",
            "[6]\n",
            "[5, 9, 8, 5, 6, 7] [5, 9, 8, 7, 7, 6]\n"
          ]
        },
        {
          "output_type": "stream",
          "name": "stderr",
          "text": [
            "\r986it [08:01,  2.12it/s]"
          ]
        },
        {
          "output_type": "stream",
          "name": "stdout",
          "text": [
            "torch.Size([1])\n",
            "[6]\n",
            "[6, 1, 2, 8, 2, 4] [6, 1, 2, 8, 1, 4]\n",
            "torch.Size([1])\n",
            "[6]\n",
            "[6, 1, 4, 9, 2, 5] [6, 1, 4, 10, 2, 5]\n"
          ]
        },
        {
          "output_type": "stream",
          "name": "stderr",
          "text": [
            "\r988it [08:01,  2.22it/s]"
          ]
        },
        {
          "output_type": "stream",
          "name": "stdout",
          "text": [
            "torch.Size([1])\n",
            "[6]\n",
            "[5, 7, 9, 8, 9, 2] [5, 9, 9, 9, 9, 1]\n",
            "torch.Size([1])\n",
            "[6]\n",
            "[6, 1, 2, 5, 5, 4] [6, 1, 2, 5, 7, 2]\n"
          ]
        },
        {
          "output_type": "stream",
          "name": "stderr",
          "text": [
            "\r990it [08:02,  2.27it/s]"
          ]
        },
        {
          "output_type": "stream",
          "name": "stdout",
          "text": [
            "torch.Size([1])\n",
            "[6]\n",
            "[1, 7, 4, 9, 6, 2] [1, 6, 6, 9, 8, 1]\n"
          ]
        },
        {
          "output_type": "stream",
          "name": "stderr",
          "text": [
            "\r991it [08:03,  2.33it/s]"
          ]
        },
        {
          "output_type": "stream",
          "name": "stdout",
          "text": [
            "torch.Size([1])\n",
            "[6]\n",
            "[5, 7, 8, 9, 1, 1] [5, 9, 8, 8, 1, 2]\n"
          ]
        },
        {
          "output_type": "stream",
          "name": "stderr",
          "text": [
            "\r992it [08:04,  1.83it/s]"
          ]
        },
        {
          "output_type": "stream",
          "name": "stdout",
          "text": [
            "torch.Size([1])\n",
            "[6]\n",
            "[5, 9, 7, 10, 7, 3] [5, 9, 7, 10, 8, 2]\n",
            "torch.Size([1])\n",
            "[6]\n",
            "[5, 9, 6, 8, 4, 6] [5, 9, 6, 8, 3, 5]\n"
          ]
        },
        {
          "output_type": "stream",
          "name": "stderr",
          "text": [
            "\r994it [08:04,  2.02it/s]"
          ]
        },
        {
          "output_type": "stream",
          "name": "stdout",
          "text": [
            "torch.Size([1])\n",
            "[6]\n",
            "[5, 10, 9, 3, 1, 8] [5, 9, 9, 2, 1, 7]\n"
          ]
        },
        {
          "output_type": "stream",
          "name": "stderr",
          "text": [
            "\r995it [08:05,  2.08it/s]"
          ]
        },
        {
          "output_type": "stream",
          "name": "stdout",
          "text": [
            "torch.Size([1])\n",
            "[6]\n",
            "[5, 10, 9, 2, 4, 4] [5, 10, 10, 1, 4, 4]\n"
          ]
        },
        {
          "output_type": "stream",
          "name": "stderr",
          "text": [
            "\r996it [08:06,  1.68it/s]"
          ]
        },
        {
          "output_type": "stream",
          "name": "stdout",
          "text": [
            "torch.Size([1])\n",
            "[6]\n",
            "[7, 1, 3, 8, 5, 2] [6, 1, 3, 10, 5, 3]\n"
          ]
        },
        {
          "output_type": "stream",
          "name": "stderr",
          "text": [
            "\r997it [08:06,  1.74it/s]"
          ]
        },
        {
          "output_type": "stream",
          "name": "stdout",
          "text": [
            "torch.Size([1])\n",
            "[6]\n",
            "[5, 9, 8, 2, 2, 7] [5, 9, 8, 2, 4, 8]\n"
          ]
        },
        {
          "output_type": "stream",
          "name": "stderr",
          "text": [
            "999it [08:07,  2.09it/s]"
          ]
        },
        {
          "output_type": "stream",
          "name": "stdout",
          "text": [
            "torch.Size([1])\n",
            "[6]\n",
            "[7, 10, 3, 4, 4, 4] [5, 10, 3, 4, 4, 3]\n",
            "torch.Size([1])\n",
            "[6]\n",
            "[5, 10, 4, 4, 6, 8] [5, 10, 4, 6, 6, 8]\n"
          ]
        },
        {
          "output_type": "stream",
          "name": "stderr",
          "text": [
            "1001it [08:08,  2.43it/s]"
          ]
        },
        {
          "output_type": "stream",
          "name": "stdout",
          "text": [
            "torch.Size([1])\n",
            "[6]\n",
            "[6, 1, 7, 8, 5, 5] [6, 1, 7, 8, 7, 5]\n",
            "torch.Size([1])\n",
            "[6]\n",
            "[7, 2, 3, 4, 4, 9] [6, 2, 2, 4, 4, 8]\n"
          ]
        },
        {
          "output_type": "stream",
          "name": "stderr",
          "text": [
            "\r1002it [08:09,  1.72it/s]"
          ]
        },
        {
          "output_type": "stream",
          "name": "stdout",
          "text": [
            "torch.Size([1])\n",
            "[6]\n",
            "[1, 6, 7, 6, 9, 8] [1, 6, 7, 7, 10, 9]\n"
          ]
        },
        {
          "output_type": "stream",
          "name": "stderr",
          "text": [
            "\r1003it [08:09,  1.85it/s]"
          ]
        },
        {
          "output_type": "stream",
          "name": "stdout",
          "text": [
            "torch.Size([1])\n",
            "[6]\n",
            "[6, 2, 1, 4, 4, 9] [6, 2, 1, 4, 5, 10]\n"
          ]
        },
        {
          "output_type": "stream",
          "name": "stderr",
          "text": [
            "\r1004it [08:10,  2.10it/s]"
          ]
        },
        {
          "output_type": "stream",
          "name": "stdout",
          "text": [
            "torch.Size([1])\n",
            "[6]\n",
            "[6, 1, 10, 4, 3, 4] [6, 1, 10, 4, 3, 3]\n"
          ]
        },
        {
          "output_type": "stream",
          "name": "stderr",
          "text": [
            "\r1005it [08:11,  1.69it/s]"
          ]
        },
        {
          "output_type": "stream",
          "name": "stdout",
          "text": [
            "torch.Size([1])\n",
            "[6]\n",
            "[7, 3, 1, 2, 5, 1] [6, 3, 1, 1, 6, 9]\n",
            "torch.Size([1])\n",
            "[6]\n",
            "[1, 6, 8, 6, 4, 4] [1, 6, 8, 6, 4, 3]\n"
          ]
        },
        {
          "output_type": "stream",
          "name": "stderr",
          "text": [
            "\r1007it [08:11,  1.94it/s]"
          ]
        },
        {
          "output_type": "stream",
          "name": "stdout",
          "text": [
            "torch.Size([1])\n",
            "[6]\n",
            "[6, 3, 4, 3, 5, 1] [6, 3, 4, 2, 6, 1]\n",
            "torch.Size([1])\n",
            "[6]\n",
            "[6, 3, 8, 3, 8, 4] [6, 3, 8, 2, 8, 4]\n"
          ]
        },
        {
          "output_type": "stream",
          "name": "stderr",
          "text": [
            "\r1009it [08:12,  2.08it/s]"
          ]
        },
        {
          "output_type": "stream",
          "name": "stdout",
          "text": [
            "torch.Size([1])\n",
            "[6]\n",
            "[6, 3, 7, 1, 5, 5] [6, 3, 5, 1, 6, 7]\n"
          ]
        },
        {
          "output_type": "stream",
          "name": "stderr",
          "text": [
            "\r1010it [08:13,  2.14it/s]"
          ]
        },
        {
          "output_type": "stream",
          "name": "stdout",
          "text": [
            "torch.Size([1])\n",
            "[6]\n",
            "[6, 2, 10, 1, 2, 9] [6, 2, 10, 1, 2, 7]\n"
          ]
        },
        {
          "output_type": "stream",
          "name": "stderr",
          "text": [
            "1012it [08:14,  2.39it/s]"
          ]
        },
        {
          "output_type": "stream",
          "name": "stdout",
          "text": [
            "torch.Size([1])\n",
            "[6]\n",
            "[6, 3, 10, 8, 3, 4] [6, 3, 10, 8, 4, 4]\n",
            "torch.Size([1])\n",
            "[6]\n",
            "[6, 3, 1, 4, 1, 2] [6, 3, 1, 4, 1, 10]\n"
          ]
        },
        {
          "output_type": "stream",
          "name": "stderr",
          "text": [
            "\r1013it [08:15,  1.52it/s]"
          ]
        },
        {
          "output_type": "stream",
          "name": "stdout",
          "text": [
            "torch.Size([1])\n",
            "[6]\n",
            "[6, 3, 10, 1, 1, 7] [6, 2, 10, 1, 2, 6]\n",
            "torch.Size([1])\n",
            "[6]\n",
            "[6, 3, 8, 3, 5, 5] [6, 3, 4, 1, 5, 7]\n"
          ]
        },
        {
          "output_type": "stream",
          "name": "stderr",
          "text": [
            "\r1015it [08:15,  1.96it/s]"
          ]
        },
        {
          "output_type": "stream",
          "name": "stdout",
          "text": [
            "torch.Size([1])\n",
            "[6]\n",
            "[8, 2, 6, 9, 9, 5] [6, 2, 6, 9, 10, 1]\n"
          ]
        },
        {
          "output_type": "stream",
          "name": "stderr",
          "text": [
            "\r1016it [08:16,  2.19it/s]"
          ]
        },
        {
          "output_type": "stream",
          "name": "stdout",
          "text": [
            "torch.Size([1])\n",
            "[6]\n",
            "[7, 1, 8, 1, 5, 5] [6, 3, 8, 2, 6, 9]\n"
          ]
        },
        {
          "output_type": "stream",
          "name": "stderr",
          "text": [
            "\r1017it [08:16,  2.08it/s]"
          ]
        },
        {
          "output_type": "stream",
          "name": "stdout",
          "text": [
            "torch.Size([1])\n",
            "[6]\n",
            "[6, 2, 8, 5, 3, 7] [6, 2, 8, 6, 3, 6]\n"
          ]
        },
        {
          "output_type": "stream",
          "name": "stderr",
          "text": [
            "\r1018it [08:17,  1.70it/s]"
          ]
        },
        {
          "output_type": "stream",
          "name": "stdout",
          "text": [
            "torch.Size([1])\n",
            "[6]\n",
            "[1, 6, 9, 3, 9, 3] [1, 6, 9, 2, 10, 4]\n",
            "torch.Size([1])\n",
            "[6]\n",
            "[6, 3, 2, 6, 6, 5] [6, 3, 2, 8, 7, 6]\n"
          ]
        },
        {
          "output_type": "stream",
          "name": "stderr",
          "text": [
            "\r1020it [08:18,  1.91it/s]"
          ]
        },
        {
          "output_type": "stream",
          "name": "stdout",
          "text": [
            "torch.Size([1])\n",
            "[6]\n",
            "[6, 3, 10, 4, 7, 2] [6, 3, 10, 6, 7, 9]\n",
            "torch.Size([1])\n",
            "[6]\n",
            "[6, 2, 2, 9, 4, 5] [6, 2, 2, 10, 3, 6]\n"
          ]
        },
        {
          "output_type": "stream",
          "name": "stderr",
          "text": [
            "\r1022it [08:19,  2.03it/s]"
          ]
        },
        {
          "output_type": "stream",
          "name": "stdout",
          "text": [
            "torch.Size([1])\n",
            "[6]\n",
            "[6, 2, 9, 6, 4, 5] [6, 2, 9, 6, 5, 4]\n",
            "torch.Size([1])\n",
            "[6]\n",
            "[7, 3, 2, 8, 2, 4] [6, 3, 2, 8, 3, 3]\n"
          ]
        },
        {
          "output_type": "stream",
          "name": "stderr",
          "text": [
            "\r1024it [08:20,  2.16it/s]"
          ]
        },
        {
          "output_type": "stream",
          "name": "stdout",
          "text": [
            "torch.Size([1])\n",
            "[6]\n",
            "[7, 3, 2, 5, 10, 7] [6, 3, 2, 5, 10, 8]\n",
            "torch.Size([1])\n",
            "[6]\n",
            "[6, 3, 6, 3, 7, 2] [6, 3, 6, 1, 7, 3]\n"
          ]
        },
        {
          "output_type": "stream",
          "name": "stderr",
          "text": [
            "\r1026it [08:21,  2.26it/s]"
          ]
        },
        {
          "output_type": "stream",
          "name": "stdout",
          "text": [
            "torch.Size([1])\n",
            "[6]\n",
            "[1, 6, 8, 9, 4, 9] [1, 6, 8, 9, 4, 8]\n"
          ]
        },
        {
          "output_type": "stream",
          "name": "stderr",
          "text": [
            "\r1027it [08:21,  2.05it/s]"
          ]
        },
        {
          "output_type": "stream",
          "name": "stdout",
          "text": [
            "torch.Size([1])\n",
            "[6]\n",
            "[6, 4, 7, 7, 7, 7] [6, 4, 7, 7, 8, 7]\n",
            "torch.Size([1])\n",
            "[6]\n",
            "[6, 5, 4, 4, 5, 1] [6, 5, 4, 3, 5, 1]\n"
          ]
        },
        {
          "output_type": "stream",
          "name": "stderr",
          "text": [
            "\r1029it [08:22,  2.25it/s]"
          ]
        },
        {
          "output_type": "stream",
          "name": "stdout",
          "text": [
            "torch.Size([1])\n",
            "[6]\n",
            "[6, 6, 1, 6, 5, 6] [6, 6, 1, 7, 5, 6]\n"
          ]
        },
        {
          "output_type": "stream",
          "name": "stderr",
          "text": [
            "\r1030it [08:22,  2.48it/s]"
          ]
        },
        {
          "output_type": "stream",
          "name": "stdout",
          "text": [
            "torch.Size([1])\n",
            "[6]\n",
            "[6, 5, 7, 9, 4, 4] [6, 5, 7, 9, 4, 3]\n"
          ]
        },
        {
          "output_type": "stream",
          "name": "stderr",
          "text": [
            "\r1031it [08:23,  2.25it/s]"
          ]
        },
        {
          "output_type": "stream",
          "name": "stdout",
          "text": [
            "torch.Size([1])\n",
            "[6]\n",
            "[6, 5, 9, 4, 4, 2] [6, 5, 7, 4, 4, 2]\n",
            "torch.Size([1])\n",
            "[6]\n",
            "[1, 6, 10, 9, 3, 7] [1, 6, 10, 8, 1, 7]\n"
          ]
        },
        {
          "output_type": "stream",
          "name": "stderr",
          "text": [
            "1033it [08:24,  2.22it/s]"
          ]
        },
        {
          "output_type": "stream",
          "name": "stdout",
          "text": [
            "torch.Size([1])\n",
            "[6]\n",
            "[6, 6, 6, 5, 2, 10] [6, 6, 6, 5, 2, 9]\n"
          ]
        },
        {
          "output_type": "stream",
          "name": "stderr",
          "text": [
            "\r1034it [08:24,  2.53it/s]"
          ]
        },
        {
          "output_type": "stream",
          "name": "stdout",
          "text": [
            "torch.Size([1])\n",
            "[6]\n",
            "[7, 4, 2, 4, 10, 3] [6, 4, 2, 2, 10, 1]\n"
          ]
        },
        {
          "output_type": "stream",
          "name": "stderr",
          "text": [
            "\r1035it [08:25,  1.64it/s]"
          ]
        },
        {
          "output_type": "stream",
          "name": "stdout",
          "text": [
            "torch.Size([1])\n",
            "[6]\n",
            "[6, 3, 7, 5, 9, 5] [6, 4, 6, 5, 9, 4]\n",
            "torch.Size([1])\n",
            "[6]\n",
            "[6, 5, 7, 3, 8, 1] [6, 5, 7, 3, 8, 2]\n"
          ]
        },
        {
          "output_type": "stream",
          "name": "stderr",
          "text": [
            "\r1037it [08:26,  1.90it/s]"
          ]
        },
        {
          "output_type": "stream",
          "name": "stdout",
          "text": [
            "torch.Size([1])\n",
            "[6]\n",
            "[7, 2, 1, 4, 8, 3] [6, 4, 1, 4, 8, 4]\n",
            "torch.Size([1])\n",
            "[6]\n",
            "[6, 2, 8, 1, 7, 6] [6, 4, 4, 1, 8, 6]\n"
          ]
        },
        {
          "output_type": "stream",
          "name": "stderr",
          "text": [
            "\r1039it [08:27,  2.09it/s]"
          ]
        },
        {
          "output_type": "stream",
          "name": "stdout",
          "text": [
            "torch.Size([1])\n",
            "[6]\n",
            "[6, 6, 5, 4, 5, 4] [6, 6, 5, 4, 5, 4]\n",
            "torch.Size([1])\n",
            "[6]\n",
            "[6, 5, 1, 3, 7, 9] [6, 5, 1, 1, 7, 10]\n"
          ]
        },
        {
          "output_type": "stream",
          "name": "stderr",
          "text": [
            "\r1041it [08:28,  2.21it/s]"
          ]
        },
        {
          "output_type": "stream",
          "name": "stdout",
          "text": [
            "torch.Size([1])\n",
            "[6]\n",
            "[7, 4, 2, 5, 9, 5] [6, 4, 2, 4, 9, 5]\n",
            "torch.Size([1])\n",
            "[6]\n",
            "[7, 5, 1, 4, 9, 3] [6, 5, 1, 5, 8, 8]\n"
          ]
        },
        {
          "output_type": "stream",
          "name": "stderr",
          "text": [
            "\r1043it [08:29,  1.99it/s]"
          ]
        },
        {
          "output_type": "stream",
          "name": "stdout",
          "text": [
            "torch.Size([1])\n",
            "[6]\n",
            "[1, 7, 1, 2, 4, 9] [1, 7, 1, 1, 5, 10]\n",
            "torch.Size([1])\n",
            "[6]\n",
            "[6, 7, 4, 9, 8, 1] [6, 6, 4, 9, 8, 2]\n"
          ]
        },
        {
          "output_type": "stream",
          "name": "stderr",
          "text": [
            "\r1045it [08:30,  2.13it/s]"
          ]
        },
        {
          "output_type": "stream",
          "name": "stdout",
          "text": [
            "torch.Size([1])\n",
            "[6]\n",
            "[6, 5, 8, 4, 7, 4] [6, 5, 8, 5, 8, 5]\n",
            "torch.Size([1])\n",
            "[6]\n",
            "[6, 7, 9, 3, 3, 7] [6, 7, 9, 2, 4, 7]\n"
          ]
        },
        {
          "output_type": "stream",
          "name": "stderr",
          "text": [
            "\r1047it [08:30,  2.25it/s]"
          ]
        },
        {
          "output_type": "stream",
          "name": "stdout",
          "text": [
            "torch.Size([1])\n",
            "[6]\n",
            "[6, 7, 9, 6, 5, 10] [6, 7, 9, 6, 5, 9]\n",
            "torch.Size([1])\n",
            "[6]\n",
            "[6, 6, 10, 8, 6, 9] [6, 7, 10, 7, 7, 9]\n"
          ]
        },
        {
          "output_type": "stream",
          "name": "stderr",
          "text": [
            "\r1049it [08:31,  2.33it/s]"
          ]
        },
        {
          "output_type": "stream",
          "name": "stdout",
          "text": [
            "torch.Size([1])\n",
            "[6]\n",
            "[6, 8, 1, 4, 9, 6] [6, 8, 1, 4, 9, 6]\n",
            "torch.Size([1])\n",
            "[6]\n",
            "[6, 7, 7, 5, 2, 3] [6, 7, 7, 5, 1, 1]\n"
          ]
        },
        {
          "output_type": "stream",
          "name": "stderr",
          "text": [
            "\r1051it [08:32,  2.39it/s]"
          ]
        },
        {
          "output_type": "stream",
          "name": "stdout",
          "text": [
            "torch.Size([1])\n",
            "[6]\n",
            "[6, 7, 5, 9, 9, 7] [6, 7, 5, 10, 9, 7]\n",
            "torch.Size([1])\n",
            "[6]\n",
            "[6, 7, 10, 1, 9, 7] [6, 7, 10, 1, 9, 6]\n"
          ]
        },
        {
          "output_type": "stream",
          "name": "stderr",
          "text": [
            "\r1053it [08:33,  2.39it/s]"
          ]
        },
        {
          "output_type": "stream",
          "name": "stdout",
          "text": [
            "torch.Size([1])\n",
            "[6]\n",
            "[6, 7, 7, 9, 9, 10] [6, 7, 7, 9, 9, 10]\n"
          ]
        },
        {
          "output_type": "stream",
          "name": "stderr",
          "text": [
            "\r1054it [08:33,  2.27it/s]"
          ]
        },
        {
          "output_type": "stream",
          "name": "stdout",
          "text": [
            "torch.Size([1])\n",
            "[6]\n",
            "[6, 7, 2, 8, 6, 7] [6, 7, 2, 8, 6, 8]\n"
          ]
        },
        {
          "output_type": "stream",
          "name": "stderr",
          "text": [
            "\r1055it [08:34,  1.87it/s]"
          ]
        },
        {
          "output_type": "stream",
          "name": "stdout",
          "text": [
            "torch.Size([1])\n",
            "[6]\n",
            "[6, 6, 7, 4, 7, 4] [6, 6, 7, 3, 7, 3]\n"
          ]
        },
        {
          "output_type": "stream",
          "name": "stderr",
          "text": [
            "\r1056it [08:35,  1.88it/s]"
          ]
        },
        {
          "output_type": "stream",
          "name": "stdout",
          "text": [
            "torch.Size([1])\n",
            "[6]\n",
            "[6, 7, 2, 2, 3, 4] [6, 7, 2, 1, 2, 1]\n"
          ]
        },
        {
          "output_type": "stream",
          "name": "stderr",
          "text": [
            "\r1057it [08:35,  2.10it/s]"
          ]
        },
        {
          "output_type": "stream",
          "name": "stdout",
          "text": [
            "torch.Size([1])\n",
            "[6]\n",
            "[1, 7, 2, 6, 4, 7] [1, 7, 2, 7, 4, 6]\n"
          ]
        },
        {
          "output_type": "stream",
          "name": "stderr",
          "text": [
            "\r1058it [08:35,  2.08it/s]"
          ]
        },
        {
          "output_type": "stream",
          "name": "stdout",
          "text": [
            "torch.Size([1])\n",
            "[6]\n",
            "[6, 6, 10, 5, 7, 4] [6, 6, 10, 5, 7, 3]\n"
          ]
        },
        {
          "output_type": "stream",
          "name": "stderr",
          "text": [
            "\r1059it [08:36,  2.35it/s]"
          ]
        },
        {
          "output_type": "stream",
          "name": "stdout",
          "text": [
            "torch.Size([1])\n",
            "[6]\n",
            "[6, 7, 5, 9, 7, 3] [6, 7, 5, 10, 6, 2]\n"
          ]
        },
        {
          "output_type": "stream",
          "name": "stderr",
          "text": [
            "\r1060it [08:37,  1.60it/s]"
          ]
        },
        {
          "output_type": "stream",
          "name": "stdout",
          "text": [
            "torch.Size([1])\n",
            "[6]\n",
            "[1, 7, 2, 6, 7, 4] [1, 7, 2, 7, 8, 3]\n",
            "torch.Size([1])\n",
            "[6]\n",
            "[6, 7, 1, 1, 10, 1] [6, 7, 1, 1, 10, 2]\n"
          ]
        },
        {
          "output_type": "stream",
          "name": "stderr",
          "text": [
            "\r1062it [08:38,  1.89it/s]"
          ]
        },
        {
          "output_type": "stream",
          "name": "stdout",
          "text": [
            "torch.Size([1])\n",
            "[6]\n",
            "[1, 7, 4, 6, 3, 5] [1, 7, 3, 7, 3, 4]\n",
            "torch.Size([1])\n",
            "[6]\n",
            "[6, 7, 1, 8, 3, 4] [6, 7, 1, 7, 1, 2]\n"
          ]
        },
        {
          "output_type": "stream",
          "name": "stderr",
          "text": [
            "\r1064it [08:39,  2.08it/s]"
          ]
        },
        {
          "output_type": "stream",
          "name": "stdout",
          "text": [
            "torch.Size([1])\n",
            "[6]\n",
            "[6, 7, 8, 10, 6, 4] [6, 7, 8, 10, 6, 2]\n",
            "torch.Size([1])\n",
            "[6]\n",
            "[6, 7, 5, 8, 7, 8] [6, 7, 5, 8, 8, 9]\n"
          ]
        },
        {
          "output_type": "stream",
          "name": "stderr",
          "text": [
            "\r1066it [08:39,  2.42it/s]"
          ]
        },
        {
          "output_type": "stream",
          "name": "stdout",
          "text": [
            "torch.Size([1])\n",
            "[6]\n",
            "[6, 8, 10, 1, 2, 4] [6, 8, 10, 1, 2, 2]\n",
            "torch.Size([1])\n",
            "[6]\n",
            "[6, 9, 4, 8, 3, 6] [6, 9, 4, 6, 4, 5]\n"
          ]
        },
        {
          "output_type": "stream",
          "name": "stderr",
          "text": [
            "\r1068it [08:40,  2.15it/s]"
          ]
        },
        {
          "output_type": "stream",
          "name": "stdout",
          "text": [
            "torch.Size([1])\n",
            "[6]\n",
            "[7, 8, 2, 3, 7, 1] [6, 8, 2, 2, 7, 2]\n",
            "torch.Size([1])\n",
            "[6]\n",
            "[6, 8, 6, 3, 5, 9] [6, 8, 6, 3, 4, 8]\n"
          ]
        },
        {
          "output_type": "stream",
          "name": "stderr",
          "text": [
            "\r1070it [08:41,  2.23it/s]"
          ]
        },
        {
          "output_type": "stream",
          "name": "stdout",
          "text": [
            "torch.Size([1])\n",
            "[6]\n",
            "[6, 8, 7, 6, 6, 1] [6, 8, 7, 6, 7, 1]\n",
            "torch.Size([1])\n",
            "[6]\n",
            "[7, 9, 3, 5, 10, 6] [6, 9, 3, 6, 10, 6]\n"
          ]
        },
        {
          "output_type": "stream",
          "name": "stderr",
          "text": [
            "\r1072it [08:42,  2.52it/s]"
          ]
        },
        {
          "output_type": "stream",
          "name": "stdout",
          "text": [
            "torch.Size([1])\n",
            "[6]\n",
            "[6, 8, 7, 9, 9, 7] [6, 8, 7, 9, 10, 7]\n"
          ]
        },
        {
          "output_type": "stream",
          "name": "stderr",
          "text": [
            "\r1073it [08:42,  2.48it/s]"
          ]
        },
        {
          "output_type": "stream",
          "name": "stdout",
          "text": [
            "torch.Size([1])\n",
            "[6]\n",
            "[6, 9, 1, 3, 8, 5] [6, 9, 1, 2, 8, 4]\n"
          ]
        },
        {
          "output_type": "stream",
          "name": "stderr",
          "text": [
            "\r1074it [08:42,  2.75it/s]"
          ]
        },
        {
          "output_type": "stream",
          "name": "stdout",
          "text": [
            "torch.Size([1])\n",
            "[6]\n",
            "[7, 8, 1, 10, 10, 3] [6, 8, 1, 9, 9, 3]\n"
          ]
        },
        {
          "output_type": "stream",
          "name": "stderr",
          "text": [
            "\r1075it [08:43,  2.38it/s]"
          ]
        },
        {
          "output_type": "stream",
          "name": "stdout",
          "text": [
            "torch.Size([1])\n",
            "[6]\n",
            "[6, 9, 3, 4, 3, 5] [6, 9, 3, 3, 2, 4]\n"
          ]
        },
        {
          "output_type": "stream",
          "name": "stderr",
          "text": [
            "\r1076it [08:43,  2.26it/s]"
          ]
        },
        {
          "output_type": "stream",
          "name": "stdout",
          "text": [
            "torch.Size([1])\n",
            "[6]\n",
            "[6, 9, 5, 1, 9, 6] [6, 9, 5, 1, 9, 6]\n"
          ]
        },
        {
          "output_type": "stream",
          "name": "stderr",
          "text": [
            "\r1077it [08:44,  2.39it/s]"
          ]
        },
        {
          "output_type": "stream",
          "name": "stdout",
          "text": [
            "torch.Size([1])\n",
            "[6]\n",
            "[6, 8, 7, 3, 8, 1] [6, 8, 7, 2, 8, 1]\n"
          ]
        },
        {
          "output_type": "stream",
          "name": "stderr",
          "text": [
            "\r1078it [08:44,  2.31it/s]"
          ]
        },
        {
          "output_type": "stream",
          "name": "stdout",
          "text": [
            "torch.Size([1])\n",
            "[6]\n",
            "[9, 8, 1, 8, 9, 9] [6, 8, 1, 8, 10, 1]\n"
          ]
        },
        {
          "output_type": "stream",
          "name": "stderr",
          "text": [
            "\r1079it [08:45,  2.47it/s]"
          ]
        },
        {
          "output_type": "stream",
          "name": "stdout",
          "text": [
            "torch.Size([1])\n",
            "[6]\n",
            "[6, 8, 9, 1, 7, 4] [6, 8, 9, 1, 6, 3]\n"
          ]
        },
        {
          "output_type": "stream",
          "name": "stderr",
          "text": [
            "\r1080it [08:45,  2.32it/s]"
          ]
        },
        {
          "output_type": "stream",
          "name": "stdout",
          "text": [
            "torch.Size([1])\n",
            "[6]\n",
            "[1, 7, 5, 5, 2, 7] [1, 7, 5, 5, 2, 4]\n"
          ]
        },
        {
          "output_type": "stream",
          "name": "stderr",
          "text": [
            "\r1081it [08:46,  1.59it/s]"
          ]
        },
        {
          "output_type": "stream",
          "name": "stdout",
          "text": [
            "torch.Size([1])\n",
            "[6]\n",
            "[1, 6, 8, 1, 2, 7] [1, 7, 6, 1, 3, 8]\n"
          ]
        },
        {
          "output_type": "stream",
          "name": "stderr",
          "text": [
            "\r1082it [08:46,  1.90it/s]"
          ]
        },
        {
          "output_type": "stream",
          "name": "stdout",
          "text": [
            "torch.Size([1])\n",
            "[6]\n",
            "[6, 9, 2, 4, 4, 4] [6, 9, 3, 4, 4, 4]\n"
          ]
        },
        {
          "output_type": "stream",
          "name": "stderr",
          "text": [
            "\r1083it [08:47,  1.87it/s]"
          ]
        },
        {
          "output_type": "stream",
          "name": "stdout",
          "text": [
            "torch.Size([1])\n",
            "[6]\n",
            "[6, 8, 7, 5, 9, 2] [6, 8, 7, 5, 10, 3]\n"
          ]
        },
        {
          "output_type": "stream",
          "name": "stderr",
          "text": [
            "\r1084it [08:47,  2.23it/s]"
          ]
        },
        {
          "output_type": "stream",
          "name": "stdout",
          "text": [
            "torch.Size([1])\n",
            "[6]\n",
            "[6, 8, 9, 5, 1, 2] [6, 8, 8, 6, 2, 1]\n"
          ]
        },
        {
          "output_type": "stream",
          "name": "stderr",
          "text": [
            "1086it [08:48,  2.53it/s]"
          ]
        },
        {
          "output_type": "stream",
          "name": "stdout",
          "text": [
            "torch.Size([1])\n",
            "[6]\n",
            "[6, 8, 8, 3, 5, 3] [6, 8, 8, 2, 5, 2]\n",
            "torch.Size([1])\n",
            "[6]\n",
            "[6, 8, 10, 4, 2, 9] [6, 9, 10, 5, 1, 10]\n"
          ]
        },
        {
          "output_type": "stream",
          "name": "stderr",
          "text": [
            "\r1087it [08:49,  2.18it/s]"
          ]
        },
        {
          "output_type": "stream",
          "name": "stdout",
          "text": [
            "torch.Size([1])\n",
            "[6]\n",
            "[4, 10, 5, 8, 8, 7] [6, 10, 5, 8, 9, 8]\n"
          ]
        },
        {
          "output_type": "stream",
          "name": "stderr",
          "text": [
            "\r1088it [08:49,  2.51it/s]"
          ]
        },
        {
          "output_type": "stream",
          "name": "stdout",
          "text": [
            "torch.Size([1])\n",
            "[6]\n",
            "[4, 10, 2, 7, 7, 4] [6, 10, 2, 9, 7, 3]\n"
          ]
        },
        {
          "output_type": "stream",
          "name": "stderr",
          "text": [
            "\r1089it [08:50,  1.82it/s]"
          ]
        },
        {
          "output_type": "stream",
          "name": "stdout",
          "text": [
            "torch.Size([1])\n",
            "[6]\n",
            "[6, 9, 8, 4, 6, 3] [6, 9, 8, 4, 6, 3]\n",
            "torch.Size([1])\n",
            "[6]\n",
            "[7, 10, 2, 3, 3, 3] [7, 1, 2, 4, 1, 2]\n"
          ]
        },
        {
          "output_type": "stream",
          "name": "stderr",
          "text": [
            "\r1091it [08:51,  1.59it/s]"
          ]
        },
        {
          "output_type": "stream",
          "name": "stdout",
          "text": [
            "torch.Size([1])\n",
            "[6]\n",
            "[6, 10, 5, 2, 6, 5] [6, 10, 5, 2, 6, 5]\n",
            "torch.Size([1])\n",
            "[6]\n",
            "[7, 10, 4, 2, 3, 7] [6, 10, 6, 2, 3, 7]\n"
          ]
        },
        {
          "output_type": "stream",
          "name": "stderr",
          "text": [
            "\r1093it [08:52,  1.84it/s]"
          ]
        },
        {
          "output_type": "stream",
          "name": "stdout",
          "text": [
            "torch.Size([1])\n",
            "[6]\n",
            "[6, 10, 2, 9, 2, 6] [6, 10, 2, 10, 2, 8]\n",
            "torch.Size([1])\n",
            "[6]\n",
            "[1, 1, 10, 6, 4, 9] [1, 1, 9, 6, 5, 10]\n"
          ]
        },
        {
          "output_type": "stream",
          "name": "stderr",
          "text": [
            "\r1095it [08:53,  2.05it/s]"
          ]
        },
        {
          "output_type": "stream",
          "name": "stdout",
          "text": [
            "torch.Size([1])\n",
            "[6]\n",
            "[7, 10, 2, 6, 2, 10] [7, 1, 2, 5, 2, 10]\n",
            "torch.Size([1])\n",
            "[6]\n",
            "[6, 10, 2, 8, 7, 4] [6, 10, 2, 9, 7, 4]\n"
          ]
        },
        {
          "output_type": "stream",
          "name": "stderr",
          "text": [
            "\r1097it [08:54,  2.12it/s]"
          ]
        },
        {
          "output_type": "stream",
          "name": "stdout",
          "text": [
            "torch.Size([1])\n",
            "[6]\n",
            "[6, 10, 9, 4, 9, 4] [6, 10, 9, 3, 9, 3]\n"
          ]
        },
        {
          "output_type": "stream",
          "name": "stderr",
          "text": [
            "\r1098it [08:54,  2.27it/s]"
          ]
        },
        {
          "output_type": "stream",
          "name": "stdout",
          "text": [
            "torch.Size([1])\n",
            "[6]\n",
            "[6, 10, 10, 9, 5, 10] [6, 10, 10, 9, 5, 8]\n"
          ]
        },
        {
          "output_type": "stream",
          "name": "stderr",
          "text": [
            "\r1099it [08:55,  1.72it/s]"
          ]
        },
        {
          "output_type": "stream",
          "name": "stdout",
          "text": [
            "torch.Size([1])\n",
            "[6]\n",
            "[6, 9, 10, 3, 9, 1] [6, 9, 10, 2, 10, 1]\n",
            "torch.Size([1])\n",
            "[6]\n",
            "[7, 10, 3, 4, 9, 6] [6, 10, 3, 3, 10, 7]\n"
          ]
        },
        {
          "output_type": "stream",
          "name": "stderr",
          "text": [
            "\r1101it [08:56,  1.97it/s]"
          ]
        },
        {
          "output_type": "stream",
          "name": "stdout",
          "text": [
            "torch.Size([1])\n",
            "[6]\n",
            "[6, 1, 2, 9, 3, 2] [7, 1, 2, 10, 2, 1]\n"
          ]
        },
        {
          "output_type": "stream",
          "name": "stderr",
          "text": [
            "\r1102it [08:56,  2.10it/s]"
          ]
        },
        {
          "output_type": "stream",
          "name": "stdout",
          "text": [
            "torch.Size([1])\n",
            "[6]\n",
            "[6, 9, 6, 8, 5, 7] [6, 9, 6, 8, 5, 7]\n"
          ]
        },
        {
          "output_type": "stream",
          "name": "stderr",
          "text": [
            "\r1103it [08:57,  2.32it/s]"
          ]
        },
        {
          "output_type": "stream",
          "name": "stdout",
          "text": [
            "torch.Size([1])\n",
            "[6]\n",
            "[6, 10, 7, 7, 4, 5] [6, 10, 7, 7, 3, 4]\n"
          ]
        },
        {
          "output_type": "stream",
          "name": "stderr",
          "text": [
            "\r1104it [08:58,  1.60it/s]"
          ]
        },
        {
          "output_type": "stream",
          "name": "stdout",
          "text": [
            "torch.Size([1])\n",
            "[6]\n",
            "[6, 10, 2, 8, 2, 8] [6, 10, 2, 8, 1, 8]\n"
          ]
        },
        {
          "output_type": "stream",
          "name": "stderr",
          "text": [
            "\r1105it [08:58,  1.93it/s]"
          ]
        },
        {
          "output_type": "stream",
          "name": "stdout",
          "text": [
            "torch.Size([1])\n",
            "[6]\n",
            "[6, 10, 5, 8, 7, 5] [6, 10, 5, 8, 7, 5]\n"
          ]
        },
        {
          "output_type": "stream",
          "name": "stderr",
          "text": [
            "\r1106it [08:58,  1.89it/s]"
          ]
        },
        {
          "output_type": "stream",
          "name": "stdout",
          "text": [
            "torch.Size([1])\n",
            "[6]\n",
            "[7, 2, 9, 3, 5, 8] [7, 2, 9, 4, 4, 9]\n"
          ]
        },
        {
          "output_type": "stream",
          "name": "stderr",
          "text": [
            "\r1107it [08:59,  2.23it/s]"
          ]
        },
        {
          "output_type": "stream",
          "name": "stdout",
          "text": [
            "torch.Size([1])\n",
            "[6]\n",
            "[7, 2, 9, 5, 7, 4] [7, 2, 9, 4, 8, 4]\n"
          ]
        },
        {
          "output_type": "stream",
          "name": "stderr",
          "text": [
            "\r1108it [09:00,  1.54it/s]"
          ]
        },
        {
          "output_type": "stream",
          "name": "stdout",
          "text": [
            "torch.Size([1])\n",
            "[6]\n",
            "[1, 6, 9, 7, 2, 4] [1, 7, 9, 7, 1, 2]\n",
            "torch.Size([1])\n",
            "[6]\n",
            "[7, 1, 10, 9, 2, 8] [7, 1, 10, 10, 1, 8]\n"
          ]
        },
        {
          "output_type": "stream",
          "name": "stderr",
          "text": [
            "\r1110it [09:01,  1.75it/s]"
          ]
        },
        {
          "output_type": "stream",
          "name": "stdout",
          "text": [
            "torch.Size([1])\n",
            "[6]\n",
            "[1, 7, 8, 8, 6, 7] [1, 7, 8, 8, 8, 6]\n",
            "torch.Size([1])\n",
            "[6]\n",
            "[9, 1, 4, 5, 10, 6] [7, 2, 2, 5, 10, 5]\n"
          ]
        },
        {
          "output_type": "stream",
          "name": "stderr",
          "text": [
            "\r1112it [09:02,  1.98it/s]"
          ]
        },
        {
          "output_type": "stream",
          "name": "stdout",
          "text": [
            "torch.Size([1])\n",
            "[6]\n",
            "[9, 1, 4, 9, 3, 9] [7, 2, 8, 10, 10, 7]\n",
            "torch.Size([1])\n",
            "[6]\n",
            "[7, 1, 7, 8, 8, 4] [7, 1, 7, 10, 8, 3]\n"
          ]
        },
        {
          "output_type": "stream",
          "name": "stderr",
          "text": [
            "\r1114it [09:03,  2.05it/s]"
          ]
        },
        {
          "output_type": "stream",
          "name": "stdout",
          "text": [
            "torch.Size([1])\n",
            "[6]\n",
            "[7, 2, 10, 1, 5, 10] [7, 2, 8, 1, 6, 10]\n",
            "torch.Size([1])\n",
            "[6]\n",
            "[7, 2, 10, 5, 6, 9] [7, 2, 10, 5, 7, 8]\n"
          ]
        },
        {
          "output_type": "stream",
          "name": "stderr",
          "text": [
            "\r1116it [09:04,  1.76it/s]"
          ]
        },
        {
          "output_type": "stream",
          "name": "stdout",
          "text": [
            "torch.Size([1])\n",
            "[6]\n",
            "[5, 10, 4, 1, 5, 10] [7, 3, 1, 1, 1, 10]\n",
            "torch.Size([1])\n",
            "[6]\n",
            "[7, 1, 10, 8, 6, 4] [7, 1, 10, 7, 6, 5]\n"
          ]
        },
        {
          "output_type": "stream",
          "name": "stderr",
          "text": [
            "\r1118it [09:05,  1.95it/s]"
          ]
        },
        {
          "output_type": "stream",
          "name": "stdout",
          "text": [
            "torch.Size([1])\n",
            "[6]\n",
            "[7, 1, 10, 6, 2, 4] [7, 1, 10, 6, 1, 3]\n",
            "torch.Size([1])\n",
            "[6]\n",
            "[7, 2, 10, 9, 9, 7] [7, 2, 10, 9, 9, 6]\n"
          ]
        },
        {
          "output_type": "stream",
          "name": "stderr",
          "text": [
            "\r1120it [09:06,  2.02it/s]"
          ]
        },
        {
          "output_type": "stream",
          "name": "stdout",
          "text": [
            "torch.Size([1])\n",
            "[6]\n",
            "[7, 1, 8, 9, 2, 9] [7, 1, 8, 10, 1, 8]\n",
            "torch.Size([1])\n",
            "[6]\n",
            "[7, 2, 7, 5, 5, 6] [7, 2, 7, 5, 6, 7]\n"
          ]
        },
        {
          "output_type": "stream",
          "name": "stderr",
          "text": [
            "\r1122it [09:07,  1.93it/s]"
          ]
        },
        {
          "output_type": "stream",
          "name": "stdout",
          "text": [
            "torch.Size([1])\n",
            "[6]\n",
            "[7, 1, 3, 2, 5, 10] [7, 1, 3, 3, 5, 8]\n",
            "torch.Size([1])\n",
            "[6]\n",
            "[7, 2, 8, 4, 3, 5] [7, 2, 8, 3, 5, 3]\n"
          ]
        },
        {
          "output_type": "stream",
          "name": "stderr",
          "text": [
            "\r1124it [09:08,  1.99it/s]"
          ]
        },
        {
          "output_type": "stream",
          "name": "stdout",
          "text": [
            "torch.Size([1])\n",
            "[6]\n",
            "[7, 6, 6, 4, 6, 10] [7, 5, 6, 4, 6, 10]\n",
            "torch.Size([1])\n",
            "[6]\n",
            "[7, 3, 9, 6, 3, 6] [7, 3, 9, 6, 3, 6]\n"
          ]
        },
        {
          "output_type": "stream",
          "name": "stderr",
          "text": [
            "\r1126it [09:09,  2.09it/s]"
          ]
        },
        {
          "output_type": "stream",
          "name": "stdout",
          "text": [
            "torch.Size([1])\n",
            "[6]\n",
            "[7, 4, 2, 9, 1, 7] [7, 4, 2, 9, 1, 7]\n",
            "torch.Size([1])\n",
            "[6]\n",
            "[7, 4, 7, 3, 7, 1] [7, 4, 7, 2, 7, 1]\n"
          ]
        },
        {
          "output_type": "stream",
          "name": "stderr",
          "text": [
            "\r1128it [09:10,  1.98it/s]"
          ]
        },
        {
          "output_type": "stream",
          "name": "stdout",
          "text": [
            "torch.Size([1])\n",
            "[6]\n",
            "[7, 3, 10, 6, 5, 10] [7, 4, 10, 6, 5, 10]\n",
            "torch.Size([1])\n",
            "[6]\n",
            "[7, 4, 7, 9, 3, 10] [7, 4, 7, 9, 3, 10]\n"
          ]
        },
        {
          "output_type": "stream",
          "name": "stderr",
          "text": [
            "\r1130it [09:11,  1.77it/s]"
          ]
        },
        {
          "output_type": "stream",
          "name": "stdout",
          "text": [
            "torch.Size([1])\n",
            "[6]\n",
            "[7, 3, 8, 3, 3, 2] [7, 3, 8, 3, 3, 2]\n",
            "torch.Size([1])\n",
            "[6]\n",
            "[7, 3, 3, 9, 5, 3] [7, 3, 4, 9, 4, 1]\n"
          ]
        },
        {
          "output_type": "stream",
          "name": "stderr",
          "text": [
            "\r1132it [09:12,  1.89it/s]"
          ]
        },
        {
          "output_type": "stream",
          "name": "stdout",
          "text": [
            "torch.Size([1])\n",
            "[6]\n",
            "[9, 4, 4, 6, 10, 2] [7, 4, 8, 6, 10, 2]\n",
            "torch.Size([1])\n",
            "[6]\n",
            "[7, 4, 5, 6, 5, 9] [7, 4, 2, 6, 4, 10]\n"
          ]
        },
        {
          "output_type": "stream",
          "name": "stderr",
          "text": [
            "\r1134it [09:13,  2.05it/s]"
          ]
        },
        {
          "output_type": "stream",
          "name": "stdout",
          "text": [
            "torch.Size([1])\n",
            "[6]\n",
            "[7, 3, 10, 3, 7, 2] [7, 3, 9, 3, 7, 6]\n",
            "torch.Size([1])\n",
            "[6]\n",
            "[9, 3, 5, 7, 8, 6] [7, 3, 5, 7, 9, 6]\n"
          ]
        },
        {
          "output_type": "stream",
          "name": "stderr",
          "text": [
            "\r1136it [09:14,  2.08it/s]"
          ]
        },
        {
          "output_type": "stream",
          "name": "stdout",
          "text": [
            "torch.Size([1])\n",
            "[6]\n",
            "[7, 3, 9, 3, 3, 6] [7, 3, 9, 3, 3, 7]\n",
            "torch.Size([1])\n",
            "[6]\n",
            "[1, 8, 5, 4, 5, 5] [1, 8, 1, 1, 7, 5]\n"
          ]
        },
        {
          "output_type": "stream",
          "name": "stderr",
          "text": [
            "\r1138it [09:15,  1.98it/s]"
          ]
        },
        {
          "output_type": "stream",
          "name": "stdout",
          "text": [
            "torch.Size([1])\n",
            "[6]\n",
            "[7, 3, 8, 6, 10, 7] [7, 3, 8, 6, 10, 8]\n",
            "torch.Size([1])\n",
            "[6]\n",
            "[7, 3, 6, 1, 5, 4] [7, 3, 6, 1, 6, 9]\n"
          ]
        },
        {
          "output_type": "stream",
          "name": "stderr",
          "text": [
            "\r1140it [09:17,  1.47it/s]"
          ]
        },
        {
          "output_type": "stream",
          "name": "stdout",
          "text": [
            "torch.Size([1])\n",
            "[6]\n",
            "[7, 3, 9, 1, 5, 1] [7, 3, 7, 1, 6, 3]\n",
            "torch.Size([1])\n",
            "[6]\n",
            "[7, 5, 4, 8, 4, 7] [7, 5, 1, 10, 4, 7]\n"
          ]
        },
        {
          "output_type": "stream",
          "name": "stderr",
          "text": [
            "\r1142it [09:18,  1.66it/s]"
          ]
        },
        {
          "output_type": "stream",
          "name": "stdout",
          "text": [
            "torch.Size([1])\n",
            "[6]\n",
            "[7, 4, 4, 8, 10, 3] [7, 3, 3, 8, 10, 4]\n",
            "torch.Size([1])\n",
            "[6]\n",
            "[6, 5, 7, 3, 6, 9] [7, 5, 7, 3, 7, 9]\n"
          ]
        },
        {
          "output_type": "stream",
          "name": "stderr",
          "text": [
            "\r1144it [09:19,  1.83it/s]"
          ]
        },
        {
          "output_type": "stream",
          "name": "stdout",
          "text": [
            "torch.Size([1])\n",
            "[6]\n",
            "[7, 6, 5, 6, 3, 3] [7, 6, 5, 6, 3, 2]\n",
            "torch.Size([1])\n",
            "[6]\n",
            "[6, 5, 7, 9, 3, 9] [7, 5, 7, 9, 3, 8]\n"
          ]
        },
        {
          "output_type": "stream",
          "name": "stderr",
          "text": [
            "\r1146it [09:20,  2.00it/s]"
          ]
        },
        {
          "output_type": "stream",
          "name": "stdout",
          "text": [
            "torch.Size([1])\n",
            "[6]\n",
            "[7, 5, 9, 6, 1, 7] [7, 5, 9, 6, 1, 5]\n",
            "torch.Size([1])\n",
            "[6]\n",
            "[7, 5, 8, 9, 10, 3] [7, 5, 8, 10, 10, 3]\n"
          ]
        },
        {
          "output_type": "stream",
          "name": "stderr",
          "text": [
            "\r1148it [09:21,  1.67it/s]"
          ]
        },
        {
          "output_type": "stream",
          "name": "stdout",
          "text": [
            "torch.Size([1])\n",
            "[6]\n",
            "[7, 6, 1, 5, 9, 6] [7, 6, 1, 5, 10, 6]\n",
            "torch.Size([1])\n",
            "[6]\n",
            "[7, 7, 4, 6, 2, 2] [7, 6, 4, 7, 2, 2]\n"
          ]
        },
        {
          "output_type": "stream",
          "name": "stderr",
          "text": [
            "\r1150it [09:22,  1.86it/s]"
          ]
        },
        {
          "output_type": "stream",
          "name": "stdout",
          "text": [
            "torch.Size([1])\n",
            "[6]\n",
            "[7, 5, 8, 4, 3, 9] [7, 5, 8, 5, 4, 7]\n",
            "torch.Size([1])\n",
            "[6]\n",
            "[7, 5, 9, 8, 2, 6] [7, 5, 9, 8, 2, 5]\n"
          ]
        },
        {
          "output_type": "stream",
          "name": "stderr",
          "text": [
            "\r1152it [09:23,  1.69it/s]"
          ]
        },
        {
          "output_type": "stream",
          "name": "stdout",
          "text": [
            "torch.Size([1])\n",
            "[6]\n",
            "[1, 8, 5, 3, 2, 3] [1, 8, 4, 1, 1, 3]\n",
            "torch.Size([1])\n",
            "[6]\n",
            "[7, 5, 10, 1, 8, 7] [7, 5, 10, 1, 9, 6]\n"
          ]
        },
        {
          "output_type": "stream",
          "name": "stderr",
          "text": [
            "\r1154it [09:24,  1.73it/s]"
          ]
        },
        {
          "output_type": "stream",
          "name": "stdout",
          "text": [
            "torch.Size([1])\n",
            "[6]\n",
            "[7, 6, 8, 3, 6, 4] [7, 6, 6, 2, 6, 4]\n",
            "torch.Size([1])\n",
            "[6]\n",
            "[7, 5, 6, 6, 10, 2] [7, 5, 7, 7, 10, 1]\n"
          ]
        },
        {
          "output_type": "stream",
          "name": "stderr",
          "text": [
            "\r1156it [09:25,  1.87it/s]"
          ]
        },
        {
          "output_type": "stream",
          "name": "stdout",
          "text": [
            "torch.Size([1])\n",
            "[6]\n",
            "[7, 6, 2, 7, 4, 5] [7, 6, 2, 7, 4, 4]\n",
            "torch.Size([1])\n",
            "[6]\n",
            "[9, 6, 5, 6, 6, 10] [7, 6, 5, 7, 7, 10]\n"
          ]
        },
        {
          "output_type": "stream",
          "name": "stderr",
          "text": [
            "\r1158it [09:26,  2.04it/s]"
          ]
        },
        {
          "output_type": "stream",
          "name": "stdout",
          "text": [
            "torch.Size([1])\n",
            "[6]\n",
            "[7, 6, 3, 3, 7, 9] [7, 6, 3, 2, 8, 9]\n",
            "torch.Size([1])\n",
            "[6]\n",
            "[6, 5, 10, 6, 8, 4] [7, 5, 9, 6, 9, 4]\n"
          ]
        },
        {
          "output_type": "stream",
          "name": "stderr",
          "text": [
            "\r1160it [09:27,  2.11it/s]"
          ]
        },
        {
          "output_type": "stream",
          "name": "stdout",
          "text": [
            "torch.Size([1])\n",
            "[6]\n",
            "[1, 8, 2, 10, 9, 7] [1, 8, 2, 10, 10, 8]\n",
            "torch.Size([1])\n",
            "[6]\n",
            "[7, 6, 4, 2, 8, 6] [7, 6, 4, 2, 8, 6]\n"
          ]
        },
        {
          "output_type": "stream",
          "name": "stderr",
          "text": [
            "\r1162it [09:29,  1.76it/s]"
          ]
        },
        {
          "output_type": "stream",
          "name": "stdout",
          "text": [
            "torch.Size([1])\n",
            "[6]\n",
            "[7, 5, 10, 3, 8, 2] [7, 5, 10, 2, 8, 10]\n",
            "torch.Size([1])\n",
            "[6]\n",
            "[6, 5, 8, 4, 10, 10] [7, 5, 8, 4, 10, 10]\n"
          ]
        },
        {
          "output_type": "stream",
          "name": "stderr",
          "text": [
            "\r1164it [09:29,  1.93it/s]"
          ]
        },
        {
          "output_type": "stream",
          "name": "stdout",
          "text": [
            "torch.Size([1])\n",
            "[6]\n",
            "[7, 7, 7, 7, 7, 1] [7, 7, 7, 7, 7, 1]\n",
            "torch.Size([1])\n",
            "[6]\n",
            "[7, 7, 4, 4, 5, 5] [7, 7, 4, 3, 4, 4]\n"
          ]
        },
        {
          "output_type": "stream",
          "name": "stderr",
          "text": [
            "\r1166it [09:30,  2.07it/s]"
          ]
        },
        {
          "output_type": "stream",
          "name": "stdout",
          "text": [
            "torch.Size([1])\n",
            "[6]\n",
            "[7, 7, 4, 7, 9, 6] [7, 7, 4, 7, 9, 5]\n",
            "torch.Size([1])\n",
            "[6]\n",
            "[7, 7, 5, 4, 7, 8] [7, 7, 5, 5, 7, 8]\n"
          ]
        },
        {
          "output_type": "stream",
          "name": "stderr",
          "text": [
            "\r1168it [09:31,  2.19it/s]"
          ]
        },
        {
          "output_type": "stream",
          "name": "stdout",
          "text": [
            "torch.Size([1])\n",
            "[6]\n",
            "[7, 7, 4, 4, 4, 2] [7, 7, 4, 4, 4, 3]\n",
            "torch.Size([1])\n",
            "[6]\n",
            "[7, 7, 4, 3, 3, 10] [7, 7, 4, 3, 2, 9]\n"
          ]
        },
        {
          "output_type": "stream",
          "name": "stderr",
          "text": [
            "\r1170it [09:32,  1.87it/s]"
          ]
        },
        {
          "output_type": "stream",
          "name": "stdout",
          "text": [
            "torch.Size([1])\n",
            "[6]\n",
            "[7, 8, 5, 8, 3, 7] [7, 7, 5, 8, 3, 6]\n",
            "torch.Size([1])\n",
            "[6]\n",
            "[7, 6, 9, 8, 10, 4] [7, 6, 9, 8, 10, 5]\n"
          ]
        },
        {
          "output_type": "stream",
          "name": "stderr",
          "text": [
            "\r1172it [09:33,  2.00it/s]"
          ]
        },
        {
          "output_type": "stream",
          "name": "stdout",
          "text": [
            "torch.Size([1])\n",
            "[6]\n",
            "[7, 6, 9, 4, 8, 4] [7, 6, 9, 4, 8, 4]\n",
            "torch.Size([1])\n",
            "[6]\n",
            "[7, 7, 4, 6, 2, 6] [7, 7, 6, 6, 2, 4]\n"
          ]
        },
        {
          "output_type": "stream",
          "name": "stderr",
          "text": [
            "\r1174it [09:34,  2.10it/s]"
          ]
        },
        {
          "output_type": "stream",
          "name": "stdout",
          "text": [
            "torch.Size([1])\n",
            "[6]\n",
            "[7, 6, 7, 9, 5, 3] [7, 6, 7, 9, 5, 1]\n",
            "torch.Size([1])\n",
            "[6]\n",
            "[1, 8, 3, 3, 3, 7] [1, 8, 4, 2, 2, 3]\n"
          ]
        },
        {
          "output_type": "stream",
          "name": "stderr",
          "text": [
            "\r1176it [09:35,  2.20it/s]"
          ]
        },
        {
          "output_type": "stream",
          "name": "stdout",
          "text": [
            "torch.Size([1])\n",
            "[6]\n",
            "[6, 7, 4, 4, 4, 1] [7, 7, 10, 2, 8, 10]\n",
            "torch.Size([1])\n",
            "[6]\n",
            "[7, 7, 10, 7, 1, 6] [7, 7, 10, 7, 1, 5]\n"
          ]
        },
        {
          "output_type": "stream",
          "name": "stderr",
          "text": [
            "\r1178it [09:36,  1.82it/s]"
          ]
        },
        {
          "output_type": "stream",
          "name": "stdout",
          "text": [
            "torch.Size([1])\n",
            "[6]\n",
            "[7, 8, 4, 7, 9, 4] [7, 8, 4, 8, 8, 3]\n",
            "torch.Size([1])\n",
            "[6]\n",
            "[7, 6, 5, 7, 10, 7] [7, 7, 5, 7, 10, 6]\n"
          ]
        },
        {
          "output_type": "stream",
          "name": "stderr",
          "text": [
            "\r1180it [09:37,  1.95it/s]"
          ]
        },
        {
          "output_type": "stream",
          "name": "stdout",
          "text": [
            "torch.Size([1])\n",
            "[6]\n",
            "[7, 6, 1, 4, 2, 10] [7, 7, 1, 5, 1, 9]\n",
            "torch.Size([1])\n",
            "[6]\n",
            "[1, 8, 7, 5, 5, 3] [1, 8, 5, 7, 5, 1]\n"
          ]
        },
        {
          "output_type": "stream",
          "name": "stderr",
          "text": [
            "\r1182it [09:38,  1.90it/s]"
          ]
        },
        {
          "output_type": "stream",
          "name": "stdout",
          "text": [
            "torch.Size([1])\n",
            "[6]\n",
            "[7, 8, 7, 8, 3, 2] [7, 8, 7, 8, 4, 3]\n",
            "torch.Size([1])\n",
            "[6]\n",
            "[7, 8, 7, 2, 7, 7] [7, 9, 9, 5, 7, 5]\n"
          ]
        },
        {
          "output_type": "stream",
          "name": "stderr",
          "text": [
            "\r1184it [09:40,  1.70it/s]"
          ]
        },
        {
          "output_type": "stream",
          "name": "stdout",
          "text": [
            "torch.Size([1])\n",
            "[6]\n",
            "[7, 10, 6, 6, 7, 8] [7, 10, 6, 6, 8, 8]\n",
            "torch.Size([1])\n",
            "[6]\n",
            "[8, 1, 5, 6, 6, 5] [8, 1, 2, 6, 7, 7]\n"
          ]
        },
        {
          "output_type": "stream",
          "name": "stderr",
          "text": [
            "\r1186it [09:41,  1.61it/s]"
          ]
        },
        {
          "output_type": "stream",
          "name": "stdout",
          "text": [
            "torch.Size([1])\n",
            "[6]\n",
            "[7, 10, 4, 6, 4, 9] [7, 9, 3, 7, 4, 10]\n",
            "torch.Size([1])\n",
            "[6]\n",
            "[7, 10, 8, 2, 4, 7] [7, 10, 8, 2, 4, 7]\n"
          ]
        },
        {
          "output_type": "stream",
          "name": "stderr",
          "text": [
            "\r1188it [09:42,  1.80it/s]"
          ]
        },
        {
          "output_type": "stream",
          "name": "stdout",
          "text": [
            "torch.Size([1])\n",
            "[6]\n",
            "[9, 1, 3, 9, 4, 7] [8, 1, 1, 10, 4, 9]\n",
            "torch.Size([1])\n",
            "[6]\n",
            "[8, 1, 4, 6, 7, 3] [8, 1, 2, 8, 7, 2]\n"
          ]
        },
        {
          "output_type": "stream",
          "name": "stderr",
          "text": [
            "\r1190it [09:43,  1.80it/s]"
          ]
        },
        {
          "output_type": "stream",
          "name": "stdout",
          "text": [
            "torch.Size([1])\n",
            "[6]\n",
            "[7, 8, 7, 9, 5, 7] [7, 9, 7, 9, 5, 9]\n",
            "torch.Size([1])\n",
            "[6]\n",
            "[7, 6, 10, 8, 3, 10] [7, 8, 10, 8, 5, 9]\n"
          ]
        },
        {
          "output_type": "stream",
          "name": "stderr",
          "text": [
            "\r1192it [09:44,  1.98it/s]"
          ]
        },
        {
          "output_type": "stream",
          "name": "stdout",
          "text": [
            "torch.Size([1])\n",
            "[6]\n",
            "[9, 10, 4, 9, 9, 2] [7, 10, 2, 9, 10, 3]\n",
            "torch.Size([1])\n",
            "[6]\n",
            "[7, 8, 10, 4, 8, 1] [7, 8, 10, 2, 8, 2]\n"
          ]
        },
        {
          "output_type": "stream",
          "name": "stderr",
          "text": [
            "\r1194it [09:45,  2.13it/s]"
          ]
        },
        {
          "output_type": "stream",
          "name": "stdout",
          "text": [
            "torch.Size([1])\n",
            "[6]\n",
            "[7, 9, 6, 10, 7, 6] [7, 9, 6, 10, 7, 6]\n",
            "torch.Size([1])\n",
            "[6]\n",
            "[1, 8, 8, 9, 5, 8] [1, 8, 7, 8, 7, 9]\n"
          ]
        },
        {
          "output_type": "stream",
          "name": "stderr",
          "text": [
            "\r1196it [09:46,  2.22it/s]"
          ]
        },
        {
          "output_type": "stream",
          "name": "stdout",
          "text": [
            "torch.Size([1])\n",
            "[6]\n",
            "[1, 8, 7, 9, 4, 6] [1, 8, 7, 8, 6, 7]\n",
            "torch.Size([1])\n",
            "[6]\n",
            "[7, 9, 9, 6, 5, 9] [7, 9, 7, 6, 5, 9]\n"
          ]
        },
        {
          "output_type": "stream",
          "name": "stderr",
          "text": [
            "\r1198it [09:46,  2.30it/s]"
          ]
        },
        {
          "output_type": "stream",
          "name": "stdout",
          "text": [
            "torch.Size([1])\n",
            "[6]\n",
            "[7, 9, 5, 6, 9, 6] [7, 9, 5, 6, 10, 5]\n",
            "torch.Size([1])\n",
            "[6]\n",
            "[7, 10, 8, 5, 6, 4] [7, 10, 8, 7, 7, 4]\n"
          ]
        },
        {
          "output_type": "stream",
          "name": "stderr",
          "text": [
            "\r1200it [09:47,  2.37it/s]"
          ]
        },
        {
          "output_type": "stream",
          "name": "stdout",
          "text": [
            "torch.Size([1])\n",
            "[6]\n",
            "[8, 2, 1, 4, 2, 10] [8, 2, 1, 6, 1, 7]\n"
          ]
        },
        {
          "output_type": "stream",
          "name": "stderr",
          "text": [
            "\r1201it [09:47,  2.52it/s]"
          ]
        },
        {
          "output_type": "stream",
          "name": "stdout",
          "text": [
            "torch.Size([1])\n",
            "[6]\n",
            "[8, 2, 3, 2, 10, 10] [8, 2, 3, 3, 10, 8]\n"
          ]
        },
        {
          "output_type": "stream",
          "name": "stderr",
          "text": [
            "\r1202it [09:48,  2.37it/s]"
          ]
        },
        {
          "output_type": "stream",
          "name": "stdout",
          "text": [
            "torch.Size([1])\n",
            "[6]\n",
            "[8, 1, 6, 7, 5, 4] [8, 1, 6, 7, 5, 4]\n"
          ]
        },
        {
          "output_type": "stream",
          "name": "stderr",
          "text": [
            "\r1203it [09:48,  2.51it/s]"
          ]
        },
        {
          "output_type": "stream",
          "name": "stdout",
          "text": [
            "torch.Size([1])\n",
            "[6]\n",
            "[9, 1, 8, 9, 2, 9] [8, 1, 8, 9, 2, 9]\n"
          ]
        },
        {
          "output_type": "stream",
          "name": "stderr",
          "text": [
            "\r1204it [09:49,  2.28it/s]"
          ]
        },
        {
          "output_type": "stream",
          "name": "stdout",
          "text": [
            "torch.Size([1])\n",
            "[6]\n",
            "[10, 1, 3, 4, 9, 3] [8, 1, 3, 4, 10, 2]\n"
          ]
        },
        {
          "output_type": "stream",
          "name": "stderr",
          "text": [
            "\r1205it [09:49,  2.61it/s]"
          ]
        },
        {
          "output_type": "stream",
          "name": "stdout",
          "text": [
            "torch.Size([1])\n",
            "[6]\n",
            "[8, 1, 6, 5, 6, 9] [8, 1, 6, 7, 7, 10]\n"
          ]
        },
        {
          "output_type": "stream",
          "name": "stderr",
          "text": [
            "\r1206it [09:50,  2.26it/s]"
          ]
        },
        {
          "output_type": "stream",
          "name": "stdout",
          "text": [
            "torch.Size([1])\n",
            "[6]\n",
            "[8, 1, 8, 5, 5, 4] [8, 1, 8, 6, 9, 10]\n"
          ]
        },
        {
          "output_type": "stream",
          "name": "stderr",
          "text": [
            "\r1207it [09:50,  2.64it/s]"
          ]
        },
        {
          "output_type": "stream",
          "name": "stdout",
          "text": [
            "torch.Size([1])\n",
            "[6]\n",
            "[1, 8, 9, 9, 4, 4] [1, 8, 9, 9, 4, 2]\n"
          ]
        },
        {
          "output_type": "stream",
          "name": "stderr",
          "text": [
            "\r1208it [09:51,  2.13it/s]"
          ]
        },
        {
          "output_type": "stream",
          "name": "stdout",
          "text": [
            "torch.Size([1])\n",
            "[6]\n",
            "[8, 2, 6, 5, 8, 10] [8, 2, 1, 5, 1, 10]\n"
          ]
        },
        {
          "output_type": "stream",
          "name": "stderr",
          "text": [
            "\r1209it [09:51,  1.81it/s]"
          ]
        },
        {
          "output_type": "stream",
          "name": "stdout",
          "text": [
            "torch.Size([1])\n",
            "[6]\n",
            "[8, 2, 6, 4, 6, 6] [8, 2, 4, 3, 5, 3]\n"
          ]
        },
        {
          "output_type": "stream",
          "name": "stderr",
          "text": [
            "\r1210it [09:52,  2.02it/s]"
          ]
        },
        {
          "output_type": "stream",
          "name": "stdout",
          "text": [
            "torch.Size([1])\n",
            "[6]\n",
            "[9, 1, 9, 9, 1, 1] [8, 1, 9, 9, 2, 6]\n"
          ]
        },
        {
          "output_type": "stream",
          "name": "stderr",
          "text": [
            "\r1211it [09:53,  1.51it/s]"
          ]
        },
        {
          "output_type": "stream",
          "name": "stdout",
          "text": [
            "torch.Size([1])\n",
            "[6]\n",
            "[3, 1, 10, 8, 7, 9] [1, 1, 10, 8, 10, 8]\n",
            "torch.Size([1])\n",
            "[6]\n",
            "[9, 2, 8, 1, 1, 5] [8, 1, 8, 1, 1, 3]\n"
          ]
        },
        {
          "output_type": "stream",
          "name": "stderr",
          "text": [
            "\r1213it [09:54,  1.79it/s]"
          ]
        },
        {
          "output_type": "stream",
          "name": "stdout",
          "text": [
            "torch.Size([1])\n",
            "[6]\n",
            "[9, 1, 6, 5, 1, 10] [8, 1, 6, 7, 1, 9]\n"
          ]
        },
        {
          "output_type": "stream",
          "name": "stderr",
          "text": [
            "\r1214it [09:54,  1.94it/s]"
          ]
        },
        {
          "output_type": "stream",
          "name": "stdout",
          "text": [
            "torch.Size([1])\n",
            "[6]\n",
            "[8, 1, 4, 3, 2, 6] [8, 1, 4, 3, 1, 3]\n"
          ]
        },
        {
          "output_type": "stream",
          "name": "stderr",
          "text": [
            "\r1215it [09:54,  2.05it/s]"
          ]
        },
        {
          "output_type": "stream",
          "name": "stdout",
          "text": [
            "torch.Size([1])\n",
            "[6]\n",
            "[8, 2, 2, 1, 8, 10] [8, 2, 2, 1, 9, 10]\n"
          ]
        },
        {
          "output_type": "stream",
          "name": "stderr",
          "text": [
            "\r1216it [09:55,  2.16it/s]"
          ]
        },
        {
          "output_type": "stream",
          "name": "stdout",
          "text": [
            "torch.Size([1])\n",
            "[6]\n",
            "[8, 2, 1, 4, 4, 2] [8, 2, 1, 6, 3, 4]\n"
          ]
        },
        {
          "output_type": "stream",
          "name": "stderr",
          "text": [
            "\r1217it [09:55,  2.23it/s]"
          ]
        },
        {
          "output_type": "stream",
          "name": "stdout",
          "text": [
            "torch.Size([1])\n",
            "[6]\n",
            "[8, 1, 9, 9, 5, 6] [8, 1, 9, 10, 2, 3]\n"
          ]
        },
        {
          "output_type": "stream",
          "name": "stderr",
          "text": [
            "\r1218it [09:56,  1.56it/s]"
          ]
        },
        {
          "output_type": "stream",
          "name": "stdout",
          "text": [
            "torch.Size([1])\n",
            "[6]\n",
            "[10, 4, 1, 5, 10, 10] [8, 4, 3, 5, 9, 8]\n",
            "torch.Size([1])\n",
            "[6]\n",
            "[8, 4, 5, 4, 4, 1] [8, 4, 5, 4, 3, 2]\n"
          ]
        },
        {
          "output_type": "stream",
          "name": "stderr",
          "text": [
            "\r1220it [09:57,  1.87it/s]"
          ]
        },
        {
          "output_type": "stream",
          "name": "stdout",
          "text": [
            "torch.Size([1])\n",
            "[6]\n",
            "[1, 8, 10, 9, 4, 10] [1, 8, 10, 9, 6, 10]\n",
            "torch.Size([1])\n",
            "[6]\n",
            "[8, 4, 3, 9, 10, 7] [8, 4, 3, 10, 10, 9]\n"
          ]
        },
        {
          "output_type": "stream",
          "name": "stderr",
          "text": [
            "\r1222it [09:59,  1.66it/s]"
          ]
        },
        {
          "output_type": "stream",
          "name": "stdout",
          "text": [
            "torch.Size([1])\n",
            "[6]\n",
            "[7, 4, 1, 4, 4, 1] [8, 4, 2, 4, 3, 1]\n",
            "torch.Size([1])\n",
            "[6]\n",
            "[1, 9, 5, 4, 1, 6] [1, 9, 2, 3, 1, 5]\n"
          ]
        },
        {
          "output_type": "stream",
          "name": "stderr",
          "text": [
            "\r1224it [10:00,  1.68it/s]"
          ]
        },
        {
          "output_type": "stream",
          "name": "stdout",
          "text": [
            "torch.Size([1])\n",
            "[6]\n",
            "[8, 2, 6, 5, 5, 6] [8, 2, 6, 5, 5, 7]\n",
            "torch.Size([1])\n",
            "[6]\n",
            "[9, 2, 7, 4, 2, 4] [8, 2, 9, 5, 1, 1]\n"
          ]
        },
        {
          "output_type": "stream",
          "name": "stderr",
          "text": [
            "\r1226it [10:01,  1.73it/s]"
          ]
        },
        {
          "output_type": "stream",
          "name": "stdout",
          "text": [
            "torch.Size([1])\n",
            "[6]\n",
            "[8, 3, 10, 1, 5, 10] [8, 3, 10, 3, 5, 8]\n",
            "torch.Size([1])\n",
            "[6]\n",
            "[8, 3, 5, 5, 5, 3] [8, 3, 3, 5, 5, 4]\n"
          ]
        },
        {
          "output_type": "stream",
          "name": "stderr",
          "text": [
            "\r1228it [10:02,  1.74it/s]"
          ]
        },
        {
          "output_type": "stream",
          "name": "stdout",
          "text": [
            "torch.Size([1])\n",
            "[6]\n",
            "[8, 2, 10, 4, 5, 4] [8, 2, 8, 3, 6, 7]\n",
            "torch.Size([1])\n",
            "[6]\n",
            "[1, 9, 2, 4, 6, 4] [1, 9, 1, 2, 1, 3]\n"
          ]
        },
        {
          "output_type": "stream",
          "name": "stderr",
          "text": [
            "\r1230it [10:03,  1.64it/s]"
          ]
        },
        {
          "output_type": "stream",
          "name": "stdout",
          "text": [
            "torch.Size([1])\n",
            "[6]\n",
            "[8, 3, 9, 3, 9, 4] [8, 3, 5, 3, 9, 6]\n",
            "torch.Size([1])\n",
            "[6]\n",
            "[8, 3, 7, 3, 5, 4] [8, 3, 7, 2, 6, 3]\n"
          ]
        },
        {
          "output_type": "stream",
          "name": "stderr",
          "text": [
            "\r1232it [10:05,  1.53it/s]"
          ]
        },
        {
          "output_type": "stream",
          "name": "stdout",
          "text": [
            "torch.Size([1])\n",
            "[6]\n",
            "[8, 5, 8, 8, 6, 5] [8, 2, 8, 8, 7, 4]\n",
            "torch.Size([1])\n",
            "[6]\n",
            "[8, 3, 3, 4, 5, 2] [8, 3, 3, 4, 3, 2]\n"
          ]
        },
        {
          "output_type": "stream",
          "name": "stderr",
          "text": [
            "\r1234it [10:06,  1.75it/s]"
          ]
        },
        {
          "output_type": "stream",
          "name": "stdout",
          "text": [
            "torch.Size([1])\n",
            "[6]\n",
            "[8, 3, 10, 9, 2, 9] [8, 3, 10, 8, 1, 7]\n",
            "torch.Size([1])\n",
            "[6]\n",
            "[8, 3, 8, 9, 9, 7] [8, 3, 8, 9, 9, 8]\n"
          ]
        },
        {
          "output_type": "stream",
          "name": "stderr",
          "text": [
            "\r1236it [10:07,  1.77it/s]"
          ]
        },
        {
          "output_type": "stream",
          "name": "stdout",
          "text": [
            "torch.Size([1])\n",
            "[6]\n",
            "[8, 4, 9, 6, 3, 5] [8, 4, 9, 8, 3, 5]\n",
            "torch.Size([1])\n",
            "[6]\n",
            "[10, 4, 7, 5, 10, 5] [8, 4, 7, 6, 10, 5]\n"
          ]
        },
        {
          "output_type": "stream",
          "name": "stderr",
          "text": [
            "\r1238it [10:08,  1.92it/s]"
          ]
        },
        {
          "output_type": "stream",
          "name": "stdout",
          "text": [
            "torch.Size([1])\n",
            "[6]\n",
            "[8, 5, 10, 2, 6, 4] [8, 5, 10, 1, 7, 2]\n",
            "torch.Size([1])\n",
            "[6]\n",
            "[8, 4, 7, 3, 4, 5] [8, 4, 6, 1, 5, 5]\n"
          ]
        },
        {
          "output_type": "stream",
          "name": "stderr",
          "text": [
            "\r1240it [10:08,  2.03it/s]"
          ]
        },
        {
          "output_type": "stream",
          "name": "stdout",
          "text": [
            "torch.Size([1])\n",
            "[6]\n",
            "[8, 1, 4, 8, 1, 6] [8, 5, 1, 8, 2, 6]\n",
            "torch.Size([1])\n",
            "[6]\n",
            "[8, 5, 10, 4, 4, 10] [8, 5, 10, 4, 8, 9]\n"
          ]
        },
        {
          "output_type": "stream",
          "name": "stderr",
          "text": [
            "\r1242it [10:09,  2.11it/s]"
          ]
        },
        {
          "output_type": "stream",
          "name": "stdout",
          "text": [
            "torch.Size([1])\n",
            "[6]\n",
            "[8, 7, 4, 9, 10, 7] [8, 5, 3, 10, 10, 9]\n",
            "torch.Size([1])\n",
            "[6]\n",
            "[8, 4, 6, 2, 6, 4] [8, 4, 6, 2, 6, 5]\n"
          ]
        },
        {
          "output_type": "stream",
          "name": "stderr",
          "text": [
            "\r1244it [10:10,  2.19it/s]"
          ]
        },
        {
          "output_type": "stream",
          "name": "stdout",
          "text": [
            "torch.Size([1])\n",
            "[6]\n",
            "[8, 4, 7, 7, 6, 2] [8, 5, 5, 7, 6, 2]\n",
            "torch.Size([1])\n",
            "[6]\n",
            "[8, 5, 6, 3, 6, 2] [8, 5, 6, 3, 5, 10]\n"
          ]
        },
        {
          "output_type": "stream",
          "name": "stderr",
          "text": [
            "\r1246it [10:11,  2.03it/s]"
          ]
        },
        {
          "output_type": "stream",
          "name": "stdout",
          "text": [
            "torch.Size([1])\n",
            "[6]\n",
            "[8, 5, 3, 6, 5, 6] [8, 5, 3, 7, 6, 10]\n",
            "torch.Size([1])\n",
            "[6]\n",
            "[9, 3, 6, 5, 3, 4] [8, 4, 6, 5, 3, 4]\n"
          ]
        },
        {
          "output_type": "stream",
          "name": "stderr",
          "text": [
            "\r1248it [10:12,  2.20it/s]"
          ]
        },
        {
          "output_type": "stream",
          "name": "stdout",
          "text": [
            "torch.Size([1])\n",
            "[6]\n",
            "[8, 5, 9, 4, 2, 9] [8, 5, 1, 3, 2, 8]\n",
            "torch.Size([1])\n",
            "[6]\n",
            "[8, 5, 7, 6, 6, 9] [8, 5, 7, 5, 7, 10]\n"
          ]
        },
        {
          "output_type": "stream",
          "name": "stderr",
          "text": [
            "\r1250it [10:13,  2.25it/s]"
          ]
        },
        {
          "output_type": "stream",
          "name": "stdout",
          "text": [
            "torch.Size([1])\n",
            "[6]\n",
            "[8, 4, 1, 4, 10, 3] [8, 5, 5, 4, 10, 2]\n",
            "torch.Size([1])\n",
            "[6]\n",
            "[8, 4, 5, 7, 3, 4] [8, 4, 5, 7, 3, 3]\n"
          ]
        },
        {
          "output_type": "stream",
          "name": "stderr",
          "text": [
            "\r1252it [10:14,  2.04it/s]"
          ]
        },
        {
          "output_type": "stream",
          "name": "stdout",
          "text": [
            "torch.Size([1])\n",
            "[6]\n",
            "[8, 7, 8, 3, 10, 9] [8, 5, 7, 2, 3, 10]\n",
            "torch.Size([1])\n",
            "[6]\n",
            "[1, 9, 2, 4, 1, 7] [1, 9, 2, 7, 1, 6]\n"
          ]
        },
        {
          "output_type": "stream",
          "name": "stderr",
          "text": [
            "1255it [10:15,  2.47it/s]"
          ]
        },
        {
          "output_type": "stream",
          "name": "stdout",
          "text": [
            "torch.Size([1])\n",
            "[6]\n",
            "[8, 6, 7, 1, 7, 6] [8, 7, 7, 1, 8, 7]\n",
            "torch.Size([1])\n",
            "[6]\n",
            "[8, 6, 1, 3, 5, 2] [8, 7, 1, 2, 5, 2]\n"
          ]
        },
        {
          "output_type": "stream",
          "name": "stderr",
          "text": [
            "\r1256it [10:16,  2.15it/s]"
          ]
        },
        {
          "output_type": "stream",
          "name": "stdout",
          "text": [
            "torch.Size([1])\n",
            "[6]\n",
            "[3, 7, 4, 6, 7, 7] [8, 7, 3, 2, 6, 7]\n"
          ]
        },
        {
          "output_type": "stream",
          "name": "stderr",
          "text": [
            "\r1257it [10:16,  2.11it/s]"
          ]
        },
        {
          "output_type": "stream",
          "name": "stdout",
          "text": [
            "torch.Size([1])\n",
            "[6]\n",
            "[8, 2, 5, 3, 4, 6] [8, 8, 2, 1, 3, 5]\n"
          ]
        },
        {
          "output_type": "stream",
          "name": "stderr",
          "text": [
            "\r1258it [10:17,  1.71it/s]"
          ]
        },
        {
          "output_type": "stream",
          "name": "stdout",
          "text": [
            "torch.Size([1])\n",
            "[6]\n",
            "[8, 7, 4, 7, 6, 7] [8, 7, 3, 7, 7, 8]\n"
          ]
        },
        {
          "output_type": "stream",
          "name": "stderr",
          "text": [
            "\r1259it [10:18,  1.79it/s]"
          ]
        },
        {
          "output_type": "stream",
          "name": "stdout",
          "text": [
            "torch.Size([1])\n",
            "[6]\n",
            "[9, 1, 8, 9, 5, 9] [1, 9, 5, 7, 5, 3]\n"
          ]
        },
        {
          "output_type": "stream",
          "name": "stderr",
          "text": [
            "\r1260it [10:19,  1.48it/s]"
          ]
        },
        {
          "output_type": "stream",
          "name": "stdout",
          "text": [
            "torch.Size([1])\n",
            "[6]\n",
            "[8, 6, 4, 3, 5, 8] [8, 6, 4, 3, 6, 7]\n",
            "torch.Size([1])\n",
            "[6]\n",
            "[8, 7, 9, 4, 7, 4] [8, 7, 9, 6, 7, 4]\n"
          ]
        },
        {
          "output_type": "stream",
          "name": "stderr",
          "text": [
            "\r1262it [10:19,  1.77it/s]"
          ]
        },
        {
          "output_type": "stream",
          "name": "stdout",
          "text": [
            "torch.Size([1])\n",
            "[6]\n",
            "[1, 2, 10, 4, 3, 5] [1, 2, 1, 2, 4, 4]\n"
          ]
        },
        {
          "output_type": "stream",
          "name": "stderr",
          "text": [
            "\r1263it [10:20,  1.92it/s]"
          ]
        },
        {
          "output_type": "stream",
          "name": "stdout",
          "text": [
            "torch.Size([1])\n",
            "[6]\n",
            "[8, 1, 5, 2, 7, 10] [8, 7, 8, 2, 7, 10]\n"
          ]
        },
        {
          "output_type": "stream",
          "name": "stderr",
          "text": [
            "\r1264it [10:21,  1.55it/s]"
          ]
        },
        {
          "output_type": "stream",
          "name": "stdout",
          "text": [
            "torch.Size([1])\n",
            "[6]\n",
            "[8, 6, 10, 5, 5, 4] [8, 6, 9, 5, 6, 6]\n",
            "torch.Size([1])\n",
            "[6]\n",
            "[8, 7, 8, 4, 9, 7] [8, 7, 8, 4, 10, 8]\n"
          ]
        },
        {
          "output_type": "stream",
          "name": "stderr",
          "text": [
            "\r1266it [10:22,  1.85it/s]"
          ]
        },
        {
          "output_type": "stream",
          "name": "stdout",
          "text": [
            "torch.Size([1])\n",
            "[6]\n",
            "[8, 6, 4, 9, 1, 6] [8, 6, 4, 9, 1, 6]\n",
            "torch.Size([1])\n",
            "[6]\n",
            "[3, 8, 7, 9, 5, 4] [8, 8, 1, 6, 4, 4]\n"
          ]
        },
        {
          "output_type": "stream",
          "name": "stderr",
          "text": [
            "\r1268it [10:23,  1.67it/s]"
          ]
        },
        {
          "output_type": "stream",
          "name": "stdout",
          "text": [
            "torch.Size([1])\n",
            "[6]\n",
            "[9, 6, 3, 2, 7, 6] [8, 6, 1, 2, 7, 6]\n",
            "torch.Size([1])\n",
            "[6]\n",
            "[8, 6, 3, 4, 2, 4] [8, 6, 3, 3, 2, 5]\n"
          ]
        },
        {
          "output_type": "stream",
          "name": "stderr",
          "text": [
            "\r1270it [10:24,  1.89it/s]"
          ]
        },
        {
          "output_type": "stream",
          "name": "stdout",
          "text": [
            "torch.Size([1])\n",
            "[6]\n",
            "[1, 9, 8, 3, 5, 9] [1, 9, 4, 2, 6, 10]\n"
          ]
        },
        {
          "output_type": "stream",
          "name": "stderr",
          "text": [
            "\r1271it [10:24,  2.02it/s]"
          ]
        },
        {
          "output_type": "stream",
          "name": "stdout",
          "text": [
            "torch.Size([1])\n",
            "[6]\n",
            "[8, 6, 8, 5, 6, 3] [8, 6, 8, 5, 6, 1]\n"
          ]
        },
        {
          "output_type": "stream",
          "name": "stderr",
          "text": [
            "\r1272it [10:25,  2.07it/s]"
          ]
        },
        {
          "output_type": "stream",
          "name": "stdout",
          "text": [
            "torch.Size([1])\n",
            "[6]\n",
            "[8, 8, 3, 7, 9, 6] [8, 8, 3, 7, 8, 7]\n"
          ]
        },
        {
          "output_type": "stream",
          "name": "stderr",
          "text": [
            "\r1273it [10:25,  2.16it/s]"
          ]
        },
        {
          "output_type": "stream",
          "name": "stdout",
          "text": [
            "torch.Size([1])\n",
            "[6]\n",
            "[6, 2, 9, 1, 6, 9] [8, 8, 8, 2, 8, 10]\n"
          ]
        },
        {
          "output_type": "stream",
          "name": "stderr",
          "text": [
            "\r1274it [10:25,  2.12it/s]"
          ]
        },
        {
          "output_type": "stream",
          "name": "stdout",
          "text": [
            "torch.Size([1])\n",
            "[6]\n",
            "[1, 9, 5, 8, 7, 5] [1, 9, 5, 8, 8, 6]\n"
          ]
        },
        {
          "output_type": "stream",
          "name": "stderr",
          "text": [
            "\r1275it [10:26,  2.24it/s]"
          ]
        },
        {
          "output_type": "stream",
          "name": "stdout",
          "text": [
            "torch.Size([1])\n",
            "[6]\n",
            "[8, 8, 1, 9, 5, 3] [8, 8, 2, 9, 5, 3]\n"
          ]
        },
        {
          "output_type": "stream",
          "name": "stderr",
          "text": [
            "\r1276it [10:26,  2.13it/s]"
          ]
        },
        {
          "output_type": "stream",
          "name": "stdout",
          "text": [
            "torch.Size([1])\n",
            "[6]\n",
            "[7, 8, 9, 8, 6, 2] [8, 8, 9, 8, 5, 1]\n"
          ]
        },
        {
          "output_type": "stream",
          "name": "stderr",
          "text": [
            "\r1277it [10:27,  1.71it/s]"
          ]
        },
        {
          "output_type": "stream",
          "name": "stdout",
          "text": [
            "torch.Size([1])\n",
            "[6]\n",
            "[1, 9, 6, 2, 7, 7] [1, 9, 6, 1, 8, 9]\n",
            "torch.Size([1])\n",
            "[6]\n",
            "[8, 8, 7, 8, 2, 5] [8, 8, 7, 8, 3, 3]\n"
          ]
        },
        {
          "output_type": "stream",
          "name": "stderr",
          "text": [
            "\r1279it [10:28,  2.00it/s]"
          ]
        },
        {
          "output_type": "stream",
          "name": "stdout",
          "text": [
            "torch.Size([1])\n",
            "[6]\n",
            "[8, 5, 9, 9, 5, 4] [8, 9, 7, 8, 7, 4]\n",
            "torch.Size([1])\n",
            "[6]\n",
            "[8, 8, 3, 9, 9, 6] [8, 8, 3, 10, 10, 7]\n"
          ]
        },
        {
          "output_type": "stream",
          "name": "stderr",
          "text": [
            "\r1281it [10:29,  2.10it/s]"
          ]
        },
        {
          "output_type": "stream",
          "name": "stdout",
          "text": [
            "torch.Size([1])\n",
            "[6]\n",
            "[8, 8, 9, 3, 2, 4] [8, 9, 9, 5, 1, 3]\n",
            "torch.Size([1])\n",
            "[6]\n",
            "[8, 9, 4, 8, 5, 7] [8, 9, 4, 8, 6, 9]\n"
          ]
        },
        {
          "output_type": "stream",
          "name": "stderr",
          "text": [
            "\r1283it [10:30,  2.21it/s]"
          ]
        },
        {
          "output_type": "stream",
          "name": "stdout",
          "text": [
            "torch.Size([1])\n",
            "[6]\n",
            "[1, 9, 6, 3, 7, 7] [1, 9, 6, 2, 9, 8]\n",
            "torch.Size([1])\n",
            "[6]\n",
            "[8, 7, 10, 5, 1, 7] [8, 8, 9, 5, 1, 6]\n"
          ]
        },
        {
          "output_type": "stream",
          "name": "stderr",
          "text": [
            "\r1285it [10:31,  1.86it/s]"
          ]
        },
        {
          "output_type": "stream",
          "name": "stdout",
          "text": [
            "torch.Size([1])\n",
            "[6]\n",
            "[8, 7, 3, 8, 3, 7] [8, 8, 3, 8, 3, 6]\n",
            "torch.Size([1])\n",
            "[6]\n",
            "[8, 9, 5, 4, 5, 9] [8, 9, 5, 6, 6, 8]\n"
          ]
        },
        {
          "output_type": "stream",
          "name": "stderr",
          "text": [
            "\r1287it [10:33,  1.69it/s]"
          ]
        },
        {
          "output_type": "stream",
          "name": "stdout",
          "text": [
            "torch.Size([1])\n",
            "[6]\n",
            "[8, 8, 1, 7, 2, 8] [8, 8, 2, 8, 1, 8]\n",
            "torch.Size([1])\n",
            "[6]\n",
            "[7, 8, 3, 3, 9, 10] [8, 8, 2, 3, 8, 10]\n"
          ]
        },
        {
          "output_type": "stream",
          "name": "stderr",
          "text": [
            "\r1289it [10:34,  1.59it/s]"
          ]
        },
        {
          "output_type": "stream",
          "name": "stdout",
          "text": [
            "torch.Size([1])\n",
            "[6]\n",
            "[8, 8, 9, 3, 5, 6] [8, 8, 7, 4, 6, 6]\n",
            "torch.Size([1])\n",
            "[6]\n",
            "[8, 10, 9, 5, 9, 3] [8, 10, 9, 4, 9, 2]\n"
          ]
        },
        {
          "output_type": "stream",
          "name": "stderr",
          "text": [
            "\r1291it [10:35,  1.50it/s]"
          ]
        },
        {
          "output_type": "stream",
          "name": "stdout",
          "text": [
            "torch.Size([1])\n",
            "[6]\n",
            "[7, 10, 7, 4, 1, 6] [8, 10, 2, 4, 2, 6]\n",
            "torch.Size([1])\n",
            "[6]\n",
            "[1, 9, 8, 9, 3, 4] [1, 9, 6, 9, 1, 4]\n"
          ]
        },
        {
          "output_type": "stream",
          "name": "stderr",
          "text": [
            "\r1293it [10:36,  1.70it/s]"
          ]
        },
        {
          "output_type": "stream",
          "name": "stdout",
          "text": [
            "torch.Size([1])\n",
            "[6]\n",
            "[7, 10, 6, 4, 8, 9] [8, 10, 5, 3, 6, 9]\n",
            "torch.Size([1])\n",
            "[6]\n",
            "[1, 8, 8, 9, 1, 8] [1, 9, 6, 8, 1, 9]\n"
          ]
        },
        {
          "output_type": "stream",
          "name": "stderr",
          "text": [
            "\r1295it [10:38,  1.58it/s]"
          ]
        },
        {
          "output_type": "stream",
          "name": "stdout",
          "text": [
            "torch.Size([1])\n",
            "[6]\n",
            "[8, 9, 10, 6, 9, 6] [8, 10, 10, 5, 10, 5]\n",
            "torch.Size([1])\n",
            "[6]\n",
            "[7, 10, 10, 8, 6, 6] [8, 10, 10, 8, 7, 2]\n"
          ]
        },
        {
          "output_type": "stream",
          "name": "stderr",
          "text": [
            "\r1297it [10:39,  1.76it/s]"
          ]
        },
        {
          "output_type": "stream",
          "name": "stdout",
          "text": [
            "torch.Size([1])\n",
            "[6]\n",
            "[8, 10, 7, 6, 5, 6] [8, 10, 7, 6, 6, 6]\n",
            "torch.Size([1])\n",
            "[6]\n",
            "[8, 10, 8, 5, 1, 7] [8, 10, 6, 5, 1, 6]\n"
          ]
        },
        {
          "output_type": "stream",
          "name": "stderr",
          "text": [
            "\r1299it [10:39,  1.89it/s]"
          ]
        },
        {
          "output_type": "stream",
          "name": "stdout",
          "text": [
            "torch.Size([1])\n",
            "[6]\n",
            "[7, 10, 1, 5, 9, 7] [8, 10, 1, 1, 9, 8]\n",
            "torch.Size([1])\n",
            "[6]\n",
            "[8, 10, 5, 8, 5, 3] [8, 10, 5, 8, 5, 3]\n"
          ]
        },
        {
          "output_type": "stream",
          "name": "stderr",
          "text": [
            "\r1301it [10:40,  2.04it/s]"
          ]
        },
        {
          "output_type": "stream",
          "name": "stdout",
          "text": [
            "torch.Size([1])\n",
            "[6]\n",
            "[9, 10, 1, 9, 8, 4] [8, 10, 1, 7, 8, 4]\n",
            "torch.Size([1])\n",
            "[6]\n",
            "[8, 10, 9, 1, 9, 6] [8, 10, 8, 1, 10, 4]\n"
          ]
        },
        {
          "output_type": "stream",
          "name": "stderr",
          "text": [
            "\r1303it [10:41,  2.08it/s]"
          ]
        },
        {
          "output_type": "stream",
          "name": "stdout",
          "text": [
            "torch.Size([1])\n",
            "[6]\n",
            "[8, 10, 9, 1, 7, 5] [8, 10, 9, 1, 6, 5]\n",
            "torch.Size([1])\n",
            "[6]\n",
            "[8, 10, 6, 3, 3, 4] [8, 10, 6, 2, 3, 2]\n"
          ]
        },
        {
          "output_type": "stream",
          "name": "stderr",
          "text": [
            "\r1305it [10:42,  2.16it/s]"
          ]
        },
        {
          "output_type": "stream",
          "name": "stdout",
          "text": [
            "torch.Size([1])\n",
            "[6]\n",
            "[8, 10, 1, 6, 8, 4] [8, 10, 1, 7, 8, 3]\n",
            "torch.Size([1])\n",
            "[6]\n",
            "[8, 8, 9, 7, 4, 1] [8, 10, 10, 7, 4, 10]\n"
          ]
        },
        {
          "output_type": "stream",
          "name": "stderr",
          "text": [
            "\r1307it [10:43,  2.27it/s]"
          ]
        },
        {
          "output_type": "stream",
          "name": "stdout",
          "text": [
            "torch.Size([1])\n",
            "[6]\n",
            "[9, 1, 1, 4, 6, 9] [9, 1, 1, 4, 6, 9]\n",
            "torch.Size([1])\n",
            "[6]\n",
            "[8, 10, 7, 8, 3, 1] [8, 10, 7, 8, 3, 1]\n"
          ]
        },
        {
          "output_type": "stream",
          "name": "stderr",
          "text": [
            "\r1309it [10:44,  1.92it/s]"
          ]
        },
        {
          "output_type": "stream",
          "name": "stdout",
          "text": [
            "torch.Size([1])\n",
            "[6]\n",
            "[9, 2, 4, 9, 9, 8] [9, 2, 4, 10, 8, 9]\n",
            "torch.Size([1])\n",
            "[6]\n",
            "[9, 1, 1, 4, 4, 2] [9, 1, 1, 7, 2, 2]\n"
          ]
        },
        {
          "output_type": "stream",
          "name": "stderr",
          "text": [
            "\r1311it [10:45,  1.84it/s]"
          ]
        },
        {
          "output_type": "stream",
          "name": "stdout",
          "text": [
            "torch.Size([1])\n",
            "[6]\n",
            "[9, 2, 7, 9, 2, 9] [9, 2, 7, 10, 2, 7]\n",
            "torch.Size([1])\n",
            "[6]\n",
            "[9, 1, 8, 6, 7, 7] [9, 1, 8, 6, 9, 7]\n"
          ]
        },
        {
          "output_type": "stream",
          "name": "stderr",
          "text": [
            "\r1313it [10:46,  1.98it/s]"
          ]
        },
        {
          "output_type": "stream",
          "name": "stdout",
          "text": [
            "torch.Size([1])\n",
            "[6]\n",
            "[9, 1, 10, 4, 6, 7] [9, 1, 10, 5, 7, 10]\n",
            "torch.Size([1])\n",
            "[6]\n",
            "[2, 9, 10, 9, 10, 4] [1, 9, 9, 9, 10, 4]\n"
          ]
        },
        {
          "output_type": "stream",
          "name": "stderr",
          "text": [
            "\r1315it [10:47,  1.91it/s]"
          ]
        },
        {
          "output_type": "stream",
          "name": "stdout",
          "text": [
            "torch.Size([1])\n",
            "[6]\n",
            "[9, 2, 2, 6, 2, 3] [9, 2, 2, 6, 2, 1]\n",
            "torch.Size([1])\n",
            "[6]\n",
            "[9, 2, 6, 9, 8, 6] [9, 2, 6, 10, 8, 5]\n"
          ]
        },
        {
          "output_type": "stream",
          "name": "stderr",
          "text": [
            "\r1317it [10:49,  1.74it/s]"
          ]
        },
        {
          "output_type": "stream",
          "name": "stdout",
          "text": [
            "torch.Size([1])\n",
            "[6]\n",
            "[9, 1, 10, 4, 5, 2] [9, 1, 10, 7, 7, 6]\n",
            "torch.Size([1])\n",
            "[6]\n",
            "[9, 1, 5, 9, 9, 9] [9, 1, 5, 9, 9, 8]\n"
          ]
        },
        {
          "output_type": "stream",
          "name": "stderr",
          "text": [
            "\r1319it [10:50,  1.88it/s]"
          ]
        },
        {
          "output_type": "stream",
          "name": "stdout",
          "text": [
            "torch.Size([1])\n",
            "[6]\n",
            "[1, 9, 9, 4, 8, 2] [1, 9, 9, 5, 9, 3]\n",
            "torch.Size([1])\n",
            "[6]\n",
            "[9, 2, 10, 5, 4, 9] [9, 2, 10, 7, 4, 7]\n"
          ]
        },
        {
          "output_type": "stream",
          "name": "stderr",
          "text": [
            "\r1321it [10:51,  1.71it/s]"
          ]
        },
        {
          "output_type": "stream",
          "name": "stdout",
          "text": [
            "torch.Size([1])\n",
            "[6]\n",
            "[9, 2, 8, 6, 9, 5] [9, 2, 8, 7, 10, 5]\n",
            "torch.Size([1])\n",
            "[6]\n",
            "[9, 2, 8, 4, 9, 5] [9, 2, 8, 4, 10, 5]\n"
          ]
        },
        {
          "output_type": "stream",
          "name": "stderr",
          "text": [
            "\r1323it [10:52,  1.89it/s]"
          ]
        },
        {
          "output_type": "stream",
          "name": "stdout",
          "text": [
            "torch.Size([1])\n",
            "[6]\n",
            "[7, 1, 8, 2, 2, 5] [9, 1, 6, 1, 2, 6]\n",
            "torch.Size([1])\n",
            "[6]\n",
            "[9, 3, 4, 1, 2, 5] [9, 3, 2, 1, 1, 4]\n"
          ]
        },
        {
          "output_type": "stream",
          "name": "stderr",
          "text": [
            "\r1325it [10:53,  2.01it/s]"
          ]
        },
        {
          "output_type": "stream",
          "name": "stdout",
          "text": [
            "torch.Size([1])\n",
            "[6]\n",
            "[9, 2, 7, 5, 2, 7] [9, 2, 7, 6, 1, 7]\n",
            "torch.Size([1])\n",
            "[6]\n",
            "[9, 2, 7, 4, 4, 2] [9, 2, 7, 4, 6, 9]\n"
          ]
        },
        {
          "output_type": "stream",
          "name": "stderr",
          "text": [
            "\r1327it [10:53,  2.13it/s]"
          ]
        },
        {
          "output_type": "stream",
          "name": "stdout",
          "text": [
            "torch.Size([1])\n",
            "[6]\n",
            "[9, 3, 4, 9, 10, 3] [9, 2, 4, 9, 10, 1]\n",
            "torch.Size([1])\n",
            "[6]\n",
            "[9, 1, 6, 9, 10, 3] [9, 1, 6, 10, 10, 3]\n"
          ]
        },
        {
          "output_type": "stream",
          "name": "stderr",
          "text": [
            "\r1329it [10:55,  1.86it/s]"
          ]
        },
        {
          "output_type": "stream",
          "name": "stdout",
          "text": [
            "torch.Size([1])\n",
            "[6]\n",
            "[9, 2, 6, 4, 5, 7] [9, 2, 6, 6, 5, 7]\n",
            "torch.Size([1])\n",
            "[6]\n",
            "[9, 4, 7, 7, 6, 1] [9, 3, 5, 7, 6, 1]\n"
          ]
        },
        {
          "output_type": "stream",
          "name": "stderr",
          "text": [
            "\r1331it [10:56,  2.01it/s]"
          ]
        },
        {
          "output_type": "stream",
          "name": "stdout",
          "text": [
            "torch.Size([1])\n",
            "[6]\n",
            "[9, 3, 2, 5, 6, 7] [9, 3, 2, 5, 7, 9]\n",
            "torch.Size([1])\n",
            "[6]\n",
            "[1, 10, 3, 8, 7, 8] [1, 10, 1, 8, 8, 9]\n"
          ]
        },
        {
          "output_type": "stream",
          "name": "stderr",
          "text": [
            "\r1333it [10:57,  2.12it/s]"
          ]
        },
        {
          "output_type": "stream",
          "name": "stdout",
          "text": [
            "torch.Size([1])\n",
            "[6]\n",
            "[9, 4, 3, 9, 4, 6] [9, 4, 3, 10, 3, 4]\n",
            "torch.Size([1])\n",
            "[6]\n",
            "[9, 3, 4, 4, 2, 7] [9, 3, 3, 3, 2, 7]\n"
          ]
        },
        {
          "output_type": "stream",
          "name": "stderr",
          "text": [
            "\r1335it [10:58,  2.01it/s]"
          ]
        },
        {
          "output_type": "stream",
          "name": "stdout",
          "text": [
            "torch.Size([1])\n",
            "[6]\n",
            "[10, 4, 1, 6, 9, 6] [9, 5, 1, 6, 10, 6]\n",
            "torch.Size([1])\n",
            "[6]\n",
            "[9, 4, 8, 5, 3, 9] [9, 4, 8, 5, 4, 10]\n"
          ]
        },
        {
          "output_type": "stream",
          "name": "stderr",
          "text": [
            "\r1337it [10:59,  1.93it/s]"
          ]
        },
        {
          "output_type": "stream",
          "name": "stdout",
          "text": [
            "torch.Size([1])\n",
            "[6]\n",
            "[1, 10, 2, 4, 6, 7] [1, 10, 2, 4, 7, 7]\n",
            "torch.Size([1])\n",
            "[6]\n",
            "[9, 2, 10, 3, 6, 4] [9, 4, 10, 3, 7, 1]\n"
          ]
        },
        {
          "output_type": "stream",
          "name": "stderr",
          "text": [
            "\r1339it [11:00,  1.89it/s]"
          ]
        },
        {
          "output_type": "stream",
          "name": "stdout",
          "text": [
            "torch.Size([1])\n",
            "[6]\n",
            "[9, 5, 4, 1, 5, 5] [9, 5, 3, 1, 6, 6]\n",
            "torch.Size([1])\n",
            "[6]\n",
            "[9, 4, 6, 6, 5, 1] [9, 4, 6, 6, 5, 1]\n"
          ]
        },
        {
          "output_type": "stream",
          "name": "stderr",
          "text": [
            "\r1341it [11:01,  1.72it/s]"
          ]
        },
        {
          "output_type": "stream",
          "name": "stdout",
          "text": [
            "torch.Size([1])\n",
            "[6]\n",
            "[9, 3, 7, 8, 4, 4] [9, 3, 7, 9, 4, 3]\n",
            "torch.Size([1])\n",
            "[6]\n",
            "[9, 4, 4, 8, 5, 4] [9, 4, 4, 9, 3, 2]\n"
          ]
        },
        {
          "output_type": "stream",
          "name": "stderr",
          "text": [
            "\r1343it [11:02,  1.89it/s]"
          ]
        },
        {
          "output_type": "stream",
          "name": "stdout",
          "text": [
            "torch.Size([1])\n",
            "[6]\n",
            "[9, 5, 1, 5, 4, 9] [9, 5, 1, 3, 5, 10]\n",
            "torch.Size([1])\n",
            "[6]\n",
            "[9, 3, 5, 5, 5, 6] [9, 3, 5, 6, 6, 6]\n"
          ]
        },
        {
          "output_type": "stream",
          "name": "stderr",
          "text": [
            "\r1345it [11:03,  1.87it/s]"
          ]
        },
        {
          "output_type": "stream",
          "name": "stdout",
          "text": [
            "torch.Size([1])\n",
            "[6]\n",
            "[9, 4, 1, 4, 10, 7] [9, 4, 2, 4, 10, 8]\n",
            "torch.Size([1])\n",
            "[6]\n",
            "[9, 3, 3, 8, 10, 10] [9, 3, 2, 7, 10, 10]\n"
          ]
        },
        {
          "output_type": "stream",
          "name": "stderr",
          "text": [
            "\r1347it [11:04,  1.87it/s]"
          ]
        },
        {
          "output_type": "stream",
          "name": "stdout",
          "text": [
            "torch.Size([1])\n",
            "[6]\n",
            "[9, 4, 8, 4, 9, 3] [9, 4, 8, 4, 10, 2]\n",
            "torch.Size([1])\n",
            "[6]\n",
            "[9, 4, 10, 9, 8, 4] [9, 4, 10, 10, 8, 1]\n"
          ]
        },
        {
          "output_type": "stream",
          "name": "stderr",
          "text": [
            "\r1349it [11:06,  1.74it/s]"
          ]
        },
        {
          "output_type": "stream",
          "name": "stdout",
          "text": [
            "torch.Size([1])\n",
            "[6]\n",
            "[9, 3, 7, 1, 3, 9] [9, 3, 7, 2, 1, 7]\n",
            "torch.Size([1])\n",
            "[6]\n",
            "[1, 10, 8, 5, 3, 5] [1, 10, 3, 6, 3, 7]\n"
          ]
        },
        {
          "output_type": "stream",
          "name": "stderr",
          "text": [
            "\r1351it [11:07,  1.63it/s]"
          ]
        },
        {
          "output_type": "stream",
          "name": "stdout",
          "text": [
            "torch.Size([1])\n",
            "[6]\n",
            "[9, 5, 10, 4, 3, 5] [9, 5, 10, 7, 4, 5]\n",
            "torch.Size([1])\n",
            "[6]\n",
            "[9, 5, 7, 9, 5, 6] [9, 5, 7, 10, 6, 6]\n"
          ]
        },
        {
          "output_type": "stream",
          "name": "stderr",
          "text": [
            "\r1353it [11:08,  1.80it/s]"
          ]
        },
        {
          "output_type": "stream",
          "name": "stdout",
          "text": [
            "torch.Size([1])\n",
            "[6]\n",
            "[9, 5, 7, 5, 8, 4] [9, 5, 7, 5, 8, 2]\n",
            "torch.Size([1])\n",
            "[6]\n",
            "[9, 5, 7, 9, 5, 10] [9, 5, 9, 9, 5, 10]\n"
          ]
        },
        {
          "output_type": "stream",
          "name": "stderr",
          "text": [
            "\r1355it [11:09,  1.94it/s]"
          ]
        },
        {
          "output_type": "stream",
          "name": "stdout",
          "text": [
            "torch.Size([1])\n",
            "[6]\n",
            "[9, 5, 9, 4, 9, 7] [9, 5, 9, 4, 10, 6]\n",
            "torch.Size([1])\n",
            "[6]\n",
            "[1, 10, 4, 5, 5, 2] [1, 10, 4, 5, 6, 4]\n"
          ]
        },
        {
          "output_type": "stream",
          "name": "stderr",
          "text": [
            "\r1357it [11:09,  2.08it/s]"
          ]
        },
        {
          "output_type": "stream",
          "name": "stdout",
          "text": [
            "torch.Size([1])\n",
            "[6]\n",
            "[9, 5, 7, 8, 2, 4] [9, 5, 9, 8, 2, 2]\n",
            "torch.Size([1])\n",
            "[6]\n",
            "[1, 1, 9, 2, 5, 2] [9, 5, 9, 7, 5, 2]\n"
          ]
        },
        {
          "output_type": "stream",
          "name": "stderr",
          "text": [
            "\r1359it [11:10,  2.22it/s]"
          ]
        },
        {
          "output_type": "stream",
          "name": "stdout",
          "text": [
            "torch.Size([1])\n",
            "[6]\n",
            "[9, 5, 4, 9, 9, 3] [9, 5, 4, 10, 9, 2]\n",
            "torch.Size([1])\n",
            "[6]\n",
            "[9, 6, 7, 6, 3, 6] [9, 6, 7, 7, 2, 5]\n"
          ]
        },
        {
          "output_type": "stream",
          "name": "stderr",
          "text": [
            "\r1361it [11:11,  2.44it/s]"
          ]
        },
        {
          "output_type": "stream",
          "name": "stdout",
          "text": [
            "torch.Size([1])\n",
            "[6]\n",
            "[1, 8, 7, 2, 5, 8] [1, 10, 3, 1, 4, 10]\n",
            "torch.Size([1])\n",
            "[6]\n",
            "[9, 6, 7, 4, 5, 4] [9, 6, 7, 4, 4, 3]\n"
          ]
        },
        {
          "output_type": "stream",
          "name": "stderr",
          "text": [
            "1364it [11:12,  2.75it/s]"
          ]
        },
        {
          "output_type": "stream",
          "name": "stdout",
          "text": [
            "torch.Size([1])\n",
            "[6]\n",
            "[9, 6, 6, 7, 9, 9] [9, 6, 6, 7, 10, 10]\n",
            "torch.Size([1])\n",
            "[6]\n",
            "[7, 5, 8, 5, 2, 10] [9, 5, 6, 5, 2, 8]\n"
          ]
        },
        {
          "output_type": "stream",
          "name": "stderr",
          "text": [
            "\r1365it [11:13,  2.06it/s]"
          ]
        },
        {
          "output_type": "stream",
          "name": "stdout",
          "text": [
            "torch.Size([1])\n",
            "[6]\n",
            "[9, 4, 6, 1, 1, 6] [9, 6, 6, 2, 1, 6]\n"
          ]
        },
        {
          "output_type": "stream",
          "name": "stderr",
          "text": [
            "\r1366it [11:13,  2.08it/s]"
          ]
        },
        {
          "output_type": "stream",
          "name": "stdout",
          "text": [
            "torch.Size([1])\n",
            "[6]\n",
            "[9, 6, 7, 8, 7, 6] [9, 6, 7, 8, 10, 7]\n"
          ]
        },
        {
          "output_type": "stream",
          "name": "stderr",
          "text": [
            "\r1367it [11:14,  2.27it/s]"
          ]
        },
        {
          "output_type": "stream",
          "name": "stdout",
          "text": [
            "torch.Size([1])\n",
            "[6]\n",
            "[9, 6, 6, 4, 10, 10] [9, 6, 6, 4, 10, 10]\n"
          ]
        },
        {
          "output_type": "stream",
          "name": "stderr",
          "text": [
            "\r1368it [11:15,  1.63it/s]"
          ]
        },
        {
          "output_type": "stream",
          "name": "stdout",
          "text": [
            "torch.Size([1])\n",
            "[6]\n",
            "[9, 5, 8, 8, 3, 9] [9, 5, 8, 8, 3, 5]\n",
            "torch.Size([1])\n",
            "[6]\n",
            "[9, 5, 10, 2, 5, 7] [9, 5, 10, 2, 4, 7]\n"
          ]
        },
        {
          "output_type": "stream",
          "name": "stderr",
          "text": [
            "\r1370it [11:15,  1.95it/s]"
          ]
        },
        {
          "output_type": "stream",
          "name": "stdout",
          "text": [
            "torch.Size([1])\n",
            "[6]\n",
            "[9, 6, 2, 8, 3, 3] [9, 6, 2, 9, 3, 3]\n",
            "torch.Size([1])\n",
            "[6]\n",
            "[9, 5, 4, 9, 9, 6] [9, 5, 4, 9, 10, 5]\n"
          ]
        },
        {
          "output_type": "stream",
          "name": "stderr",
          "text": [
            "\r1372it [11:17,  1.72it/s]"
          ]
        },
        {
          "output_type": "stream",
          "name": "stdout",
          "text": [
            "torch.Size([1])\n",
            "[6]\n",
            "[1, 10, 7, 4, 5, 8] [1, 10, 7, 4, 6, 9]\n",
            "torch.Size([1])\n",
            "[6]\n",
            "[7, 8, 1, 6, 2, 10] [9, 8, 1, 4, 2, 9]\n"
          ]
        },
        {
          "output_type": "stream",
          "name": "stderr",
          "text": [
            "\r1374it [11:18,  1.88it/s]"
          ]
        },
        {
          "output_type": "stream",
          "name": "stdout",
          "text": [
            "torch.Size([1])\n",
            "[6]\n",
            "[3, 2, 1, 8, 3, 1] [1, 2, 1, 8, 2, 9]\n",
            "torch.Size([1])\n",
            "[6]\n",
            "[9, 7, 8, 6, 5, 7] [9, 6, 8, 6, 6, 8]\n"
          ]
        },
        {
          "output_type": "stream",
          "name": "stderr",
          "text": [
            "\r1376it [11:19,  2.06it/s]"
          ]
        },
        {
          "output_type": "stream",
          "name": "stdout",
          "text": [
            "torch.Size([1])\n",
            "[6]\n",
            "[9, 6, 8, 7, 3, 5] [9, 7, 8, 7, 3, 3]\n",
            "torch.Size([1])\n",
            "[6]\n",
            "[9, 8, 6, 1, 4, 4] [9, 8, 4, 1, 1, 3]\n"
          ]
        },
        {
          "output_type": "stream",
          "name": "stderr",
          "text": [
            "\r1378it [11:19,  2.19it/s]"
          ]
        },
        {
          "output_type": "stream",
          "name": "stdout",
          "text": [
            "torch.Size([1])\n",
            "[6]\n",
            "[9, 6, 10, 5, 6, 6] [9, 6, 9, 5, 8, 9]\n",
            "torch.Size([1])\n",
            "[6]\n",
            "[7, 8, 1, 3, 3, 4] [9, 8, 3, 4, 3, 8]\n"
          ]
        },
        {
          "output_type": "stream",
          "name": "stderr",
          "text": [
            "\r1380it [11:21,  1.87it/s]"
          ]
        },
        {
          "output_type": "stream",
          "name": "stdout",
          "text": [
            "torch.Size([1])\n",
            "[6]\n",
            "[9, 7, 2, 9, 9, 1] [9, 7, 2, 9, 8, 2]\n",
            "torch.Size([1])\n",
            "[6]\n",
            "[9, 8, 7, 3, 5, 6] [9, 8, 7, 3, 7, 8]\n"
          ]
        },
        {
          "output_type": "stream",
          "name": "stderr",
          "text": [
            "\r1382it [11:22,  2.02it/s]"
          ]
        },
        {
          "output_type": "stream",
          "name": "stdout",
          "text": [
            "torch.Size([1])\n",
            "[6]\n",
            "[9, 7, 4, 4, 2, 10] [9, 7, 6, 4, 1, 7]\n",
            "torch.Size([1])\n",
            "[6]\n",
            "[9, 7, 9, 2, 5, 7] [9, 7, 7, 2, 5, 6]\n"
          ]
        },
        {
          "output_type": "stream",
          "name": "stderr",
          "text": [
            "\r1384it [11:22,  2.15it/s]"
          ]
        },
        {
          "output_type": "stream",
          "name": "stdout",
          "text": [
            "torch.Size([1])\n",
            "[6]\n",
            "[9, 8, 6, 3, 8, 3] [9, 8, 6, 3, 8, 4]\n",
            "torch.Size([1])\n",
            "[6]\n",
            "[7, 8, 7, 4, 1, 10] [9, 8, 7, 4, 1, 10]\n"
          ]
        },
        {
          "output_type": "stream",
          "name": "stderr",
          "text": [
            "\r1386it [11:23,  2.43it/s]"
          ]
        },
        {
          "output_type": "stream",
          "name": "stdout",
          "text": [
            "torch.Size([1])\n",
            "[6]\n",
            "[9, 7, 8, 7, 6, 4] [9, 7, 8, 7, 6, 4]\n",
            "torch.Size([1])\n",
            "[6]\n",
            "[9, 7, 5, 5, 8, 4] [9, 7, 5, 5, 9, 5]\n"
          ]
        },
        {
          "output_type": "stream",
          "name": "stderr",
          "text": [
            "\r1388it [11:24,  1.99it/s]"
          ]
        },
        {
          "output_type": "stream",
          "name": "stdout",
          "text": [
            "torch.Size([1])\n",
            "[6]\n",
            "[9, 6, 8, 8, 2, 5] [9, 6, 8, 9, 1, 3]\n",
            "torch.Size([1])\n",
            "[6]\n",
            "[9, 8, 1, 3, 4, 9] [9, 8, 1, 2, 4, 9]\n"
          ]
        },
        {
          "output_type": "stream",
          "name": "stderr",
          "text": [
            "\r1390it [11:25,  2.11it/s]"
          ]
        },
        {
          "output_type": "stream",
          "name": "stdout",
          "text": [
            "torch.Size([1])\n",
            "[6]\n",
            "[9, 8, 1, 5, 8, 3] [9, 8, 5, 4, 9, 1]\n",
            "torch.Size([1])\n",
            "[6]\n",
            "[9, 7, 6, 2, 5, 9] [9, 7, 6, 3, 4, 8]\n"
          ]
        },
        {
          "output_type": "stream",
          "name": "stderr",
          "text": [
            "\r1392it [11:26,  2.21it/s]"
          ]
        },
        {
          "output_type": "stream",
          "name": "stdout",
          "text": [
            "torch.Size([1])\n",
            "[6]\n",
            "[9, 8, 2, 9, 8, 7] [9, 8, 2, 10, 9, 8]\n",
            "torch.Size([1])\n",
            "[6]\n",
            "[9, 6, 9, 2, 5, 7] [9, 7, 9, 2, 5, 5]\n"
          ]
        },
        {
          "output_type": "stream",
          "name": "stderr",
          "text": [
            "\r1394it [11:27,  2.29it/s]"
          ]
        },
        {
          "output_type": "stream",
          "name": "stdout",
          "text": [
            "torch.Size([1])\n",
            "[6]\n",
            "[9, 7, 4, 1, 8, 7] [9, 7, 2, 1, 9, 8]\n",
            "torch.Size([1])\n",
            "[6]\n",
            "[9, 8, 5, 5, 2, 7] [9, 9, 5, 7, 1, 6]\n"
          ]
        },
        {
          "output_type": "stream",
          "name": "stderr",
          "text": [
            "\r1396it [11:28,  2.38it/s]"
          ]
        },
        {
          "output_type": "stream",
          "name": "stdout",
          "text": [
            "torch.Size([1])\n",
            "[6]\n",
            "[9, 10, 5, 8, 10, 9] [9, 9, 5, 8, 9, 10]\n",
            "torch.Size([1])\n",
            "[6]\n",
            "[9, 9, 1, 8, 5, 7] [9, 9, 1, 8, 5, 9]\n"
          ]
        },
        {
          "output_type": "stream",
          "name": "stderr",
          "text": [
            "\r1398it [11:28,  2.41it/s]"
          ]
        },
        {
          "output_type": "stream",
          "name": "stdout",
          "text": [
            "torch.Size([1])\n",
            "[6]\n",
            "[9, 10, 1, 8, 7, 6] [9, 9, 1, 9, 6, 6]\n",
            "torch.Size([1])\n",
            "[6]\n",
            "[9, 8, 8, 1, 4, 4] [9, 8, 10, 2, 4, 4]\n"
          ]
        },
        {
          "output_type": "stream",
          "name": "stderr",
          "text": [
            "\r1400it [11:29,  2.36it/s]"
          ]
        },
        {
          "output_type": "stream",
          "name": "stdout",
          "text": [
            "torch.Size([1])\n",
            "[6]\n",
            "[9, 9, 6, 7, 1, 6] [9, 9, 6, 9, 1, 6]\n",
            "torch.Size([1])\n",
            "[6]\n",
            "[9, 9, 8, 5, 6, 6] [9, 9, 8, 5, 6, 7]\n"
          ]
        },
        {
          "output_type": "stream",
          "name": "stderr",
          "text": [
            "\r1402it [11:30,  2.54it/s]"
          ]
        },
        {
          "output_type": "stream",
          "name": "stdout",
          "text": [
            "torch.Size([1])\n",
            "[6]\n",
            "[9, 10, 7, 6, 8, 2] [9, 9, 7, 7, 9, 2]\n",
            "torch.Size([1])\n",
            "[6]\n",
            "[9, 7, 10, 10, 9, 4] [9, 9, 9, 10, 10, 2]\n"
          ]
        },
        {
          "output_type": "stream",
          "name": "stderr",
          "text": [
            "\r1404it [11:31,  2.25it/s]"
          ]
        },
        {
          "output_type": "stream",
          "name": "stdout",
          "text": [
            "torch.Size([1])\n",
            "[6]\n",
            "[9, 9, 1, 3, 9, 7] [9, 9, 1, 2, 10, 9]\n",
            "torch.Size([1])\n",
            "[6]\n",
            "[9, 7, 10, 2, 5, 7] [9, 9, 10, 2, 6, 7]\n"
          ]
        },
        {
          "output_type": "stream",
          "name": "stderr",
          "text": [
            "\r1406it [11:32,  1.90it/s]"
          ]
        },
        {
          "output_type": "stream",
          "name": "stdout",
          "text": [
            "torch.Size([1])\n",
            "[6]\n",
            "[9, 7, 6, 10, 9, 1] [9, 9, 6, 10, 9, 1]\n",
            "torch.Size([1])\n",
            "[6]\n",
            "[9, 8, 7, 8, 2, 7] [9, 9, 7, 8, 1, 5]\n"
          ]
        },
        {
          "output_type": "stream",
          "name": "stderr",
          "text": [
            "\r1408it [11:33,  2.05it/s]"
          ]
        },
        {
          "output_type": "stream",
          "name": "stdout",
          "text": [
            "torch.Size([1])\n",
            "[6]\n",
            "[9, 9, 2, 5, 5, 7] [9, 9, 2, 5, 5, 7]\n",
            "torch.Size([1])\n",
            "[6]\n",
            "[9, 9, 4, 7, 9, 6] [9, 9, 4, 6, 10, 7]\n"
          ]
        },
        {
          "output_type": "stream",
          "name": "stderr",
          "text": [
            "\r1410it [11:34,  2.06it/s]"
          ]
        },
        {
          "output_type": "stream",
          "name": "stdout",
          "text": [
            "torch.Size([1])\n",
            "[6]\n",
            "[8, 7, 9, 2, 10, 6] [9, 9, 7, 1, 9, 6]\n",
            "torch.Size([1])\n",
            "[6]\n",
            "[9, 9, 9, 4, 2, 2] [9, 9, 9, 6, 2, 6]\n"
          ]
        },
        {
          "output_type": "stream",
          "name": "stderr",
          "text": [
            "\r1412it [11:36,  1.80it/s]"
          ]
        },
        {
          "output_type": "stream",
          "name": "stdout",
          "text": [
            "torch.Size([1])\n",
            "[6]\n",
            "[9, 9, 6, 6, 9, 7] [9, 9, 6, 6, 9, 7]\n",
            "torch.Size([1])\n",
            "[6]\n",
            "[9, 8, 9, 10, 2, 5] [9, 8, 9, 10, 2, 5]\n"
          ]
        },
        {
          "output_type": "stream",
          "name": "stderr",
          "text": [
            "\r1414it [11:37,  1.79it/s]"
          ]
        },
        {
          "output_type": "stream",
          "name": "stdout",
          "text": [
            "torch.Size([1])\n",
            "[6]\n",
            "[1, 10, 8, 9, 3, 4] [1, 10, 8, 8, 3, 4]\n",
            "torch.Size([1])\n",
            "[6]\n",
            "[9, 8, 7, 9, 6, 5] [9, 8, 7, 10, 6, 4]\n"
          ]
        },
        {
          "output_type": "stream",
          "name": "stderr",
          "text": [
            "\r1416it [11:38,  1.97it/s]"
          ]
        },
        {
          "output_type": "stream",
          "name": "stdout",
          "text": [
            "torch.Size([1])\n",
            "[6]\n",
            "[9, 8, 10, 3, 7, 4] [9, 8, 10, 2, 7, 2]\n",
            "torch.Size([1])\n",
            "[6]\n",
            "[9, 10, 2, 8, 3, 9] [9, 10, 2, 9, 3, 8]\n"
          ]
        },
        {
          "output_type": "stream",
          "name": "stderr",
          "text": [
            "\r1418it [11:39,  1.74it/s]"
          ]
        },
        {
          "output_type": "stream",
          "name": "stdout",
          "text": [
            "torch.Size([1])\n",
            "[6]\n",
            "[9, 10, 10, 4, 5, 9] [9, 10, 10, 4, 5, 10]\n",
            "torch.Size([1])\n",
            "[6]\n",
            "[9, 1, 1, 2, 4, 7] [10, 1, 1, 2, 5, 9]\n"
          ]
        },
        {
          "output_type": "stream",
          "name": "stderr",
          "text": [
            "\r1420it [11:40,  1.90it/s]"
          ]
        },
        {
          "output_type": "stream",
          "name": "stdout",
          "text": [
            "torch.Size([1])\n",
            "[6]\n",
            "[9, 10, 7, 5, 4, 7] [9, 10, 7, 5, 3, 6]\n",
            "torch.Size([1])\n",
            "[6]\n",
            "[1, 1, 8, 10, 1, 6] [1, 10, 10, 10, 1, 6]\n"
          ]
        },
        {
          "output_type": "stream",
          "name": "stderr",
          "text": [
            "\r1422it [11:41,  2.02it/s]"
          ]
        },
        {
          "output_type": "stream",
          "name": "stdout",
          "text": [
            "torch.Size([1])\n",
            "[6]\n",
            "[4, 3, 1, 9, 5, 9] [2, 1, 1, 10, 4, 10]\n",
            "torch.Size([1])\n",
            "[6]\n",
            "[9, 10, 2, 4, 10, 3] [9, 10, 2, 3, 10, 3]\n"
          ]
        },
        {
          "output_type": "stream",
          "name": "stderr",
          "text": [
            "\r1424it [11:41,  2.16it/s]"
          ]
        },
        {
          "output_type": "stream",
          "name": "stdout",
          "text": [
            "torch.Size([1])\n",
            "[6]\n",
            "[9, 6, 5, 10, 9, 4] [9, 10, 5, 10, 9, 4]\n",
            "torch.Size([1])\n",
            "[6]\n",
            "[7, 1, 2, 9, 5, 7] [2, 1, 2, 9, 3, 6]\n"
          ]
        },
        {
          "output_type": "stream",
          "name": "stderr",
          "text": [
            "\r1426it [11:42,  2.28it/s]"
          ]
        },
        {
          "output_type": "stream",
          "name": "stdout",
          "text": [
            "torch.Size([1])\n",
            "[6]\n",
            "[10, 1, 4, 3, 5, 5] [10, 1, 4, 3, 5, 7]\n",
            "torch.Size([1])\n",
            "[6]\n",
            "[9, 10, 10, 7, 3, 6] [9, 10, 10, 9, 8, 4]\n"
          ]
        },
        {
          "output_type": "stream",
          "name": "stderr",
          "text": [
            "\r1428it [11:43,  2.33it/s]"
          ]
        },
        {
          "output_type": "stream",
          "name": "stdout",
          "text": [
            "torch.Size([1])\n",
            "[6]\n",
            "[7, 10, 10, 5, 4, 6] [9, 10, 10, 5, 4, 9]\n",
            "torch.Size([1])\n",
            "[6]\n",
            "[9, 10, 10, 5, 7, 7] [9, 10, 10, 5, 7, 7]\n"
          ]
        },
        {
          "output_type": "stream",
          "name": "stderr",
          "text": [
            "\r1430it [11:44,  2.36it/s]"
          ]
        },
        {
          "output_type": "stream",
          "name": "stdout",
          "text": [
            "torch.Size([1])\n",
            "[6]\n",
            "[9, 1, 4, 7, 4, 2] [10, 1, 4, 7, 3, 1]\n",
            "torch.Size([1])\n",
            "[6]\n",
            "[9, 1, 7, 4, 5, 9] [10, 1, 7, 6, 3, 4]\n"
          ]
        },
        {
          "output_type": "stream",
          "name": "stderr",
          "text": [
            "\r1432it [11:45,  2.40it/s]"
          ]
        },
        {
          "output_type": "stream",
          "name": "stdout",
          "text": [
            "torch.Size([1])\n",
            "[6]\n",
            "[1, 2, 4, 9, 8, 8] [1, 2, 3, 9, 9, 9]\n",
            "torch.Size([1])\n",
            "[6]\n",
            "[9, 1, 4, 4, 4, 9] [10, 1, 4, 4, 3, 10]\n"
          ]
        },
        {
          "output_type": "stream",
          "name": "stderr",
          "text": [
            "\r1434it [11:45,  2.41it/s]"
          ]
        },
        {
          "output_type": "stream",
          "name": "stdout",
          "text": [
            "torch.Size([1])\n",
            "[6]\n",
            "[10, 1, 6, 4, 3, 3] [10, 1, 6, 3, 3, 3]\n",
            "torch.Size([1])\n",
            "[6]\n",
            "[9, 10, 10, 4, 5, 7] [9, 10, 10, 6, 6, 7]\n"
          ]
        },
        {
          "output_type": "stream",
          "name": "stderr",
          "text": [
            "\r1436it [11:46,  2.57it/s]"
          ]
        },
        {
          "output_type": "stream",
          "name": "stdout",
          "text": [
            "torch.Size([1])\n",
            "[6]\n",
            "[9, 1, 4, 9, 6, 4] [10, 1, 1, 10, 4, 2]\n"
          ]
        },
        {
          "output_type": "stream",
          "name": "stderr",
          "text": [
            "\r1437it [11:46,  2.78it/s]"
          ]
        },
        {
          "output_type": "stream",
          "name": "stdout",
          "text": [
            "torch.Size([1])\n",
            "[6]\n",
            "[9, 1, 4, 9, 8, 6] [9, 10, 6, 9, 7, 5]\n"
          ]
        },
        {
          "output_type": "stream",
          "name": "stderr",
          "text": [
            "\r1438it [11:47,  2.28it/s]"
          ]
        },
        {
          "output_type": "stream",
          "name": "stdout",
          "text": [
            "torch.Size([1])\n",
            "[6]\n",
            "[10, 2, 9, 1, 6, 4] [10, 2, 8, 1, 7, 3]\n",
            "torch.Size([1])\n",
            "[6]\n",
            "[2, 1, 3, 9, 9, 10] [2, 1, 3, 10, 7, 9]\n"
          ]
        },
        {
          "output_type": "stream",
          "name": "stderr",
          "text": [
            "\r1440it [11:48,  1.87it/s]"
          ]
        },
        {
          "output_type": "stream",
          "name": "stdout",
          "text": [
            "torch.Size([1])\n",
            "[6]\n",
            "[9, 2, 8, 4, 10, 5] [10, 2, 8, 4, 10, 4]\n",
            "torch.Size([1])\n",
            "[6]\n",
            "[9, 2, 6, 8, 3, 4] [10, 2, 10, 8, 2, 1]\n"
          ]
        },
        {
          "output_type": "stream",
          "name": "stderr",
          "text": [
            "\r1442it [11:50,  1.67it/s]"
          ]
        },
        {
          "output_type": "stream",
          "name": "stdout",
          "text": [
            "torch.Size([1])\n",
            "[6]\n",
            "[9, 1, 8, 3, 9, 2] [10, 2, 8, 3, 10, 7]\n",
            "torch.Size([1])\n",
            "[6]\n",
            "[10, 2, 9, 4, 10, 1] [10, 2, 10, 5, 9, 5]\n"
          ]
        },
        {
          "output_type": "stream",
          "name": "stderr",
          "text": [
            "1445it [11:51,  2.21it/s]"
          ]
        },
        {
          "output_type": "stream",
          "name": "stdout",
          "text": [
            "torch.Size([1])\n",
            "[6]\n",
            "[9, 3, 4, 9, 10, 4] [10, 3, 4, 10, 9, 4]\n",
            "torch.Size([1])\n",
            "[6]\n",
            "[9, 3, 6, 6, 7, 10] [10, 3, 6, 6, 7, 9]\n"
          ]
        },
        {
          "output_type": "stream",
          "name": "stderr",
          "text": [
            "1447it [11:52,  2.40it/s]"
          ]
        },
        {
          "output_type": "stream",
          "name": "stdout",
          "text": [
            "torch.Size([1])\n",
            "[6]\n",
            "[10, 3, 1, 5, 8, 5] [10, 3, 1, 5, 8, 5]\n",
            "torch.Size([1])\n",
            "[6]\n",
            "[9, 1, 10, 3, 4, 4] [10, 2, 10, 3, 2, 1]\n"
          ]
        },
        {
          "output_type": "stream",
          "name": "stderr",
          "text": [
            "1449it [11:52,  2.65it/s]"
          ]
        },
        {
          "output_type": "stream",
          "name": "stdout",
          "text": [
            "torch.Size([1])\n",
            "[6]\n",
            "[9, 3, 4, 4, 6, 7] [10, 3, 4, 5, 5, 10]\n",
            "torch.Size([1])\n",
            "[6]\n",
            "[10, 2, 1, 4, 6, 6] [10, 2, 1, 3, 6, 4]\n"
          ]
        },
        {
          "output_type": "stream",
          "name": "stderr",
          "text": [
            "\r1450it [11:54,  1.58it/s]"
          ]
        },
        {
          "output_type": "stream",
          "name": "stdout",
          "text": [
            "torch.Size([1])\n",
            "[6]\n",
            "[10, 3, 6, 4, 10, 7] [10, 3, 7, 4, 9, 5]\n",
            "torch.Size([1])\n",
            "[6]\n",
            "[9, 2, 6, 8, 5, 5] [10, 2, 8, 9, 5, 5]\n"
          ]
        },
        {
          "output_type": "stream",
          "name": "stderr",
          "text": [
            "1453it [11:55,  2.32it/s]"
          ]
        },
        {
          "output_type": "stream",
          "name": "stdout",
          "text": [
            "torch.Size([1])\n",
            "[6]\n",
            "[9, 2, 7, 5, 7, 10] [10, 2, 7, 6, 7, 7]\n",
            "torch.Size([1])\n",
            "[6]\n",
            "[9, 2, 10, 3, 7, 4] [10, 2, 10, 3, 8, 4]\n"
          ]
        },
        {
          "output_type": "stream",
          "name": "stderr",
          "text": [
            "\r1454it [11:55,  2.19it/s]"
          ]
        },
        {
          "output_type": "stream",
          "name": "stdout",
          "text": [
            "torch.Size([1])\n",
            "[6]\n",
            "[9, 3, 1, 5, 8, 4] [10, 3, 1, 6, 6, 3]\n"
          ]
        },
        {
          "output_type": "stream",
          "name": "stderr",
          "text": [
            "\r1455it [11:55,  2.49it/s]"
          ]
        },
        {
          "output_type": "stream",
          "name": "stdout",
          "text": [
            "torch.Size([1])\n",
            "[6]\n",
            "[9, 2, 9, 10, 4, 8, 10] [10, 2, 10, 4, 9, 6]\n"
          ]
        },
        {
          "output_type": "stream",
          "name": "stderr",
          "text": [
            "\r1456it [11:57,  1.56it/s]"
          ]
        },
        {
          "output_type": "stream",
          "name": "stdout",
          "text": [
            "torch.Size([1])\n",
            "[6]\n",
            "[9, 3, 2, 8, 4, 4] [10, 3, 2, 9, 3, 3]\n",
            "torch.Size([1])\n",
            "[6]\n",
            "[10, 2, 3, 4, 6, 6] [10, 2, 1, 3, 7, 7]\n"
          ]
        },
        {
          "output_type": "stream",
          "name": "stderr",
          "text": [
            "\r1458it [11:58,  1.46it/s]"
          ]
        },
        {
          "output_type": "stream",
          "name": "stdout",
          "text": [
            "torch.Size([1])\n",
            "[6]\n",
            "[9, 2, 10, 1, 5, 4] [10, 2, 10, 1, 5, 3]\n",
            "torch.Size([1])\n",
            "[6]\n",
            "[9, 3, 6, 5, 5, 8] [10, 3, 6, 5, 4, 8]\n"
          ]
        },
        {
          "output_type": "stream",
          "name": "stderr",
          "text": [
            "\r1460it [12:00,  1.45it/s]"
          ]
        },
        {
          "output_type": "stream",
          "name": "stdout",
          "text": [
            "torch.Size([1])\n",
            "[6]\n",
            "[9, 1, 10, 9, 7, 3] [10, 1, 10, 10, 4, 3]\n",
            "torch.Size([1])\n",
            "[6]\n",
            "[10, 7, 5, 5, 7, 4] [10, 5, 5, 6, 6, 2]\n"
          ]
        },
        {
          "output_type": "stream",
          "name": "stderr",
          "text": [
            "\r1462it [12:01,  1.43it/s]"
          ]
        },
        {
          "output_type": "stream",
          "name": "stdout",
          "text": [
            "torch.Size([1])\n",
            "[6]\n",
            "[9, 4, 2, 7, 5, 7] [10, 4, 2, 7, 4, 10]\n",
            "torch.Size([1])\n",
            "[6]\n",
            "[9, 7, 4, 6, 8, 5] [10, 5, 4, 7, 7, 4]\n"
          ]
        },
        {
          "output_type": "stream",
          "name": "stderr",
          "text": [
            "\r1464it [12:02,  1.65it/s]"
          ]
        },
        {
          "output_type": "stream",
          "name": "stdout",
          "text": [
            "torch.Size([1])\n",
            "[6]\n",
            "[10, 5, 7, 9, 2, 7] [10, 5, 7, 9, 2, 8]\n",
            "torch.Size([1])\n",
            "[6]\n",
            "[9, 3, 7, 9, 5, 4] [10, 3, 9, 9, 6, 3]\n"
          ]
        },
        {
          "output_type": "stream",
          "name": "stderr",
          "text": [
            "\r1466it [12:03,  1.55it/s]"
          ]
        },
        {
          "output_type": "stream",
          "name": "stdout",
          "text": [
            "torch.Size([1])\n",
            "[6]\n",
            "[9, 4, 6, 4, 5, 6] [10, 4, 6, 6, 4, 7]\n",
            "torch.Size([1])\n",
            "[6]\n",
            "[9, 2, 2, 4, 2, 4] [10, 4, 2, 2, 1, 1]\n"
          ]
        },
        {
          "output_type": "stream",
          "name": "stderr",
          "text": [
            "\r1468it [12:04,  1.77it/s]"
          ]
        },
        {
          "output_type": "stream",
          "name": "stdout",
          "text": [
            "torch.Size([1])\n",
            "[6]\n",
            "[9, 5, 8, 5, 10, 10] [10, 5, 8, 5, 10, 7]\n",
            "torch.Size([1])\n",
            "[6]\n",
            "[1, 5, 9, 1, 4, 5] [2, 1, 5, 1, 1, 6]\n"
          ]
        },
        {
          "output_type": "stream",
          "name": "stderr",
          "text": [
            "\r1470it [12:05,  1.87it/s]"
          ]
        },
        {
          "output_type": "stream",
          "name": "stdout",
          "text": [
            "torch.Size([1])\n",
            "[6]\n",
            "[10, 3, 9, 8, 3, 4] [10, 3, 9, 8, 4, 6]\n",
            "torch.Size([1])\n",
            "[6]\n",
            "[9, 3, 8, 6, 3, 4] [10, 3, 7, 6, 3, 9]\n"
          ]
        },
        {
          "output_type": "stream",
          "name": "stderr",
          "text": [
            "\r1472it [12:06,  1.86it/s]"
          ]
        },
        {
          "output_type": "stream",
          "name": "stdout",
          "text": [
            "torch.Size([1])\n",
            "[6]\n",
            "[9, 4, 10, 5, 6, 4] [10, 4, 10, 7, 6, 1]\n",
            "torch.Size([1])\n",
            "[6]\n",
            "[9, 4, 1, 9, 5, 9] [10, 4, 1, 10, 4, 9]\n"
          ]
        },
        {
          "output_type": "stream",
          "name": "stderr",
          "text": [
            "\r1474it [12:07,  2.00it/s]"
          ]
        },
        {
          "output_type": "stream",
          "name": "stdout",
          "text": [
            "torch.Size([1])\n",
            "[6]\n",
            "[10, 4, 3, 4, 9, 7] [10, 4, 3, 4, 8, 7]\n",
            "torch.Size([1])\n",
            "[6]\n",
            "[10, 5, 7, 4, 2, 7] [10, 5, 7, 4, 2, 6]\n"
          ]
        },
        {
          "output_type": "stream",
          "name": "stderr",
          "text": [
            "\r1476it [12:08,  1.88it/s]"
          ]
        },
        {
          "output_type": "stream",
          "name": "stdout",
          "text": [
            "torch.Size([1])\n",
            "[6]\n",
            "[2, 1, 6, 3, 2, 9] [2, 1, 6, 3, 2, 8]\n",
            "torch.Size([1])\n",
            "[6]\n",
            "[10, 5, 2, 8, 5, 2] [10, 5, 2, 10, 3, 2]\n"
          ]
        },
        {
          "output_type": "stream",
          "name": "stderr",
          "text": [
            "\r1478it [12:09,  1.85it/s]"
          ]
        },
        {
          "output_type": "stream",
          "name": "stdout",
          "text": [
            "torch.Size([1])\n",
            "[6]\n",
            "[9, 4, 8, 7, 1, 7] [10, 4, 8, 7, 1, 6]\n",
            "torch.Size([1])\n",
            "[6]\n",
            "[2, 1, 6, 1, 5, 2] [2, 1, 6, 1, 6, 2]\n"
          ]
        },
        {
          "output_type": "stream",
          "name": "stderr",
          "text": [
            "\r1480it [12:11,  1.69it/s]"
          ]
        },
        {
          "output_type": "stream",
          "name": "stdout",
          "text": [
            "torch.Size([1])\n",
            "[6]\n",
            "[10, 6, 3, 9, 6, 5] [10, 6, 3, 7, 6, 6]\n",
            "torch.Size([1])\n",
            "[6]\n",
            "[9, 6, 7, 9, 10, 7] [10, 6, 6, 10, 8, 9]\n"
          ]
        },
        {
          "output_type": "stream",
          "name": "stderr",
          "text": [
            "\r1482it [12:11,  1.88it/s]"
          ]
        },
        {
          "output_type": "stream",
          "name": "stdout",
          "text": [
            "torch.Size([1])\n",
            "[6]\n",
            "[9, 6, 5, 3, 4, 3] [10, 6, 5, 2, 2, 1]\n",
            "torch.Size([1])\n",
            "[6]\n",
            "[4, 7, 9, 9, 8, 2] [2, 1, 10, 10, 8, 2]\n"
          ]
        },
        {
          "output_type": "stream",
          "name": "stderr",
          "text": [
            "\r1484it [12:12,  2.05it/s]"
          ]
        },
        {
          "output_type": "stream",
          "name": "stdout",
          "text": [
            "torch.Size([1])\n",
            "[6]\n",
            "[9, 6, 5, 3, 5, 7] [10, 6, 5, 2, 5, 7]\n",
            "torch.Size([1])\n",
            "[6]\n",
            "[9, 7, 6, 8, 9, 5] [10, 6, 6, 9, 9, 3]\n"
          ]
        },
        {
          "output_type": "stream",
          "name": "stderr",
          "text": [
            "\r1486it [12:13,  2.22it/s]"
          ]
        },
        {
          "output_type": "stream",
          "name": "stdout",
          "text": [
            "torch.Size([1])\n",
            "[6]\n",
            "[10, 8, 3, 7, 8, 3] [10, 8, 3, 8, 7, 2]\n",
            "torch.Size([1])\n",
            "[6]\n",
            "[10, 7, 4, 9, 2, 6] [10, 7, 4, 10, 2, 7]\n"
          ]
        },
        {
          "output_type": "stream",
          "name": "stderr",
          "text": [
            "\r1488it [12:14,  2.31it/s]"
          ]
        },
        {
          "output_type": "stream",
          "name": "stdout",
          "text": [
            "torch.Size([1])\n",
            "[6]\n",
            "[1, 2, 5, 2, 3, 3] [1, 2, 5, 2, 3, 2]\n",
            "torch.Size([1])\n",
            "[6]\n",
            "[10, 8, 8, 3, 9, 3] [10, 8, 2, 2, 9, 4]\n"
          ]
        },
        {
          "output_type": "stream",
          "name": "stderr",
          "text": [
            "\r1490it [12:15,  2.11it/s]"
          ]
        },
        {
          "output_type": "stream",
          "name": "stdout",
          "text": [
            "torch.Size([1])\n",
            "[6]\n",
            "[10, 7, 3, 4, 6, 3] [10, 7, 1, 2, 5, 2]\n",
            "torch.Size([1])\n",
            "[6]\n",
            "[9, 6, 8, 2, 5, 5] [10, 6, 8, 1, 5, 5]\n"
          ]
        },
        {
          "output_type": "stream",
          "name": "stderr",
          "text": [
            "\r1492it [12:16,  2.22it/s]"
          ]
        },
        {
          "output_type": "stream",
          "name": "stdout",
          "text": [
            "torch.Size([1])\n",
            "[6]\n",
            "[9, 4, 10, 3, 3, 9] [10, 6, 10, 3, 3, 9]\n",
            "torch.Size([1])\n",
            "[6]\n",
            "[9, 6, 4, 8, 3, 5] [10, 6, 4, 8, 2, 5]\n"
          ]
        },
        {
          "output_type": "stream",
          "name": "stderr",
          "text": [
            "\r1494it [12:17,  2.28it/s]"
          ]
        },
        {
          "output_type": "stream",
          "name": "stdout",
          "text": [
            "torch.Size([1])\n",
            "[6]\n",
            "[10, 6, 7, 5, 10, 7] [10, 6, 6, 3, 9, 9]\n",
            "torch.Size([1])\n",
            "[6]\n",
            "[5, 6, 9, 6, 2, 2] [10, 6, 9, 7, 2, 2]\n"
          ]
        },
        {
          "output_type": "stream",
          "name": "stderr",
          "text": [
            "\r1496it [12:17,  2.33it/s]"
          ]
        },
        {
          "output_type": "stream",
          "name": "stdout",
          "text": [
            "torch.Size([1])\n",
            "[6]\n",
            "[9, 8, 3, 3, 9, 5] [10, 8, 2, 2, 9, 3]\n"
          ]
        },
        {
          "output_type": "stream",
          "name": "stderr",
          "text": [
            "\r1497it [12:18,  2.36it/s]"
          ]
        },
        {
          "output_type": "stream",
          "name": "stdout",
          "text": [
            "torch.Size([1])\n",
            "[6]\n",
            "[9, 6, 9, 2, 5, 4] [10, 6, 9, 2, 5, 1]\n"
          ]
        },
        {
          "output_type": "stream",
          "name": "stderr",
          "text": [
            "\r1498it [12:18,  2.06it/s]"
          ]
        },
        {
          "output_type": "stream",
          "name": "stdout",
          "text": [
            "torch.Size([1])\n",
            "[6]\n",
            "[10, 8, 1, 5, 10, 6] [10, 8, 1, 5, 10, 6]\n",
            "torch.Size([1])\n",
            "[6]\n",
            "[9, 6, 6, 9, 8, 7] [10, 6, 6, 10, 8, 10]\n"
          ]
        },
        {
          "output_type": "stream",
          "name": "stderr",
          "text": [
            "\r1500it [12:20,  1.78it/s]"
          ]
        },
        {
          "output_type": "stream",
          "name": "stdout",
          "text": [
            "torch.Size([1])\n",
            "[6]\n",
            "[9, 6, 8, 9, 5, 2] [10, 6, 8, 9, 4, 1]\n",
            "torch.Size([1])\n",
            "[6]\n",
            "[10, 9, 3, 3, 9, 7] [10, 9, 3, 1, 8, 10]\n"
          ]
        },
        {
          "output_type": "stream",
          "name": "stderr",
          "text": [
            "\r1502it [12:21,  1.86it/s]"
          ]
        },
        {
          "output_type": "stream",
          "name": "stdout",
          "text": [
            "torch.Size([1])\n",
            "[6]\n",
            "[9, 8, 7, 5, 8, 7] [10, 8, 7, 6, 9, 8]\n",
            "torch.Size([1])\n",
            "[6]\n",
            "[10, 8, 7, 9, 3, 5] [10, 8, 7, 10, 2, 3]\n"
          ]
        },
        {
          "output_type": "stream",
          "name": "stderr",
          "text": [
            "\r1504it [12:22,  2.03it/s]"
          ]
        },
        {
          "output_type": "stream",
          "name": "stdout",
          "text": [
            "torch.Size([1])\n",
            "[6]\n",
            "[10, 8, 10, 5, 6, 2] [10, 8, 10, 4, 6, 2]\n",
            "torch.Size([1])\n",
            "[6]\n",
            "[9, 8, 7, 9, 1, 6] [10, 8, 9, 10, 1, 5]\n"
          ]
        },
        {
          "output_type": "stream",
          "name": "stderr",
          "text": [
            "\r1506it [12:22,  2.12it/s]"
          ]
        },
        {
          "output_type": "stream",
          "name": "stdout",
          "text": [
            "torch.Size([1])\n",
            "[6]\n",
            "[9, 8, 9, 5, 3, 9] [10, 8, 9, 5, 4, 9]\n",
            "torch.Size([1])\n",
            "[6]\n",
            "[1, 2, 1, 3, 4, 3] [2, 2, 2, 2, 3, 2]\n"
          ]
        },
        {
          "output_type": "stream",
          "name": "stderr",
          "text": [
            "\r1508it [12:24,  1.83it/s]"
          ]
        },
        {
          "output_type": "stream",
          "name": "stdout",
          "text": [
            "torch.Size([1])\n",
            "[6]\n",
            "[9, 2, 5, 7, 3, 10] [10, 8, 4, 7, 1, 10]\n",
            "torch.Size([1])\n",
            "[6]\n",
            "[9, 8, 9, 10, 8, 2] [10, 8, 9, 10, 7, 1]\n"
          ]
        },
        {
          "output_type": "stream",
          "name": "stderr",
          "text": [
            "\r1510it [12:25,  1.81it/s]"
          ]
        },
        {
          "output_type": "stream",
          "name": "stdout",
          "text": [
            "torch.Size([1])\n",
            "[6]\n",
            "[2, 2, 1, 6, 3, 9] [2, 2, 2, 6, 1, 9]\n",
            "torch.Size([1])\n",
            "[6]\n",
            "[9, 8, 6, 7, 9, 3] [10, 8, 6, 7, 9, 3]\n"
          ]
        },
        {
          "output_type": "stream",
          "name": "stderr",
          "text": [
            "\r1512it [12:26,  1.81it/s]"
          ]
        },
        {
          "output_type": "stream",
          "name": "stdout",
          "text": [
            "torch.Size([1])\n",
            "[6]\n",
            "[9, 7, 10, 5, 9, 7] [10, 8, 10, 4, 9, 9]\n",
            "torch.Size([1])\n",
            "[6]\n",
            "[9, 9, 2, 2, 4, 4] [10, 9, 2, 1, 3, 3]\n"
          ]
        },
        {
          "output_type": "stream",
          "name": "stderr",
          "text": [
            "\r1514it [12:27,  1.98it/s]"
          ]
        },
        {
          "output_type": "stream",
          "name": "stdout",
          "text": [
            "torch.Size([1])\n",
            "[6]\n",
            "[9, 2, 1, 3, 7, 4] [10, 8, 4, 3, 6, 3]\n",
            "torch.Size([1])\n",
            "[6]\n",
            "[10, 8, 7, 4, 6, 5] [10, 8, 7, 4, 6, 5]\n"
          ]
        },
        {
          "output_type": "stream",
          "name": "stderr",
          "text": [
            "\r1516it [12:28,  2.12it/s]"
          ]
        },
        {
          "output_type": "stream",
          "name": "stdout",
          "text": [
            "torch.Size([1])\n",
            "[6]\n",
            "[10, 9, 2, 10, 4, 5] [10, 9, 2, 10, 2, 4]\n",
            "torch.Size([1])\n",
            "[6]\n",
            "[10, 9, 1, 5, 4, 3] [10, 9, 1, 6, 3, 2]\n"
          ]
        },
        {
          "output_type": "stream",
          "name": "stderr",
          "text": [
            "\r1518it [12:29,  1.82it/s]"
          ]
        },
        {
          "output_type": "stream",
          "name": "stdout",
          "text": [
            "torch.Size([1])\n",
            "[6]\n",
            "[10, 8, 1, 9, 6, 4] [10, 8, 7, 10, 6, 4]\n",
            "torch.Size([1])\n",
            "[6]\n",
            "[9, 9, 10, 9, 2, 4] [10, 9, 10, 10, 2, 2]\n"
          ]
        },
        {
          "output_type": "stream",
          "name": "stderr",
          "text": [
            "\r1520it [12:31,  1.68it/s]"
          ]
        },
        {
          "output_type": "stream",
          "name": "stdout",
          "text": [
            "torch.Size([1])\n",
            "[6]\n",
            "[10, 7, 4, 9, 10, 7] [10, 9, 4, 8, 10, 8]\n",
            "torch.Size([1])\n",
            "[6]\n",
            "[10, 9, 4, 9, 2, 3] [10, 9, 6, 10, 2, 1]\n"
          ]
        },
        {
          "output_type": "stream",
          "name": "stderr",
          "text": [
            "\r1522it [12:31,  1.86it/s]"
          ]
        },
        {
          "output_type": "stream",
          "name": "stdout",
          "text": [
            "torch.Size([1])\n",
            "[6]\n",
            "[10, 7, 10, 5, 8, 5] [10, 9, 10, 5, 9, 4]\n",
            "torch.Size([1])\n",
            "[6]\n",
            "[9, 9, 6, 9, 9, 10] [10, 10, 6, 10, 8, 9]\n"
          ]
        },
        {
          "output_type": "stream",
          "name": "stderr",
          "text": [
            "\r1524it [12:32,  1.96it/s]"
          ]
        },
        {
          "output_type": "stream",
          "name": "stdout",
          "text": [
            "torch.Size([1])\n",
            "[6]\n",
            "[9, 10, 7, 3, 9, 6] [10, 10, 7, 2, 10, 7]\n",
            "torch.Size([1])\n",
            "[6]\n",
            "[9, 10, 3, 4, 1, 6] [10, 10, 3, 6, 1, 5]\n"
          ]
        },
        {
          "output_type": "stream",
          "name": "stderr",
          "text": [
            "\r1526it [12:34,  1.54it/s]"
          ]
        },
        {
          "output_type": "stream",
          "name": "stdout",
          "text": [
            "torch.Size([1])\n",
            "[6]\n",
            "[10, 7, 4, 9, 3, 9] [10, 9, 6, 10, 1, 10]\n",
            "torch.Size([1])\n",
            "[6]\n",
            "[10, 9, 5, 9, 5, 6] [10, 9, 5, 10, 5, 6]\n"
          ]
        },
        {
          "output_type": "stream",
          "name": "stderr",
          "text": [
            "\r1528it [12:36,  1.49it/s]"
          ]
        },
        {
          "output_type": "stream",
          "name": "stdout",
          "text": [
            "torch.Size([1])\n",
            "[6]\n",
            "[2, 8, 3, 8, 5, 7] [2, 2, 3, 8, 5, 3]\n",
            "torch.Size([1])\n",
            "[6]\n",
            "[10, 9, 8, 1, 9, 4] [10, 9, 8, 1, 9, 4]\n"
          ]
        },
        {
          "output_type": "stream",
          "name": "stderr",
          "text": [
            "\r1530it [12:37,  1.46it/s]"
          ]
        },
        {
          "output_type": "stream",
          "name": "stdout",
          "text": [
            "torch.Size([1])\n",
            "[6]\n",
            "[10, 9, 6, 3, 10, 10] [10, 9, 6, 3, 10, 9]\n",
            "torch.Size([1])\n",
            "[6]\n",
            "[9, 10, 1, 4, 9, 9] [10, 10, 1, 4, 8, 10]\n"
          ]
        },
        {
          "output_type": "stream",
          "name": "stderr",
          "text": [
            "\r1532it [12:38,  1.55it/s]"
          ]
        },
        {
          "output_type": "stream",
          "name": "stdout",
          "text": [
            "torch.Size([1])\n",
            "[6]\n",
            "[9, 10, 7, 5, 9, 9] [10, 10, 7, 5, 9, 8]\n",
            "torch.Size([1])\n",
            "[6]\n",
            "[10, 9, 7, 4, 8, 4] [10, 9, 5, 4, 8, 4]\n"
          ]
        },
        {
          "output_type": "stream",
          "name": "stderr",
          "text": [
            "\r1534it [12:39,  1.70it/s]"
          ]
        },
        {
          "output_type": "stream",
          "name": "stdout",
          "text": [
            "torch.Size([1])\n",
            "[6]\n",
            "[9, 9, 4, 8, 9, 5] [10, 9, 4, 8, 10, 7]\n",
            "torch.Size([1])\n",
            "[6]\n",
            "[10, 9, 8, 4, 5, 7] [10, 9, 8, 6, 6, 7]\n"
          ]
        },
        {
          "output_type": "stream",
          "name": "stderr",
          "text": [
            "\r1536it [12:40,  1.88it/s]"
          ]
        },
        {
          "output_type": "stream",
          "name": "stdout",
          "text": [
            "torch.Size([1])\n",
            "[6]\n",
            "[9, 8, 7, 4, 3, 7] [10, 9, 5, 5, 1, 6]\n",
            "torch.Size([1])\n",
            "[6]\n",
            "[9, 9, 3, 3, 10, 1] [10, 9, 3, 2, 10, 1]\n"
          ]
        },
        {
          "output_type": "stream",
          "name": "stderr",
          "text": [
            "\r1538it [12:41,  1.81it/s]"
          ]
        },
        {
          "output_type": "stream",
          "name": "stdout",
          "text": [
            "torch.Size([1])\n",
            "[6]\n",
            "[10, 10, 1, 7, 10, 10] [10, 10, 1, 7, 10, 10]\n",
            "torch.Size([1])\n",
            "[6]\n",
            "[1, 3, 7, 1, 1, 7] [2, 3, 2, 1, 2, 8]\n"
          ]
        },
        {
          "output_type": "stream",
          "name": "stderr",
          "text": [
            "\r1540it [12:42,  1.88it/s]"
          ]
        },
        {
          "output_type": "stream",
          "name": "stdout",
          "text": [
            "torch.Size([1])\n",
            "[6]\n",
            "[4, 4, 1, 9, 4, 3] [2, 4, 2, 10, 4, 3]\n",
            "torch.Size([1])\n",
            "[6]\n",
            "[2, 5, 3, 4, 4, 1] [2, 4, 3, 3, 4, 1]\n"
          ]
        },
        {
          "output_type": "stream",
          "name": "stderr",
          "text": [
            "\r1542it [12:44,  1.70it/s]"
          ]
        },
        {
          "output_type": "stream",
          "name": "stdout",
          "text": [
            "torch.Size([1])\n",
            "[6]\n",
            "[6, 4, 7, 6, 3, 7] [2, 4, 1, 8, 1, 7]\n",
            "torch.Size([1])\n",
            "[6]\n",
            "[2, 3, 10, 9, 10, 7] [2, 3, 10, 10, 10, 6]\n"
          ]
        },
        {
          "output_type": "stream",
          "name": "stderr",
          "text": [
            "\r1544it [12:44,  1.88it/s]"
          ]
        },
        {
          "output_type": "stream",
          "name": "stdout",
          "text": [
            "torch.Size([1])\n",
            "[6]\n",
            "[4, 4, 1, 8, 6, 10] [2, 4, 1, 8, 5, 9]\n",
            "torch.Size([1])\n",
            "[6]\n",
            "[2, 6, 3, 8, 7, 3] [2, 4, 3, 8, 7, 3]\n"
          ]
        },
        {
          "output_type": "stream",
          "name": "stderr",
          "text": [
            "\r1546it [12:45,  2.01it/s]"
          ]
        },
        {
          "output_type": "stream",
          "name": "stdout",
          "text": [
            "torch.Size([1])\n",
            "[6]\n",
            "[2, 4, 1, 7, 7, 3] [2, 4, 1, 6, 8, 3]\n",
            "torch.Size([1])\n",
            "[6]\n",
            "[3, 4, 5, 3, 8, 9] [1, 2, 5, 3, 9, 8]\n"
          ]
        },
        {
          "output_type": "stream",
          "name": "stderr",
          "text": [
            "\r1548it [12:46,  2.11it/s]"
          ]
        },
        {
          "output_type": "stream",
          "name": "stdout",
          "text": [
            "torch.Size([1])\n",
            "[6]\n",
            "[1, 4, 1, 6, 5, 7] [1, 2, 5, 8, 5, 8]\n",
            "torch.Size([1])\n",
            "[6]\n",
            "[2, 2, 9, 9, 2, 5] [2, 2, 9, 9, 1, 1]\n"
          ]
        },
        {
          "output_type": "stream",
          "name": "stderr",
          "text": [
            "\r1550it [12:47,  2.22it/s]"
          ]
        },
        {
          "output_type": "stream",
          "name": "stdout",
          "text": [
            "torch.Size([1])\n",
            "[6]\n",
            "[9, 10, 9, 5, 4, 9] [10, 10, 8, 5, 4, 9]\n",
            "torch.Size([1])\n",
            "[6]\n",
            "[10, 10, 10, 5, 8, 7] [10, 10, 10, 4, 10, 8]\n"
          ]
        },
        {
          "output_type": "stream",
          "name": "stderr",
          "text": [
            "\r1552it [12:48,  2.30it/s]"
          ]
        },
        {
          "output_type": "stream",
          "name": "stdout",
          "text": [
            "torch.Size([1])\n",
            "[6]\n",
            "[2, 2, 9, 1, 1, 5] [2, 2, 8, 1, 1, 3]\n",
            "torch.Size([1])\n",
            "[6]\n",
            "[2, 1, 10, 2, 1, 4] [2, 2, 8, 1, 1, 1]\n"
          ]
        },
        {
          "output_type": "stream",
          "name": "stderr",
          "text": [
            "\r1554it [12:48,  2.31it/s]"
          ]
        },
        {
          "output_type": "stream",
          "name": "stdout",
          "text": [
            "torch.Size([1])\n",
            "[6]\n",
            "[10, 7, 10, 2, 9, 4] [10, 10, 10, 1, 9, 3]\n"
          ]
        },
        {
          "output_type": "stream",
          "name": "stderr",
          "text": [
            "\r1555it [12:49,  2.45it/s]"
          ]
        },
        {
          "output_type": "stream",
          "name": "stdout",
          "text": [
            "torch.Size([1])\n",
            "[6]\n",
            "[10, 10, 7, 9, 3, 6] [10, 10, 7, 10, 3, 4]\n"
          ]
        },
        {
          "output_type": "stream",
          "name": "stderr",
          "text": [
            "\r1556it [12:49,  2.54it/s]"
          ]
        },
        {
          "output_type": "stream",
          "name": "stdout",
          "text": [
            "torch.Size([1])\n",
            "[6]\n",
            "[4, 3, 7, 5, 4, 3] [2, 3, 1, 5, 3, 3]\n"
          ]
        },
        {
          "output_type": "stream",
          "name": "stderr",
          "text": [
            "\r1557it [12:50,  2.45it/s]"
          ]
        },
        {
          "output_type": "stream",
          "name": "stdout",
          "text": [
            "torch.Size([1])\n",
            "[6]\n",
            "[2, 8, 9, 3, 3, 5] [2, 2, 7, 3, 3, 2]\n"
          ]
        },
        {
          "output_type": "stream",
          "name": "stderr",
          "text": [
            "\r1558it [12:50,  2.10it/s]"
          ]
        },
        {
          "output_type": "stream",
          "name": "stdout",
          "text": [
            "torch.Size([1])\n",
            "[6]\n",
            "[2, 2, 2, 9, 4, 5] [2, 3, 2, 10, 2, 4]\n",
            "torch.Size([1])\n",
            "[6]\n",
            "[1, 4, 4, 7, 8, 7] [2, 4, 4, 7, 8, 7]\n"
          ]
        },
        {
          "output_type": "stream",
          "name": "stderr",
          "text": [
            "\r1560it [12:52,  1.74it/s]"
          ]
        },
        {
          "output_type": "stream",
          "name": "stdout",
          "text": [
            "torch.Size([1])\n",
            "[6]\n",
            "[2, 5, 4, 5, 3, 7] [2, 5, 4, 5, 1, 2]\n",
            "torch.Size([1])\n",
            "[6]\n",
            "[2, 6, 2, 8, 2, 1] [2, 6, 1, 8, 2, 1]\n"
          ]
        },
        {
          "output_type": "stream",
          "name": "stderr",
          "text": [
            "\r1562it [12:52,  1.96it/s]"
          ]
        },
        {
          "output_type": "stream",
          "name": "stdout",
          "text": [
            "torch.Size([1])\n",
            "[6]\n",
            "[2, 7, 10, 7, 9, 2] [2, 5, 10, 5, 10, 4]\n",
            "torch.Size([1])\n",
            "[6]\n",
            "[2, 4, 5, 6, 3, 5] [2, 4, 5, 6, 3, 5]\n"
          ]
        },
        {
          "output_type": "stream",
          "name": "stderr",
          "text": [
            "\r1564it [12:53,  2.11it/s]"
          ]
        },
        {
          "output_type": "stream",
          "name": "stdout",
          "text": [
            "torch.Size([1])\n",
            "[6]\n",
            "[2, 6, 4, 9, 5, 2] [2, 6, 4, 7, 5, 2]\n",
            "torch.Size([1])\n",
            "[6]\n",
            "[4, 5, 1, 9, 10, 10] [2, 5, 1, 9, 10, 10]\n"
          ]
        },
        {
          "output_type": "stream",
          "name": "stderr",
          "text": [
            "\r1566it [12:55,  1.83it/s]"
          ]
        },
        {
          "output_type": "stream",
          "name": "stdout",
          "text": [
            "torch.Size([1])\n",
            "[6]\n",
            "[2, 5, 3, 5, 4, 3] [2, 5, 3, 10, 2, 3]\n",
            "torch.Size([1])\n",
            "[6]\n",
            "[2, 3, 7, 3, 6, 4] [2, 4, 6, 3, 6, 4]\n"
          ]
        },
        {
          "output_type": "stream",
          "name": "stderr",
          "text": [
            "\r1568it [12:56,  1.93it/s]"
          ]
        },
        {
          "output_type": "stream",
          "name": "stdout",
          "text": [
            "torch.Size([1])\n",
            "[6]\n",
            "[4, 4, 10, 6, 9, 5] [2, 4, 10, 8, 9, 5]\n",
            "torch.Size([1])\n",
            "[6]\n",
            "[8, 2, 4, 6, 3, 3] [2, 5, 10, 2, 1, 1]\n"
          ]
        },
        {
          "output_type": "stream",
          "name": "stderr",
          "text": [
            "\r1570it [12:56,  2.04it/s]"
          ]
        },
        {
          "output_type": "stream",
          "name": "stdout",
          "text": [
            "torch.Size([1])\n",
            "[6]\n",
            "[2, 5, 6, 7, 9, 6] [2, 5, 6, 7, 9, 4]\n"
          ]
        },
        {
          "output_type": "stream",
          "name": "stderr",
          "text": [
            "1572it [12:57,  2.26it/s]"
          ]
        },
        {
          "output_type": "stream",
          "name": "stdout",
          "text": [
            "torch.Size([1])\n",
            "[6]\n",
            "[4, 5, 6, 8, 9, 9] [2, 5, 6, 7, 10, 7]\n",
            "torch.Size([1])\n",
            "[6]\n",
            "[2, 5, 4, 4, 10, 10] [2, 5, 4, 3, 10, 8]\n"
          ]
        },
        {
          "output_type": "stream",
          "name": "stderr",
          "text": [
            "\r1573it [12:58,  2.05it/s]"
          ]
        },
        {
          "output_type": "stream",
          "name": "stdout",
          "text": [
            "torch.Size([1])\n",
            "[6]\n",
            "[2, 5, 9, 5, 6, 10] [2, 5, 10, 5, 8, 10]\n"
          ]
        },
        {
          "output_type": "stream",
          "name": "stderr",
          "text": [
            "\r1574it [12:58,  2.38it/s]"
          ]
        },
        {
          "output_type": "stream",
          "name": "stdout",
          "text": [
            "torch.Size([1])\n",
            "[6]\n",
            "[2, 4, 7, 6, 4, 5] [2, 4, 7, 7, 3, 5]\n"
          ]
        },
        {
          "output_type": "stream",
          "name": "stderr",
          "text": [
            "\r1575it [12:59,  2.22it/s]"
          ]
        },
        {
          "output_type": "stream",
          "name": "stdout",
          "text": [
            "torch.Size([1])\n",
            "[6]\n",
            "[1, 1, 10, 3, 6, 4] [2, 5, 10, 1, 8, 2]\n"
          ]
        },
        {
          "output_type": "stream",
          "name": "stderr",
          "text": [
            "\r1576it [12:59,  1.90it/s]"
          ]
        },
        {
          "output_type": "stream",
          "name": "stdout",
          "text": [
            "torch.Size([1])\n",
            "[6]\n",
            "[1, 4, 5, 9, 5, 9] [2, 4, 5, 10, 3, 7]\n"
          ]
        },
        {
          "output_type": "stream",
          "name": "stderr",
          "text": [
            "\r1577it [13:00,  2.29it/s]"
          ]
        },
        {
          "output_type": "stream",
          "name": "stdout",
          "text": [
            "torch.Size([1])\n",
            "[6]\n",
            "[6, 3, 7, 1, 4, 7] [2, 4, 6, 7, 10, 6]\n"
          ]
        },
        {
          "output_type": "stream",
          "name": "stderr",
          "text": [
            "1579it [13:00,  2.57it/s]"
          ]
        },
        {
          "output_type": "stream",
          "name": "stdout",
          "text": [
            "torch.Size([1])\n",
            "[6]\n",
            "[2, 4, 5, 4, 7, 2] [2, 4, 5, 4, 7, 1]\n",
            "torch.Size([1])\n",
            "[6]\n",
            "[1, 5, 10, 3, 5, 9] [2, 5, 10, 2, 6, 10]\n"
          ]
        },
        {
          "output_type": "stream",
          "name": "stderr",
          "text": [
            "1581it [13:01,  2.58it/s]"
          ]
        },
        {
          "output_type": "stream",
          "name": "stdout",
          "text": [
            "torch.Size([1])\n",
            "[6]\n",
            "[4, 6, 5, 9, 6, 4] [2, 6, 5, 10, 4, 1]\n",
            "torch.Size([1])\n",
            "[6]\n",
            "[1, 3, 1, 4, 6, 9] [1, 3, 1, 2, 8, 10]\n"
          ]
        },
        {
          "output_type": "stream",
          "name": "stderr",
          "text": [
            "\r1582it [13:02,  2.24it/s]"
          ]
        },
        {
          "output_type": "stream",
          "name": "stdout",
          "text": [
            "torch.Size([1])\n",
            "[6]\n",
            "[5, 7, 6, 8, 6, 2] [2, 7, 6, 8, 7, 2]\n"
          ]
        },
        {
          "output_type": "stream",
          "name": "stderr",
          "text": [
            "\r1583it [13:03,  1.81it/s]"
          ]
        },
        {
          "output_type": "stream",
          "name": "stdout",
          "text": [
            "torch.Size([1])\n",
            "[6]\n",
            "[2, 6, 5, 4, 7, 5] [2, 6, 5, 4, 7, 5]\n",
            "torch.Size([1])\n",
            "[6]\n",
            "[2, 7, 1, 8, 9, 1] [2, 7, 1, 8, 9, 3]\n"
          ]
        },
        {
          "output_type": "stream",
          "name": "stderr",
          "text": [
            "\r1585it [13:03,  2.06it/s]"
          ]
        },
        {
          "output_type": "stream",
          "name": "stdout",
          "text": [
            "torch.Size([1])\n",
            "[6]\n",
            "[1, 2, 10, 9, 4, 5] [1, 2, 10, 8, 5, 5]\n",
            "torch.Size([1])\n",
            "[6]\n",
            "[1, 6, 9, 5, 8, 7] [2, 7, 8, 5, 9, 7]\n"
          ]
        },
        {
          "output_type": "stream",
          "name": "stderr",
          "text": [
            "\r1587it [13:04,  2.22it/s]"
          ]
        },
        {
          "output_type": "stream",
          "name": "stdout",
          "text": [
            "torch.Size([1])\n",
            "[6]\n",
            "[2, 7, 4, 10, 6, 4] [2, 7, 4, 10, 6, 5]\n"
          ]
        },
        {
          "output_type": "stream",
          "name": "stderr",
          "text": [
            "1589it [13:05,  2.44it/s]"
          ]
        },
        {
          "output_type": "stream",
          "name": "stdout",
          "text": [
            "torch.Size([1])\n",
            "[6]\n",
            "[1, 6, 3, 10, 4, 1] [2, 7, 1, 9, 4, 1]\n",
            "torch.Size([1])\n",
            "[6]\n",
            "[4, 7, 7, 6, 4, 4] [2, 7, 5, 6, 3, 2]\n"
          ]
        },
        {
          "output_type": "stream",
          "name": "stderr",
          "text": [
            "\r1590it [13:06,  1.62it/s]"
          ]
        },
        {
          "output_type": "stream",
          "name": "stdout",
          "text": [
            "torch.Size([1])\n",
            "[6]\n",
            "[1, 7, 9, 3, 2, 7] [2, 7, 7, 2, 2, 9]\n",
            "torch.Size([1])\n",
            "[6]\n",
            "[2, 7, 8, 6, 2, 1] [2, 7, 8, 6, 2, 1]\n"
          ]
        },
        {
          "output_type": "stream",
          "name": "stderr",
          "text": [
            "\r1592it [13:07,  1.90it/s]"
          ]
        },
        {
          "output_type": "stream",
          "name": "stdout",
          "text": [
            "torch.Size([1])\n",
            "[6]\n",
            "[2, 7, 4, 9, 4, 6] [2, 7, 6, 10, 4, 8]\n",
            "torch.Size([1])\n",
            "[6]\n",
            "[2, 7, 4, 9, 3, 8] [2, 7, 4, 10, 2, 8]\n"
          ]
        },
        {
          "output_type": "stream",
          "name": "stderr",
          "text": [
            "\r1594it [13:08,  2.08it/s]"
          ]
        },
        {
          "output_type": "stream",
          "name": "stdout",
          "text": [
            "torch.Size([1])\n",
            "[6]\n",
            "[1, 1, 3, 4, 5, 8] [1, 1, 3, 3, 6, 9]\n",
            "torch.Size([1])\n",
            "[6]\n",
            "[4, 6, 6, 6, 9, 6] [2, 6, 6, 6, 10, 5]\n"
          ]
        },
        {
          "output_type": "stream",
          "name": "stderr",
          "text": [
            "\r1596it [13:09,  2.23it/s]"
          ]
        },
        {
          "output_type": "stream",
          "name": "stdout",
          "text": [
            "torch.Size([1])\n",
            "[6]\n",
            "[2, 7, 10, 7, 2, 5] [2, 7, 1, 7, 3, 5]\n",
            "torch.Size([1])\n",
            "[6]\n",
            "[1, 6, 5, 4, 8, 9] [2, 6, 5, 5, 9, 10]\n"
          ]
        },
        {
          "output_type": "stream",
          "name": "stderr",
          "text": [
            "\r1598it [13:09,  2.35it/s]"
          ]
        },
        {
          "output_type": "stream",
          "name": "stdout",
          "text": [
            "torch.Size([1])\n",
            "[6]\n",
            "[1, 6, 9, 5, 3, 7] [2, 7, 9, 4, 2, 9]\n",
            "torch.Size([1])\n",
            "[6]\n",
            "[1, 6, 8, 5, 9, 6] [2, 6, 8, 5, 9, 5]\n"
          ]
        },
        {
          "output_type": "stream",
          "name": "stderr",
          "text": [
            "\r1600it [13:10,  2.39it/s]"
          ]
        },
        {
          "output_type": "stream",
          "name": "stdout",
          "text": [
            "torch.Size([1])\n",
            "[6]\n",
            "[2, 9, 3, 4, 2, 4] [2, 9, 3, 4, 3, 3]\n"
          ]
        },
        {
          "output_type": "stream",
          "name": "stderr",
          "text": [
            "\r1601it [13:11,  2.12it/s]"
          ]
        },
        {
          "output_type": "stream",
          "name": "stdout",
          "text": [
            "torch.Size([1])\n",
            "[6]\n",
            "[2, 6, 5, 3, 5, 7] [2, 8, 8, 2, 6, 8]\n",
            "torch.Size([1])\n",
            "[6]\n",
            "[1, 8, 10, 10, 5, 6] [2, 8, 10, 9, 6, 4]\n"
          ]
        },
        {
          "output_type": "stream",
          "name": "stderr",
          "text": [
            "1604it [13:12,  2.62it/s]"
          ]
        },
        {
          "output_type": "stream",
          "name": "stdout",
          "text": [
            "torch.Size([1])\n",
            "[6]\n",
            "[2, 8, 4, 8, 1, 10] [2, 8, 1, 8, 1, 10]\n",
            "torch.Size([1])\n",
            "[6]\n",
            "[1, 8, 4, 6, 5, 4] [2, 8, 8, 8, 5, 5]\n"
          ]
        },
        {
          "output_type": "stream",
          "name": "stderr",
          "text": [
            "1606it [13:13,  2.72it/s]"
          ]
        },
        {
          "output_type": "stream",
          "name": "stdout",
          "text": [
            "torch.Size([1])\n",
            "[6]\n",
            "[1, 8, 4, 7, 3, 7] [2, 9, 2, 7, 1, 7]\n",
            "torch.Size([1])\n",
            "[6]\n",
            "[2, 9, 6, 9, 6, 9] [2, 9, 6, 9, 7, 9]\n"
          ]
        },
        {
          "output_type": "stream",
          "name": "stderr",
          "text": [
            "\r1607it [13:13,  2.18it/s]"
          ]
        },
        {
          "output_type": "stream",
          "name": "stdout",
          "text": [
            "torch.Size([1])\n",
            "[6]\n",
            "[3, 8, 2, 10, 7, 8] [2, 8, 2, 9, 6, 9]\n",
            "torch.Size([1])\n",
            "[6]\n",
            "[1, 3, 4, 4, 1, 4] [1, 3, 4, 4, 1, 3]\n"
          ]
        },
        {
          "output_type": "stream",
          "name": "stderr",
          "text": [
            "\r1609it [13:14,  2.29it/s]"
          ]
        },
        {
          "output_type": "stream",
          "name": "stdout",
          "text": [
            "torch.Size([1])\n",
            "[6]\n",
            "[6, 8, 1, 9, 9, 3] [2, 8, 1, 7, 7, 2]\n",
            "torch.Size([1])\n",
            "[6]\n",
            "[2, 9, 4, 4, 4, 9] [2, 9, 4, 5, 4, 10]\n"
          ]
        },
        {
          "output_type": "stream",
          "name": "stderr",
          "text": [
            "\r1611it [13:15,  2.36it/s]"
          ]
        },
        {
          "output_type": "stream",
          "name": "stdout",
          "text": [
            "torch.Size([1])\n",
            "[6]\n",
            "[2, 8, 5, 5, 4, 4] [2, 8, 1, 5, 4, 8]\n"
          ]
        },
        {
          "output_type": "stream",
          "name": "stderr",
          "text": [
            "1613it [13:16,  2.48it/s]"
          ]
        },
        {
          "output_type": "stream",
          "name": "stdout",
          "text": [
            "torch.Size([1])\n",
            "[6]\n",
            "[1, 4, 5, 6, 9, 6] [1, 3, 2, 8, 9, 7]\n",
            "torch.Size([1])\n",
            "[6]\n",
            "[2, 7, 10, 5, 5, 5] [2, 7, 10, 7, 5, 5]\n"
          ]
        },
        {
          "output_type": "stream",
          "name": "stderr",
          "text": [
            "1615it [13:17,  2.53it/s]"
          ]
        },
        {
          "output_type": "stream",
          "name": "stdout",
          "text": [
            "torch.Size([1])\n",
            "[6]\n",
            "[2, 9, 6, 5, 5, 10] [2, 9, 6, 7, 5, 10]\n",
            "torch.Size([1])\n",
            "[6]\n",
            "[1, 8, 3, 5, 7, 4] [2, 8, 3, 7, 7, 4]\n"
          ]
        },
        {
          "output_type": "stream",
          "name": "stderr",
          "text": [
            "\r1616it [13:17,  2.23it/s]"
          ]
        },
        {
          "output_type": "stream",
          "name": "stdout",
          "text": [
            "torch.Size([1])\n",
            "[6]\n",
            "[2, 8, 1, 2, 5, 7] [2, 8, 2, 1, 6, 9]\n"
          ]
        },
        {
          "output_type": "stream",
          "name": "stderr",
          "text": [
            "\r1617it [13:17,  2.46it/s]"
          ]
        },
        {
          "output_type": "stream",
          "name": "stdout",
          "text": [
            "torch.Size([1])\n",
            "[6]\n",
            "[2, 9, 7, 7, 2, 4] [2, 9, 7, 7, 2, 3]\n"
          ]
        },
        {
          "output_type": "stream",
          "name": "stderr",
          "text": [
            "\r1618it [13:18,  2.29it/s]"
          ]
        },
        {
          "output_type": "stream",
          "name": "stdout",
          "text": [
            "torch.Size([1])\n",
            "[6]\n",
            "[2, 9, 6, 10, 3, 7] [2, 9, 6, 10, 3, 7]\n"
          ]
        },
        {
          "output_type": "stream",
          "name": "stderr",
          "text": [
            "1620it [13:19,  2.75it/s]"
          ]
        },
        {
          "output_type": "stream",
          "name": "stdout",
          "text": [
            "torch.Size([1])\n",
            "[6]\n",
            "[2, 9, 4, 6, 6, 6] [2, 9, 4, 6, 7, 5]\n",
            "torch.Size([1])\n",
            "[6]\n",
            "[2, 7, 7, 8, 5, 1] [2, 7, 9, 7, 6, 1]\n"
          ]
        },
        {
          "output_type": "stream",
          "name": "stderr",
          "text": [
            "\r1621it [13:19,  2.13it/s]"
          ]
        },
        {
          "output_type": "stream",
          "name": "stdout",
          "text": [
            "torch.Size([1])\n",
            "[6]\n",
            "[4, 9, 4, 9, 7, 4] [2, 9, 8, 10, 5, 2]\n",
            "torch.Size([1])\n",
            "[6]\n",
            "[1, 10, 4, 6, 3, 5] [2, 10, 3, 6, 3, 6]\n"
          ]
        },
        {
          "output_type": "stream",
          "name": "stderr",
          "text": [
            "\r1623it [13:20,  2.30it/s]"
          ]
        },
        {
          "output_type": "stream",
          "name": "stdout",
          "text": [
            "torch.Size([1])\n",
            "[6]\n",
            "[3, 1, 6, 8, 9, 3] [3, 1, 6, 8, 10, 4]\n"
          ]
        },
        {
          "output_type": "stream",
          "name": "stderr",
          "text": [
            "\r1624it [13:21,  1.96it/s]"
          ]
        },
        {
          "output_type": "stream",
          "name": "stdout",
          "text": [
            "torch.Size([1])\n",
            "[6]\n",
            "[3, 1, 4, 5, 5, 5] [3, 1, 4, 7, 6, 7]\n",
            "torch.Size([1])\n",
            "[6]\n",
            "[7, 10, 5, 4, 6, 9] [2, 10, 5, 4, 6, 10]\n"
          ]
        },
        {
          "output_type": "stream",
          "name": "stderr",
          "text": [
            "\r1626it [13:22,  1.68it/s]"
          ]
        },
        {
          "output_type": "stream",
          "name": "stdout",
          "text": [
            "torch.Size([1])\n",
            "[6]\n",
            "[1, 9, 4, 4, 5, 7] [2, 10, 3, 3, 1, 10]\n",
            "torch.Size([1])\n",
            "[6]\n",
            "[6, 2, 1, 9, 4, 1] [3, 1, 1, 9, 4, 2]\n"
          ]
        },
        {
          "output_type": "stream",
          "name": "stderr",
          "text": [
            "\r1628it [13:23,  1.87it/s]"
          ]
        },
        {
          "output_type": "stream",
          "name": "stdout",
          "text": [
            "torch.Size([1])\n",
            "[6]\n",
            "[3, 2, 2, 5, 4, 7] [3, 2, 2, 5, 4, 7]\n",
            "torch.Size([1])\n",
            "[6]\n",
            "[2, 10, 9, 9, 6, 3] [2, 10, 8, 7, 7, 3]\n"
          ]
        },
        {
          "output_type": "stream",
          "name": "stderr",
          "text": [
            "\r1630it [13:25,  1.67it/s]"
          ]
        },
        {
          "output_type": "stream",
          "name": "stdout",
          "text": [
            "torch.Size([1])\n",
            "[6]\n",
            "[3, 2, 1, 9, 9, 1] [3, 2, 1, 8, 8, 1]\n",
            "torch.Size([1])\n",
            "[6]\n",
            "[3, 9, 10, 3, 6, 8] [2, 9, 9, 3, 7, 9]\n"
          ]
        },
        {
          "output_type": "stream",
          "name": "stderr",
          "text": [
            "\r1632it [13:26,  1.74it/s]"
          ]
        },
        {
          "output_type": "stream",
          "name": "stdout",
          "text": [
            "torch.Size([1])\n",
            "[6]\n",
            "[2, 9, 8, 9, 1, 4] [2, 9, 8, 9, 1, 1]\n",
            "torch.Size([1])\n",
            "[6]\n",
            "[5, 1, 2, 4, 8, 9] [3, 1, 2, 4, 10, 10]\n"
          ]
        },
        {
          "output_type": "stream",
          "name": "stderr",
          "text": [
            "\r1634it [13:27,  1.74it/s]"
          ]
        },
        {
          "output_type": "stream",
          "name": "stdout",
          "text": [
            "torch.Size([1])\n",
            "[6]\n",
            "[2, 10, 2, 10, 2, 6] [2, 10, 6, 10, 2, 6]\n",
            "torch.Size([1])\n",
            "[6]\n",
            "[2, 9, 4, 8, 6, 1] [2, 10, 6, 8, 7, 1]\n"
          ]
        },
        {
          "output_type": "stream",
          "name": "stderr",
          "text": [
            "\r1636it [13:28,  1.90it/s]"
          ]
        },
        {
          "output_type": "stream",
          "name": "stdout",
          "text": [
            "torch.Size([1])\n",
            "[6]\n",
            "[1, 7, 6, 3, 6, 3] [2, 10, 6, 2, 1, 3]\n",
            "torch.Size([1])\n",
            "[6]\n",
            "[1, 10, 2, 8, 3, 4] [2, 10, 2, 8, 1, 2]\n"
          ]
        },
        {
          "output_type": "stream",
          "name": "stderr",
          "text": [
            "\r1638it [13:28,  2.04it/s]"
          ]
        },
        {
          "output_type": "stream",
          "name": "stdout",
          "text": [
            "torch.Size([1])\n",
            "[6]\n",
            "[2, 10, 7, 5, 6, 4] [2, 10, 7, 5, 7, 4]\n",
            "torch.Size([1])\n",
            "[6]\n",
            "[2, 7, 9, 8, 4, 4] [2, 9, 9, 8, 4, 2]\n"
          ]
        },
        {
          "output_type": "stream",
          "name": "stderr",
          "text": [
            "\r1640it [13:30,  1.86it/s]"
          ]
        },
        {
          "output_type": "stream",
          "name": "stdout",
          "text": [
            "torch.Size([1])\n",
            "[6]\n",
            "[1, 8, 10, 6, 1, 7] [2, 9, 8, 6, 1, 7]\n",
            "torch.Size([1])\n",
            "[6]\n",
            "[2, 9, 8, 4, 6, 1] [2, 9, 8, 3, 7, 1]\n"
          ]
        },
        {
          "output_type": "stream",
          "name": "stderr",
          "text": [
            "\r1642it [13:31,  2.05it/s]"
          ]
        },
        {
          "output_type": "stream",
          "name": "stdout",
          "text": [
            "torch.Size([1])\n",
            "[6]\n",
            "[1, 4, 5, 8, 5, 3] [1, 3, 5, 10, 5, 3]\n",
            "torch.Size([1])\n",
            "[6]\n",
            "[4, 3, 7, 2, 4, 1] [3, 3, 1, 2, 3, 1]\n"
          ]
        },
        {
          "output_type": "stream",
          "name": "stderr",
          "text": [
            "\r1644it [13:31,  2.14it/s]"
          ]
        },
        {
          "output_type": "stream",
          "name": "stdout",
          "text": [
            "torch.Size([1])\n",
            "[6]\n",
            "[3, 4, 4, 5, 6, 2] [3, 3, 2, 5, 8, 1]\n",
            "torch.Size([1])\n",
            "[6]\n",
            "[5, 4, 8, 4, 7, 10] [3, 3, 8, 4, 8, 10]\n"
          ]
        },
        {
          "output_type": "stream",
          "name": "stderr",
          "text": [
            "\r1646it [13:32,  2.23it/s]"
          ]
        },
        {
          "output_type": "stream",
          "name": "stdout",
          "text": [
            "torch.Size([1])\n",
            "[6]\n",
            "[2, 8, 10, 2, 7, 10] [3, 2, 10, 3, 1, 10]\n",
            "torch.Size([1])\n",
            "[6]\n",
            "[3, 3, 5, 4, 2, 7] [3, 3, 5, 4, 2, 7]\n"
          ]
        },
        {
          "output_type": "stream",
          "name": "stderr",
          "text": [
            "\r1648it [13:33,  1.98it/s]"
          ]
        },
        {
          "output_type": "stream",
          "name": "stdout",
          "text": [
            "torch.Size([1])\n",
            "[6]\n",
            "[3, 2, 4, 9, 6, 3] [3, 2, 2, 9, 5, 4]\n",
            "torch.Size([1])\n",
            "[6]\n",
            "[1, 2, 5, 9, 3, 6] [3, 3, 3, 10, 3, 6]\n"
          ]
        },
        {
          "output_type": "stream",
          "name": "stderr",
          "text": [
            "\r1650it [13:35,  1.94it/s]"
          ]
        },
        {
          "output_type": "stream",
          "name": "stdout",
          "text": [
            "torch.Size([1])\n",
            "[6]\n",
            "[4, 5, 4, 4, 6, 7] [3, 3, 1, 2, 7, 7]\n",
            "torch.Size([1])\n",
            "[6]\n",
            "[3, 4, 7, 8, 5, 4] [3, 3, 5, 10, 5, 5]\n"
          ]
        },
        {
          "output_type": "stream",
          "name": "stderr",
          "text": [
            "\r1652it [13:35,  2.04it/s]"
          ]
        },
        {
          "output_type": "stream",
          "name": "stdout",
          "text": [
            "torch.Size([1])\n",
            "[6]\n",
            "[1, 3, 6, 3, 3, 1] [1, 3, 6, 2, 4, 2]\n"
          ]
        },
        {
          "output_type": "stream",
          "name": "stderr",
          "text": [
            "\r1653it [13:36,  2.06it/s]"
          ]
        },
        {
          "output_type": "stream",
          "name": "stdout",
          "text": [
            "torch.Size([1])\n",
            "[6]\n",
            "[1, 8, 10, 1, 6, 5] [3, 2, 8, 3, 8, 6]\n"
          ]
        },
        {
          "output_type": "stream",
          "name": "stderr",
          "text": [
            "\r1654it [13:36,  2.18it/s]"
          ]
        },
        {
          "output_type": "stream",
          "name": "stdout",
          "text": [
            "torch.Size([1])\n",
            "[6]\n",
            "[1, 4, 6, 4, 7, 2] [3, 3, 5, 4, 8, 6]\n"
          ]
        },
        {
          "output_type": "stream",
          "name": "stderr",
          "text": [
            "\r1655it [13:37,  2.08it/s]"
          ]
        },
        {
          "output_type": "stream",
          "name": "stdout",
          "text": [
            "torch.Size([1])\n",
            "[6]\n",
            "[3, 2, 4, 3, 7, 3] [3, 2, 3, 2, 8, 5]\n"
          ]
        },
        {
          "output_type": "stream",
          "name": "stderr",
          "text": [
            "\r1656it [13:37,  2.30it/s]"
          ]
        },
        {
          "output_type": "stream",
          "name": "stdout",
          "text": [
            "torch.Size([1])\n",
            "[6]\n",
            "[1, 3, 8, 8, 6, 4] [1, 3, 6, 8, 7, 6]\n"
          ]
        },
        {
          "output_type": "stream",
          "name": "stderr",
          "text": [
            "\r1657it [13:38,  1.64it/s]"
          ]
        },
        {
          "output_type": "stream",
          "name": "stdout",
          "text": [
            "torch.Size([1])\n",
            "[6]\n",
            "[7, 1, 3, 4, 5, 9] [1, 1, 3, 4, 6, 9]\n",
            "torch.Size([1])\n",
            "[6]\n",
            "[3, 2, 9, 9, 3, 4] [3, 2, 9, 10, 3, 3]\n"
          ]
        },
        {
          "output_type": "stream",
          "name": "stderr",
          "text": [
            "\r1659it [13:39,  1.89it/s]"
          ]
        },
        {
          "output_type": "stream",
          "name": "stdout",
          "text": [
            "torch.Size([1])\n",
            "[6]\n",
            "[3, 2, 4, 4, 7, 1] [3, 2, 4, 4, 7, 2]\n",
            "torch.Size([1])\n",
            "[6]\n",
            "[3, 2, 7, 8, 5, 4] [3, 2, 7, 8, 7, 4]\n"
          ]
        },
        {
          "output_type": "stream",
          "name": "stderr",
          "text": [
            "\r1661it [13:40,  1.83it/s]"
          ]
        },
        {
          "output_type": "stream",
          "name": "stdout",
          "text": [
            "torch.Size([1])\n",
            "[6]\n",
            "[3, 2, 4, 9, 5, 1] [3, 2, 4, 9, 7, 1]\n",
            "torch.Size([1])\n",
            "[6]\n",
            "[3, 2, 7, 1, 9, 1] [3, 2, 7, 1, 10, 1]\n"
          ]
        },
        {
          "output_type": "stream",
          "name": "stderr",
          "text": [
            "\r1663it [13:41,  1.88it/s]"
          ]
        },
        {
          "output_type": "stream",
          "name": "stdout",
          "text": [
            "torch.Size([1])\n",
            "[6]\n",
            "[3, 4, 9, 9, 5, 9] [3, 3, 9, 10, 6, 10]\n",
            "torch.Size([1])\n",
            "[6]\n",
            "[4, 7, 2, 4, 9, 3] [3, 5, 2, 4, 9, 4]\n"
          ]
        },
        {
          "output_type": "stream",
          "name": "stderr",
          "text": [
            "\r1665it [13:43,  1.70it/s]"
          ]
        },
        {
          "output_type": "stream",
          "name": "stdout",
          "text": [
            "torch.Size([1])\n",
            "[6]\n",
            "[3, 5, 4, 9, 7, 6] [3, 5, 3, 9, 8, 6]\n",
            "torch.Size([1])\n",
            "[6]\n",
            "[3, 4, 7, 4, 10, 1] [3, 4, 5, 4, 10, 2]\n"
          ]
        },
        {
          "output_type": "stream",
          "name": "stderr",
          "text": [
            "\r1667it [13:43,  1.87it/s]"
          ]
        },
        {
          "output_type": "stream",
          "name": "stdout",
          "text": [
            "torch.Size([1])\n",
            "[6]\n",
            "[3, 4, 4, 5, 7, 1] [3, 4, 4, 5, 7, 3]\n",
            "torch.Size([1])\n",
            "[6]\n",
            "[4, 5, 3, 4, 5, 2] [3, 5, 3, 3, 5, 1]\n"
          ]
        },
        {
          "output_type": "stream",
          "name": "stderr",
          "text": [
            "\r1669it [13:44,  1.86it/s]"
          ]
        },
        {
          "output_type": "stream",
          "name": "stdout",
          "text": [
            "torch.Size([1])\n",
            "[6]\n",
            "[3, 4, 4, 4, 8, 6] [3, 4, 3, 4, 9, 9]\n",
            "torch.Size([1])\n",
            "[6]\n",
            "[3, 5, 1, 3, 9, 1] [3, 5, 1, 1, 8, 2]\n"
          ]
        },
        {
          "output_type": "stream",
          "name": "stderr",
          "text": [
            "\r1671it [13:46,  1.68it/s]"
          ]
        },
        {
          "output_type": "stream",
          "name": "stdout",
          "text": [
            "torch.Size([1])\n",
            "[6]\n",
            "[4, 5, 2, 3, 10, 6] [3, 5, 2, 3, 10, 7]\n",
            "torch.Size([1])\n",
            "[6]\n",
            "[3, 8, 9, 7, 3, 4] [3, 4, 9, 9, 4, 6]\n"
          ]
        },
        {
          "output_type": "stream",
          "name": "stderr",
          "text": [
            "\r1673it [13:47,  1.70it/s]"
          ]
        },
        {
          "output_type": "stream",
          "name": "stdout",
          "text": [
            "torch.Size([1])\n",
            "[6]\n",
            "[3, 4, 6, 10, 8, 7] [3, 4, 6, 10, 9, 8]\n",
            "torch.Size([1])\n",
            "[6]\n",
            "[3, 4, 5, 4, 5, 8] [3, 4, 2, 4, 6, 9]\n"
          ]
        },
        {
          "output_type": "stream",
          "name": "stderr",
          "text": [
            "\r1675it [13:48,  2.00it/s]"
          ]
        },
        {
          "output_type": "stream",
          "name": "stdout",
          "text": [
            "torch.Size([1])\n",
            "[6]\n",
            "[1, 4, 9, 5, 1, 4] [3, 4, 10, 9, 1, 3]\n",
            "torch.Size([1])\n",
            "[6]\n",
            "[4, 5, 6, 6, 1, 6] [3, 5, 1, 7, 1, 4]\n"
          ]
        },
        {
          "output_type": "stream",
          "name": "stderr",
          "text": [
            "\r1677it [13:49,  2.09it/s]"
          ]
        },
        {
          "output_type": "stream",
          "name": "stdout",
          "text": [
            "torch.Size([1])\n",
            "[6]\n",
            "[3, 4, 10, 3, 1, 4] [3, 4, 10, 3, 1, 2]\n"
          ]
        },
        {
          "output_type": "stream",
          "name": "stderr",
          "text": [
            "\r1678it [13:49,  2.33it/s]"
          ]
        },
        {
          "output_type": "stream",
          "name": "stdout",
          "text": [
            "torch.Size([1])\n",
            "[6]\n",
            "[3, 4, 5, 9, 3, 6] [3, 4, 5, 10, 3, 5]\n"
          ]
        },
        {
          "output_type": "stream",
          "name": "stderr",
          "text": [
            "\r1679it [13:49,  2.18it/s]"
          ]
        },
        {
          "output_type": "stream",
          "name": "stdout",
          "text": [
            "torch.Size([1])\n",
            "[6]\n",
            "[3, 3, 9, 7, 4, 4] [3, 3, 9, 7, 4, 4]\n"
          ]
        },
        {
          "output_type": "stream",
          "name": "stderr",
          "text": [
            "\r1680it [13:50,  2.36it/s]"
          ]
        },
        {
          "output_type": "stream",
          "name": "stdout",
          "text": [
            "torch.Size([1])\n",
            "[6]\n",
            "[1, 3, 8, 4, 3, 1] [1, 3, 8, 5, 4, 1]\n"
          ]
        },
        {
          "output_type": "stream",
          "name": "stderr",
          "text": [
            "\r1681it [13:50,  2.23it/s]"
          ]
        },
        {
          "output_type": "stream",
          "name": "stdout",
          "text": [
            "torch.Size([1])\n",
            "[6]\n",
            "[3, 4, 9, 3, 5, 3] [3, 4, 9, 2, 6, 3]\n"
          ]
        },
        {
          "output_type": "stream",
          "name": "stderr",
          "text": [
            "\r1682it [13:51,  1.74it/s]"
          ]
        },
        {
          "output_type": "stream",
          "name": "stdout",
          "text": [
            "torch.Size([1])\n",
            "[6]\n",
            "[3, 4, 5, 8, 7, 8] [3, 4, 3, 8, 8, 10]\n",
            "torch.Size([1])\n",
            "[6]\n",
            "[4, 6, 5, 4, 9, 8] [3, 6, 1, 3, 10, 10]\n"
          ]
        },
        {
          "output_type": "stream",
          "name": "stderr",
          "text": [
            "\r1684it [13:52,  1.92it/s]"
          ]
        },
        {
          "output_type": "stream",
          "name": "stdout",
          "text": [
            "torch.Size([1])\n",
            "[6]\n",
            "[3, 5, 6, 2, 4, 7] [3, 5, 7, 3, 5, 5]\n",
            "torch.Size([1])\n",
            "[6]\n",
            "[1, 6, 4, 8, 4, 10] [3, 6, 4, 8, 6, 10]\n"
          ]
        },
        {
          "output_type": "stream",
          "name": "stderr",
          "text": [
            "\r1686it [13:53,  2.01it/s]"
          ]
        },
        {
          "output_type": "stream",
          "name": "stdout",
          "text": [
            "torch.Size([1])\n",
            "[6]\n",
            "[3, 6, 5, 5, 7, 4] [3, 6, 5, 6, 8, 6]\n",
            "torch.Size([1])\n",
            "[6]\n",
            "[3, 6, 8, 5, 5, 4] [3, 6, 8, 7, 6, 3]\n"
          ]
        },
        {
          "output_type": "stream",
          "name": "stderr",
          "text": [
            "\r1688it [13:54,  1.93it/s]"
          ]
        },
        {
          "output_type": "stream",
          "name": "stdout",
          "text": [
            "torch.Size([1])\n",
            "[6]\n",
            "[1, 3, 9, 4, 4, 5] [1, 3, 9, 4, 5, 7]\n",
            "torch.Size([1])\n",
            "[6]\n",
            "[3, 7, 2, 7, 8, 1] [3, 6, 2, 8, 8, 8]\n"
          ]
        },
        {
          "output_type": "stream",
          "name": "stderr",
          "text": [
            "\r1690it [13:55,  1.89it/s]"
          ]
        },
        {
          "output_type": "stream",
          "name": "stdout",
          "text": [
            "torch.Size([1])\n",
            "[6]\n",
            "[1, 3, 10, 9, 1, 6] [1, 3, 9, 10, 2, 8]\n",
            "torch.Size([1])\n",
            "[6]\n",
            "[3, 5, 6, 8, 1, 5] [3, 5, 6, 8, 3, 4]\n"
          ]
        },
        {
          "output_type": "stream",
          "name": "stderr",
          "text": [
            "\r1692it [13:56,  2.03it/s]"
          ]
        },
        {
          "output_type": "stream",
          "name": "stdout",
          "text": [
            "torch.Size([1])\n",
            "[6]\n",
            "[2, 3, 7, 6, 10, 9] [1, 3, 9, 7, 10, 7]\n",
            "torch.Size([1])\n",
            "[6]\n",
            "[4, 5, 4, 4, 5, 3] [3, 5, 4, 3, 6, 2]\n"
          ]
        },
        {
          "output_type": "stream",
          "name": "stderr",
          "text": [
            "\r1694it [13:57,  2.13it/s]"
          ]
        },
        {
          "output_type": "stream",
          "name": "stdout",
          "text": [
            "torch.Size([1])\n",
            "[6]\n",
            "[3, 5, 8, 7, 8, 4] [3, 5, 8, 5, 9, 5]\n"
          ]
        },
        {
          "output_type": "stream",
          "name": "stderr",
          "text": [
            "\r1695it [13:57,  2.26it/s]"
          ]
        },
        {
          "output_type": "stream",
          "name": "stdout",
          "text": [
            "torch.Size([1])\n",
            "[6]\n",
            "[3, 6, 9, 4, 7, 2] [3, 6, 9, 4, 7, 3]\n"
          ]
        },
        {
          "output_type": "stream",
          "name": "stderr",
          "text": [
            "\r1696it [13:58,  2.22it/s]"
          ]
        },
        {
          "output_type": "stream",
          "name": "stdout",
          "text": [
            "torch.Size([1])\n",
            "[6]\n",
            "[3, 7, 8, 8, 5, 5] [3, 5, 8, 8, 6, 5]\n"
          ]
        },
        {
          "output_type": "stream",
          "name": "stderr",
          "text": [
            "\r1697it [13:58,  2.33it/s]"
          ]
        },
        {
          "output_type": "stream",
          "name": "stdout",
          "text": [
            "torch.Size([1])\n",
            "[6]\n",
            "[3, 6, 3, 4, 3, 9] [3, 6, 1, 3, 3, 9]\n"
          ]
        },
        {
          "output_type": "stream",
          "name": "stderr",
          "text": [
            "\r1698it [13:58,  2.27it/s]"
          ]
        },
        {
          "output_type": "stream",
          "name": "stdout",
          "text": [
            "torch.Size([1])\n",
            "[6]\n",
            "[3, 6, 9, 4, 9, 4] [3, 6, 9, 5, 10, 5]\n"
          ]
        },
        {
          "output_type": "stream",
          "name": "stderr",
          "text": [
            "\r1699it [13:59,  2.32it/s]"
          ]
        },
        {
          "output_type": "stream",
          "name": "stdout",
          "text": [
            "torch.Size([1])\n",
            "[6]\n",
            "[3, 7, 4, 9, 7, 7] [3, 6, 4, 9, 8, 8]\n"
          ]
        },
        {
          "output_type": "stream",
          "name": "stderr",
          "text": [
            "\r1700it [13:59,  2.29it/s]"
          ]
        },
        {
          "output_type": "stream",
          "name": "stdout",
          "text": [
            "torch.Size([1])\n",
            "[6]\n",
            "[3, 5, 7, 9, 4, 7] [3, 5, 7, 9, 4, 7]\n"
          ]
        },
        {
          "output_type": "stream",
          "name": "stderr",
          "text": [
            "\r1701it [14:00,  2.36it/s]"
          ]
        },
        {
          "output_type": "stream",
          "name": "stdout",
          "text": [
            "torch.Size([1])\n",
            "[6]\n",
            "[3, 6, 8, 7, 5, 4] [3, 6, 8, 7, 6, 6]\n"
          ]
        },
        {
          "output_type": "stream",
          "name": "stderr",
          "text": [
            "\r1702it [14:00,  2.10it/s]"
          ]
        },
        {
          "output_type": "stream",
          "name": "stdout",
          "text": [
            "torch.Size([1])\n",
            "[6]\n",
            "[4, 6, 4, 6, 10, 5] [3, 6, 2, 4, 10, 7]\n"
          ]
        },
        {
          "output_type": "stream",
          "name": "stderr",
          "text": [
            "\r1703it [14:01,  1.76it/s]"
          ]
        },
        {
          "output_type": "stream",
          "name": "stdout",
          "text": [
            "torch.Size([1])\n",
            "[6]\n",
            "[3, 5, 5, 1, 8, 5] [3, 5, 5, 1, 9, 7]\n",
            "torch.Size([1])\n",
            "[6]\n",
            "[3, 9, 1, 10, 7, 5] [3, 9, 1, 10, 7, 7]\n"
          ]
        },
        {
          "output_type": "stream",
          "name": "stderr",
          "text": [
            "\r1705it [14:03,  1.56it/s]"
          ]
        },
        {
          "output_type": "stream",
          "name": "stdout",
          "text": [
            "torch.Size([1])\n",
            "[6]\n",
            "[3, 8, 5, 4, 3, 7] [3, 8, 5, 4, 4, 8]\n",
            "torch.Size([1])\n",
            "[6]\n",
            "[3, 7, 10, 4, 7, 4] [3, 7, 10, 5, 7, 4]\n"
          ]
        },
        {
          "output_type": "stream",
          "name": "stderr",
          "text": [
            "\r1707it [14:03,  1.81it/s]"
          ]
        },
        {
          "output_type": "stream",
          "name": "stdout",
          "text": [
            "torch.Size([1])\n",
            "[6]\n",
            "[3, 8, 5, 3, 3, 8] [3, 8, 5, 3, 3, 8]\n",
            "torch.Size([1])\n",
            "[6]\n",
            "[3, 8, 10, 7, 7, 9] [3, 8, 8, 6, 9, 10]\n"
          ]
        },
        {
          "output_type": "stream",
          "name": "stderr",
          "text": [
            "\r1709it [14:04,  1.91it/s]"
          ]
        },
        {
          "output_type": "stream",
          "name": "stdout",
          "text": [
            "torch.Size([1])\n",
            "[6]\n",
            "[3, 9, 2, 8, 6, 7] [3, 9, 1, 8, 7, 8]\n",
            "torch.Size([1])\n",
            "[6]\n",
            "[3, 8, 7, 9, 8, 7] [3, 8, 7, 9, 9, 7]\n"
          ]
        },
        {
          "output_type": "stream",
          "name": "stderr",
          "text": [
            "\r1711it [14:05,  2.07it/s]"
          ]
        },
        {
          "output_type": "stream",
          "name": "stdout",
          "text": [
            "torch.Size([1])\n",
            "[6]\n",
            "[3, 7, 8, 4, 3, 10] [3, 7, 8, 4, 3, 9]\n",
            "torch.Size([1])\n",
            "[6]\n",
            "[3, 9, 2, 3, 5, 8] [3, 9, 2, 1, 6, 10]\n"
          ]
        },
        {
          "output_type": "stream",
          "name": "stderr",
          "text": [
            "\r1713it [14:06,  2.11it/s]"
          ]
        },
        {
          "output_type": "stream",
          "name": "stdout",
          "text": [
            "torch.Size([1])\n",
            "[6]\n",
            "[3, 8, 9, 5, 5, 8] [3, 8, 7, 5, 5, 9]\n",
            "torch.Size([1])\n",
            "[6]\n",
            "[3, 7, 9, 4, 6, 8] [3, 7, 9, 4, 7, 8]\n"
          ]
        },
        {
          "output_type": "stream",
          "name": "stderr",
          "text": [
            "\r1715it [14:07,  2.18it/s]"
          ]
        },
        {
          "output_type": "stream",
          "name": "stdout",
          "text": [
            "torch.Size([1])\n",
            "[6]\n",
            "[3, 7, 10, 1, 3, 7] [3, 7, 10, 1, 4, 7]\n",
            "torch.Size([1])\n",
            "[6]\n",
            "[4, 7, 3, 9, 3, 9] [3, 7, 3, 10, 1, 9]\n"
          ]
        },
        {
          "output_type": "stream",
          "name": "stderr",
          "text": [
            "\r1717it [14:08,  1.99it/s]"
          ]
        },
        {
          "output_type": "stream",
          "name": "stdout",
          "text": [
            "torch.Size([1])\n",
            "[6]\n",
            "[3, 7, 10, 5, 1, 7] [3, 7, 7, 5, 2, 7]\n",
            "torch.Size([1])\n",
            "[6]\n",
            "[3, 8, 7, 10, 3, 2] [3, 8, 4, 9, 3, 10]\n"
          ]
        },
        {
          "output_type": "stream",
          "name": "stderr",
          "text": [
            "\r1719it [14:09,  2.10it/s]"
          ]
        },
        {
          "output_type": "stream",
          "name": "stdout",
          "text": [
            "torch.Size([1])\n",
            "[6]\n",
            "[3, 7, 6, 4, 4, 3] [3, 7, 6, 5, 4, 2]\n",
            "torch.Size([1])\n",
            "[6]\n",
            "[3, 7, 4, 3, 6, 1] [3, 7, 3, 3, 6, 2]\n"
          ]
        },
        {
          "output_type": "stream",
          "name": "stderr",
          "text": [
            "\r1721it [14:10,  2.19it/s]"
          ]
        },
        {
          "output_type": "stream",
          "name": "stdout",
          "text": [
            "torch.Size([1])\n",
            "[6]\n",
            "[3, 8, 6, 6, 6, 9] [3, 7, 2, 7, 1, 10]\n"
          ]
        },
        {
          "output_type": "stream",
          "name": "stderr",
          "text": [
            "\r1722it [14:10,  2.24it/s]"
          ]
        },
        {
          "output_type": "stream",
          "name": "stdout",
          "text": [
            "torch.Size([1])\n",
            "[6]\n",
            "[1, 4, 9, 10, 4, 8] [1, 3, 9, 10, 5, 8]\n"
          ]
        },
        {
          "output_type": "stream",
          "name": "stderr",
          "text": [
            "\r1723it [14:10,  2.31it/s]"
          ]
        },
        {
          "output_type": "stream",
          "name": "stdout",
          "text": [
            "torch.Size([1])\n",
            "[6]\n",
            "[3, 8, 3, 9, 4, 5] [3, 8, 3, 9, 4, 5]\n"
          ]
        },
        {
          "output_type": "stream",
          "name": "stderr",
          "text": [
            "\r1724it [14:11,  2.32it/s]"
          ]
        },
        {
          "output_type": "stream",
          "name": "stdout",
          "text": [
            "torch.Size([1])\n",
            "[6]\n",
            "[3, 6, 8, 5, 9, 7] [3, 8, 8, 5, 10, 8]\n"
          ]
        },
        {
          "output_type": "stream",
          "name": "stderr",
          "text": [
            "\r1725it [14:11,  2.40it/s]"
          ]
        },
        {
          "output_type": "stream",
          "name": "stdout",
          "text": [
            "torch.Size([1])\n",
            "[6]\n",
            "[3, 9, 4, 2, 9, 6] [3, 9, 6, 3, 9, 8]\n"
          ]
        },
        {
          "output_type": "stream",
          "name": "stderr",
          "text": [
            "\r1726it [14:12,  2.27it/s]"
          ]
        },
        {
          "output_type": "stream",
          "name": "stdout",
          "text": [
            "torch.Size([1])\n",
            "[6]\n",
            "[3, 9, 5, 8, 7, 4] [3, 9, 5, 8, 8, 5]\n"
          ]
        },
        {
          "output_type": "stream",
          "name": "stderr",
          "text": [
            "\r1727it [14:12,  2.48it/s]"
          ]
        },
        {
          "output_type": "stream",
          "name": "stdout",
          "text": [
            "torch.Size([1])\n",
            "[6]\n",
            "[3, 9, 10, 2, 3, 4] [3, 9, 9, 1, 3, 4]\n"
          ]
        },
        {
          "output_type": "stream",
          "name": "stderr",
          "text": [
            "\r1728it [14:13,  2.27it/s]"
          ]
        },
        {
          "output_type": "stream",
          "name": "stdout",
          "text": [
            "torch.Size([1])\n",
            "[6]\n",
            "[4, 7, 2, 6, 3, 3] [3, 9, 2, 6, 2, 1]\n"
          ]
        },
        {
          "output_type": "stream",
          "name": "stderr",
          "text": [
            "\r1729it [14:13,  2.54it/s]"
          ]
        },
        {
          "output_type": "stream",
          "name": "stdout",
          "text": [
            "torch.Size([1])\n",
            "[6]\n",
            "[3, 10, 6, 6, 5, 8] [3, 10, 6, 6, 4, 9]\n"
          ]
        },
        {
          "output_type": "stream",
          "name": "stderr",
          "text": [
            "\r1730it [14:14,  2.22it/s]"
          ]
        },
        {
          "output_type": "stream",
          "name": "stdout",
          "text": [
            "torch.Size([1])\n",
            "[6]\n",
            "[3, 9, 6, 3, 3, 7] [3, 9, 6, 4, 3, 8]\n"
          ]
        },
        {
          "output_type": "stream",
          "name": "stderr",
          "text": [
            "\r1731it [14:14,  1.95it/s]"
          ]
        },
        {
          "output_type": "stream",
          "name": "stdout",
          "text": [
            "torch.Size([1])\n",
            "[6]\n",
            "[1, 4, 4, 3, 8, 4] [1, 4, 4, 2, 8, 4]\n"
          ]
        },
        {
          "output_type": "stream",
          "name": "stderr",
          "text": [
            "\r1732it [14:15,  1.71it/s]"
          ]
        },
        {
          "output_type": "stream",
          "name": "stdout",
          "text": [
            "torch.Size([1])\n",
            "[6]\n",
            "[4, 9, 7, 10, 7, 4] [3, 9, 5, 10, 7, 4]\n",
            "torch.Size([1])\n",
            "[6]\n",
            "[3, 10, 9, 4, 4, 4] [3, 10, 7, 6, 5, 6]\n"
          ]
        },
        {
          "output_type": "stream",
          "name": "stderr",
          "text": [
            "1735it [14:16,  2.45it/s]"
          ]
        },
        {
          "output_type": "stream",
          "name": "stdout",
          "text": [
            "torch.Size([1])\n",
            "[6]\n",
            "[3, 10, 7, 6, 3, 9] [3, 10, 6, 6, 4, 9]\n",
            "torch.Size([1])\n",
            "[6]\n",
            "[3, 10, 2, 7, 9, 5] [3, 10, 2, 7, 10, 6]\n"
          ]
        },
        {
          "output_type": "stream",
          "name": "stderr",
          "text": [
            "\r1736it [14:17,  2.01it/s]"
          ]
        },
        {
          "output_type": "stream",
          "name": "stdout",
          "text": [
            "torch.Size([1])\n",
            "[6]\n",
            "[1, 10, 2, 9, 7, 8] [3, 10, 4, 9, 8, 9]\n"
          ]
        },
        {
          "output_type": "stream",
          "name": "stderr",
          "text": [
            "\r1737it [14:17,  2.20it/s]"
          ]
        },
        {
          "output_type": "stream",
          "name": "stdout",
          "text": [
            "torch.Size([1])\n",
            "[6]\n",
            "[1, 4, 5, 6, 3, 9] [1, 4, 1, 7, 3, 10]\n"
          ]
        },
        {
          "output_type": "stream",
          "name": "stderr",
          "text": [
            "\r1738it [14:17,  2.19it/s]"
          ]
        },
        {
          "output_type": "stream",
          "name": "stdout",
          "text": [
            "torch.Size([1])\n",
            "[6]\n",
            "[3, 10, 8, 3, 5, 8] [3, 10, 6, 3, 6, 9]\n"
          ]
        },
        {
          "output_type": "stream",
          "name": "stderr",
          "text": [
            "\r1739it [14:18,  2.03it/s]"
          ]
        },
        {
          "output_type": "stream",
          "name": "stdout",
          "text": [
            "torch.Size([1])\n",
            "[6]\n",
            "[1, 8, 3, 9, 4, 1] [1, 4, 3, 10, 6, 1]\n"
          ]
        },
        {
          "output_type": "stream",
          "name": "stderr",
          "text": [
            "\r1740it [14:18,  2.34it/s]"
          ]
        },
        {
          "output_type": "stream",
          "name": "stdout",
          "text": [
            "torch.Size([1])\n",
            "[6]\n",
            "[3, 10, 2, 7, 7, 6] [3, 10, 2, 9, 8, 7]\n"
          ]
        },
        {
          "output_type": "stream",
          "name": "stderr",
          "text": [
            "\r1741it [14:19,  2.05it/s]"
          ]
        },
        {
          "output_type": "stream",
          "name": "stdout",
          "text": [
            "torch.Size([1])\n",
            "[6]\n",
            "[3, 10, 10, 6, 7, 9] [3, 10, 8, 7, 9, 10]\n"
          ]
        },
        {
          "output_type": "stream",
          "name": "stderr",
          "text": [
            "\r1742it [14:20,  1.73it/s]"
          ]
        },
        {
          "output_type": "stream",
          "name": "stdout",
          "text": [
            "torch.Size([1])\n",
            "[6]\n",
            "[3, 9, 4, 9, 9, 1] [3, 9, 6, 9, 10, 1]\n",
            "torch.Size([1])\n",
            "[6]\n",
            "[3, 10, 7, 6, 4, 2] [3, 10, 7, 7, 4, 1]\n"
          ]
        },
        {
          "output_type": "stream",
          "name": "stderr",
          "text": [
            "\r1744it [14:21,  1.70it/s]"
          ]
        },
        {
          "output_type": "stream",
          "name": "stdout",
          "text": [
            "torch.Size([1])\n",
            "[6]\n",
            "[3, 9, 8, 9, 4, 5] [3, 9, 8, 8, 4, 5]\n",
            "torch.Size([1])\n",
            "[6]\n",
            "[3, 10, 2, 7, 7, 5] [3, 10, 2, 9, 8, 7]\n"
          ]
        },
        {
          "output_type": "stream",
          "name": "stderr",
          "text": [
            "\r1746it [14:22,  1.58it/s]"
          ]
        },
        {
          "output_type": "stream",
          "name": "stdout",
          "text": [
            "torch.Size([1])\n",
            "[6]\n",
            "[4, 2, 1, 5, 3, 7] [4, 2, 5, 5, 2, 9]\n",
            "torch.Size([1])\n",
            "[6]\n",
            "[1, 4, 7, 1, 2, 1] [1, 4, 7, 1, 2, 8]\n"
          ]
        },
        {
          "output_type": "stream",
          "name": "stderr",
          "text": [
            "\r1748it [14:24,  1.48it/s]"
          ]
        },
        {
          "output_type": "stream",
          "name": "stdout",
          "text": [
            "torch.Size([1])\n",
            "[6]\n",
            "[7, 2, 1, 2, 9, 5] [4, 2, 1, 2, 9, 4]\n",
            "torch.Size([1])\n",
            "[6]\n",
            "[4, 2, 5, 2, 2, 1] [4, 2, 5, 2, 3, 1]\n"
          ]
        },
        {
          "output_type": "stream",
          "name": "stderr",
          "text": [
            "\r1750it [14:25,  1.44it/s]"
          ]
        },
        {
          "output_type": "stream",
          "name": "stdout",
          "text": [
            "torch.Size([1])\n",
            "[6]\n",
            "[4, 2, 7, 2, 3, 10] [4, 2, 6, 3, 2, 9]\n",
            "torch.Size([1])\n",
            "[6]\n",
            "[8, 1, 10, 8, 7, 10] [4, 1, 2, 10, 7, 9]\n"
          ]
        },
        {
          "output_type": "stream",
          "name": "stderr",
          "text": [
            "\r1752it [14:26,  1.67it/s]"
          ]
        },
        {
          "output_type": "stream",
          "name": "stdout",
          "text": [
            "torch.Size([1])\n",
            "[6]\n",
            "[4, 1, 4, 5, 3, 3] [4, 1, 3, 5, 4, 2]\n",
            "torch.Size([1])\n",
            "[6]\n",
            "[4, 2, 9, 6, 4, 1] [4, 1, 9, 6, 5, 2]\n"
          ]
        },
        {
          "output_type": "stream",
          "name": "stderr",
          "text": [
            "\r1754it [14:27,  1.85it/s]"
          ]
        },
        {
          "output_type": "stream",
          "name": "stdout",
          "text": [
            "torch.Size([1])\n",
            "[6]\n",
            "[4, 1, 4, 4, 10, 1] [4, 1, 4, 3, 9, 3]\n",
            "torch.Size([1])\n",
            "[6]\n",
            "[3, 1, 6, 4, 10, 9] [4, 1, 6, 6, 10, 8]\n"
          ]
        },
        {
          "output_type": "stream",
          "name": "stderr",
          "text": [
            "\r1756it [14:28,  1.99it/s]"
          ]
        },
        {
          "output_type": "stream",
          "name": "stdout",
          "text": [
            "torch.Size([1])\n",
            "[6]\n",
            "[6, 2, 1, 3, 6, 7] [4, 2, 1, 4, 7, 7]\n",
            "torch.Size([1])\n",
            "[6]\n",
            "[6, 2, 3, 9, 7, 4] [4, 2, 4, 10, 8, 5]\n"
          ]
        },
        {
          "output_type": "stream",
          "name": "stderr",
          "text": [
            "\r1758it [14:29,  2.07it/s]"
          ]
        },
        {
          "output_type": "stream",
          "name": "stdout",
          "text": [
            "torch.Size([1])\n",
            "[6]\n",
            "[4, 1, 10, 4, 2, 7] [4, 1, 9, 3, 1, 4]\n",
            "torch.Size([1])\n",
            "[6]\n",
            "[4, 1, 5, 3, 2, 5] [4, 1, 5, 3, 1, 3]\n"
          ]
        },
        {
          "output_type": "stream",
          "name": "stderr",
          "text": [
            "\r1760it [14:30,  1.80it/s]"
          ]
        },
        {
          "output_type": "stream",
          "name": "stdout",
          "text": [
            "torch.Size([1])\n",
            "[6]\n",
            "[4, 1, 4, 9, 3, 8] [4, 1, 4, 10, 2, 7]\n",
            "torch.Size([1])\n",
            "[6]\n",
            "[4, 1, 10, 2, 2, 5] [4, 1, 10, 1, 1, 3]\n"
          ]
        },
        {
          "output_type": "stream",
          "name": "stderr",
          "text": [
            "\r1762it [14:31,  1.97it/s]"
          ]
        },
        {
          "output_type": "stream",
          "name": "stdout",
          "text": [
            "torch.Size([1])\n",
            "[6]\n",
            "[4, 2, 3, 3, 2, 2] [4, 2, 3, 3, 2, 1]\n",
            "torch.Size([1])\n",
            "[6]\n",
            "[3, 4, 8, 1, 5, 8] [1, 4, 6, 1, 6, 8]\n"
          ]
        },
        {
          "output_type": "stream",
          "name": "stderr",
          "text": [
            "\r1764it [14:32,  1.76it/s]"
          ]
        },
        {
          "output_type": "stream",
          "name": "stdout",
          "text": [
            "torch.Size([1])\n",
            "[6]\n",
            "[4, 1, 10, 4, 4, 5] [4, 1, 10, 5, 4, 5]\n",
            "torch.Size([1])\n",
            "[6]\n",
            "[4, 6, 3, 4, 4, 2] [4, 4, 3, 4, 4, 3]\n"
          ]
        },
        {
          "output_type": "stream",
          "name": "stderr",
          "text": [
            "\r1766it [14:33,  1.91it/s]"
          ]
        },
        {
          "output_type": "stream",
          "name": "stdout",
          "text": [
            "torch.Size([1])\n",
            "[6]\n",
            "[4, 3, 10, 6, 8, 9] [4, 3, 10, 6, 9, 10]\n",
            "torch.Size([1])\n",
            "[6]\n",
            "[6, 3, 8, 5, 9, 10] [4, 3, 8, 6, 9, 10]\n"
          ]
        },
        {
          "output_type": "stream",
          "name": "stderr",
          "text": [
            "\r1768it [14:34,  2.04it/s]"
          ]
        },
        {
          "output_type": "stream",
          "name": "stdout",
          "text": [
            "torch.Size([1])\n",
            "[6]\n",
            "[6, 4, 5, 5, 8, 2] [4, 4, 4, 6, 8, 2]\n",
            "torch.Size([1])\n",
            "[6]\n",
            "[1, 4, 7, 4, 5, 7] [1, 4, 7, 3, 6, 6]\n"
          ]
        },
        {
          "output_type": "stream",
          "name": "stderr",
          "text": [
            "\r1770it [14:35,  1.76it/s]"
          ]
        },
        {
          "output_type": "stream",
          "name": "stdout",
          "text": [
            "torch.Size([1])\n",
            "[6]\n",
            "[6, 3, 1, 9, 2, 5] [4, 3, 2, 10, 1, 7]\n",
            "torch.Size([1])\n",
            "[6]\n",
            "[6, 6, 1, 8, 10, 8] [4, 4, 2, 9, 10, 8]\n"
          ]
        },
        {
          "output_type": "stream",
          "name": "stderr",
          "text": [
            "\r1772it [14:36,  1.96it/s]"
          ]
        },
        {
          "output_type": "stream",
          "name": "stdout",
          "text": [
            "torch.Size([1])\n",
            "[6]\n",
            "[4, 3, 7, 9, 9, 9] [4, 3, 5, 10, 9, 9]\n",
            "torch.Size([1])\n",
            "[6]\n",
            "[4, 3, 7, 8, 2, 6] [4, 3, 7, 8, 3, 6]\n"
          ]
        },
        {
          "output_type": "stream",
          "name": "stderr",
          "text": [
            "\r1774it [14:38,  1.77it/s]"
          ]
        },
        {
          "output_type": "stream",
          "name": "stdout",
          "text": [
            "torch.Size([1])\n",
            "[6]\n",
            "[6, 3, 10, 6, 5, 4] [4, 3, 10, 6, 5, 1]\n",
            "torch.Size([1])\n",
            "[6]\n",
            "[3, 2, 9, 7, 2, 7] [4, 2, 9, 7, 2, 7]\n"
          ]
        },
        {
          "output_type": "stream",
          "name": "stderr",
          "text": [
            "\r1776it [14:39,  1.62it/s]"
          ]
        },
        {
          "output_type": "stream",
          "name": "stdout",
          "text": [
            "torch.Size([1])\n",
            "[6]\n",
            "[2, 4, 7, 4, 10, 7] [1, 4, 7, 3, 10, 8]\n",
            "torch.Size([1])\n",
            "[6]\n",
            "[4, 2, 10, 1, 2, 7] [4, 2, 8, 1, 2, 7]\n"
          ]
        },
        {
          "output_type": "stream",
          "name": "stderr",
          "text": [
            "\r1778it [14:40,  1.81it/s]"
          ]
        },
        {
          "output_type": "stream",
          "name": "stdout",
          "text": [
            "torch.Size([1])\n",
            "[6]\n",
            "[4, 3, 7, 8, 7, 5] [4, 3, 7, 7, 7, 5]\n",
            "torch.Size([1])\n",
            "[6]\n",
            "[4, 3, 9, 9, 7, 4] [4, 3, 8, 7, 8, 4]\n"
          ]
        },
        {
          "output_type": "stream",
          "name": "stderr",
          "text": [
            "1781it [14:41,  2.34it/s]"
          ]
        },
        {
          "output_type": "stream",
          "name": "stdout",
          "text": [
            "torch.Size([1])\n",
            "[6]\n",
            "[3, 2, 7, 9, 7, 6] [4, 2, 6, 10, 8, 7]\n",
            "torch.Size([1])\n",
            "[6]\n",
            "[4, 3, 7, 4, 1, 6] [4, 3, 6, 3, 2, 6]\n"
          ]
        },
        {
          "output_type": "stream",
          "name": "stderr",
          "text": [
            "1783it [14:41,  2.51it/s]"
          ]
        },
        {
          "output_type": "stream",
          "name": "stdout",
          "text": [
            "torch.Size([1])\n",
            "[6]\n",
            "[6, 3, 1, 7, 2, 4] [4, 3, 1, 5, 8, 4]\n",
            "torch.Size([1])\n",
            "[6]\n",
            "[1, 1, 4, 4, 3, 8] [1, 1, 4, 5, 3, 7]\n"
          ]
        },
        {
          "output_type": "stream",
          "name": "stderr",
          "text": [
            "\r1784it [14:43,  1.63it/s]"
          ]
        },
        {
          "output_type": "stream",
          "name": "stdout",
          "text": [
            "torch.Size([1])\n",
            "[6]\n",
            "[4, 3, 6, 2, 10, 9] [4, 3, 5, 2, 10, 9]\n",
            "torch.Size([1])\n",
            "[6]\n",
            "[6, 3, 6, 8, 6, 5] [4, 3, 6, 8, 7, 4]\n"
          ]
        },
        {
          "output_type": "stream",
          "name": "stderr",
          "text": [
            "\r1786it [14:44,  1.84it/s]"
          ]
        },
        {
          "output_type": "stream",
          "name": "stdout",
          "text": [
            "torch.Size([1])\n",
            "[6]\n",
            "[4, 5, 8, 6, 2, 10] [4, 5, 8, 6, 1, 8]\n",
            "torch.Size([1])\n",
            "[6]\n",
            "[4, 4, 8, 7, 5, 10] [4, 4, 8, 7, 5, 10]\n"
          ]
        },
        {
          "output_type": "stream",
          "name": "stderr",
          "text": [
            "\r1788it [14:45,  1.81it/s]"
          ]
        },
        {
          "output_type": "stream",
          "name": "stdout",
          "text": [
            "torch.Size([1])\n",
            "[6]\n",
            "[4, 4, 5, 3, 1, 9] [4, 4, 5, 4, 1, 10]\n",
            "torch.Size([1])\n",
            "[6]\n",
            "[4, 4, 9, 4, 3, 3] [4, 4, 9, 4, 3, 2]\n"
          ]
        },
        {
          "output_type": "stream",
          "name": "stderr",
          "text": [
            "\r1790it [14:46,  1.66it/s]"
          ]
        },
        {
          "output_type": "stream",
          "name": "stdout",
          "text": [
            "torch.Size([1])\n",
            "[6]\n",
            "[4, 5, 8, 9, 3, 4] [4, 5, 8, 10, 1, 2]\n",
            "torch.Size([1])\n",
            "[6]\n",
            "[4, 5, 4, 9, 6, 9] [4, 5, 4, 10, 6, 10]\n"
          ]
        },
        {
          "output_type": "stream",
          "name": "stderr",
          "text": [
            "\r1792it [14:47,  1.86it/s]"
          ]
        },
        {
          "output_type": "stream",
          "name": "stdout",
          "text": [
            "torch.Size([1])\n",
            "[6]\n",
            "[4, 7, 6, 9, 2, 10] [4, 5, 7, 7, 2, 10]\n",
            "torch.Size([1])\n",
            "[6]\n",
            "[6, 5, 9, 7, 5, 8] [4, 5, 9, 7, 4, 8]\n"
          ]
        },
        {
          "output_type": "stream",
          "name": "stderr",
          "text": [
            "\r1794it [14:48,  1.99it/s]"
          ]
        },
        {
          "output_type": "stream",
          "name": "stdout",
          "text": [
            "torch.Size([1])\n",
            "[6]\n",
            "[4, 5, 8, 9, 6, 7] [4, 5, 8, 9, 8, 7]\n",
            "torch.Size([1])\n",
            "[6]\n",
            "[1, 4, 8, 6, 9, 3] [1, 4, 8, 6, 10, 2]\n"
          ]
        },
        {
          "output_type": "stream",
          "name": "stderr",
          "text": [
            "\r1796it [14:49,  2.13it/s]"
          ]
        },
        {
          "output_type": "stream",
          "name": "stdout",
          "text": [
            "torch.Size([1])\n",
            "[6]\n",
            "[4, 4, 7, 6, 2, 4] [4, 4, 6, 6, 2, 4]\n",
            "torch.Size([1])\n",
            "[6]\n",
            "[1, 4, 9, 6, 6, 4] [1, 4, 7, 6, 7, 6]\n"
          ]
        },
        {
          "output_type": "stream",
          "name": "stderr",
          "text": [
            "\r1798it [14:49,  2.20it/s]"
          ]
        },
        {
          "output_type": "stream",
          "name": "stdout",
          "text": [
            "torch.Size([1])\n",
            "[6]\n",
            "[4, 5, 6, 9, 2, 6] [4, 5, 6, 9, 2, 4]\n",
            "torch.Size([1])\n",
            "[6]\n",
            "[4, 4, 7, 9, 6, 10] [4, 4, 6, 9, 5, 10]\n"
          ]
        },
        {
          "output_type": "stream",
          "name": "stderr",
          "text": [
            "\r1800it [14:50,  2.28it/s]"
          ]
        },
        {
          "output_type": "stream",
          "name": "stdout",
          "text": [
            "torch.Size([1])\n",
            "[6]\n",
            "[4, 5, 5, 1, 6, 2] [4, 5, 5, 1, 7, 3]\n",
            "torch.Size([1])\n",
            "[6]\n",
            "[4, 2, 5, 5, 7, 5] [4, 5, 5, 5, 7, 4]\n"
          ]
        },
        {
          "output_type": "stream",
          "name": "stderr",
          "text": [
            "\r1802it [14:52,  1.85it/s]"
          ]
        },
        {
          "output_type": "stream",
          "name": "stdout",
          "text": [
            "torch.Size([1])\n",
            "[6]\n",
            "[4, 5, 4, 4, 5, 4] [4, 5, 2, 4, 5, 4]\n",
            "torch.Size([1])\n",
            "[6]\n",
            "[4, 4, 9, 2, 4, 5] [4, 4, 9, 2, 3, 6]\n"
          ]
        },
        {
          "output_type": "stream",
          "name": "stderr",
          "text": [
            "\r1804it [14:53,  1.97it/s]"
          ]
        },
        {
          "output_type": "stream",
          "name": "stdout",
          "text": [
            "torch.Size([1])\n",
            "[6]\n",
            "[4, 6, 8, 9, 4, 3] [4, 4, 8, 9, 3, 1]\n",
            "torch.Size([1])\n",
            "[6]\n",
            "[4, 5, 10, 8, 7, 10] [4, 5, 10, 8, 8, 10]\n"
          ]
        },
        {
          "output_type": "stream",
          "name": "stderr",
          "text": [
            "\r1806it [14:53,  2.10it/s]"
          ]
        },
        {
          "output_type": "stream",
          "name": "stdout",
          "text": [
            "torch.Size([1])\n",
            "[6]\n",
            "[4, 5, 1, 7, 9, 9] [4, 5, 1, 7, 9, 10]\n",
            "torch.Size([1])\n",
            "[6]\n",
            "[4, 5, 3, 9, 7, 3] [4, 5, 3, 9, 6, 1]\n"
          ]
        },
        {
          "output_type": "stream",
          "name": "stderr",
          "text": [
            "\r1808it [14:54,  2.22it/s]"
          ]
        },
        {
          "output_type": "stream",
          "name": "stdout",
          "text": [
            "torch.Size([1])\n",
            "[6]\n",
            "[1, 3, 9, 2, 8, 2] [1, 4, 9, 1, 9, 3]\n",
            "torch.Size([1])\n",
            "[6]\n",
            "[4, 6, 9, 8, 1, 5] [4, 6, 10, 8, 1, 4]\n"
          ]
        },
        {
          "output_type": "stream",
          "name": "stderr",
          "text": [
            "\r1810it [14:55,  2.09it/s]"
          ]
        },
        {
          "output_type": "stream",
          "name": "stdout",
          "text": [
            "torch.Size([1])\n",
            "[6]\n",
            "[4, 6, 3, 3, 9, 1] [4, 6, 3, 1, 8, 2]\n",
            "torch.Size([1])\n",
            "[6]\n",
            "[6, 6, 10, 4, 2, 7] [4, 6, 2, 4, 2, 8]\n"
          ]
        },
        {
          "output_type": "stream",
          "name": "stderr",
          "text": [
            "\r1812it [14:56,  2.18it/s]"
          ]
        },
        {
          "output_type": "stream",
          "name": "stdout",
          "text": [
            "torch.Size([1])\n",
            "[6]\n",
            "[1, 6, 8, 8, 2, 9] [4, 6, 8, 8, 1, 8]\n",
            "torch.Size([1])\n",
            "[6]\n",
            "[4, 7, 9, 4, 7, 10] [4, 6, 9, 3, 7, 10]\n"
          ]
        },
        {
          "output_type": "stream",
          "name": "stderr",
          "text": [
            "\r1814it [14:57,  2.27it/s]"
          ]
        },
        {
          "output_type": "stream",
          "name": "stdout",
          "text": [
            "torch.Size([1])\n",
            "[6]\n",
            "[4, 6, 1, 6, 4, 4] [4, 6, 1, 6, 3, 3]\n",
            "torch.Size([1])\n",
            "[6]\n",
            "[2, 7, 4, 4, 1, 7] [4, 7, 4, 4, 1, 7]\n"
          ]
        },
        {
          "output_type": "stream",
          "name": "stderr",
          "text": [
            "\r1816it [14:58,  2.35it/s]"
          ]
        },
        {
          "output_type": "stream",
          "name": "stdout",
          "text": [
            "torch.Size([1])\n",
            "[6]\n",
            "[4, 7, 2, 9, 9, 2] [4, 6, 4, 9, 8, 2]\n",
            "torch.Size([1])\n",
            "[6]\n",
            "[3, 6, 10, 5, 8, 10] [4, 6, 10, 5, 10, 10]\n"
          ]
        },
        {
          "output_type": "stream",
          "name": "stderr",
          "text": [
            "\r1818it [14:59,  2.39it/s]"
          ]
        },
        {
          "output_type": "stream",
          "name": "stdout",
          "text": [
            "torch.Size([1])\n",
            "[6]\n",
            "[4, 6, 8, 5, 5, 4] [4, 6, 6, 5, 6, 5]\n",
            "torch.Size([1])\n",
            "[6]\n",
            "[4, 7, 2, 5, 4, 8] [4, 7, 2, 5, 5, 8]\n"
          ]
        },
        {
          "output_type": "stream",
          "name": "stderr",
          "text": [
            "\r1820it [15:00,  2.07it/s]"
          ]
        },
        {
          "output_type": "stream",
          "name": "stdout",
          "text": [
            "torch.Size([1])\n",
            "[6]\n",
            "[4, 6, 7, 5, 5, 3] [4, 6, 7, 5, 6, 4]\n",
            "torch.Size([1])\n",
            "[6]\n",
            "[4, 6, 4, 4, 4, 4] [4, 6, 4, 3, 5, 5]\n"
          ]
        },
        {
          "output_type": "stream",
          "name": "stderr",
          "text": [
            "\r1822it [15:01,  2.17it/s]"
          ]
        },
        {
          "output_type": "stream",
          "name": "stdout",
          "text": [
            "torch.Size([1])\n",
            "[6]\n",
            "[4, 6, 9, 10, 7, 7] [4, 6, 5, 10, 7, 7]\n",
            "torch.Size([1])\n",
            "[6]\n",
            "[4, 6, 3, 9, 7, 3] [4, 6, 3, 9, 7, 2]\n"
          ]
        },
        {
          "output_type": "stream",
          "name": "stderr",
          "text": [
            "\r1824it [15:02,  1.86it/s]"
          ]
        },
        {
          "output_type": "stream",
          "name": "stdout",
          "text": [
            "torch.Size([1])\n",
            "[6]\n",
            "[4, 6, 6, 9, 3, 3] [4, 6, 6, 9, 4, 1]\n",
            "torch.Size([1])\n",
            "[6]\n",
            "[4, 7, 5, 7, 7, 10] [4, 7, 1, 5, 8, 10]\n"
          ]
        },
        {
          "output_type": "stream",
          "name": "stderr",
          "text": [
            "\r1826it [15:04,  1.68it/s]"
          ]
        },
        {
          "output_type": "stream",
          "name": "stdout",
          "text": [
            "torch.Size([1])\n",
            "[6]\n",
            "[4, 7, 6, 6, 8, 3] [4, 6, 6, 6, 8, 1]\n",
            "torch.Size([1])\n",
            "[6]\n",
            "[4, 7, 1, 2, 6, 8] [4, 7, 1, 1, 6, 8]\n"
          ]
        },
        {
          "output_type": "stream",
          "name": "stderr",
          "text": [
            "\r1828it [15:05,  1.60it/s]"
          ]
        },
        {
          "output_type": "stream",
          "name": "stdout",
          "text": [
            "torch.Size([1])\n",
            "[6]\n",
            "[3, 6, 1, 9, 9, 4] [4, 6, 1, 10, 10, 7]\n",
            "torch.Size([1])\n",
            "[6]\n",
            "[4, 9, 4, 3, 5, 3] [4, 9, 2, 3, 1, 4]\n"
          ]
        },
        {
          "output_type": "stream",
          "name": "stderr",
          "text": [
            "\r1830it [15:06,  1.80it/s]"
          ]
        },
        {
          "output_type": "stream",
          "name": "stdout",
          "text": [
            "torch.Size([1])\n",
            "[6]\n",
            "[4, 8, 1, 2, 4, 7] [4, 9, 1, 1, 4, 10]\n",
            "torch.Size([1])\n",
            "[6]\n",
            "[3, 8, 4, 10, 7, 7] [4, 8, 4, 10, 6, 8]\n"
          ]
        },
        {
          "output_type": "stream",
          "name": "stderr",
          "text": [
            "\r1832it [15:07,  1.74it/s]"
          ]
        },
        {
          "output_type": "stream",
          "name": "stdout",
          "text": [
            "torch.Size([1])\n",
            "[6]\n",
            "[4, 8, 10, 9, 7, 3] [4, 8, 9, 8, 8, 2]\n",
            "torch.Size([1])\n",
            "[6]\n",
            "[4, 7, 10, 8, 3, 7] [4, 7, 10, 8, 2, 7]\n"
          ]
        },
        {
          "output_type": "stream",
          "name": "stderr",
          "text": [
            "\r1834it [15:08,  1.92it/s]"
          ]
        },
        {
          "output_type": "stream",
          "name": "stdout",
          "text": [
            "torch.Size([1])\n",
            "[6]\n",
            "[3, 8, 6, 9, 5, 6] [4, 8, 6, 10, 5, 6]\n",
            "torch.Size([1])\n",
            "[6]\n",
            "[4, 7, 6, 2, 3, 4] [4, 7, 7, 2, 3, 3]\n"
          ]
        },
        {
          "output_type": "stream",
          "name": "stderr",
          "text": [
            "\r1836it [15:09,  1.71it/s]"
          ]
        },
        {
          "output_type": "stream",
          "name": "stdout",
          "text": [
            "torch.Size([1])\n",
            "[6]\n",
            "[1, 1, 10, 8, 1, 10] [1, 4, 10, 8, 1, 10]\n",
            "torch.Size([1])\n",
            "[6]\n",
            "[4, 7, 5, 6, 6, 6] [4, 7, 5, 7, 7, 8]\n"
          ]
        },
        {
          "output_type": "stream",
          "name": "stderr",
          "text": [
            "\r1838it [15:10,  1.90it/s]"
          ]
        },
        {
          "output_type": "stream",
          "name": "stdout",
          "text": [
            "torch.Size([1])\n",
            "[6]\n",
            "[4, 8, 10, 9, 7, 6] [4, 8, 10, 9, 7, 5]\n",
            "torch.Size([1])\n",
            "[6]\n",
            "[3, 8, 10, 5, 4, 10] [4, 8, 10, 4, 3, 8]\n"
          ]
        },
        {
          "output_type": "stream",
          "name": "stderr",
          "text": [
            "\r1840it [15:11,  1.98it/s]"
          ]
        },
        {
          "output_type": "stream",
          "name": "stdout",
          "text": [
            "torch.Size([1])\n",
            "[6]\n",
            "[4, 8, 9, 3, 3, 10] [4, 8, 8, 2, 3, 9]\n",
            "torch.Size([1])\n",
            "[6]\n",
            "[4, 7, 8, 2, 6, 7] [4, 7, 8, 2, 6, 7]\n"
          ]
        },
        {
          "output_type": "stream",
          "name": "stderr",
          "text": [
            "\r1842it [15:12,  1.91it/s]"
          ]
        },
        {
          "output_type": "stream",
          "name": "stdout",
          "text": [
            "torch.Size([1])\n",
            "[6]\n",
            "[4, 8, 3, 9, 7, 5] [4, 8, 4, 10, 7, 5]\n",
            "torch.Size([1])\n",
            "[6]\n",
            "[4, 7, 8, 9, 5, 1] [4, 7, 8, 9, 5, 1]\n"
          ]
        },
        {
          "output_type": "stream",
          "name": "stderr",
          "text": [
            "\r1844it [15:13,  2.04it/s]"
          ]
        },
        {
          "output_type": "stream",
          "name": "stdout",
          "text": [
            "torch.Size([1])\n",
            "[6]\n",
            "[4, 8, 1, 4, 5, 1] [4, 8, 1, 2, 5, 2]\n",
            "torch.Size([1])\n",
            "[6]\n",
            "[2, 7, 8, 3, 2, 7] [4, 7, 8, 3, 2, 7]\n"
          ]
        },
        {
          "output_type": "stream",
          "name": "stderr",
          "text": [
            "\r1846it [15:14,  2.14it/s]"
          ]
        },
        {
          "output_type": "stream",
          "name": "stdout",
          "text": [
            "torch.Size([1])\n",
            "[6]\n",
            "[1, 4, 10, 3, 1, 10] [1, 4, 10, 3, 1, 10]\n",
            "torch.Size([1])\n",
            "[6]\n",
            "[3, 7, 7, 3, 5, 5] [4, 7, 7, 2, 5, 5]\n"
          ]
        },
        {
          "output_type": "stream",
          "name": "stderr",
          "text": [
            "\r1848it [15:14,  2.24it/s]"
          ]
        },
        {
          "output_type": "stream",
          "name": "stdout",
          "text": [
            "torch.Size([1])\n",
            "[6]\n",
            "[4, 7, 8, 4, 5, 4] [4, 9, 8, 3, 6, 5]\n"
          ]
        },
        {
          "output_type": "stream",
          "name": "stderr",
          "text": [
            "\r1849it [15:15,  2.18it/s]"
          ]
        },
        {
          "output_type": "stream",
          "name": "stdout",
          "text": [
            "torch.Size([1])\n",
            "[6]\n",
            "[4, 9, 6, 4, 9, 6] [4, 9, 6, 4, 10, 6]\n"
          ]
        },
        {
          "output_type": "stream",
          "name": "stderr",
          "text": [
            "\r1850it [15:16,  1.89it/s]"
          ]
        },
        {
          "output_type": "stream",
          "name": "stdout",
          "text": [
            "torch.Size([1])\n",
            "[6]\n",
            "[4, 7, 10, 3, 9, 2] [4, 9, 10, 3, 9, 2]\n",
            "torch.Size([1])\n",
            "[6]\n",
            "[1, 5, 4, 2, 3, 3] [1, 5, 3, 1, 2, 2]\n"
          ]
        },
        {
          "output_type": "stream",
          "name": "stderr",
          "text": [
            "\r1852it [15:17,  1.77it/s]"
          ]
        },
        {
          "output_type": "stream",
          "name": "stdout",
          "text": [
            "torch.Size([1])\n",
            "[6]\n",
            "[1, 5, 3, 4, 3, 3] [1, 5, 1, 5, 3, 3]\n",
            "torch.Size([1])\n",
            "[6]\n",
            "[4, 9, 5, 9, 3, 8] [4, 9, 5, 8, 3, 8]\n"
          ]
        },
        {
          "output_type": "stream",
          "name": "stderr",
          "text": [
            "\r1854it [15:18,  2.03it/s]"
          ]
        },
        {
          "output_type": "stream",
          "name": "stdout",
          "text": [
            "torch.Size([1])\n",
            "[6]\n",
            "[4, 10, 3, 8, 8, 7] [4, 10, 1, 6, 8, 8]\n",
            "torch.Size([1])\n",
            "[6]\n",
            "[4, 9, 7, 10, 5, 4] [4, 9, 7, 9, 4, 2]\n"
          ]
        },
        {
          "output_type": "stream",
          "name": "stderr",
          "text": [
            "\r1856it [15:19,  2.18it/s]"
          ]
        },
        {
          "output_type": "stream",
          "name": "stdout",
          "text": [
            "torch.Size([1])\n",
            "[6]\n",
            "[1, 10, 8, 1, 5, 4] [4, 10, 8, 10, 5, 5]\n",
            "torch.Size([1])\n",
            "[6]\n",
            "[3, 10, 8, 9, 10, 1] [4, 10, 8, 10, 10, 2]\n"
          ]
        },
        {
          "output_type": "stream",
          "name": "stderr",
          "text": [
            "\r1858it [15:19,  2.24it/s]"
          ]
        },
        {
          "output_type": "stream",
          "name": "stdout",
          "text": [
            "torch.Size([1])\n",
            "[6]\n",
            "[3, 9, 4, 9, 7, 4] [4, 10, 7, 10, 7, 5]\n",
            "torch.Size([1])\n",
            "[6]\n",
            "[4, 9, 6, 5, 6, 5] [4, 9, 6, 5, 6, 5]\n"
          ]
        },
        {
          "output_type": "stream",
          "name": "stderr",
          "text": [
            "\r1860it [15:20,  2.31it/s]"
          ]
        },
        {
          "output_type": "stream",
          "name": "stdout",
          "text": [
            "torch.Size([1])\n",
            "[6]\n",
            "[4, 9, 4, 8, 4, 1] [4, 10, 4, 10, 2, 2]\n",
            "torch.Size([1])\n",
            "[6]\n",
            "[4, 10, 2, 5, 6, 1] [4, 10, 1, 5, 5, 1]\n"
          ]
        },
        {
          "output_type": "stream",
          "name": "stderr",
          "text": [
            "\r1862it [15:21,  2.50it/s]"
          ]
        },
        {
          "output_type": "stream",
          "name": "stdout",
          "text": [
            "torch.Size([1])\n",
            "[6]\n",
            "[4, 9, 6, 6, 10, 10] [4, 9, 6, 6, 10, 10]\n",
            "torch.Size([1])\n",
            "[6]\n",
            "[4, 10, 1, 6, 5, 8] [4, 10, 1, 6, 5, 9]\n"
          ]
        },
        {
          "output_type": "stream",
          "name": "stderr",
          "text": [
            "\r1864it [15:22,  2.50it/s]"
          ]
        },
        {
          "output_type": "stream",
          "name": "stdout",
          "text": [
            "torch.Size([1])\n",
            "[6]\n",
            "[6, 10, 8, 4, 7, 6] [4, 10, 2, 4, 7, 7]\n",
            "torch.Size([1])\n",
            "[6]\n",
            "[4, 10, 2, 8, 5, 6] [4, 10, 2, 9, 6, 5]\n"
          ]
        },
        {
          "output_type": "stream",
          "name": "stderr",
          "text": [
            "\r1866it [15:22,  2.70it/s]"
          ]
        },
        {
          "output_type": "stream",
          "name": "stdout",
          "text": [
            "torch.Size([1])\n",
            "[6]\n",
            "[4, 9, 4, 1, 6, 5] [4, 9, 3, 1, 6, 6]\n",
            "torch.Size([1])\n",
            "[6]\n",
            "[5, 2, 3, 9, 6, 6] [5, 2, 3, 10, 6, 4]\n"
          ]
        },
        {
          "output_type": "stream",
          "name": "stderr",
          "text": [
            "\r1868it [15:23,  2.66it/s]"
          ]
        },
        {
          "output_type": "stream",
          "name": "stdout",
          "text": [
            "torch.Size([1])\n",
            "[6]\n",
            "[1, 5, 4, 8, 1, 3] [1, 5, 3, 8, 1, 1]\n",
            "torch.Size([1])\n",
            "[6]\n",
            "[5, 1, 3, 4, 4, 10] [5, 1, 3, 4, 3, 10]\n"
          ]
        },
        {
          "output_type": "stream",
          "name": "stderr",
          "text": [
            "\r1870it [15:24,  2.63it/s]"
          ]
        },
        {
          "output_type": "stream",
          "name": "stdout",
          "text": [
            "torch.Size([1])\n",
            "[6]\n",
            "[5, 1, 5, 6, 5, 9] [5, 1, 5, 6, 4, 8]\n",
            "torch.Size([1])\n",
            "[6]\n",
            "[5, 3, 8, 5, 9, 10] [5, 1, 7, 5, 10, 8]\n"
          ]
        },
        {
          "output_type": "stream",
          "name": "stderr",
          "text": [
            "\r1872it [15:25,  2.57it/s]"
          ]
        },
        {
          "output_type": "stream",
          "name": "stdout",
          "text": [
            "torch.Size([1])\n",
            "[6]\n",
            "[5, 2, 3, 3, 5, 8] [5, 2, 2, 3, 5, 8]\n"
          ]
        },
        {
          "output_type": "stream",
          "name": "stderr",
          "text": [
            "\r1873it [15:25,  2.72it/s]"
          ]
        },
        {
          "output_type": "stream",
          "name": "stdout",
          "text": [
            "torch.Size([1])\n",
            "[6]\n",
            "[5, 1, 10, 4, 3, 7] [5, 1, 9, 4, 3, 8]\n"
          ]
        },
        {
          "output_type": "stream",
          "name": "stderr",
          "text": [
            "\r1874it [15:26,  2.13it/s]"
          ]
        },
        {
          "output_type": "stream",
          "name": "stdout",
          "text": [
            "torch.Size([1])\n",
            "[6]\n",
            "[5, 1, 3, 4, 4, 3] [5, 1, 3, 3, 3, 3]\n",
            "torch.Size([1])\n",
            "[6]\n",
            "[5, 1, 4, 8, 4, 6] [5, 1, 3, 9, 4, 3]\n"
          ]
        },
        {
          "output_type": "stream",
          "name": "stderr",
          "text": [
            "\r1876it [15:27,  2.14it/s]"
          ]
        },
        {
          "output_type": "stream",
          "name": "stdout",
          "text": [
            "torch.Size([1])\n",
            "[6]\n",
            "[4, 10, 3, 10, 8, 3] [4, 10, 9, 10, 7, 3]\n",
            "torch.Size([1])\n",
            "[6]\n",
            "[5, 1, 4, 5, 4, 6] [5, 1, 4, 5, 4, 5]\n"
          ]
        },
        {
          "output_type": "stream",
          "name": "stderr",
          "text": [
            "\r1878it [15:28,  1.99it/s]"
          ]
        },
        {
          "output_type": "stream",
          "name": "stdout",
          "text": [
            "torch.Size([1])\n",
            "[6]\n",
            "[5, 4, 2, 8, 9, 9] [5, 2, 2, 8, 9, 10]\n",
            "torch.Size([1])\n",
            "[6]\n",
            "[5, 1, 4, 8, 4, 9] [5, 1, 4, 8, 2, 8]\n"
          ]
        },
        {
          "output_type": "stream",
          "name": "stderr",
          "text": [
            "\r1880it [15:29,  2.12it/s]"
          ]
        },
        {
          "output_type": "stream",
          "name": "stdout",
          "text": [
            "torch.Size([1])\n",
            "[6]\n",
            "[5, 1, 4, 4, 7, 6] [5, 1, 4, 6, 6, 7]\n",
            "torch.Size([1])\n",
            "[6]\n",
            "[5, 1, 4, 5, 3, 4] [5, 1, 4, 6, 3, 4]\n"
          ]
        },
        {
          "output_type": "stream",
          "name": "stderr",
          "text": [
            "\r1882it [15:30,  2.16it/s]"
          ]
        },
        {
          "output_type": "stream",
          "name": "stdout",
          "text": [
            "torch.Size([1])\n",
            "[6]\n",
            "[5, 1, 4, 4, 3, 7] [5, 1, 3, 6, 2, 6]\n",
            "torch.Size([1])\n",
            "[6]\n",
            "[5, 7, 8, 10, 9, 6] [5, 1, 2, 8, 3, 5]\n"
          ]
        },
        {
          "output_type": "stream",
          "name": "stderr",
          "text": [
            "\r1884it [15:30,  2.28it/s]"
          ]
        },
        {
          "output_type": "stream",
          "name": "stdout",
          "text": [
            "torch.Size([1])\n",
            "[6]\n",
            "[6, 10, 9, 6, 2, 5] [4, 10, 9, 6, 3, 4]\n",
            "torch.Size([1])\n",
            "[6]\n",
            "[5, 2, 4, 8, 4, 7] [5, 2, 3, 8, 4, 6]\n"
          ]
        },
        {
          "output_type": "stream",
          "name": "stderr",
          "text": [
            "\r1886it [15:31,  2.32it/s]"
          ]
        },
        {
          "output_type": "stream",
          "name": "stdout",
          "text": [
            "torch.Size([1])\n",
            "[6]\n",
            "[5, 2, 3, 5, 7, 8] [5, 2, 1, 6, 7, 7]\n",
            "torch.Size([1])\n",
            "[6]\n",
            "[9, 8, 3, 9, 8, 3] [5, 3, 1, 9, 9, 2]\n"
          ]
        },
        {
          "output_type": "stream",
          "name": "stderr",
          "text": [
            "\r1888it [15:32,  2.35it/s]"
          ]
        },
        {
          "output_type": "stream",
          "name": "stdout",
          "text": [
            "torch.Size([1])\n",
            "[6]\n",
            "[1, 5, 4, 4, 2, 8] [1, 5, 4, 4, 3, 8]\n",
            "torch.Size([1])\n",
            "[6]\n",
            "[5, 3, 4, 3, 6, 8] [5, 3, 4, 2, 6, 8]\n"
          ]
        },
        {
          "output_type": "stream",
          "name": "stderr",
          "text": [
            "\r1890it [15:33,  2.38it/s]"
          ]
        },
        {
          "output_type": "stream",
          "name": "stdout",
          "text": [
            "torch.Size([1])\n",
            "[6]\n",
            "[5, 2, 4, 4, 3, 1] [5, 3, 3, 3, 4, 1]\n",
            "torch.Size([1])\n",
            "[6]\n",
            "[9, 3, 4, 9, 7, 10] [5, 2, 5, 10, 10, 1]\n"
          ]
        },
        {
          "output_type": "stream",
          "name": "stderr",
          "text": [
            "\r1892it [15:34,  2.45it/s]"
          ]
        },
        {
          "output_type": "stream",
          "name": "stdout",
          "text": [
            "torch.Size([1])\n",
            "[6]\n",
            "[5, 2, 9, 1, 5, 4] [5, 2, 9, 1, 8, 2]\n",
            "torch.Size([1])\n",
            "[6]\n",
            "[1, 5, 5, 8, 3, 5] [1, 5, 4, 8, 2, 5]\n"
          ]
        },
        {
          "output_type": "stream",
          "name": "stderr",
          "text": [
            "\r1894it [15:35,  2.01it/s]"
          ]
        },
        {
          "output_type": "stream",
          "name": "stdout",
          "text": [
            "torch.Size([1])\n",
            "[6]\n",
            "[9, 2, 4, 9, 7, 3] [5, 2, 4, 10, 7, 4]\n",
            "torch.Size([1])\n",
            "[6]\n",
            "[5, 3, 7, 5, 3, 10] [5, 3, 7, 5, 2, 7]\n"
          ]
        },
        {
          "output_type": "stream",
          "name": "stderr",
          "text": [
            "\r1896it [15:36,  2.11it/s]"
          ]
        },
        {
          "output_type": "stream",
          "name": "stdout",
          "text": [
            "torch.Size([1])\n",
            "[6]\n",
            "[6, 3, 9, 4, 10, 10] [5, 2, 9, 4, 10, 10]\n",
            "torch.Size([1])\n",
            "[6]\n",
            "[5, 3, 5, 9, 9, 9] [5, 3, 5, 10, 9, 10]\n"
          ]
        },
        {
          "output_type": "stream",
          "name": "stderr",
          "text": [
            "1899it [15:37,  2.51it/s]"
          ]
        },
        {
          "output_type": "stream",
          "name": "stdout",
          "text": [
            "torch.Size([1])\n",
            "[6]\n",
            "[5, 3, 4, 6, 2, 5] [5, 3, 4, 6, 1, 4]\n",
            "torch.Size([1])\n",
            "[6]\n",
            "[5, 1, 9, 1, 6, 6] [5, 2, 9, 1, 8, 5]\n"
          ]
        },
        {
          "output_type": "stream",
          "name": "stderr",
          "text": [
            "\r1900it [15:37,  2.29it/s]"
          ]
        },
        {
          "output_type": "stream",
          "name": "stdout",
          "text": [
            "torch.Size([1])\n",
            "[6]\n",
            "[5, 2, 6, 7, 8, 6] [5, 2, 6, 7, 8, 4]\n"
          ]
        },
        {
          "output_type": "stream",
          "name": "stderr",
          "text": [
            "\r1901it [15:38,  2.58it/s]"
          ]
        },
        {
          "output_type": "stream",
          "name": "stdout",
          "text": [
            "torch.Size([1])\n",
            "[6]\n",
            "[5, 2, 10, 3, 6, 4] [5, 2, 8, 3, 6, 6]\n"
          ]
        },
        {
          "output_type": "stream",
          "name": "stderr",
          "text": [
            "1903it [15:38,  2.95it/s]"
          ]
        },
        {
          "output_type": "stream",
          "name": "stdout",
          "text": [
            "torch.Size([1])\n",
            "[6]\n",
            "[7, 2, 5, 3, 3, 4] [5, 2, 5, 3, 3, 4]\n",
            "torch.Size([1])\n",
            "[6]\n",
            "[5, 3, 3, 4, 7, 5] [5, 3, 3, 6, 7, 2]\n"
          ]
        },
        {
          "output_type": "stream",
          "name": "stderr",
          "text": [
            "\r1904it [15:39,  2.34it/s]"
          ]
        },
        {
          "output_type": "stream",
          "name": "stdout",
          "text": [
            "torch.Size([1])\n",
            "[6]\n",
            "[5, 3, 6, 8, 1, 4] [5, 3, 6, 9, 1, 4]\n"
          ]
        },
        {
          "output_type": "stream",
          "name": "stderr",
          "text": [
            "\r1905it [15:39,  2.69it/s]"
          ]
        },
        {
          "output_type": "stream",
          "name": "stdout",
          "text": [
            "torch.Size([1])\n",
            "[6]\n",
            "[9, 3, 6, 9, 7, 7] [5, 4, 9, 10, 9, 3]\n"
          ]
        },
        {
          "output_type": "stream",
          "name": "stderr",
          "text": [
            "\r1906it [15:40,  2.35it/s]"
          ]
        },
        {
          "output_type": "stream",
          "name": "stdout",
          "text": [
            "torch.Size([1])\n",
            "[6]\n",
            "[5, 4, 8, 8, 4, 1] [5, 4, 8, 9, 3, 1]\n"
          ]
        },
        {
          "output_type": "stream",
          "name": "stderr",
          "text": [
            "\r1907it [15:40,  2.44it/s]"
          ]
        },
        {
          "output_type": "stream",
          "name": "stdout",
          "text": [
            "torch.Size([1])\n",
            "[6]\n",
            "[7, 4, 8, 6, 3, 10] [5, 4, 8, 7, 1, 9]\n"
          ]
        },
        {
          "output_type": "stream",
          "name": "stderr",
          "text": [
            "\r1908it [15:40,  2.41it/s]"
          ]
        },
        {
          "output_type": "stream",
          "name": "stdout",
          "text": [
            "torch.Size([1])\n",
            "[6]\n",
            "[5, 3, 7, 10, 4, 7] [5, 3, 7, 10, 4, 6]\n"
          ]
        },
        {
          "output_type": "stream",
          "name": "stderr",
          "text": [
            "\r1909it [15:41,  2.44it/s]"
          ]
        },
        {
          "output_type": "stream",
          "name": "stdout",
          "text": [
            "torch.Size([1])\n",
            "[6]\n",
            "[5, 3, 10, 8, 3, 6] [5, 3, 10, 8, 2, 4]\n"
          ]
        },
        {
          "output_type": "stream",
          "name": "stderr",
          "text": [
            "\r1910it [15:41,  2.51it/s]"
          ]
        },
        {
          "output_type": "stream",
          "name": "stdout",
          "text": [
            "torch.Size([1])\n",
            "[6]\n",
            "[7, 2, 7, 4, 2, 6] [5, 4, 7, 4, 2, 7]\n"
          ]
        },
        {
          "output_type": "stream",
          "name": "stderr",
          "text": [
            "\r1911it [15:42,  2.23it/s]"
          ]
        },
        {
          "output_type": "stream",
          "name": "stdout",
          "text": [
            "torch.Size([1])\n",
            "[6]\n",
            "[5, 3, 7, 5, 10, 5] [5, 3, 7, 5, 10, 7]\n"
          ]
        },
        {
          "output_type": "stream",
          "name": "stderr",
          "text": [
            "\r1912it [15:42,  2.60it/s]"
          ]
        },
        {
          "output_type": "stream",
          "name": "stdout",
          "text": [
            "torch.Size([1])\n",
            "[6]\n",
            "[5, 3, 10, 9, 7, 9] [5, 3, 10, 10, 7, 9]\n"
          ]
        },
        {
          "output_type": "stream",
          "name": "stderr",
          "text": [
            "1914it [15:43,  2.64it/s]"
          ]
        },
        {
          "output_type": "stream",
          "name": "stdout",
          "text": [
            "torch.Size([1])\n",
            "[6]\n",
            "[5, 3, 6, 9, 4, 6] [5, 3, 7, 10, 2, 4]\n",
            "torch.Size([1])\n",
            "[6]\n",
            "[2, 8, 2, 9, 2, 4] [1, 5, 4, 10, 1, 2]\n"
          ]
        },
        {
          "output_type": "stream",
          "name": "stderr",
          "text": [
            "\r1915it [15:43,  2.21it/s]"
          ]
        },
        {
          "output_type": "stream",
          "name": "stdout",
          "text": [
            "torch.Size([1])\n",
            "[6]\n",
            "[5, 4, 2, 7, 9, 3] [5, 4, 2, 9, 8, 2]\n"
          ]
        },
        {
          "output_type": "stream",
          "name": "stderr",
          "text": [
            "\r1916it [15:44,  2.52it/s]"
          ]
        },
        {
          "output_type": "stream",
          "name": "stdout",
          "text": [
            "torch.Size([1])\n",
            "[6]\n",
            "[5, 4, 1, 3, 10, 3] [5, 4, 1, 3, 10, 4]\n"
          ]
        },
        {
          "output_type": "stream",
          "name": "stderr",
          "text": [
            "\r1917it [15:44,  2.33it/s]"
          ]
        },
        {
          "output_type": "stream",
          "name": "stdout",
          "text": [
            "torch.Size([1])\n",
            "[6]\n",
            "[5, 4, 10, 5, 2, 8] [5, 4, 10, 7, 3, 6]\n"
          ]
        },
        {
          "output_type": "stream",
          "name": "stderr",
          "text": [
            "1919it [15:45,  2.49it/s]"
          ]
        },
        {
          "output_type": "stream",
          "name": "stdout",
          "text": [
            "torch.Size([1])\n",
            "[6]\n",
            "[5, 4, 5, 5, 3, 6] [5, 4, 5, 5, 2, 7]\n",
            "torch.Size([1])\n",
            "[6]\n",
            "[5, 4, 7, 8, 9, 9] [5, 4, 7, 7, 10, 10]\n"
          ]
        },
        {
          "output_type": "stream",
          "name": "stderr",
          "text": [
            "\r1920it [15:46,  2.07it/s]"
          ]
        },
        {
          "output_type": "stream",
          "name": "stdout",
          "text": [
            "torch.Size([1])\n",
            "[6]\n",
            "[5, 4, 10, 8, 6, 7] [5, 4, 10, 7, 5, 5]\n"
          ]
        },
        {
          "output_type": "stream",
          "name": "stderr",
          "text": [
            "\r1921it [15:47,  1.69it/s]"
          ]
        },
        {
          "output_type": "stream",
          "name": "stdout",
          "text": [
            "torch.Size([1])\n",
            "[6]\n",
            "[5, 4, 7, 7, 5, 1] [5, 4, 7, 7, 6, 1]\n"
          ]
        },
        {
          "output_type": "stream",
          "name": "stderr",
          "text": [
            "\r1922it [15:47,  1.72it/s]"
          ]
        },
        {
          "output_type": "stream",
          "name": "stdout",
          "text": [
            "torch.Size([1])\n",
            "[6]\n",
            "[5, 2, 1, 3, 3, 9] [5, 4, 1, 3, 3, 9]\n"
          ]
        },
        {
          "output_type": "stream",
          "name": "stderr",
          "text": [
            "\r1923it [15:48,  1.49it/s]"
          ]
        },
        {
          "output_type": "stream",
          "name": "stdout",
          "text": [
            "torch.Size([1])\n",
            "[6]\n",
            "[7, 6, 10, 1, 4, 9] [5, 6, 8, 1, 3, 9]\n"
          ]
        },
        {
          "output_type": "stream",
          "name": "stderr",
          "text": [
            "\r1924it [15:49,  1.59it/s]"
          ]
        },
        {
          "output_type": "stream",
          "name": "stdout",
          "text": [
            "torch.Size([1])\n",
            "[6]\n",
            "[5, 5, 3, 3, 9, 3] [5, 5, 3, 2, 10, 2]\n"
          ]
        },
        {
          "output_type": "stream",
          "name": "stderr",
          "text": [
            "\r1925it [15:49,  1.84it/s]"
          ]
        },
        {
          "output_type": "stream",
          "name": "stdout",
          "text": [
            "torch.Size([1])\n",
            "[6]\n",
            "[5, 5, 7, 6, 5, 4] [5, 5, 7, 7, 5, 3]\n"
          ]
        },
        {
          "output_type": "stream",
          "name": "stderr",
          "text": [
            "\r1926it [15:49,  1.93it/s]"
          ]
        },
        {
          "output_type": "stream",
          "name": "stdout",
          "text": [
            "torch.Size([1])\n",
            "[6]\n",
            "[9, 5, 1, 4, 6, 3] [5, 5, 1, 5, 8, 2]\n"
          ]
        },
        {
          "output_type": "stream",
          "name": "stderr",
          "text": [
            "\r1927it [15:50,  1.77it/s]"
          ]
        },
        {
          "output_type": "stream",
          "name": "stdout",
          "text": [
            "torch.Size([1])\n",
            "[6]\n",
            "[5, 5, 3, 4, 9, 8] [5, 5, 3, 3, 9, 10]\n"
          ]
        },
        {
          "output_type": "stream",
          "name": "stderr",
          "text": [
            "\r1928it [15:51,  1.80it/s]"
          ]
        },
        {
          "output_type": "stream",
          "name": "stdout",
          "text": [
            "torch.Size([1])\n",
            "[6]\n",
            "[7, 6, 5, 4, 6, 8] [5, 6, 5, 4, 7, 8]\n"
          ]
        },
        {
          "output_type": "stream",
          "name": "stderr",
          "text": [
            "\r1929it [15:51,  1.89it/s]"
          ]
        },
        {
          "output_type": "stream",
          "name": "stdout",
          "text": [
            "torch.Size([1])\n",
            "[6]\n",
            "[7, 6, 4, 2, 2, 4] [5, 6, 5, 2, 1, 7]\n"
          ]
        },
        {
          "output_type": "stream",
          "name": "stderr",
          "text": [
            "\r1930it [15:51,  2.16it/s]"
          ]
        },
        {
          "output_type": "stream",
          "name": "stdout",
          "text": [
            "torch.Size([1])\n",
            "[6]\n",
            "[7, 5, 9, 10, 7, 6] [5, 5, 5, 10, 7, 5]\n"
          ]
        },
        {
          "output_type": "stream",
          "name": "stderr",
          "text": [
            "\r1931it [15:52,  2.09it/s]"
          ]
        },
        {
          "output_type": "stream",
          "name": "stdout",
          "text": [
            "torch.Size([1])\n",
            "[6]\n",
            "[5, 5, 7, 7, 10, 7] [5, 5, 7, 7, 10, 8]\n"
          ]
        },
        {
          "output_type": "stream",
          "name": "stderr",
          "text": [
            "\r1932it [15:52,  2.37it/s]"
          ]
        },
        {
          "output_type": "stream",
          "name": "stdout",
          "text": [
            "torch.Size([1])\n",
            "[6]\n",
            "[5, 4, 10, 3, 5, 2] [5, 5, 9, 3, 6, 2]\n"
          ]
        },
        {
          "output_type": "stream",
          "name": "stderr",
          "text": [
            "\r1933it [15:53,  2.23it/s]"
          ]
        },
        {
          "output_type": "stream",
          "name": "stdout",
          "text": [
            "torch.Size([1])\n",
            "[6]\n",
            "[7, 5, 2, 8, 4, 7] [5, 5, 1, 8, 4, 7]\n"
          ]
        },
        {
          "output_type": "stream",
          "name": "stderr",
          "text": [
            "\r1934it [15:53,  2.52it/s]"
          ]
        },
        {
          "output_type": "stream",
          "name": "stdout",
          "text": [
            "torch.Size([1])\n",
            "[6]\n",
            "[6, 6, 8, 4, 1, 1] [5, 6, 8, 4, 1, 2]\n"
          ]
        },
        {
          "output_type": "stream",
          "name": "stderr",
          "text": [
            "\r1935it [15:53,  2.26it/s]"
          ]
        },
        {
          "output_type": "stream",
          "name": "stdout",
          "text": [
            "torch.Size([1])\n",
            "[6]\n",
            "[5, 5, 4, 4, 7, 9] [5, 5, 1, 2, 7, 9]\n"
          ]
        },
        {
          "output_type": "stream",
          "name": "stderr",
          "text": [
            "\r1936it [15:54,  2.57it/s]"
          ]
        },
        {
          "output_type": "stream",
          "name": "stdout",
          "text": [
            "torch.Size([1])\n",
            "[6]\n",
            "[7, 5, 3, 6, 7, 9] [5, 5, 3, 6, 7, 10]\n"
          ]
        },
        {
          "output_type": "stream",
          "name": "stderr",
          "text": [
            "\r1937it [15:54,  2.31it/s]"
          ]
        },
        {
          "output_type": "stream",
          "name": "stdout",
          "text": [
            "torch.Size([1])\n",
            "[6]\n",
            "[5, 3, 4, 2, 8, 8] [5, 5, 2, 2, 9, 7]\n"
          ]
        },
        {
          "output_type": "stream",
          "name": "stderr",
          "text": [
            "\r1938it [15:55,  2.31it/s]"
          ]
        },
        {
          "output_type": "stream",
          "name": "stdout",
          "text": [
            "torch.Size([1])\n",
            "[6]\n",
            "[7, 4, 3, 8, 2, 7] [5, 5, 1, 9, 3, 6]\n"
          ]
        },
        {
          "output_type": "stream",
          "name": "stderr",
          "text": [
            "\r1939it [15:55,  2.43it/s]"
          ]
        },
        {
          "output_type": "stream",
          "name": "stdout",
          "text": [
            "torch.Size([1])\n",
            "[6]\n",
            "[5, 6, 8, 9, 6, 4] [5, 6, 8, 10, 5, 3]\n"
          ]
        },
        {
          "output_type": "stream",
          "name": "stderr",
          "text": [
            "\r1940it [15:55,  2.44it/s]"
          ]
        },
        {
          "output_type": "stream",
          "name": "stdout",
          "text": [
            "torch.Size([1])\n",
            "[6]\n",
            "[5, 6, 3, 4, 5, 7] [5, 6, 3, 5, 4, 7]\n"
          ]
        },
        {
          "output_type": "stream",
          "name": "stderr",
          "text": [
            "\r1941it [15:56,  2.08it/s]"
          ]
        },
        {
          "output_type": "stream",
          "name": "stdout",
          "text": [
            "torch.Size([1])\n",
            "[6]\n",
            "[5, 3, 8, 1, 8, 7] [5, 5, 8, 1, 9, 8]\n"
          ]
        },
        {
          "output_type": "stream",
          "name": "stderr",
          "text": [
            "\r1942it [15:57,  2.09it/s]"
          ]
        },
        {
          "output_type": "stream",
          "name": "stdout",
          "text": [
            "torch.Size([1])\n",
            "[6]\n",
            "[5, 6, 3, 8, 9, 9] [5, 6, 3, 8, 10, 9]\n"
          ]
        },
        {
          "output_type": "stream",
          "name": "stderr",
          "text": [
            "\r1943it [15:57,  2.30it/s]"
          ]
        },
        {
          "output_type": "stream",
          "name": "stdout",
          "text": [
            "torch.Size([1])\n",
            "[6]\n",
            "[1, 7, 2, 8, 7, 9] [1, 6, 2, 8, 10, 10]\n"
          ]
        },
        {
          "output_type": "stream",
          "name": "stderr",
          "text": [
            "\r1944it [15:57,  2.23it/s]"
          ]
        },
        {
          "output_type": "stream",
          "name": "stdout",
          "text": [
            "torch.Size([1])\n",
            "[6]\n",
            "[5, 7, 4, 4, 3, 3] [5, 7, 4, 4, 3, 2]\n"
          ]
        },
        {
          "output_type": "stream",
          "name": "stderr",
          "text": [
            "1946it [15:58,  2.43it/s]"
          ]
        },
        {
          "output_type": "stream",
          "name": "stdout",
          "text": [
            "torch.Size([1])\n",
            "[6]\n",
            "[7, 8, 4, 9, 2, 4] [5, 8, 2, 9, 2, 4]\n",
            "torch.Size([1])\n",
            "[6]\n",
            "[7, 8, 4, 9, 5, 6] [5, 8, 4, 9, 6, 6]\n"
          ]
        },
        {
          "output_type": "stream",
          "name": "stderr",
          "text": [
            "\r1947it [15:59,  2.14it/s]"
          ]
        },
        {
          "output_type": "stream",
          "name": "stdout",
          "text": [
            "torch.Size([1])\n",
            "[6]\n",
            "[5, 8, 8, 1, 5, 6] [5, 8, 8, 2, 6, 5]\n",
            "torch.Size([1])\n",
            "[6]\n",
            "[5, 7, 6, 4, 5, 3] [5, 7, 6, 5, 6, 5]\n"
          ]
        },
        {
          "output_type": "stream",
          "name": "stderr",
          "text": [
            "\r1949it [16:00,  2.31it/s]"
          ]
        },
        {
          "output_type": "stream",
          "name": "stdout",
          "text": [
            "torch.Size([1])\n",
            "[6]\n",
            "[5, 8, 9, 2, 3, 4] [5, 8, 9, 2, 4, 3]\n",
            "torch.Size([1])\n",
            "[6]\n",
            "[7, 7, 5, 2, 8, 1] [5, 7, 5, 1, 7, 2]\n"
          ]
        },
        {
          "output_type": "stream",
          "name": "stderr",
          "text": [
            "\r1951it [16:01,  1.86it/s]"
          ]
        },
        {
          "output_type": "stream",
          "name": "stdout",
          "text": [
            "torch.Size([1])\n",
            "[6]\n",
            "[5, 7, 6, 6, 5, 5] [5, 7, 6, 7, 6, 6]\n",
            "torch.Size([1])\n",
            "[6]\n",
            "[5, 6, 2, 9, 4, 8] [5, 7, 2, 9, 4, 10]\n"
          ]
        },
        {
          "output_type": "stream",
          "name": "stderr",
          "text": [
            "\r1953it [16:02,  2.04it/s]"
          ]
        },
        {
          "output_type": "stream",
          "name": "stdout",
          "text": [
            "torch.Size([1])\n",
            "[6]\n",
            "[5, 6, 9, 8, 4, 5] [5, 6, 9, 9, 4, 5]\n"
          ]
        },
        {
          "output_type": "stream",
          "name": "stderr",
          "text": [
            "1955it [16:03,  2.19it/s]"
          ]
        },
        {
          "output_type": "stream",
          "name": "stdout",
          "text": [
            "torch.Size([1])\n",
            "[6]\n",
            "[5, 7, 6, 9, 4, 3] [5, 7, 6, 9, 3, 2]\n",
            "torch.Size([1])\n",
            "[6]\n",
            "[7, 8, 1, 4, 8, 7] [5, 8, 1, 4, 10, 6]\n"
          ]
        },
        {
          "output_type": "stream",
          "name": "stderr",
          "text": [
            "\r1956it [16:03,  2.06it/s]"
          ]
        },
        {
          "output_type": "stream",
          "name": "stdout",
          "text": [
            "torch.Size([1])\n",
            "[6]\n",
            "[7, 8, 2, 9, 5, 1] [5, 8, 2, 10, 5, 3]\n"
          ]
        },
        {
          "output_type": "stream",
          "name": "stderr",
          "text": [
            "\r1957it [16:04,  2.29it/s]"
          ]
        },
        {
          "output_type": "stream",
          "name": "stdout",
          "text": [
            "torch.Size([1])\n",
            "[6]\n",
            "[5, 7, 9, 4, 3, 6] [5, 7, 9, 5, 1, 5]\n"
          ]
        },
        {
          "output_type": "stream",
          "name": "stderr",
          "text": [
            "\r1958it [16:05,  1.51it/s]"
          ]
        },
        {
          "output_type": "stream",
          "name": "stdout",
          "text": [
            "torch.Size([1])\n",
            "[6]\n",
            "[5, 8, 1, 5, 3, 3] [5, 8, 1, 7, 2, 2]\n",
            "torch.Size([1])\n",
            "[6]\n",
            "[5, 7, 2, 10, 3, 3] [5, 7, 2, 10, 2, 1]\n"
          ]
        },
        {
          "output_type": "stream",
          "name": "stderr",
          "text": [
            "\r1960it [16:06,  1.47it/s]"
          ]
        },
        {
          "output_type": "stream",
          "name": "stdout",
          "text": [
            "torch.Size([1])\n",
            "[6]\n",
            "[5, 8, 7, 1, 5, 4] [5, 8, 6, 1, 6, 3]\n",
            "torch.Size([1])\n",
            "[6]\n",
            "[6, 7, 2, 8, 1, 8] [5, 7, 2, 8, 1, 9]\n"
          ]
        },
        {
          "output_type": "stream",
          "name": "stderr",
          "text": [
            "\r1962it [16:07,  1.58it/s]"
          ]
        },
        {
          "output_type": "stream",
          "name": "stdout",
          "text": [
            "torch.Size([1])\n",
            "[6]\n",
            "[5, 7, 3, 5, 9, 6] [5, 7, 3, 5, 9, 7]\n",
            "torch.Size([1])\n",
            "[6]\n",
            "[5, 7, 4, 3, 3, 8] [5, 7, 4, 3, 4, 7]\n"
          ]
        },
        {
          "output_type": "stream",
          "name": "stderr",
          "text": [
            "\r1964it [16:08,  1.82it/s]"
          ]
        },
        {
          "output_type": "stream",
          "name": "stdout",
          "text": [
            "torch.Size([1])\n",
            "[6]\n",
            "[5, 8, 9, 7, 5, 9] [5, 8, 10, 7, 7, 9]\n",
            "torch.Size([1])\n",
            "[6]\n",
            "[5, 9, 4, 5, 3, 2] [5, 9, 3, 5, 2, 2]\n"
          ]
        },
        {
          "output_type": "stream",
          "name": "stderr",
          "text": [
            "\r1966it [16:09,  2.01it/s]"
          ]
        },
        {
          "output_type": "stream",
          "name": "stdout",
          "text": [
            "torch.Size([1])\n",
            "[6]\n",
            "[1, 6, 8, 6, 2, 5] [1, 6, 6, 5, 2, 3]\n",
            "torch.Size([1])\n",
            "[6]\n",
            "[7, 9, 5, 5, 5, 3] [5, 9, 5, 9, 5, 4]\n"
          ]
        },
        {
          "output_type": "stream",
          "name": "stderr",
          "text": [
            "\r1968it [16:10,  1.95it/s]"
          ]
        },
        {
          "output_type": "stream",
          "name": "stdout",
          "text": [
            "torch.Size([1])\n",
            "[6]\n",
            "[7, 9, 4, 8, 3, 5] [5, 9, 4, 8, 4, 5]\n",
            "torch.Size([1])\n",
            "[6]\n",
            "[5, 7, 4, 3, 5, 2] [5, 9, 4, 3, 5, 2]\n"
          ]
        },
        {
          "output_type": "stream",
          "name": "stderr",
          "text": [
            "\r1970it [16:11,  1.75it/s]"
          ]
        },
        {
          "output_type": "stream",
          "name": "stdout",
          "text": [
            "torch.Size([1])\n",
            "[6]\n",
            "[5, 8, 8, 4, 3, 8] [5, 9, 8, 4, 1, 9]\n",
            "torch.Size([1])\n",
            "[6]\n",
            "[7, 10, 2, 4, 3, 1] [5, 9, 1, 3, 2, 2]\n"
          ]
        },
        {
          "output_type": "stream",
          "name": "stderr",
          "text": [
            "\r1972it [16:12,  1.93it/s]"
          ]
        },
        {
          "output_type": "stream",
          "name": "stdout",
          "text": [
            "torch.Size([1])\n",
            "[6]\n",
            "[5, 10, 4, 4, 6, 7] [5, 10, 1, 4, 8, 10]\n",
            "torch.Size([1])\n",
            "[6]\n",
            "[7, 9, 8, 9, 4, 6] [5, 9, 7, 9, 4, 10]\n"
          ]
        },
        {
          "output_type": "stream",
          "name": "stderr",
          "text": [
            "\r1974it [16:13,  2.10it/s]"
          ]
        },
        {
          "output_type": "stream",
          "name": "stdout",
          "text": [
            "torch.Size([1])\n",
            "[6]\n",
            "[7, 6, 5, 2, 7, 1] [5, 9, 5, 1, 7, 2]\n",
            "torch.Size([1])\n",
            "[6]\n",
            "[5, 9, 7, 8, 3, 4] [5, 9, 7, 8, 4, 2]\n"
          ]
        },
        {
          "output_type": "stream",
          "name": "stderr",
          "text": [
            "\r1976it [16:14,  2.17it/s]"
          ]
        },
        {
          "output_type": "stream",
          "name": "stdout",
          "text": [
            "torch.Size([1])\n",
            "[6]\n",
            "[5, 10, 9, 10, 5, 9] [5, 9, 9, 10, 6, 8]\n",
            "torch.Size([1])\n",
            "[6]\n",
            "[5, 7, 1, 9, 6, 1] [5, 9, 7, 9, 6, 1]\n"
          ]
        },
        {
          "output_type": "stream",
          "name": "stderr",
          "text": [
            "\r1978it [16:15,  2.27it/s]"
          ]
        },
        {
          "output_type": "stream",
          "name": "stdout",
          "text": [
            "torch.Size([1])\n",
            "[6]\n",
            "[5, 9, 6, 8, 5, 1] [5, 9, 6, 8, 6, 1]\n",
            "torch.Size([1])\n",
            "[6]\n",
            "[5, 9, 4, 5, 7, 6] [5, 9, 4, 5, 8, 6]\n"
          ]
        },
        {
          "output_type": "stream",
          "name": "stderr",
          "text": [
            "\r1980it [16:16,  1.89it/s]"
          ]
        },
        {
          "output_type": "stream",
          "name": "stdout",
          "text": [
            "torch.Size([1])\n",
            "[6]\n",
            "[7, 10, 1, 5, 9, 7] [5, 10, 1, 5, 10, 3]\n",
            "torch.Size([1])\n",
            "[6]\n",
            "[5, 9, 6, 3, 5, 9] [5, 9, 6, 3, 5, 8]\n"
          ]
        },
        {
          "output_type": "stream",
          "name": "stderr",
          "text": [
            "\r1982it [16:17,  2.01it/s]"
          ]
        },
        {
          "output_type": "stream",
          "name": "stdout",
          "text": [
            "torch.Size([1])\n",
            "[6]\n",
            "[6, 9, 9, 5, 5, 9] [5, 9, 7, 5, 6, 10]\n",
            "torch.Size([1])\n",
            "[6]\n",
            "[4, 10, 5, 4, 3, 6] [5, 10, 5, 5, 2, 7]\n"
          ]
        },
        {
          "output_type": "stream",
          "name": "stderr",
          "text": [
            "\r1984it [16:18,  2.13it/s]"
          ]
        },
        {
          "output_type": "stream",
          "name": "stdout",
          "text": [
            "torch.Size([1])\n",
            "[6]\n",
            "[5, 10, 10, 8, 5, 4] [5, 10, 10, 8, 6, 3]\n",
            "torch.Size([1])\n",
            "[6]\n",
            "[6, 1, 2, 9, 10, 9] [6, 1, 2, 10, 10, 9]\n"
          ]
        },
        {
          "output_type": "stream",
          "name": "stderr",
          "text": [
            "\r1986it [16:19,  2.24it/s]"
          ]
        },
        {
          "output_type": "stream",
          "name": "stdout",
          "text": [
            "torch.Size([1])\n",
            "[6]\n",
            "[6, 1, 2, 5, 8, 3] [6, 1, 2, 5, 8, 3]\n",
            "torch.Size([1])\n",
            "[6]\n",
            "[1, 5, 4, 10, 9, 4] [1, 6, 6, 10, 9, 4]\n"
          ]
        },
        {
          "output_type": "stream",
          "name": "stderr",
          "text": [
            "\r1988it [16:19,  2.34it/s]"
          ]
        },
        {
          "output_type": "stream",
          "name": "stdout",
          "text": [
            "torch.Size([1])\n",
            "[6]\n",
            "[7, 1, 5, 4, 7, 7] [6, 1, 1, 4, 7, 8]\n",
            "torch.Size([1])\n",
            "[6]\n",
            "[1, 2, 7, 4, 1, 2] [1, 1, 7, 3, 1, 1]\n"
          ]
        },
        {
          "output_type": "stream",
          "name": "stderr",
          "text": [
            "\r1990it [16:20,  2.41it/s]"
          ]
        },
        {
          "output_type": "stream",
          "name": "stdout",
          "text": [
            "torch.Size([1])\n",
            "[6]\n",
            "[6, 1, 6, 4, 4, 5] [6, 1, 6, 6, 5, 6]\n",
            "torch.Size([1])\n",
            "[6]\n",
            "[7, 1, 3, 2, 3, 4] [6, 1, 3, 3, 3, 6]\n"
          ]
        },
        {
          "output_type": "stream",
          "name": "stderr",
          "text": [
            "\r1992it [16:21,  2.44it/s]"
          ]
        },
        {
          "output_type": "stream",
          "name": "stdout",
          "text": [
            "torch.Size([1])\n",
            "[6]\n",
            "[5, 10, 9, 2, 4, 5] [5, 10, 9, 2, 4, 4]\n",
            "torch.Size([1])\n",
            "[6]\n",
            "[1, 1, 2, 4, 7, 9] [1, 1, 2, 3, 8, 10]\n"
          ]
        },
        {
          "output_type": "stream",
          "name": "stderr",
          "text": [
            "\r1994it [16:22,  2.01it/s]"
          ]
        },
        {
          "output_type": "stream",
          "name": "stdout",
          "text": [
            "torch.Size([1])\n",
            "[6]\n",
            "[6, 1, 2, 4, 7, 4] [6, 1, 2, 4, 8, 3]\n",
            "torch.Size([1])\n",
            "[6]\n",
            "[1, 6, 6, 8, 7, 4] [1, 6, 6, 7, 8, 4]\n"
          ]
        },
        {
          "output_type": "stream",
          "name": "stderr",
          "text": [
            "\r1996it [16:23,  2.10it/s]"
          ]
        },
        {
          "output_type": "stream",
          "name": "stdout",
          "text": [
            "torch.Size([1])\n",
            "[6]\n",
            "[7, 1, 6, 5, 7, 4] [6, 1, 6, 5, 7, 4]\n",
            "torch.Size([1])\n",
            "[6]\n",
            "[6, 2, 1, 6, 4, 5] [6, 1, 1, 7, 5, 3]\n"
          ]
        },
        {
          "output_type": "stream",
          "name": "stderr",
          "text": [
            "\r1998it [16:24,  1.99it/s]"
          ]
        },
        {
          "output_type": "stream",
          "name": "stdout",
          "text": [
            "torch.Size([1])\n",
            "[6]\n",
            "[5, 1, 8, 10, 5, 5] [5, 10, 8, 10, 4, 4]\n",
            "torch.Size([1])\n",
            "[6]\n",
            "[6, 1, 5, 8, 3, 9] [6, 1, 5, 8, 8, 10]\n"
          ]
        },
        {
          "output_type": "stream",
          "name": "stderr",
          "text": [
            "2000it [16:25,  2.03it/s]"
          ]
        },
        {
          "output_type": "stream",
          "name": "stdout",
          "text": [
            "torch.Size([1])\n",
            "[6]\n",
            "[6, 1, 5, 2, 9, 5] [6, 1, 5, 1, 10, 4]\n",
            "0.0475\n"
          ]
        },
        {
          "output_type": "stream",
          "name": "stderr",
          "text": [
            "\n"
          ]
        }
      ]
    }
  ]
}
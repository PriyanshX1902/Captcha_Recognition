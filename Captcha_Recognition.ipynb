{
  "nbformat": 4,
  "nbformat_minor": 0,
  "metadata": {
    "colab": {
      "provenance": [],
      "gpuType": "T4"
    },
    "kernelspec": {
      "name": "python3",
      "display_name": "Python 3"
    },
    "language_info": {
      "name": "python"
    },
    "accelerator": "GPU"
  },
  "cells": [
    {
      "cell_type": "markdown",
      "source": [
        "# **Captcha Recognition**\n",
        "\n",
        "## **Objective**\n",
        "\n",
        "Develop an AI-based system that can accurately recognize and extract numerical strings from\n",
        "CAPTCHA images.\n",
        "\n",
        "## **Problem** **Statement**\n",
        "\n",
        "In this challenge, you will be provided with a dataset of CAPTCHA images, each containing a\n",
        "numerical string. Your task is to build a system that can process these images and output the\n",
        "corresponding numerical string with high accuracy. CAPTCHA images often include distortions,\n",
        "noise, and varying fonts to prevent automated recognition, so your solution should demonstrate\n",
        "robustness against such challenges."
      ],
      "metadata": {
        "id": "AG6IFHLvGrFI"
      }
    },
    {
      "cell_type": "markdown",
      "source": [
        "## Importing Required Libraries\n",
        "\n",
        "Imports essential libraries like NumPy, PyTorch, OpenCV, and Albumentations.\n",
        "These are used for dataset handling, deep learning model training, and image processing."
      ],
      "metadata": {
        "id": "K-dj3WDKHRKG"
      }
    },
    {
      "cell_type": "code",
      "execution_count": 2,
      "metadata": {
        "id": "t3W4sY6XGm_r"
      },
      "outputs": [],
      "source": [
        "import numpy as np\n",
        "import torch.nn as nn\n",
        "import torch\n",
        "from torch.utils.data import Dataset, DataLoader\n",
        "import torchvision\n",
        "import glob\n",
        "import cv2\n",
        "import csv\n",
        "import tqdm\n",
        "import albumentations as A\n",
        "import matplotlib.pyplot as plt"
      ]
    },
    {
      "cell_type": "markdown",
      "source": [
        "## Mounting Google Drive\n",
        "\n",
        "Connects to Google Drive to access the dataset and save model checkpoints."
      ],
      "metadata": {
        "id": "rygm4CWa0kiS"
      }
    },
    {
      "cell_type": "code",
      "source": [
        "from google.colab import drive\n",
        "drive.mount('/content/drive')"
      ],
      "metadata": {
        "colab": {
          "base_uri": "https://localhost:8080/"
        },
        "id": "pUjvSBs0x9rK",
        "outputId": "21b48785-b9cf-418b-8204-3a353d0c68ae"
      },
      "execution_count": 2,
      "outputs": [
        {
          "output_type": "stream",
          "name": "stdout",
          "text": [
            "Mounted at /content/drive\n"
          ]
        }
      ]
    },
    {
      "cell_type": "markdown",
      "source": [
        "## Config Values\n",
        "Defining Paths and Hyperparameters\n",
        "Specifies paths for training/validation datasets and ground truth labels.\n",
        "Sets batch size, learning rate, image dimensions, and device configuration."
      ],
      "metadata": {
        "id": "iRk93LBoSH51"
      }
    },
    {
      "cell_type": "code",
      "source": [
        "train_path = \"/content/drive/MyDrive/dataset/train-images/train-images/\"\n",
        "val_path = \"/content/drive/MyDrive/dataset/validation-images/validation-images/\"\n",
        "gt_csv_path = \"/content/drive/MyDrive/dataset/captcha_data.csv\"\n",
        "\n",
        "ckpt_path = \"/content/drive/MyDrive/dataset/models/\"\n",
        "\n",
        "batch_size = 16\n",
        "num_workers = 2\n",
        "learning_rate = 5e-4\n",
        "num_epochs = 10000\n",
        "\n",
        "img_width = 256\n",
        "img_height = 64\n",
        "\n",
        "device = \"cuda\" if torch.cuda.is_available() else \"cpu\""
      ],
      "metadata": {
        "id": "riBzquYeSHSU"
      },
      "execution_count": 3,
      "outputs": []
    },
    {
      "cell_type": "markdown",
      "source": [
        "## Data\n",
        "\n",
        "### Transformations using Albumentations\n",
        "\n",
        "Defines image augmentation techniques such as resizing, normalization, and flipping."
      ],
      "metadata": {
        "id": "dyhjZfCF01Ap"
      }
    },
    {
      "cell_type": "code",
      "source": [
        "train_transforms = A.Compose([\n",
        "        A.Compose([  # Rescale transform\n",
        "            A.RandomScale(scale_limit=(-0.3, -0.1), always_apply=True),\n",
        "            A.PadIfNeeded(min_height=64, min_width=30,\n",
        "                          border_mode=cv2.BORDER_CONSTANT, value=(255, 255, 255), always_apply=True),\n",
        "            A.Rotate(limit=4, p=0.5, crop_border=True),\n",
        "        ], p=0.4),\n",
        "        A.GaussianBlur(blur_limit = (0, 1), p=0.5),\n",
        "        A.OneOf([  # Geometric transforms\n",
        "            A.GridDistortion(always_apply=True, num_steps=7, distort_limit=0.5,\n",
        "                             border_mode=cv2.BORDER_CONSTANT, value=(255, 255, 255), normalized=True),\n",
        "            A.OpticalDistortion(always_apply=True, border_mode=cv2.BORDER_CONSTANT, value=(255, 255, 255)),\n",
        "            A.Perspective(scale=0.1, always_apply=True, fit_output=True, pad_val=(255, 255, 255))\n",
        "        ], p=0.5),\n",
        "        A.ISONoise(p=0.1),\n",
        "        A.ImageCompression(quality_lower=30, p=0.2),\n",
        "        A.GaussNoise(std_range=(0.1, 0.2), p=0.1),\n",
        "    ])"
      ],
      "metadata": {
        "colab": {
          "base_uri": "https://localhost:8080/"
        },
        "id": "iGhpD22uqyD7",
        "outputId": "473ac958-8448-4a49-a8fd-e7a251106348"
      },
      "execution_count": 4,
      "outputs": [
        {
          "output_type": "stream",
          "name": "stderr",
          "text": [
            "<ipython-input-4-be286e06538f>:3: UserWarning: Argument(s) 'always_apply' are not valid for transform RandomScale\n",
            "  A.RandomScale(scale_limit=(-0.3, -0.1), always_apply=True),\n",
            "<ipython-input-4-be286e06538f>:4: UserWarning: Argument(s) 'value, always_apply' are not valid for transform PadIfNeeded\n",
            "  A.PadIfNeeded(min_height=64, min_width=30,\n",
            "<ipython-input-4-be286e06538f>:10: UserWarning: Argument(s) 'always_apply, border_mode, value' are not valid for transform GridDistortion\n",
            "  A.GridDistortion(always_apply=True, num_steps=7, distort_limit=0.5,\n",
            "<ipython-input-4-be286e06538f>:12: UserWarning: Argument(s) 'always_apply, border_mode, value' are not valid for transform OpticalDistortion\n",
            "  A.OpticalDistortion(always_apply=True, border_mode=cv2.BORDER_CONSTANT, value=(255, 255, 255)),\n",
            "<ipython-input-4-be286e06538f>:13: UserWarning: Argument(s) 'always_apply, pad_val' are not valid for transform Perspective\n",
            "  A.Perspective(scale=0.1, always_apply=True, fit_output=True, pad_val=(255, 255, 255))\n",
            "<ipython-input-4-be286e06538f>:16: UserWarning: Argument(s) 'quality_lower' are not valid for transform ImageCompression\n",
            "  A.ImageCompression(quality_lower=30, p=0.2),\n"
          ]
        }
      ]
    },
    {
      "cell_type": "markdown",
      "source": [
        "### Custom Dataset Class\n",
        "\n",
        "Defining a Custom Dataset Class\n",
        "\n",
        "Implements a PyTorch Dataset class to load images and corresponding labels.\n",
        "Applies image augmentations for better generalization."
      ],
      "metadata": {
        "id": "Rf-DvFQfJZZz"
      }
    },
    {
      "cell_type": "code",
      "source": [
        "class CaptchaDataset(Dataset):\n",
        "  CHARS = '0123456789'\n",
        "  CHAR2LABEL = {char: i + 1 for i, char in enumerate(CHARS)}\n",
        "  LABEL2CHAR = {label: char for char, label in CHAR2LABEL.items()}\n",
        "  def __init__(self, is_train = True):\n",
        "    self.images_gt_dict = {}\n",
        "    with open(gt_csv_path, 'r') as file:\n",
        "      lines = csv.DictReader(file)\n",
        "      for line in lines:\n",
        "        self.images_gt_dict[line[\"image_path\"].strip()] = line[\"solution\"].strip() #image_path -> numerical string(Ground Truth)\n",
        "    if is_train == True:\n",
        "      self.images_list = glob.glob(train_path + \"*\")\n",
        "    else:\n",
        "      self.images_list = glob.glob(val_path + \"*\")\n",
        "\n",
        "  def preprocess(self, img):\n",
        "\n",
        "    # img = cv2.cvtColor(img, cv2.COLOR_RGB2GRAY)\n",
        "    img = train_transforms(image=img)['image']\n",
        "    img = cv2.resize(img, (img_width, img_height),\n",
        "               interpolation = cv2.INTER_LINEAR)\n",
        "    img = img / 255.0\n",
        "    img = torch.FloatTensor(img)\n",
        "    img = torch.permute(img, (2, 0, 1))\n",
        "    return img\n",
        "\n",
        "  def __getitem__(self, index):\n",
        "    img_path = self.images_list[index]\n",
        "    img = cv2.imread(img_path)\n",
        "    img = self.preprocess(img)\n",
        "\n",
        "    # if img is None:\n",
        "    #   return self.__getitem__(self, index+1)\n",
        "    gt = self.images_gt_dict[img_path.split('/')[-2] + '/' + img_path.split('/')[-1]]\n",
        "    sample = {}\n",
        "    target = [self.CHAR2LABEL[c] for c in gt]\n",
        "    target_length = [len(target)]\n",
        "\n",
        "    target = torch.LongTensor(target)\n",
        "    target_length = torch.LongTensor(target_length)\n",
        "    return img, target, target_length\n",
        "\n",
        "  def __len__(self):\n",
        "    return len(self.images_list)\n",
        "\n",
        "def captcha_collate_fn(batch):\n",
        "    images, targets, target_lengths = zip(*batch)\n",
        "    images = torch.stack(images, 0)\n",
        "    targets = torch.cat(targets, 0)\n",
        "    target_lengths = torch.cat(target_lengths, 0)\n",
        "    return images, targets, target_lengths"
      ],
      "metadata": {
        "id": "li9Pem3ZJT6G"
      },
      "execution_count": 68,
      "outputs": []
    },
    {
      "cell_type": "markdown",
      "source": [
        "### Loading and Preprocessing Data\n",
        "\n",
        "Uses DataLoader to create batches for efficient training."
      ],
      "metadata": {
        "id": "gH0FFN251HdR"
      }
    },
    {
      "cell_type": "code",
      "source": [
        "train_dataset = CaptchaDataset(is_train=True)\n",
        "val_dataset = CaptchaDataset(is_train=False)\n",
        "print(len(train_dataset))\n",
        "print(len(val_dataset))"
      ],
      "metadata": {
        "id": "vfVv0VvBUw58",
        "colab": {
          "base_uri": "https://localhost:8080/"
        },
        "outputId": "71566322-860d-4136-dd12-a0d898a1da43"
      },
      "execution_count": 69,
      "outputs": [
        {
          "output_type": "stream",
          "name": "stdout",
          "text": [
            "6000\n",
            "2000\n"
          ]
        }
      ]
    },
    {
      "cell_type": "code",
      "source": [
        "train_loader = DataLoader(train_dataset, batch_size=batch_size, num_workers=num_workers, shuffle=True, collate_fn=captcha_collate_fn)\n",
        "val_loader = DataLoader(val_dataset, batch_size=batch_size, num_workers=num_workers, shuffle= False, collate_fn=captcha_collate_fn)"
      ],
      "metadata": {
        "id": "Q1mT_QsbmscS"
      },
      "execution_count": 70,
      "outputs": []
    },
    {
      "cell_type": "code",
      "source": [
        "fig, axs = plt.subplots(3, 5, figsize=(16, 5.5))\n",
        "for i in range(15):\n",
        "    ax = axs[i // 5][i % 5]\n",
        "    random_index = np.random.randint(0, len(train_dataset))\n",
        "    image, target, target_lengths = train_dataset.__getitem__(random_index)\n",
        "\n",
        "    image = torch.permute(image, (1, 2, 0))\n",
        "    img = image.numpy()\n",
        "    ax.imshow(img)\n",
        "    ax.grid(False)\n",
        "    ax.set_title(f'{random_index}', fontsize=10)\n",
        "fig.suptitle('Test captcha examples')\n",
        "plt.show()"
      ],
      "metadata": {
        "colab": {
          "base_uri": "https://localhost:8080/",
          "height": 503
        },
        "id": "UpRKmw1-szRY",
        "outputId": "c3acc7c3-7178-4415-db00-b33ecfed2643"
      },
      "execution_count": 72,
      "outputs": [
        {
          "output_type": "display_data",
          "data": {
            "text/plain": [
              "<Figure size 1600x550 with 15 Axes>"
            ],
            "image/png": "[encoded data removed]"
          },
          "metadata": {}
        }
      ]
    },
    {
      "cell_type": "markdown",
      "source": [
        "## Defining the CAPTCHA Recognition Model\n",
        "\n",
        "Implements a Convolutional Recurrent Neural Network (CRNN) with fully connected layers.\n",
        "Uses a CTC (Connectionist Temporal Classification) loss for sequence-based recognition."
      ],
      "metadata": {
        "id": "3ycjUt861O3h"
      }
    },
    {
      "cell_type": "markdown",
      "source": [
        "### Architecture 1"
      ],
      "metadata": {
        "id": "vjQ0VlAy1VeZ"
      }
    },
    {
      "cell_type": "code",
      "source": [
        "class ConvBlock(nn.Module):\n",
        "\n",
        "    def __init__(self, in_ch, out_ch, ks, stride, padding, dilation=1, pool_ks=None):\n",
        "        super().__init__()\n",
        "        self.bn = nn.BatchNorm2d(in_ch)\n",
        "        self.conv = nn.Conv2d(in_channels=in_ch, out_channels=out_ch, kernel_size=ks,\n",
        "                              stride=stride, padding=padding, dilation=dilation, bias=False)\n",
        "        self.pooling = nn.MaxPool2d(kernel_size=pool_ks) if pool_ks is not None else None\n",
        "        self.activation = nn.Hardswish()\n",
        "\n",
        "    def forward(self, x):\n",
        "        x = self.conv(self.bn(x))\n",
        "        if self.pooling:\n",
        "            x = self.pooling(x)\n",
        "        x = self.activation(x)\n",
        "        return x\n",
        "\n",
        "class CNNImageEncoder(nn.Module):\n",
        "\n",
        "    \"\"\"\n",
        "    This model accept images with size (64x256).\n",
        "    It reduces the size of H component to 1, so we can use W component as sequence for RNN.\n",
        "    \"\"\"\n",
        "\n",
        "    def __init__(self, out_dim=128, dropout=0.1):\n",
        "        super().__init__()\n",
        "        # self.pre_bath_norm = nn.BatchNorm2d(3)\n",
        "        self.layers = nn.Sequential(\n",
        "            ConvBlock(3, 32, 9, 1, 4, pool_ks=2),\n",
        "            ConvBlock(32, 64, 7, 1, 3, pool_ks=2),\n",
        "            ConvBlock(64, 128, 5, 1, 2, pool_ks=(2, 1)),\n",
        "            ConvBlock(128, 128, 3, 1, 1, pool_ks=(2, 1)),\n",
        "            ConvBlock(128, 128, 3, 1, 1, pool_ks=(2, 1)),\n",
        "            ConvBlock(128, 128, 3, 1, 1, pool_ks=(2, 1)),\n",
        "        )  # [b, 128, 1, 64]\n",
        "        self.dropout = nn.Dropout(dropout)\n",
        "        self.out_net = nn.Sequential(\n",
        "            nn.LayerNorm(128),\n",
        "            nn.Linear(128, out_dim)\n",
        "        )\n",
        "\n",
        "    def forward(self, x):\n",
        "        # x = self.pre_bath_norm(x)  # [b, 3, h, w]\n",
        "        x = self.layers(x)  # [b, ch, 2, w]\n",
        "        x = x.permute(0, 3, 1, 2)  # [b, w, ch, 2]\n",
        "        x = x.flatten(-2)  # [b, w, 2*ch]\n",
        "        x = self.dropout(x)\n",
        "        x = self.out_net(x)  # [b, 64, out_dim]\n",
        "        return x\n",
        "\n",
        "class BiLSTMImageDecoder(nn.Module):\n",
        "\n",
        "    def __init__(self, in_dim, hidden_dim, vocab_size, lstm_layers, dropout=0.1):\n",
        "        super().__init__()\n",
        "        self.norm = nn.BatchNorm1d(64)\n",
        "        self.rnn = nn.LSTM(in_dim, hidden_dim, num_layers=lstm_layers, dropout=dropout, bidirectional=True,\n",
        "                           batch_first=False)\n",
        "        self.out_proj = nn.Linear(hidden_dim * 2, vocab_size)\n",
        "\n",
        "    def forward(self, x):\n",
        "        x = self.norm(x)\n",
        "        x = x.permute(1, 0, 2)  # [B, T, in_dim] to [T, B, in_dim]\n",
        "        rnn_out, _ = self.rnn(x)\n",
        "        x = self.out_proj(rnn_out)\n",
        "        return x\n",
        "\n",
        "\n",
        "class OCR_CRNN(nn.Module):\n",
        "\n",
        "    def __init__(self, vocab_size, hidden_dim=128, lstm_layers=2, dropout=0.1):\n",
        "        super().__init__()\n",
        "        self.encoder = CNNImageEncoder(out_dim=hidden_dim, dropout=dropout)\n",
        "        self.decoder = BiLSTMImageDecoder(in_dim=hidden_dim, hidden_dim=hidden_dim,\n",
        "                                          vocab_size=vocab_size, lstm_layers=lstm_layers, dropout=dropout)\n",
        "        self.softmax = nn.LogSoftmax(-1)  # for CTCLoss\n",
        "\n",
        "    def forward(self, x):\n",
        "        x = self.encoder(x)\n",
        "        x = self.decoder(x)\n",
        "        x = self.softmax(x)\n",
        "        return x\n"
      ],
      "metadata": {
        "id": "er1jkXUhI2IJ"
      },
      "execution_count": 73,
      "outputs": []
    },
    {
      "cell_type": "markdown",
      "source": [
        "### Architecture 2"
      ],
      "metadata": {
        "id": "jbb1sXoK1YyB"
      }
    },
    {
      "cell_type": "code",
      "source": [
        "class CRNN(nn.Module):\n",
        "\n",
        "    def __init__(self, img_channel, img_height, img_width, num_class,\n",
        "                 map_to_seq_hidden=64, rnn_hidden=256, leaky_relu=False):\n",
        "        super(CRNN, self).__init__()\n",
        "\n",
        "        self.cnn, (output_channel, output_height, output_width) = \\\n",
        "            self._cnn_backbone(img_channel, img_height, img_width, leaky_relu)\n",
        "\n",
        "        self.map_to_seq = nn.Linear(output_channel * output_height, map_to_seq_hidden)\n",
        "\n",
        "        self.rnn1 = nn.LSTM(map_to_seq_hidden, rnn_hidden, bidirectional=True)\n",
        "        self.rnn2 = nn.LSTM(2 * rnn_hidden, rnn_hidden, bidirectional=True)\n",
        "\n",
        "        self.dense = nn.Linear(2 * rnn_hidden, num_class)\n",
        "\n",
        "    def _cnn_backbone(self, img_channel, img_height, img_width, leaky_relu):\n",
        "        assert img_height % 16 == 0\n",
        "        assert img_width % 4 == 0\n",
        "\n",
        "        channels = [img_channel, 64, 128, 256, 256, 512, 512, 512]\n",
        "        kernel_sizes = [3, 3, 3, 3, 3, 3, 2]\n",
        "        strides = [1, 1, 1, 1, 1, 1, 1]\n",
        "        paddings = [1, 1, 1, 1, 1, 1, 0]\n",
        "\n",
        "        cnn = nn.Sequential()\n",
        "\n",
        "        def conv_relu(i, batch_norm=False):\n",
        "            # shape of input: (batch, input_channel, height, width)\n",
        "            input_channel = channels[i]\n",
        "            output_channel = channels[i+1]\n",
        "\n",
        "            cnn.add_module(\n",
        "                f'conv{i}',\n",
        "                nn.Conv2d(input_channel, output_channel, kernel_sizes[i], strides[i], paddings[i])\n",
        "            )\n",
        "\n",
        "            if batch_norm:\n",
        "                cnn.add_module(f'batchnorm{i}', nn.BatchNorm2d(output_channel))\n",
        "\n",
        "            relu = nn.LeakyReLU(0.2, inplace=True) if leaky_relu else nn.ReLU(inplace=True)\n",
        "            cnn.add_module(f'relu{i}', relu)\n",
        "\n",
        "        # size of image: (channel, height, width) = (img_channel, img_height, img_width)\n",
        "        conv_relu(0)\n",
        "        cnn.add_module('pooling0', nn.MaxPool2d(kernel_size=2, stride=2))\n",
        "        # (64, img_height // 2, img_width // 2)\n",
        "\n",
        "        conv_relu(1)\n",
        "        cnn.add_module('pooling1', nn.MaxPool2d(kernel_size=2, stride=2))\n",
        "        # (128, img_height // 4, img_width // 4)\n",
        "\n",
        "        conv_relu(2)\n",
        "        conv_relu(3)\n",
        "        cnn.add_module(\n",
        "            'pooling2',\n",
        "            nn.MaxPool2d(kernel_size=(2, 1))\n",
        "        )  # (256, img_height // 8, img_width // 4)\n",
        "\n",
        "        conv_relu(4, batch_norm=True)\n",
        "        conv_relu(5, batch_norm=True)\n",
        "        cnn.add_module(\n",
        "            'pooling3',\n",
        "            nn.MaxPool2d(kernel_size=(2, 1))\n",
        "        )  # (512, img_height // 16, img_width // 4)\n",
        "\n",
        "        conv_relu(6)  # (512, img_height // 16 - 1, img_width // 4 - 1)\n",
        "\n",
        "        output_channel, output_height, output_width = \\\n",
        "            channels[-1], img_height // 16 - 1, img_width // 4 - 1\n",
        "        return cnn, (output_channel, output_height, output_width)\n",
        "\n",
        "    def forward(self, images):\n",
        "        # shape of images: (batch, channel, height, width)\n",
        "\n",
        "        conv = self.cnn(images)\n",
        "        batch, channel, height, width = conv.size()\n",
        "        print(conv.shape)\n",
        "        conv = conv.view(batch, channel * height, width)\n",
        "        conv = conv.permute(2, 0, 1)  # (width, batch, feature)\n",
        "        print(conv.shape)\n",
        "        seq = self.map_to_seq(conv)\n",
        "\n",
        "        recurrent, _ = self.rnn1(seq)\n",
        "        recurrent, _ = self.rnn2(recurrent)\n",
        "\n",
        "        output = self.dense(recurrent)\n",
        "        return output  # shape: (seq_len, batch, num_class)"
      ],
      "metadata": {
        "id": "CarwWNdrsLpj"
      },
      "execution_count": 74,
      "outputs": []
    },
    {
      "cell_type": "markdown",
      "source": [
        "## Initializing the Model and Loss Function\n",
        "\n",
        "Moves the model to the appropriate device (CPU/GPU).\n",
        "Defines the loss function and optimizer."
      ],
      "metadata": {
        "id": "kLmEbjqL1hvQ"
      }
    },
    {
      "cell_type": "code",
      "source": [
        "num_classes = len(CaptchaDataset.LABEL2CHAR)+1\n",
        "print(num_classes)\n",
        "model = CRNN(1, img_height=img_height, img_width=img_width, num_class=num_classes).to(device)\n",
        "model2 = OCR_CRNN(vocab_size=num_classes).to(device)\n",
        "criterion = nn.CTCLoss(reduction='sum', zero_infinity=True).to(device)\n",
        "optimizer = torch.optim.AdamW(model2.parameters(), lr = learning_rate)"
      ],
      "metadata": {
        "id": "blp0zkG_tWK7",
        "colab": {
          "base_uri": "https://localhost:8080/"
        },
        "outputId": "f09914dd-e301-4789-d2bd-819822c09d2e"
      },
      "execution_count": 75,
      "outputs": [
        {
          "output_type": "stream",
          "name": "stdout",
          "text": [
            "11\n"
          ]
        }
      ]
    },
    {
      "cell_type": "code",
      "source": [
        "x = torch.randn((1, 3, 64, 256)).to(device)\n",
        "y = model2(x)\n",
        "print(y.shape)"
      ],
      "metadata": {
        "colab": {
          "base_uri": "https://localhost:8080/"
        },
        "id": "OmAAcO36sth0",
        "outputId": "4f51a37f-9a70-4167-849f-2ba61647f953"
      },
      "execution_count": 76,
      "outputs": [
        {
          "output_type": "stream",
          "name": "stdout",
          "text": [
            "torch.Size([64, 1, 11])\n"
          ]
        }
      ]
    },
    {
      "cell_type": "markdown",
      "source": [
        "## Decoding the Model Predictions\n",
        "Converts raw model outputs into readable CAPTCHA text."
      ],
      "metadata": {
        "id": "KBWGmGH01rxg"
      }
    },
    {
      "cell_type": "code",
      "source": [
        "def _reconstruct(labels, blank=0):\n",
        "    new_labels = []\n",
        "    # merge same labels\n",
        "    previous = None\n",
        "    for l in labels:\n",
        "        if l != previous:\n",
        "            new_labels.append(l)\n",
        "            previous = l\n",
        "    # delete blank\n",
        "    new_labels = [l for l in new_labels if l != blank]\n",
        "\n",
        "    return new_labels\n",
        "\n",
        "\n",
        "def greedy_decode(emission_log_prob, blank=0, **kwargs):\n",
        "    labels = np.argmax(emission_log_prob, axis=-1)\n",
        "    labels = _reconstruct(labels, blank=blank)\n",
        "    return labels\n",
        "\n",
        "def ctc_decode(log_probs, label2char=None, blank=0):\n",
        "    emission_log_probs = np.transpose(log_probs.detach().cpu().numpy(), (1, 0, 2))\n",
        "    # size of emission_log_probs: (batch, length, class)\n",
        "\n",
        "    decoded_list = []\n",
        "    for emission_log_prob in emission_log_probs:\n",
        "        decoded = greedy_decode(emission_log_prob, blank=blank)\n",
        "        if label2char:\n",
        "            decoded = [label2char[l] for l in decoded]\n",
        "        decoded_list.append(decoded)\n",
        "    return decoded_list"
      ],
      "metadata": {
        "id": "gEkhhHVbDQEG"
      },
      "execution_count": 77,
      "outputs": []
    },
    {
      "cell_type": "code",
      "source": [
        "def evaluate_model():\n",
        "  tot_count = 0\n",
        "  tot_loss = 0.0\n",
        "  tot_correct = 0\n",
        "  for i, sample in tqdm.tqdm(enumerate(val_loader)):\n",
        "    with torch.no_grad():\n",
        "      images, targets, target_lengths = [d.to(device) for d in sample]\n",
        "      logits = model2(images)\n",
        "      log_probs = nn.functional.log_softmax(logits, dim=2)\n",
        "      # print(log_probs)\n",
        "      bs = images.size(0)\n",
        "      input_lengths = torch.LongTensor([logits.size(0)] * bs)\n",
        "\n",
        "      loss = criterion(log_probs, targets, input_lengths, target_lengths)\n",
        "\n",
        "      preds = ctc_decode(log_probs)\n",
        "      reals = targets.cpu().numpy().tolist()\n",
        "      # print(target_lengths.shape)\n",
        "      target_lengths = torch.flatten(target_lengths).cpu().numpy().tolist()\n",
        "      # print(target_lengths)\n",
        "\n",
        "      tot_count += bs\n",
        "      tot_loss += loss.item()\n",
        "      target_length_counter = 0\n",
        "      for pred, target_length in zip(preds, target_lengths):\n",
        "          real = reals[target_length_counter:target_length_counter + target_length]\n",
        "          target_length_counter += target_length\n",
        "          # print(pred, real)\n",
        "          if pred == real:\n",
        "              tot_correct += 1\n",
        "  acc = tot_correct/tot_count\n",
        "  val_loss = tot_loss/ tot_count\n",
        "  return acc, val_loss\n"
      ],
      "metadata": {
        "id": "P_fx0PeGBo0F"
      },
      "execution_count": 78,
      "outputs": []
    },
    {
      "cell_type": "markdown",
      "source": [
        "## Training Loop Implementation\n",
        "\n",
        "Iterates over epochs, processing batches of images.\n",
        "Computes loss and updates model parameters.\n",
        "Computes Validation Loss and accuracy at each epoch"
      ],
      "metadata": {
        "id": "Ukzrbmz211Jp"
      }
    },
    {
      "cell_type": "code",
      "source": [
        "loss_values = []\n",
        "for epoch in range(num_epochs):\n",
        "  for i, sample in tqdm.tqdm(enumerate(train_loader)):\n",
        "    images, targets, target_lengths = [d.to(device) for d in sample]\n",
        "    # print(images.shape)\n",
        "    logits = model2(images)\n",
        "    # log_probs = nn.functional.log_softmax(logits, dim=2)\n",
        "\n",
        "    bs = images.shape[0]\n",
        "    input_lengths = torch.full(size=(images.shape[0],), fill_value=logits.shape[0], dtype=torch.long)\n",
        "    # print(input_lengths)\n",
        "    target_lengths = torch.flatten(target_lengths)\n",
        "    # print(target_lengths)\n",
        "\n",
        "    loss = criterion(logits, targets, input_lengths, target_lengths)\n",
        "    loss_values.append(loss.item())\n",
        "    optimizer.zero_grad()\n",
        "    loss.backward()\n",
        "    torch.nn.utils.clip_grad_norm_(model.parameters(), 5) # gradient clipping with 5\n",
        "    optimizer.step()\n",
        "    if((i+1) % 50 == 0):\n",
        "      print(f\"Epoch = {epoch+1}/{num_epochs}, step = {(i+1)} / {(len(train_dataset) / batch_size)}, loss = {loss.item() / batch_size:.8f}\")\n",
        "\n",
        "  if ((epoch+1)%10) == 0:\n",
        "    acc, val_loss = evaluate_model()\n",
        "    print(f\"Epoch = {epoch+1}/{num_epochs}, Accuracy = {acc}, Val_loss = {val_loss}\")\n",
        "  torch.save(model, ckpt_path + f\"model_{epoch}.pth\")\n",
        "\n"
      ],
      "metadata": {
        "colab": {
          "base_uri": "https://localhost:8080/",
          "height": 1000
        },
        "id": "9WLyrhMAtzqX",
        "outputId": "af0334ed-b7ec-4a5f-be91-2e78f363d708"
      },
      "execution_count": 79,
      "outputs": [
        {
          "output_type": "stream",
          "name": "stderr",
          "text": [
            "51it [00:06,  9.28it/s]"
          ]
        },
        {
          "output_type": "stream",
          "name": "stdout",
          "text": [
            "Epoch = 1/10000, step = 50 / 375.0, loss = 15.78499508\n"
          ]
        },
        {
          "output_type": "stream",
          "name": "stderr",
          "text": [
            "101it [00:11,  9.48it/s]"
          ]
        },
        {
          "output_type": "stream",
          "name": "stdout",
          "text": [
            "Epoch = 1/10000, step = 100 / 375.0, loss = 15.63869095\n"
          ]
        },
        {
          "output_type": "stream",
          "name": "stderr",
          "text": [
            "151it [00:15,  8.99it/s]"
          ]
        },
        {
          "output_type": "stream",
          "name": "stdout",
          "text": [
            "Epoch = 1/10000, step = 150 / 375.0, loss = 15.68941307\n"
          ]
        },
        {
          "output_type": "stream",
          "name": "stderr",
          "text": [
            "202it [00:21, 10.62it/s]"
          ]
        },
        {
          "output_type": "stream",
          "name": "stdout",
          "text": [
            "Epoch = 1/10000, step = 200 / 375.0, loss = 15.60963726\n"
          ]
        },
        {
          "output_type": "stream",
          "name": "stderr",
          "text": [
            "252it [00:26, 11.01it/s]"
          ]
        },
        {
          "output_type": "stream",
          "name": "stdout",
          "text": [
            "Epoch = 1/10000, step = 250 / 375.0, loss = 15.63965321\n"
          ]
        },
        {
          "output_type": "stream",
          "name": "stderr",
          "text": [
            "302it [00:31,  8.46it/s]"
          ]
        },
        {
          "output_type": "stream",
          "name": "stdout",
          "text": [
            "Epoch = 1/10000, step = 300 / 375.0, loss = 15.51919174\n"
          ]
        },
        {
          "output_type": "stream",
          "name": "stderr",
          "text": [
            "352it [00:37, 11.29it/s]"
          ]
        },
        {
          "output_type": "stream",
          "name": "stdout",
          "text": [
            "Epoch = 1/10000, step = 350 / 375.0, loss = 15.52579308\n"
          ]
        },
        {
          "output_type": "stream",
          "name": "stderr",
          "text": [
            "375it [00:39,  9.56it/s]\n",
            "52it [00:05,  8.14it/s]"
          ]
        },
        {
          "output_type": "stream",
          "name": "stdout",
          "text": [
            "Epoch = 2/10000, step = 50 / 375.0, loss = 15.59581375\n"
          ]
        },
        {
          "output_type": "stream",
          "name": "stderr",
          "text": [
            "102it [00:10, 10.45it/s]"
          ]
        },
        {
          "output_type": "stream",
          "name": "stdout",
          "text": [
            "Epoch = 2/10000, step = 100 / 375.0, loss = 15.55211830\n"
          ]
        },
        {
          "output_type": "stream",
          "name": "stderr",
          "text": [
            "152it [00:15, 10.94it/s]"
          ]
        },
        {
          "output_type": "stream",
          "name": "stdout",
          "text": [
            "Epoch = 2/10000, step = 150 / 375.0, loss = 15.56484985\n"
          ]
        },
        {
          "output_type": "stream",
          "name": "stderr",
          "text": [
            "200it [00:20,  7.85it/s]"
          ]
        },
        {
          "output_type": "stream",
          "name": "stdout",
          "text": [
            "Epoch = 2/10000, step = 200 / 375.0, loss = 15.77520943\n"
          ]
        },
        {
          "output_type": "stream",
          "name": "stderr",
          "text": [
            "252it [00:26, 10.39it/s]"
          ]
        },
        {
          "output_type": "stream",
          "name": "stdout",
          "text": [
            "Epoch = 2/10000, step = 250 / 375.0, loss = 15.49224281\n"
          ]
        },
        {
          "output_type": "stream",
          "name": "stderr",
          "text": [
            "302it [00:31, 10.66it/s]"
          ]
        },
        {
          "output_type": "stream",
          "name": "stdout",
          "text": [
            "Epoch = 2/10000, step = 300 / 375.0, loss = 15.56499863\n"
          ]
        },
        {
          "output_type": "stream",
          "name": "stderr",
          "text": [
            "350it [00:36,  6.88it/s]"
          ]
        },
        {
          "output_type": "stream",
          "name": "stdout",
          "text": [
            "Epoch = 2/10000, step = 350 / 375.0, loss = 15.53551483\n"
          ]
        },
        {
          "output_type": "stream",
          "name": "stderr",
          "text": [
            "375it [00:39,  9.54it/s]\n",
            "51it [00:04, 10.45it/s]"
          ]
        },
        {
          "output_type": "stream",
          "name": "stdout",
          "text": [
            "Epoch = 3/10000, step = 50 / 375.0, loss = 15.57314014\n"
          ]
        },
        {
          "output_type": "stream",
          "name": "stderr",
          "text": [
            "100it [00:10,  6.56it/s]"
          ]
        },
        {
          "output_type": "stream",
          "name": "stdout",
          "text": [
            "Epoch = 3/10000, step = 100 / 375.0, loss = 15.56161308\n"
          ]
        },
        {
          "output_type": "stream",
          "name": "stderr",
          "text": [
            "152it [00:16, 11.08it/s]"
          ]
        },
        {
          "output_type": "stream",
          "name": "stdout",
          "text": [
            "Epoch = 3/10000, step = 150 / 375.0, loss = 15.58100891\n"
          ]
        },
        {
          "output_type": "stream",
          "name": "stderr",
          "text": [
            "202it [00:20, 10.91it/s]"
          ]
        },
        {
          "output_type": "stream",
          "name": "stdout",
          "text": [
            "Epoch = 3/10000, step = 200 / 375.0, loss = 15.57664394\n"
          ]
        },
        {
          "output_type": "stream",
          "name": "stderr",
          "text": [
            "252it [00:26,  9.18it/s]"
          ]
        },
        {
          "output_type": "stream",
          "name": "stdout",
          "text": [
            "Epoch = 3/10000, step = 250 / 375.0, loss = 15.48269272\n"
          ]
        },
        {
          "output_type": "stream",
          "name": "stderr",
          "text": [
            "302it [00:31, 10.49it/s]"
          ]
        },
        {
          "output_type": "stream",
          "name": "stdout",
          "text": [
            "Epoch = 3/10000, step = 300 / 375.0, loss = 14.98561954\n"
          ]
        },
        {
          "output_type": "stream",
          "name": "stderr",
          "text": [
            "351it [00:36, 10.37it/s]"
          ]
        },
        {
          "output_type": "stream",
          "name": "stdout",
          "text": [
            "Epoch = 3/10000, step = 350 / 375.0, loss = 14.98181152\n"
          ]
        },
        {
          "output_type": "stream",
          "name": "stderr",
          "text": [
            "375it [00:39,  9.58it/s]\n",
            "51it [00:05,  8.89it/s]"
          ]
        },
        {
          "output_type": "stream",
          "name": "stdout",
          "text": [
            "Epoch = 4/10000, step = 50 / 375.0, loss = 14.27771950\n"
          ]
        },
        {
          "output_type": "stream",
          "name": "stderr",
          "text": [
            "100it [00:10,  7.62it/s]"
          ]
        },
        {
          "output_type": "stream",
          "name": "stdout",
          "text": [
            "Epoch = 4/10000, step = 100 / 375.0, loss = 12.76850319\n"
          ]
        },
        {
          "output_type": "stream",
          "name": "stderr",
          "text": [
            "152it [00:15, 11.51it/s]"
          ]
        },
        {
          "output_type": "stream",
          "name": "stdout",
          "text": [
            "Epoch = 4/10000, step = 150 / 375.0, loss = 12.08409977\n"
          ]
        },
        {
          "output_type": "stream",
          "name": "stderr",
          "text": [
            "203it [00:20, 12.21it/s]"
          ]
        },
        {
          "output_type": "stream",
          "name": "stdout",
          "text": [
            "Epoch = 4/10000, step = 200 / 375.0, loss = 10.06863022\n"
          ]
        },
        {
          "output_type": "stream",
          "name": "stderr",
          "text": [
            "250it [00:25,  7.60it/s]"
          ]
        },
        {
          "output_type": "stream",
          "name": "stdout",
          "text": [
            "Epoch = 4/10000, step = 250 / 375.0, loss = 8.00596714\n"
          ]
        },
        {
          "output_type": "stream",
          "name": "stderr",
          "text": [
            "302it [00:31, 11.77it/s]"
          ]
        },
        {
          "output_type": "stream",
          "name": "stdout",
          "text": [
            "Epoch = 4/10000, step = 300 / 375.0, loss = 6.78793335\n"
          ]
        },
        {
          "output_type": "stream",
          "name": "stderr",
          "text": [
            "350it [00:35,  9.78it/s]"
          ]
        },
        {
          "output_type": "stream",
          "name": "stdout",
          "text": [
            "Epoch = 4/10000, step = 350 / 375.0, loss = 2.85524464\n"
          ]
        },
        {
          "output_type": "stream",
          "name": "stderr",
          "text": [
            "375it [00:38,  9.81it/s]\n",
            "51it [00:05, 10.31it/s]"
          ]
        },
        {
          "output_type": "stream",
          "name": "stdout",
          "text": [
            "Epoch = 5/10000, step = 50 / 375.0, loss = 1.79353452\n"
          ]
        },
        {
          "output_type": "stream",
          "name": "stderr",
          "text": [
            "101it [00:10,  9.49it/s]"
          ]
        },
        {
          "output_type": "stream",
          "name": "stdout",
          "text": [
            "Epoch = 5/10000, step = 100 / 375.0, loss = 2.47106981\n"
          ]
        },
        {
          "output_type": "stream",
          "name": "stderr",
          "text": [
            "151it [00:16,  7.86it/s]"
          ]
        },
        {
          "output_type": "stream",
          "name": "stdout",
          "text": [
            "Epoch = 5/10000, step = 150 / 375.0, loss = 2.88542151\n"
          ]
        },
        {
          "output_type": "stream",
          "name": "stderr",
          "text": [
            "201it [00:20, 11.48it/s]"
          ]
        },
        {
          "output_type": "stream",
          "name": "stdout",
          "text": [
            "Epoch = 5/10000, step = 200 / 375.0, loss = 1.94239640\n"
          ]
        },
        {
          "output_type": "stream",
          "name": "stderr",
          "text": [
            "253it [00:25, 11.14it/s]"
          ]
        },
        {
          "output_type": "stream",
          "name": "stdout",
          "text": [
            "Epoch = 5/10000, step = 250 / 375.0, loss = 0.52879941\n"
          ]
        },
        {
          "output_type": "stream",
          "name": "stderr",
          "text": [
            "301it [00:31,  7.41it/s]"
          ]
        },
        {
          "output_type": "stream",
          "name": "stdout",
          "text": [
            "Epoch = 5/10000, step = 300 / 375.0, loss = 0.64462781\n"
          ]
        },
        {
          "output_type": "stream",
          "name": "stderr",
          "text": [
            "352it [00:35, 10.90it/s]"
          ]
        },
        {
          "output_type": "stream",
          "name": "stdout",
          "text": [
            "Epoch = 5/10000, step = 350 / 375.0, loss = 0.75090235\n"
          ]
        },
        {
          "output_type": "stream",
          "name": "stderr",
          "text": [
            "375it [00:38,  9.86it/s]\n",
            "51it [00:06,  7.12it/s]"
          ]
        },
        {
          "output_type": "stream",
          "name": "stdout",
          "text": [
            "Epoch = 6/10000, step = 50 / 375.0, loss = 0.44561309\n"
          ]
        },
        {
          "output_type": "stream",
          "name": "stderr",
          "text": [
            "102it [00:12,  8.66it/s]"
          ]
        },
        {
          "output_type": "stream",
          "name": "stdout",
          "text": [
            "Epoch = 6/10000, step = 100 / 375.0, loss = 1.01121080\n"
          ]
        },
        {
          "output_type": "stream",
          "name": "stderr",
          "text": [
            "152it [00:17,  9.07it/s]"
          ]
        },
        {
          "output_type": "stream",
          "name": "stdout",
          "text": [
            "Epoch = 6/10000, step = 150 / 375.0, loss = 0.46383440\n"
          ]
        },
        {
          "output_type": "stream",
          "name": "stderr",
          "text": [
            "201it [00:23, 10.96it/s]"
          ]
        },
        {
          "output_type": "stream",
          "name": "stdout",
          "text": [
            "Epoch = 6/10000, step = 200 / 375.0, loss = 0.19331314\n"
          ]
        },
        {
          "output_type": "stream",
          "name": "stderr",
          "text": [
            "251it [00:27, 10.81it/s]"
          ]
        },
        {
          "output_type": "stream",
          "name": "stdout",
          "text": [
            "Epoch = 6/10000, step = 250 / 375.0, loss = 0.17048299\n"
          ]
        },
        {
          "output_type": "stream",
          "name": "stderr",
          "text": [
            "301it [00:32,  8.87it/s]"
          ]
        },
        {
          "output_type": "stream",
          "name": "stdout",
          "text": [
            "Epoch = 6/10000, step = 300 / 375.0, loss = 0.15958872\n"
          ]
        },
        {
          "output_type": "stream",
          "name": "stderr",
          "text": [
            "352it [00:38, 11.34it/s]"
          ]
        },
        {
          "output_type": "stream",
          "name": "stdout",
          "text": [
            "Epoch = 6/10000, step = 350 / 375.0, loss = 0.53690284\n"
          ]
        },
        {
          "output_type": "stream",
          "name": "stderr",
          "text": [
            "375it [00:40,  9.34it/s]\n",
            "51it [00:04,  9.11it/s]"
          ]
        },
        {
          "output_type": "stream",
          "name": "stdout",
          "text": [
            "Epoch = 7/10000, step = 50 / 375.0, loss = 0.07391183\n"
          ]
        },
        {
          "output_type": "stream",
          "name": "stderr",
          "text": [
            "102it [00:10, 10.79it/s]"
          ]
        },
        {
          "output_type": "stream",
          "name": "stdout",
          "text": [
            "Epoch = 7/10000, step = 100 / 375.0, loss = 0.14801885\n"
          ]
        },
        {
          "output_type": "stream",
          "name": "stderr",
          "text": [
            "152it [00:15, 11.16it/s]"
          ]
        },
        {
          "output_type": "stream",
          "name": "stdout",
          "text": [
            "Epoch = 7/10000, step = 150 / 375.0, loss = 0.44508359\n"
          ]
        },
        {
          "output_type": "stream",
          "name": "stderr",
          "text": [
            "201it [00:20,  7.87it/s]"
          ]
        },
        {
          "output_type": "stream",
          "name": "stdout",
          "text": [
            "Epoch = 7/10000, step = 200 / 375.0, loss = 0.94577527\n"
          ]
        },
        {
          "output_type": "stream",
          "name": "stderr",
          "text": [
            "252it [00:26, 10.84it/s]"
          ]
        },
        {
          "output_type": "stream",
          "name": "stdout",
          "text": [
            "Epoch = 7/10000, step = 250 / 375.0, loss = 0.34250984\n"
          ]
        },
        {
          "output_type": "stream",
          "name": "stderr",
          "text": [
            "302it [00:30, 11.74it/s]"
          ]
        },
        {
          "output_type": "stream",
          "name": "stdout",
          "text": [
            "Epoch = 7/10000, step = 300 / 375.0, loss = 0.23167883\n"
          ]
        },
        {
          "output_type": "stream",
          "name": "stderr",
          "text": [
            "350it [00:35,  7.22it/s]"
          ]
        },
        {
          "output_type": "stream",
          "name": "stdout",
          "text": [
            "Epoch = 7/10000, step = 350 / 375.0, loss = 1.74482846\n"
          ]
        },
        {
          "output_type": "stream",
          "name": "stderr",
          "text": [
            "375it [00:38,  9.66it/s]\n",
            "51it [00:04, 10.41it/s]"
          ]
        },
        {
          "output_type": "stream",
          "name": "stdout",
          "text": [
            "Epoch = 8/10000, step = 50 / 375.0, loss = 0.45704448\n"
          ]
        },
        {
          "output_type": "stream",
          "name": "stderr",
          "text": [
            "101it [00:09, 10.36it/s]"
          ]
        },
        {
          "output_type": "stream",
          "name": "stdout",
          "text": [
            "Epoch = 8/10000, step = 100 / 375.0, loss = 0.43652725\n"
          ]
        },
        {
          "output_type": "stream",
          "name": "stderr",
          "text": [
            "152it [00:15, 10.27it/s]"
          ]
        },
        {
          "output_type": "stream",
          "name": "stdout",
          "text": [
            "Epoch = 8/10000, step = 150 / 375.0, loss = 0.08281776\n"
          ]
        },
        {
          "output_type": "stream",
          "name": "stderr",
          "text": [
            "202it [00:20, 11.01it/s]"
          ]
        },
        {
          "output_type": "stream",
          "name": "stdout",
          "text": [
            "Epoch = 8/10000, step = 200 / 375.0, loss = 0.35506567\n"
          ]
        },
        {
          "output_type": "stream",
          "name": "stderr",
          "text": [
            "252it [00:25, 11.37it/s]"
          ]
        },
        {
          "output_type": "stream",
          "name": "stdout",
          "text": [
            "Epoch = 8/10000, step = 250 / 375.0, loss = 0.08788523\n"
          ]
        },
        {
          "output_type": "stream",
          "name": "stderr",
          "text": [
            "302it [00:30, 10.76it/s]"
          ]
        },
        {
          "output_type": "stream",
          "name": "stdout",
          "text": [
            "Epoch = 8/10000, step = 300 / 375.0, loss = 0.20302981\n"
          ]
        },
        {
          "output_type": "stream",
          "name": "stderr",
          "text": [
            "352it [00:35, 11.19it/s]"
          ]
        },
        {
          "output_type": "stream",
          "name": "stdout",
          "text": [
            "Epoch = 8/10000, step = 350 / 375.0, loss = 0.94104421\n"
          ]
        },
        {
          "output_type": "stream",
          "name": "stderr",
          "text": [
            "375it [00:37,  9.94it/s]\n",
            "50it [00:05,  7.26it/s]"
          ]
        },
        {
          "output_type": "stream",
          "name": "stdout",
          "text": [
            "Epoch = 9/10000, step = 50 / 375.0, loss = 0.13200858\n"
          ]
        },
        {
          "output_type": "stream",
          "name": "stderr",
          "text": [
            "101it [00:11, 10.95it/s]"
          ]
        },
        {
          "output_type": "stream",
          "name": "stdout",
          "text": [
            "Epoch = 9/10000, step = 100 / 375.0, loss = 0.18856251\n"
          ]
        },
        {
          "output_type": "stream",
          "name": "stderr",
          "text": [
            "151it [00:15, 11.38it/s]"
          ]
        },
        {
          "output_type": "stream",
          "name": "stdout",
          "text": [
            "Epoch = 9/10000, step = 150 / 375.0, loss = 0.48564526\n"
          ]
        },
        {
          "output_type": "stream",
          "name": "stderr",
          "text": [
            "200it [00:21,  7.00it/s]"
          ]
        },
        {
          "output_type": "stream",
          "name": "stdout",
          "text": [
            "Epoch = 9/10000, step = 200 / 375.0, loss = 0.24067844\n"
          ]
        },
        {
          "output_type": "stream",
          "name": "stderr",
          "text": [
            "252it [00:26, 10.95it/s]"
          ]
        },
        {
          "output_type": "stream",
          "name": "stdout",
          "text": [
            "Epoch = 9/10000, step = 250 / 375.0, loss = 0.13996130\n"
          ]
        },
        {
          "output_type": "stream",
          "name": "stderr",
          "text": [
            "302it [00:31, 11.08it/s]"
          ]
        },
        {
          "output_type": "stream",
          "name": "stdout",
          "text": [
            "Epoch = 9/10000, step = 300 / 375.0, loss = 0.32178137\n"
          ]
        },
        {
          "output_type": "stream",
          "name": "stderr",
          "text": [
            "352it [00:37, 10.00it/s]"
          ]
        },
        {
          "output_type": "stream",
          "name": "stdout",
          "text": [
            "Epoch = 9/10000, step = 350 / 375.0, loss = 0.95495820\n"
          ]
        },
        {
          "output_type": "stream",
          "name": "stderr",
          "text": [
            "375it [00:39,  9.59it/s]\n",
            "51it [00:04, 10.63it/s]"
          ]
        },
        {
          "output_type": "stream",
          "name": "stdout",
          "text": [
            "Epoch = 10/10000, step = 50 / 375.0, loss = 0.01752159\n"
          ]
        },
        {
          "output_type": "stream",
          "name": "stderr",
          "text": [
            "100it [00:10,  7.17it/s]"
          ]
        },
        {
          "output_type": "stream",
          "name": "stdout",
          "text": [
            "Epoch = 10/10000, step = 100 / 375.0, loss = 0.04130328\n"
          ]
        },
        {
          "output_type": "stream",
          "name": "stderr",
          "text": [
            "152it [00:15, 11.87it/s]"
          ]
        },
        {
          "output_type": "stream",
          "name": "stdout",
          "text": [
            "Epoch = 10/10000, step = 150 / 375.0, loss = 0.55152434\n"
          ]
        },
        {
          "output_type": "stream",
          "name": "stderr",
          "text": [
            "202it [00:20, 11.30it/s]"
          ]
        },
        {
          "output_type": "stream",
          "name": "stdout",
          "text": [
            "Epoch = 10/10000, step = 200 / 375.0, loss = 0.59621292\n"
          ]
        },
        {
          "output_type": "stream",
          "name": "stderr",
          "text": [
            "250it [00:25,  6.96it/s]"
          ]
        },
        {
          "output_type": "stream",
          "name": "stdout",
          "text": [
            "Epoch = 10/10000, step = 250 / 375.0, loss = 0.49082395\n"
          ]
        },
        {
          "output_type": "stream",
          "name": "stderr",
          "text": [
            "301it [00:31, 10.55it/s]"
          ]
        },
        {
          "output_type": "stream",
          "name": "stdout",
          "text": [
            "Epoch = 10/10000, step = 300 / 375.0, loss = 0.05964031\n"
          ]
        },
        {
          "output_type": "stream",
          "name": "stderr",
          "text": [
            "351it [00:35, 10.30it/s]"
          ]
        },
        {
          "output_type": "stream",
          "name": "stdout",
          "text": [
            "Epoch = 10/10000, step = 350 / 375.0, loss = 1.21845150\n"
          ]
        },
        {
          "output_type": "stream",
          "name": "stderr",
          "text": [
            "375it [00:38,  9.77it/s]\n",
            "125it [01:52,  1.11it/s]"
          ]
        },
        {
          "output_type": "stream",
          "name": "stdout",
          "text": [
            "Epoch = 10/10000, Accuracy = 0.884, Val_loss = 0.568801174402237\n"
          ]
        },
        {
          "output_type": "stream",
          "name": "stderr",
          "text": [
            "\n",
            "52it [00:06,  9.25it/s]"
          ]
        },
        {
          "output_type": "stream",
          "name": "stdout",
          "text": [
            "Epoch = 11/10000, step = 50 / 375.0, loss = 0.13953346\n"
          ]
        },
        {
          "output_type": "stream",
          "name": "stderr",
          "text": [
            "102it [00:11, 10.40it/s]"
          ]
        },
        {
          "output_type": "stream",
          "name": "stdout",
          "text": [
            "Epoch = 11/10000, step = 100 / 375.0, loss = 0.25354755\n"
          ]
        },
        {
          "output_type": "stream",
          "name": "stderr",
          "text": [
            "152it [00:15, 11.18it/s]"
          ]
        },
        {
          "output_type": "stream",
          "name": "stdout",
          "text": [
            "Epoch = 11/10000, step = 150 / 375.0, loss = 0.10242741\n"
          ]
        },
        {
          "output_type": "stream",
          "name": "stderr",
          "text": [
            "201it [00:21,  9.88it/s]"
          ]
        },
        {
          "output_type": "stream",
          "name": "stdout",
          "text": [
            "Epoch = 11/10000, step = 200 / 375.0, loss = 0.36357853\n"
          ]
        },
        {
          "output_type": "stream",
          "name": "stderr",
          "text": [
            "251it [00:26, 10.58it/s]"
          ]
        },
        {
          "output_type": "stream",
          "name": "stdout",
          "text": [
            "Epoch = 11/10000, step = 250 / 375.0, loss = 0.69388580\n"
          ]
        },
        {
          "output_type": "stream",
          "name": "stderr",
          "text": [
            "301it [00:30, 11.35it/s]"
          ]
        },
        {
          "output_type": "stream",
          "name": "stdout",
          "text": [
            "Epoch = 11/10000, step = 300 / 375.0, loss = 0.47909051\n"
          ]
        },
        {
          "output_type": "stream",
          "name": "stderr",
          "text": [
            "353it [00:37, 11.99it/s]"
          ]
        },
        {
          "output_type": "stream",
          "name": "stdout",
          "text": [
            "Epoch = 11/10000, step = 350 / 375.0, loss = 0.23930654\n"
          ]
        },
        {
          "output_type": "stream",
          "name": "stderr",
          "text": [
            "375it [00:39,  9.55it/s]\n",
            "51it [00:04,  9.88it/s]"
          ]
        },
        {
          "output_type": "stream",
          "name": "stdout",
          "text": [
            "Epoch = 12/10000, step = 50 / 375.0, loss = 0.23639399\n"
          ]
        },
        {
          "output_type": "stream",
          "name": "stderr",
          "text": [
            "102it [00:11,  7.52it/s]"
          ]
        },
        {
          "output_type": "stream",
          "name": "stdout",
          "text": [
            "Epoch = 12/10000, step = 100 / 375.0, loss = 0.01414062\n"
          ]
        },
        {
          "output_type": "stream",
          "name": "stderr",
          "text": [
            "152it [00:16, 10.00it/s]"
          ]
        },
        {
          "output_type": "stream",
          "name": "stdout",
          "text": [
            "Epoch = 12/10000, step = 150 / 375.0, loss = 0.90180898\n"
          ]
        },
        {
          "output_type": "stream",
          "name": "stderr",
          "text": [
            "202it [00:20, 12.23it/s]"
          ]
        },
        {
          "output_type": "stream",
          "name": "stdout",
          "text": [
            "Epoch = 12/10000, step = 200 / 375.0, loss = 0.32254529\n"
          ]
        },
        {
          "output_type": "stream",
          "name": "stderr",
          "text": [
            "252it [00:26,  9.48it/s]"
          ]
        },
        {
          "output_type": "stream",
          "name": "stdout",
          "text": [
            "Epoch = 12/10000, step = 250 / 375.0, loss = 0.44821569\n"
          ]
        },
        {
          "output_type": "stream",
          "name": "stderr",
          "text": [
            "302it [00:31, 10.94it/s]"
          ]
        },
        {
          "output_type": "stream",
          "name": "stdout",
          "text": [
            "Epoch = 12/10000, step = 300 / 375.0, loss = 0.69267285\n"
          ]
        },
        {
          "output_type": "stream",
          "name": "stderr",
          "text": [
            "351it [00:36,  8.06it/s]"
          ]
        },
        {
          "output_type": "stream",
          "name": "stdout",
          "text": [
            "Epoch = 12/10000, step = 350 / 375.0, loss = 0.13906839\n"
          ]
        },
        {
          "output_type": "stream",
          "name": "stderr",
          "text": [
            "375it [00:39,  9.48it/s]\n",
            "51it [00:04, 11.26it/s]"
          ]
        },
        {
          "output_type": "stream",
          "name": "stdout",
          "text": [
            "Epoch = 13/10000, step = 50 / 375.0, loss = 0.02240832\n"
          ]
        },
        {
          "output_type": "stream",
          "name": "stderr",
          "text": [
            "101it [00:09, 10.68it/s]"
          ]
        },
        {
          "output_type": "stream",
          "name": "stdout",
          "text": [
            "Epoch = 13/10000, step = 100 / 375.0, loss = 0.13476110\n"
          ]
        },
        {
          "output_type": "stream",
          "name": "stderr",
          "text": [
            "126it [00:12, 10.09it/s]\n"
          ]
        },
        {
          "output_type": "error",
          "ename": "KeyboardInterrupt",
          "evalue": "",
          "traceback": [
            "\u001b[0;31m---------------------------------------------------------------------------\u001b[0m",
            "\u001b[0;31mKeyboardInterrupt\u001b[0m                         Traceback (most recent call last)",
            "\u001b[0;32m<ipython-input-79-0f36324c601c>\u001b[0m in \u001b[0;36m<cell line: 0>\u001b[0;34m()\u001b[0m\n\u001b[1;32m      1\u001b[0m \u001b[0mloss_values\u001b[0m \u001b[0;34m=\u001b[0m \u001b[0;34m[\u001b[0m\u001b[0;34m]\u001b[0m\u001b[0;34m\u001b[0m\u001b[0;34m\u001b[0m\u001b[0m\n\u001b[1;32m      2\u001b[0m \u001b[0;32mfor\u001b[0m \u001b[0mepoch\u001b[0m \u001b[0;32min\u001b[0m \u001b[0mrange\u001b[0m\u001b[0;34m(\u001b[0m\u001b[0mnum_epochs\u001b[0m\u001b[0;34m)\u001b[0m\u001b[0;34m:\u001b[0m\u001b[0;34m\u001b[0m\u001b[0;34m\u001b[0m\u001b[0m\n\u001b[0;32m----> 3\u001b[0;31m   \u001b[0;32mfor\u001b[0m \u001b[0mi\u001b[0m\u001b[0;34m,\u001b[0m \u001b[0msample\u001b[0m \u001b[0;32min\u001b[0m \u001b[0mtqdm\u001b[0m\u001b[0;34m.\u001b[0m\u001b[0mtqdm\u001b[0m\u001b[0;34m(\u001b[0m\u001b[0menumerate\u001b[0m\u001b[0;34m(\u001b[0m\u001b[0mtrain_loader\u001b[0m\u001b[0;34m)\u001b[0m\u001b[0;34m)\u001b[0m\u001b[0;34m:\u001b[0m\u001b[0;34m\u001b[0m\u001b[0;34m\u001b[0m\u001b[0m\n\u001b[0m\u001b[1;32m      4\u001b[0m     \u001b[0mimages\u001b[0m\u001b[0;34m,\u001b[0m \u001b[0mtargets\u001b[0m\u001b[0;34m,\u001b[0m \u001b[0mtarget_lengths\u001b[0m \u001b[0;34m=\u001b[0m \u001b[0;34m[\u001b[0m\u001b[0md\u001b[0m\u001b[0;34m.\u001b[0m\u001b[0mto\u001b[0m\u001b[0;34m(\u001b[0m\u001b[0mdevice\u001b[0m\u001b[0;34m)\u001b[0m \u001b[0;32mfor\u001b[0m \u001b[0md\u001b[0m \u001b[0;32min\u001b[0m \u001b[0msample\u001b[0m\u001b[0;34m]\u001b[0m\u001b[0;34m\u001b[0m\u001b[0;34m\u001b[0m\u001b[0m\n\u001b[1;32m      5\u001b[0m     \u001b[0;31m# print(images.shape)\u001b[0m\u001b[0;34m\u001b[0m\u001b[0;34m\u001b[0m\u001b[0m\n",
            "\u001b[0;32m/usr/local/lib/python3.11/dist-packages/tqdm/std.py\u001b[0m in \u001b[0;36m__iter__\u001b[0;34m(self)\u001b[0m\n\u001b[1;32m   1189\u001b[0m                     \u001b[0mdt\u001b[0m \u001b[0;34m=\u001b[0m \u001b[0mcur_t\u001b[0m \u001b[0;34m-\u001b[0m \u001b[0mlast_print_t\u001b[0m\u001b[0;34m\u001b[0m\u001b[0;34m\u001b[0m\u001b[0m\n\u001b[1;32m   1190\u001b[0m                     \u001b[0;32mif\u001b[0m \u001b[0mdt\u001b[0m \u001b[0;34m>=\u001b[0m \u001b[0mmininterval\u001b[0m \u001b[0;32mand\u001b[0m \u001b[0mcur_t\u001b[0m \u001b[0;34m>=\u001b[0m \u001b[0mmin_start_t\u001b[0m\u001b[0;34m:\u001b[0m\u001b[0;34m\u001b[0m\u001b[0;34m\u001b[0m\u001b[0m\n\u001b[0;32m-> 1191\u001b[0;31m                         \u001b[0mself\u001b[0m\u001b[0;34m.\u001b[0m\u001b[0mupdate\u001b[0m\u001b[0;34m(\u001b[0m\u001b[0mn\u001b[0m \u001b[0;34m-\u001b[0m \u001b[0mlast_print_n\u001b[0m\u001b[0;34m)\u001b[0m\u001b[0;34m\u001b[0m\u001b[0;34m\u001b[0m\u001b[0m\n\u001b[0m\u001b[1;32m   1192\u001b[0m                         \u001b[0mlast_print_n\u001b[0m \u001b[0;34m=\u001b[0m \u001b[0mself\u001b[0m\u001b[0;34m.\u001b[0m\u001b[0mlast_print_n\u001b[0m\u001b[0;34m\u001b[0m\u001b[0;34m\u001b[0m\u001b[0m\n\u001b[1;32m   1193\u001b[0m                         \u001b[0mlast_print_t\u001b[0m \u001b[0;34m=\u001b[0m \u001b[0mself\u001b[0m\u001b[0;34m.\u001b[0m\u001b[0mlast_print_t\u001b[0m\u001b[0;34m\u001b[0m\u001b[0;34m\u001b[0m\u001b[0m\n",
            "\u001b[0;32m/usr/local/lib/python3.11/dist-packages/tqdm/std.py\u001b[0m in \u001b[0;36mupdate\u001b[0;34m(self, n)\u001b[0m\n\u001b[1;32m   1240\u001b[0m                     \u001b[0mself\u001b[0m\u001b[0;34m.\u001b[0m\u001b[0m_ema_dn\u001b[0m\u001b[0;34m(\u001b[0m\u001b[0mdn\u001b[0m\u001b[0;34m)\u001b[0m\u001b[0;34m\u001b[0m\u001b[0;34m\u001b[0m\u001b[0m\n\u001b[1;32m   1241\u001b[0m                     \u001b[0mself\u001b[0m\u001b[0;34m.\u001b[0m\u001b[0m_ema_dt\u001b[0m\u001b[0;34m(\u001b[0m\u001b[0mdt\u001b[0m\u001b[0;34m)\u001b[0m\u001b[0;34m\u001b[0m\u001b[0;34m\u001b[0m\u001b[0m\n\u001b[0;32m-> 1242\u001b[0;31m                 \u001b[0mself\u001b[0m\u001b[0;34m.\u001b[0m\u001b[0mrefresh\u001b[0m\u001b[0;34m(\u001b[0m\u001b[0mlock_args\u001b[0m\u001b[0;34m=\u001b[0m\u001b[0mself\u001b[0m\u001b[0;34m.\u001b[0m\u001b[0mlock_args\u001b[0m\u001b[0;34m)\u001b[0m\u001b[0;34m\u001b[0m\u001b[0;34m\u001b[0m\u001b[0m\n\u001b[0m\u001b[1;32m   1243\u001b[0m                 \u001b[0;32mif\u001b[0m \u001b[0mself\u001b[0m\u001b[0;34m.\u001b[0m\u001b[0mdynamic_miniters\u001b[0m\u001b[0;34m:\u001b[0m\u001b[0;34m\u001b[0m\u001b[0;34m\u001b[0m\u001b[0m\n\u001b[1;32m   1244\u001b[0m                     \u001b[0;31m# If no `miniters` was specified, adjust automatically to the\u001b[0m\u001b[0;34m\u001b[0m\u001b[0;34m\u001b[0m\u001b[0m\n",
            "\u001b[0;32m/usr/local/lib/python3.11/dist-packages/tqdm/std.py\u001b[0m in \u001b[0;36mrefresh\u001b[0;34m(self, nolock, lock_args)\u001b[0m\n\u001b[1;32m   1345\u001b[0m             \u001b[0;32melse\u001b[0m\u001b[0;34m:\u001b[0m\u001b[0;34m\u001b[0m\u001b[0;34m\u001b[0m\u001b[0m\n\u001b[1;32m   1346\u001b[0m                 \u001b[0mself\u001b[0m\u001b[0;34m.\u001b[0m\u001b[0m_lock\u001b[0m\u001b[0;34m.\u001b[0m\u001b[0macquire\u001b[0m\u001b[0;34m(\u001b[0m\u001b[0;34m)\u001b[0m\u001b[0;34m\u001b[0m\u001b[0;34m\u001b[0m\u001b[0m\n\u001b[0;32m-> 1347\u001b[0;31m         \u001b[0mself\u001b[0m\u001b[0;34m.\u001b[0m\u001b[0mdisplay\u001b[0m\u001b[0;34m(\u001b[0m\u001b[0;34m)\u001b[0m\u001b[0;34m\u001b[0m\u001b[0;34m\u001b[0m\u001b[0m\n\u001b[0m\u001b[1;32m   1348\u001b[0m         \u001b[0;32mif\u001b[0m \u001b[0;32mnot\u001b[0m \u001b[0mnolock\u001b[0m\u001b[0;34m:\u001b[0m\u001b[0;34m\u001b[0m\u001b[0;34m\u001b[0m\u001b[0m\n\u001b[1;32m   1349\u001b[0m             \u001b[0mself\u001b[0m\u001b[0;34m.\u001b[0m\u001b[0m_lock\u001b[0m\u001b[0;34m.\u001b[0m\u001b[0mrelease\u001b[0m\u001b[0;34m(\u001b[0m\u001b[0;34m)\u001b[0m\u001b[0;34m\u001b[0m\u001b[0;34m\u001b[0m\u001b[0m\n",
            "\u001b[0;32m/usr/local/lib/python3.11/dist-packages/tqdm/std.py\u001b[0m in \u001b[0;36mdisplay\u001b[0;34m(self, msg, pos)\u001b[0m\n\u001b[1;32m   1493\u001b[0m         \u001b[0;32mif\u001b[0m \u001b[0mpos\u001b[0m\u001b[0;34m:\u001b[0m\u001b[0;34m\u001b[0m\u001b[0;34m\u001b[0m\u001b[0m\n\u001b[1;32m   1494\u001b[0m             \u001b[0mself\u001b[0m\u001b[0;34m.\u001b[0m\u001b[0mmoveto\u001b[0m\u001b[0;34m(\u001b[0m\u001b[0mpos\u001b[0m\u001b[0;34m)\u001b[0m\u001b[0;34m\u001b[0m\u001b[0;34m\u001b[0m\u001b[0m\n\u001b[0;32m-> 1495\u001b[0;31m         \u001b[0mself\u001b[0m\u001b[0;34m.\u001b[0m\u001b[0msp\u001b[0m\u001b[0;34m(\u001b[0m\u001b[0mself\u001b[0m\u001b[0;34m.\u001b[0m\u001b[0m__str__\u001b[0m\u001b[0;34m(\u001b[0m\u001b[0;34m)\u001b[0m \u001b[0;32mif\u001b[0m \u001b[0mmsg\u001b[0m \u001b[0;32mis\u001b[0m \u001b[0;32mNone\u001b[0m \u001b[0;32melse\u001b[0m \u001b[0mmsg\u001b[0m\u001b[0;34m)\u001b[0m\u001b[0;34m\u001b[0m\u001b[0;34m\u001b[0m\u001b[0m\n\u001b[0m\u001b[1;32m   1496\u001b[0m         \u001b[0;32mif\u001b[0m \u001b[0mpos\u001b[0m\u001b[0;34m:\u001b[0m\u001b[0;34m\u001b[0m\u001b[0;34m\u001b[0m\u001b[0m\n\u001b[1;32m   1497\u001b[0m             \u001b[0mself\u001b[0m\u001b[0;34m.\u001b[0m\u001b[0mmoveto\u001b[0m\u001b[0;34m(\u001b[0m\u001b[0;34m-\u001b[0m\u001b[0mpos\u001b[0m\u001b[0;34m)\u001b[0m\u001b[0;34m\u001b[0m\u001b[0;34m\u001b[0m\u001b[0m\n",
            "\u001b[0;32m/usr/local/lib/python3.11/dist-packages/tqdm/std.py\u001b[0m in \u001b[0;36mprint_status\u001b[0;34m(s)\u001b[0m\n\u001b[1;32m    457\u001b[0m         \u001b[0;32mdef\u001b[0m \u001b[0mprint_status\u001b[0m\u001b[0;34m(\u001b[0m\u001b[0ms\u001b[0m\u001b[0;34m)\u001b[0m\u001b[0;34m:\u001b[0m\u001b[0;34m\u001b[0m\u001b[0;34m\u001b[0m\u001b[0m\n\u001b[1;32m    458\u001b[0m             \u001b[0mlen_s\u001b[0m \u001b[0;34m=\u001b[0m \u001b[0mdisp_len\u001b[0m\u001b[0;34m(\u001b[0m\u001b[0ms\u001b[0m\u001b[0;34m)\u001b[0m\u001b[0;34m\u001b[0m\u001b[0;34m\u001b[0m\u001b[0m\n\u001b[0;32m--> 459\u001b[0;31m             \u001b[0mfp_write\u001b[0m\u001b[0;34m(\u001b[0m\u001b[0;34m'\\r'\u001b[0m \u001b[0;34m+\u001b[0m \u001b[0ms\u001b[0m \u001b[0;34m+\u001b[0m \u001b[0;34m(\u001b[0m\u001b[0;34m' '\u001b[0m \u001b[0;34m*\u001b[0m \u001b[0mmax\u001b[0m\u001b[0;34m(\u001b[0m\u001b[0mlast_len\u001b[0m\u001b[0;34m[\u001b[0m\u001b[0;36m0\u001b[0m\u001b[0;34m]\u001b[0m \u001b[0;34m-\u001b[0m \u001b[0mlen_s\u001b[0m\u001b[0;34m,\u001b[0m \u001b[0;36m0\u001b[0m\u001b[0;34m)\u001b[0m\u001b[0;34m)\u001b[0m\u001b[0;34m)\u001b[0m\u001b[0;34m\u001b[0m\u001b[0;34m\u001b[0m\u001b[0m\n\u001b[0m\u001b[1;32m    460\u001b[0m             \u001b[0mlast_len\u001b[0m\u001b[0;34m[\u001b[0m\u001b[0;36m0\u001b[0m\u001b[0;34m]\u001b[0m \u001b[0;34m=\u001b[0m \u001b[0mlen_s\u001b[0m\u001b[0;34m\u001b[0m\u001b[0;34m\u001b[0m\u001b[0m\n\u001b[1;32m    461\u001b[0m \u001b[0;34m\u001b[0m\u001b[0m\n",
            "\u001b[0;32m/usr/local/lib/python3.11/dist-packages/tqdm/std.py\u001b[0m in \u001b[0;36mfp_write\u001b[0;34m(s)\u001b[0m\n\u001b[1;32m    450\u001b[0m \u001b[0;34m\u001b[0m\u001b[0m\n\u001b[1;32m    451\u001b[0m         \u001b[0;32mdef\u001b[0m \u001b[0mfp_write\u001b[0m\u001b[0;34m(\u001b[0m\u001b[0ms\u001b[0m\u001b[0;34m)\u001b[0m\u001b[0;34m:\u001b[0m\u001b[0;34m\u001b[0m\u001b[0;34m\u001b[0m\u001b[0m\n\u001b[0;32m--> 452\u001b[0;31m             \u001b[0mfp\u001b[0m\u001b[0;34m.\u001b[0m\u001b[0mwrite\u001b[0m\u001b[0;34m(\u001b[0m\u001b[0mstr\u001b[0m\u001b[0;34m(\u001b[0m\u001b[0ms\u001b[0m\u001b[0;34m)\u001b[0m\u001b[0;34m)\u001b[0m\u001b[0;34m\u001b[0m\u001b[0;34m\u001b[0m\u001b[0m\n\u001b[0m\u001b[1;32m    453\u001b[0m             \u001b[0mfp_flush\u001b[0m\u001b[0;34m(\u001b[0m\u001b[0;34m)\u001b[0m\u001b[0;34m\u001b[0m\u001b[0;34m\u001b[0m\u001b[0m\n\u001b[1;32m    454\u001b[0m \u001b[0;34m\u001b[0m\u001b[0m\n",
            "\u001b[0;32m/usr/local/lib/python3.11/dist-packages/tqdm/utils.py\u001b[0m in \u001b[0;36minner\u001b[0;34m(*args, **kwargs)\u001b[0m\n\u001b[1;32m    194\u001b[0m         \u001b[0;32mdef\u001b[0m \u001b[0minner\u001b[0m\u001b[0;34m(\u001b[0m\u001b[0;34m*\u001b[0m\u001b[0margs\u001b[0m\u001b[0;34m,\u001b[0m \u001b[0;34m**\u001b[0m\u001b[0mkwargs\u001b[0m\u001b[0;34m)\u001b[0m\u001b[0;34m:\u001b[0m\u001b[0;34m\u001b[0m\u001b[0;34m\u001b[0m\u001b[0m\n\u001b[1;32m    195\u001b[0m             \u001b[0;32mtry\u001b[0m\u001b[0;34m:\u001b[0m\u001b[0;34m\u001b[0m\u001b[0;34m\u001b[0m\u001b[0m\n\u001b[0;32m--> 196\u001b[0;31m                 \u001b[0;32mreturn\u001b[0m \u001b[0mfunc\u001b[0m\u001b[0;34m(\u001b[0m\u001b[0;34m*\u001b[0m\u001b[0margs\u001b[0m\u001b[0;34m,\u001b[0m \u001b[0;34m**\u001b[0m\u001b[0mkwargs\u001b[0m\u001b[0;34m)\u001b[0m\u001b[0;34m\u001b[0m\u001b[0;34m\u001b[0m\u001b[0m\n\u001b[0m\u001b[1;32m    197\u001b[0m             \u001b[0;32mexcept\u001b[0m \u001b[0mOSError\u001b[0m \u001b[0;32mas\u001b[0m \u001b[0me\u001b[0m\u001b[0;34m:\u001b[0m\u001b[0;34m\u001b[0m\u001b[0;34m\u001b[0m\u001b[0m\n\u001b[1;32m    198\u001b[0m                 \u001b[0;32mif\u001b[0m \u001b[0me\u001b[0m\u001b[0;34m.\u001b[0m\u001b[0merrno\u001b[0m \u001b[0;34m!=\u001b[0m \u001b[0;36m5\u001b[0m\u001b[0;34m:\u001b[0m\u001b[0;34m\u001b[0m\u001b[0;34m\u001b[0m\u001b[0m\n",
            "\u001b[0;32m/usr/local/lib/python3.11/dist-packages/ipykernel/iostream.py\u001b[0m in \u001b[0;36mwrite\u001b[0;34m(self, string)\u001b[0m\n\u001b[1;32m    410\u001b[0m                 \u001b[0mself\u001b[0m\u001b[0;34m.\u001b[0m\u001b[0mpub_thread\u001b[0m\u001b[0;34m.\u001b[0m\u001b[0mschedule\u001b[0m\u001b[0;34m(\u001b[0m\u001b[0mself\u001b[0m\u001b[0;34m.\u001b[0m\u001b[0m_flush\u001b[0m\u001b[0;34m)\u001b[0m\u001b[0;34m\u001b[0m\u001b[0;34m\u001b[0m\u001b[0m\n\u001b[1;32m    411\u001b[0m             \u001b[0;32melse\u001b[0m\u001b[0;34m:\u001b[0m\u001b[0;34m\u001b[0m\u001b[0;34m\u001b[0m\u001b[0m\n\u001b[0;32m--> 412\u001b[0;31m                 \u001b[0mself\u001b[0m\u001b[0;34m.\u001b[0m\u001b[0m_schedule_flush\u001b[0m\u001b[0;34m(\u001b[0m\u001b[0;34m)\u001b[0m\u001b[0;34m\u001b[0m\u001b[0;34m\u001b[0m\u001b[0m\n\u001b[0m\u001b[1;32m    413\u001b[0m \u001b[0;34m\u001b[0m\u001b[0m\n\u001b[1;32m    414\u001b[0m     \u001b[0;32mdef\u001b[0m \u001b[0mwritelines\u001b[0m\u001b[0;34m(\u001b[0m\u001b[0mself\u001b[0m\u001b[0;34m,\u001b[0m \u001b[0msequence\u001b[0m\u001b[0;34m)\u001b[0m\u001b[0;34m:\u001b[0m\u001b[0;34m\u001b[0m\u001b[0;34m\u001b[0m\u001b[0m\n",
            "\u001b[0;32m/usr/local/lib/python3.11/dist-packages/ipykernel/iostream.py\u001b[0m in \u001b[0;36m_schedule_flush\u001b[0;34m(self)\u001b[0m\n\u001b[1;32m    331\u001b[0m         \u001b[0;32mdef\u001b[0m \u001b[0m_schedule_in_thread\u001b[0m\u001b[0;34m(\u001b[0m\u001b[0;34m)\u001b[0m\u001b[0;34m:\u001b[0m\u001b[0;34m\u001b[0m\u001b[0;34m\u001b[0m\u001b[0m\n\u001b[1;32m    332\u001b[0m             \u001b[0mself\u001b[0m\u001b[0;34m.\u001b[0m\u001b[0m_io_loop\u001b[0m\u001b[0;34m.\u001b[0m\u001b[0mcall_later\u001b[0m\u001b[0;34m(\u001b[0m\u001b[0mself\u001b[0m\u001b[0;34m.\u001b[0m\u001b[0mflush_interval\u001b[0m\u001b[0;34m,\u001b[0m \u001b[0mself\u001b[0m\u001b[0;34m.\u001b[0m\u001b[0m_flush\u001b[0m\u001b[0;34m)\u001b[0m\u001b[0;34m\u001b[0m\u001b[0;34m\u001b[0m\u001b[0m\n\u001b[0;32m--> 333\u001b[0;31m         \u001b[0mself\u001b[0m\u001b[0;34m.\u001b[0m\u001b[0mpub_thread\u001b[0m\u001b[0;34m.\u001b[0m\u001b[0mschedule\u001b[0m\u001b[0;34m(\u001b[0m\u001b[0m_schedule_in_thread\u001b[0m\u001b[0;34m)\u001b[0m\u001b[0;34m\u001b[0m\u001b[0;34m\u001b[0m\u001b[0m\n\u001b[0m\u001b[1;32m    334\u001b[0m \u001b[0;34m\u001b[0m\u001b[0m\n\u001b[1;32m    335\u001b[0m     \u001b[0;32mdef\u001b[0m \u001b[0mflush\u001b[0m\u001b[0;34m(\u001b[0m\u001b[0mself\u001b[0m\u001b[0;34m)\u001b[0m\u001b[0;34m:\u001b[0m\u001b[0;34m\u001b[0m\u001b[0;34m\u001b[0m\u001b[0m\n",
            "\u001b[0;32m/usr/local/lib/python3.11/dist-packages/ipykernel/iostream.py\u001b[0m in \u001b[0;36mschedule\u001b[0;34m(self, f)\u001b[0m\n\u001b[1;32m    201\u001b[0m             \u001b[0mself\u001b[0m\u001b[0;34m.\u001b[0m\u001b[0m_events\u001b[0m\u001b[0;34m.\u001b[0m\u001b[0mappend\u001b[0m\u001b[0;34m(\u001b[0m\u001b[0mf\u001b[0m\u001b[0;34m)\u001b[0m\u001b[0;34m\u001b[0m\u001b[0;34m\u001b[0m\u001b[0m\n\u001b[1;32m    202\u001b[0m             \u001b[0;31m# wake event thread (message content is ignored)\u001b[0m\u001b[0;34m\u001b[0m\u001b[0;34m\u001b[0m\u001b[0m\n\u001b[0;32m--> 203\u001b[0;31m             \u001b[0mself\u001b[0m\u001b[0;34m.\u001b[0m\u001b[0m_event_pipe\u001b[0m\u001b[0;34m.\u001b[0m\u001b[0msend\u001b[0m\u001b[0;34m(\u001b[0m\u001b[0;34mb''\u001b[0m\u001b[0;34m)\u001b[0m\u001b[0;34m\u001b[0m\u001b[0;34m\u001b[0m\u001b[0m\n\u001b[0m\u001b[1;32m    204\u001b[0m         \u001b[0;32melse\u001b[0m\u001b[0;34m:\u001b[0m\u001b[0;34m\u001b[0m\u001b[0;34m\u001b[0m\u001b[0m\n\u001b[1;32m    205\u001b[0m             \u001b[0mf\u001b[0m\u001b[0;34m(\u001b[0m\u001b[0;34m)\u001b[0m\u001b[0;34m\u001b[0m\u001b[0;34m\u001b[0m\u001b[0m\n",
            "\u001b[0;32m/usr/local/lib/python3.11/dist-packages/zmq/sugar/socket.py\u001b[0m in \u001b[0;36msend\u001b[0;34m(self, data, flags, copy, track, routing_id, group)\u001b[0m\n\u001b[1;32m    618\u001b[0m                 )\n\u001b[1;32m    619\u001b[0m             \u001b[0mdata\u001b[0m\u001b[0;34m.\u001b[0m\u001b[0mgroup\u001b[0m \u001b[0;34m=\u001b[0m \u001b[0mgroup\u001b[0m\u001b[0;34m\u001b[0m\u001b[0;34m\u001b[0m\u001b[0m\n\u001b[0;32m--> 620\u001b[0;31m         \u001b[0;32mreturn\u001b[0m \u001b[0msuper\u001b[0m\u001b[0;34m(\u001b[0m\u001b[0;34m)\u001b[0m\u001b[0;34m.\u001b[0m\u001b[0msend\u001b[0m\u001b[0;34m(\u001b[0m\u001b[0mdata\u001b[0m\u001b[0;34m,\u001b[0m \u001b[0mflags\u001b[0m\u001b[0;34m=\u001b[0m\u001b[0mflags\u001b[0m\u001b[0;34m,\u001b[0m \u001b[0mcopy\u001b[0m\u001b[0;34m=\u001b[0m\u001b[0mcopy\u001b[0m\u001b[0;34m,\u001b[0m \u001b[0mtrack\u001b[0m\u001b[0;34m=\u001b[0m\u001b[0mtrack\u001b[0m\u001b[0;34m)\u001b[0m\u001b[0;34m\u001b[0m\u001b[0;34m\u001b[0m\u001b[0m\n\u001b[0m\u001b[1;32m    621\u001b[0m \u001b[0;34m\u001b[0m\u001b[0m\n\u001b[1;32m    622\u001b[0m     def send_multipart(\n",
            "\u001b[0;32mzmq/backend/cython/socket.pyx\u001b[0m in \u001b[0;36mzmq.backend.cython.socket.Socket.send\u001b[0;34m()\u001b[0m\n",
            "\u001b[0;32mzmq/backend/cython/socket.pyx\u001b[0m in \u001b[0;36mzmq.backend.cython.socket.Socket.send\u001b[0;34m()\u001b[0m\n",
            "\u001b[0;32mzmq/backend/cython/socket.pyx\u001b[0m in \u001b[0;36mzmq.backend.cython.socket._send_copy\u001b[0;34m()\u001b[0m\n",
            "\u001b[0;32m/usr/local/lib/python3.11/dist-packages/zmq/backend/cython/checkrc.pxd\u001b[0m in \u001b[0;36mzmq.backend.cython.checkrc._check_rc\u001b[0;34m()\u001b[0m\n",
            "\u001b[0;31mKeyboardInterrupt\u001b[0m: "
          ]
        }
      ]
    },
    {
      "cell_type": "code",
      "source": [
        "plt.plot(loss_values)\n",
        "plt.xlabel(\"Iterations\")\n",
        "plt.ylabel(\"Loss\")\n",
        "plt.title(\"Loss vs Iterations\")\n",
        "plt.show()"
      ],
      "metadata": {
        "colab": {
          "base_uri": "https://localhost:8080/",
          "height": 472
        },
        "id": "gYe63LkxCjch",
        "outputId": "54b48dba-b45a-45dd-8eaa-cfbc2515e77c"
      },
      "execution_count": 80,
      "outputs": [
        {
          "output_type": "display_data",
          "data": {
            "text/plain": [
              "<Figure size 640x480 with 1 Axes>"
            ],
            "image/png": "[encoded data removed]"
          },
          "metadata": {}
        }
      ]
    },
    {
      "cell_type": "code",
      "source": [
        "acc = evaluate_model()\n",
        "print(acc)"
      ],
      "metadata": {
        "colab": {
          "base_uri": "https://localhost:8080/"
        },
        "id": "iWfa564PKfZc",
        "outputId": "a9e32ea9-6c98-4798-b74f-a6caa01a5c59"
      },
      "execution_count": 81,
      "outputs": [
        {
          "output_type": "stream",
          "name": "stderr",
          "text": [
            "125it [00:11, 10.93it/s]"
          ]
        },
        {
          "output_type": "stream",
          "name": "stdout",
          "text": [
            "(0.925, 0.3976187497526407)\n"
          ]
        },
        {
          "output_type": "stream",
          "name": "stderr",
          "text": [
            "\n"
          ]
        }
      ]
    }
  ]
}